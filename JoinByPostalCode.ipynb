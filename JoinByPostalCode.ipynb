{
 "cells": [
  {
   "cell_type": "markdown",
   "metadata": {},
   "source": [
    "## まずは健診データ（xls）をArcGISに読み込む ※xlsに事前に変換する必要あり\n",
    "## 読み込んだらExcelToTable_conversionでgdb（ArcGISファイル形式）に変換"
   ]
  },
  {
   "cell_type": "code",
   "execution_count": 1,
   "metadata": {},
   "outputs": [
    {
     "name": "stdout",
     "output_type": "stream",
     "text": [
      "1 sheets found: Sheet1\n",
      "Converting Sheet1 to C:\\Users\\地域包括ケア\\Documents\\ArcGIS\\Projects\\MyProject1\\MyProject1.gdb\\cohre2015_xls_Sheet1\n"
     ]
    }
   ],
   "source": [
    "import os\n",
    "import xlrd\n",
    "import arcpy\n",
    "def importallsheets(in_excel, out_gdb):\n",
    "    workbook = xlrd.open_workbook(in_excel)\n",
    "    sheets = [sheet.name for sheet in workbook.sheets()]\n",
    "    print('{} sheets found: {}'.format(len(sheets), ','.join(sheets)))\n",
    "    for sheet in sheets:\n",
    "        # The out_table is based on the input excel file name\n",
    "        # a underscore (_) separator followed by the sheet name\n",
    "        out_table = os.path.join(\n",
    "            out_gdb,\n",
    "            arcpy.ValidateTableName(\n",
    "                \"{0}_{1}\".format(os.path.basename(in_excel), sheet),\n",
    "                out_gdb))\n",
    "        print('Converting {} to {}'.format(sheet, out_table))\n",
    "        # Perform the conversion\n",
    "        arcpy.ExcelToTable_conversion(in_excel, out_table, sheet)\n",
    "if __name__ == '__main__':\n",
    "    importallsheets(r'J:\\2015\\cohre2015.xls',\n",
    "                    r'C:\\Users\\地域包括ケア\\Documents\\ArcGIS\\Projects\\MyProject1\\MyProject1.gdb')"
   ]
  },
  {
   "cell_type": "markdown",
   "metadata": {},
   "source": [
    "## ↑ 健診データがgdbファイル形式のテーブルとして保存された"
   ]
  },
  {
   "cell_type": "markdown",
   "metadata": {},
   "source": [
    "# 郵便番号データを健診データと同じプロジェクトフォルダに移動（MyProject1.gdb）"
   ]
  },
  {
   "cell_type": "code",
   "execution_count": 11,
   "metadata": {},
   "outputs": [],
   "source": [
    "import arcpy\n",
    "import os\n",
    "try:\n",
    "    arcpy.env.workspace = r\"I:\\HDDFiles\\GISData_Import\\Shape形式\\日本測地系\\32\" #郵便番号のポイント、ポリゴンデータ両方はいってるフォルダ\n",
    "\n",
    "    # Set local variable\n",
    "    outWorkspace = r\"C:\\Users\\地域包括ケア\\Documents\\ArcGIS\\Projects\\MyProject1\\MyProject1.gdb\" #健診データが読み込まれたフォルダ\n",
    "    # Use ListFeatureClasses to generate a list of shapefiles in the\n",
    "    # workspace shown above.\n",
    "    fcList = arcpy.ListFeatureClasses()\n",
    "    # Execute CopyFeatures for each input shapefile\n",
    "    for shapefile in fcList:\n",
    "        outFeatureClass = os.path.join(outWorkspace, shapefile.strip(\".shp\")) #.shp以前のファイル名が名前になって保存される\n",
    "        arcpy.CopyFeatures_management(shapefile, outFeatureClass)\n",
    "except Exception as err:\n",
    "    print(err.args[0])"
   ]
  },
  {
   "cell_type": "markdown",
   "metadata": {},
   "source": [
    "## ↑郵便番号データが健診データと同じプロジェクトフォルダに移動された"
   ]
  },
  {
   "cell_type": "markdown",
   "metadata": {},
   "source": [
    "# 読み込んだ健診データを郵便番号ポイントデータと結合\n",
    "## おうなん、隠岐、雲南だけ残す（expression1)\n",
    "## おうなんだけ残す（expression2)"
   ]
  },
  {
   "cell_type": "code",
   "execution_count": 47,
   "metadata": {
    "scrolled": true
   },
   "outputs": [],
   "source": [
    "import arcpy\n",
    "try:\n",
    "    # Set environment settings\n",
    "    arcpy.env.workspace = r'C:\\Users\\地域包括ケア\\Documents\\ArcGIS\\Projects\\MyProject1\\MyProject1.gdb' #健診データ(gdb形式)、郵便番号データ全部入ってるフォルダ\n",
    "    arcpy.env.qualifiedFieldNames = False\n",
    "\n",
    "    # Set local variables    \n",
    "    inFeatures = \"Zip_32_1\" #郵便番号ポイントデータ\n",
    "    layerName1 = \"zip_All\" #lyrファイルに変換後の名前\n",
    "    layerName2 = \"zip_Onan\" #lyrファイルに変換後の名前\n",
    "    joinField1 = \"yu_bin\" #郵便番号ポイントデータの郵便番号\n",
    "    joinTable = \"cohre2015_xls_Sheet1\" #健診データ\n",
    "    joinField2 = \"v12\" #健診データの郵便番号\n",
    "    expression1 = \"shi_code = '32449' or shi_code = '32528' or shi_code = '32209'\" #おうなん、隠岐、雲南のみ\n",
    "    expression2 = \"shi_code = '32449'\" #おうなんOnly\n",
    "    outFeatures1 = \"All2015Postal\"\n",
    "    outFeatures2 = \"Onan2015Postal\" #最終アウトプットファイル\n",
    "\n",
    "    #Proはレイヤーファイル（lyr）に変換しないとこの後の\n",
    "    #フィルター(SelectLayerByAttribute_management)ができないので変換\n",
    "    arcpy.MakeFeatureLayer_management (inFeatures,  layerName1) \n",
    "    arcpy.MakeFeatureLayer_management (inFeatures,  layerName2) \n",
    "    #郵便番号ポイントデータ（zip_point)と健診データ（cohre2015_xls_Sheet1）を結合\n",
    "    arcpy.AddJoin_management(layerName1, joinField1, joinTable, joinField2) \n",
    "    arcpy.AddJoin_management(layerName2, joinField1, joinTable, joinField2)\n",
    "    \n",
    "    #郵便番号が合わなかったデータは消す（健診対象外地区）Error\n",
    "    arcpy.SelectLayerByAttribute_management(layerName1, \"NEW_SELECTION\", expression1) \n",
    "    arcpy.SelectLayerByAttribute_management(layerName2, \"NEW_SELECTION\", expression2)\n",
    "    # Copy the layer to a new permanent feature class\n",
    "    arcpy.CopyFeatures_management(layerName1, outFeatures1)\n",
    "    arcpy.CopyFeatures_management(layerName2, outFeatures2)\n",
    "except Exception as err:\n",
    "    print(err.args[0])"
   ]
  },
  {
   "cell_type": "markdown",
   "metadata": {},
   "source": [
    "## 結合できたデータをマップにドラッグ"
   ]
  },
  {
   "cell_type": "markdown",
   "metadata": {},
   "source": [
    "# 健診データが郵便番号別にプロット\n",
    "# All2015Postal（n=3504）とOnan2015Postal（n=970）"
   ]
  },
  {
   "cell_type": "markdown",
   "metadata": {},
   "source": [
    "### 受診者数の密度解析 (エラー）"
   ]
  },
  {
   "cell_type": "code",
   "execution_count": 52,
   "metadata": {},
   "outputs": [
    {
     "ename": "RuntimeError",
     "evalue": "",
     "output_type": "error",
     "traceback": [
      "\u001b[1;31m---------------------------------------------------------------------------\u001b[0m",
      "\u001b[1;31mRuntimeError\u001b[0m                              Traceback (most recent call last)",
      "\u001b[1;32m<ipython-input-52-0149bf7c8ed9>\u001b[0m in \u001b[0;36m<module>\u001b[1;34m()\u001b[0m\n\u001b[0;32m     19\u001b[0m \u001b[1;33m\u001b[0m\u001b[0m\n\u001b[0;32m     20\u001b[0m \u001b[1;31m# Save the output\u001b[0m\u001b[1;33m\u001b[0m\u001b[1;33m\u001b[0m\u001b[0m\n\u001b[1;32m---> 21\u001b[1;33m \u001b[0moutPdens\u001b[0m\u001b[1;33m.\u001b[0m\u001b[0msave\u001b[0m\u001b[1;33m(\u001b[0m\u001b[1;34mr'C:\\Users\\地域包括ケア\\Documents\\ArcGIS\\Projects\\MyProject1\\MyProject1'\u001b[0m\u001b[1;33m)\u001b[0m\u001b[1;33m\u001b[0m\u001b[0m\n\u001b[0m",
      "\u001b[1;31mRuntimeError\u001b[0m: "
     ]
    }
   ],
   "source": [
    "import arcpy\n",
    "from arcpy import env\n",
    "from arcpy.sa import *\n",
    "\n",
    "# Set environment settings\n",
    "env.workspace = r'C:\\Users\\地域包括ケア\\Documents\\ArcGIS\\Projects\\MyProject1\\MyProject1'\n",
    "\n",
    "# Set local variables\n",
    "inFeatures = \"Onan2015Postal\"\n",
    "#ここでは単純なポイント数（BMIなど選択するとそのパラメータの値に基づいた密度解析）\n",
    "populationField = \"NONE\" \n",
    "cellSize = 60\n",
    "\n",
    "# Create the Neighborhood Object\n",
    "radius = 2500\n",
    "myNbrCirc = NbrCircle(radius, \"MAP\")\n",
    "\n",
    "# Execute PointDensity\n",
    "outPdens = PointDensity(inFeatures, populationField, cellSize, \n",
    "                        myNbrCirc, \"SQUARE_KILOMETERS\")\n",
    "\n",
    "# Save the output \n",
    "outPdens.save(r'C:\\Users\\地域包括ケア\\Documents\\ArcGIS\\Projects\\MyProject1\\MyProject1')"
   ]
  }
 ],
 "metadata": {
  "kernelspec": {
   "display_name": "Python 3",
   "language": "python",
   "name": "python3"
  },
  "language_info": {
   "codemirror_mode": {
    "name": "ipython",
    "version": 3
   },
   "file_extension": ".py",
   "mimetype": "text/x-python",
   "name": "python",
   "nbconvert_exporter": "python",
   "pygments_lexer": "ipython3",
   "version": "3.5.3"
  }
 },
 "nbformat": 4,
 "nbformat_minor": 2
}
