{
 "cells": [
  {
   "cell_type": "code",
   "execution_count": null,
   "metadata": {
    "collapsed": true
   },
   "outputs": [],
   "source": [
    "# Overall step of getting OD Cost Matrix\n",
    "\n",
    "### First, all hospitals has to have population density fields - spatial join\n",
    "\n",
    "\n",
    "\n",
    "### 1. Get driving time from PHC to Centroid point\n",
    "### 2. Get weighted population by driving time and PopDen\n",
    "### 3. Dissolve by ID and sum the weighted population\n",
    "### 4. Join the field to PHC point\n",
    "\n",
    "### 5. Get driving time from Centroid point to PHC point\n",
    "### 6. Get weighted provider to population ratio by driving time and PopDen\n",
    "### 7. Dissolve by ID and sum population ratio"
   ]
  },
  {
   "cell_type": "markdown",
   "metadata": {},
   "source": [
    "# First prepare Census 2015 Centroid point data with population density"
   ]
  },
  {
   "cell_type": "code",
   "execution_count": 4,
   "metadata": {
    "collapsed": true
   },
   "outputs": [],
   "source": [
    "import arcpy\n",
    "from arcpy import env\n",
    "try:\n",
    "    env.workspace = \"C:/Users/kenta/Documents/ArcGIS/Projects/HealthPlaceNew/HealthPlaceNew.gdb\"\n",
    "\n",
    "    ### Calculate the size of each polygon (Residential area)\n",
    "    # Set local variables\n",
    "    inTable = \"Census2015ResAreaJP\"\n",
    "    fieldName1 = \"AreaRes\"\n",
    "    fieldName2 = \"PopDen\"\n",
    "    expression1 = \"!shape.area@SQUAREKILOMETERS!\"\n",
    "    expression2 = \"!TOTPOP_H27!/!AreaRes!\"\n",
    "    # Execute AddField\n",
    "    arcpy.AddField_management(inTable, fieldName1, \"DOUBLE\")\n",
    "    arcpy.AddField_management(inTable, fieldName2, \"DOUBLE\")\n",
    "    # Execute CalculateField - Get a area size in square kilometers\n",
    "    arcpy.CalculateField_management(inTable, fieldName1, expression1, \"PYTHON_9.3\")\n",
    "    arcpy.CalculateField_management(inTable, fieldName2, expression2, \"PYTHON_9.3\")\n",
    "\n",
    "    print(\"Script completed successfully\")\n",
    "    \n",
    "except Exception as e:\n",
    "    # If an error occurred, print line number and error message\n",
    "    import traceback, sys\n",
    "    tb = sys.exc_info()[2]\n",
    "    print(\"An error occurred on line %i\" % tb.tb_lineno)\n",
    "    print(str(e))"
   ]
  },
  {
   "cell_type": "code",
   "execution_count": 5,
   "metadata": {},
   "outputs": [
    {
     "name": "stdout",
     "output_type": "stream",
     "text": [
      "Script completed successfully\n"
     ]
    }
   ],
   "source": [
    "import arcpy\n",
    "from arcpy import env\n",
    "try:\n",
    "    env.workspace = \"C:/Users/kenta/Documents/ArcGIS/Projects/HealthPlaceNew/HealthPlaceNew.gdb\"\n",
    "    \n",
    "    # Create centroid point feature\n",
    "    arcpy.FeatureToPoint_management(\"Census2015ResAreaJP\", \"C:/Users/kenta/Documents/ArcGIS/Projects/HealthPlaceNew/OD_Matrix.gdb/Census2015Res_CentroidJP\", \"CENTROID\")\n",
    "\n",
    "    print(\"Script completed successfully\")\n",
    "    \n",
    "except Exception as e:\n",
    "    # If an error occurred, print line number and error message\n",
    "    import traceback, sys\n",
    "    tb = sys.exc_info()[2]\n",
    "    print(\"An error occurred on line %i\" % tb.tb_lineno)\n",
    "    print(str(e))"
   ]
  },
  {
   "cell_type": "code",
   "execution_count": null,
   "metadata": {
    "collapsed": true
   },
   "outputs": [],
   "source": [
    "# Create the chou-chou boundary polygon feature with Population density"
   ]
  },
  {
   "cell_type": "code",
   "execution_count": 22,
   "metadata": {},
   "outputs": [
    {
     "name": "stdout",
     "output_type": "stream",
     "text": [
      "['OBJECTID', 'Shape', 'Census2015PopChugoku_KEN_NAME', 'Census2015PopChugoku_SHICHO_NAME', 'Census2015PopChugoku_SHI_NAME', 'Census2015PopChugoku_KU_NAME', 'Census2015PopChugoku_GUN_NAME', 'Census2015PopChugoku_CHOSON_NAME', 'Census2015PopChugoku_OAZA_NAME', 'Census2015PopChugoku_KOAZA_NAME', 'Census2015PopChugoku_SUM_AREA', 'Census2015PopChugoku_TOTPOP_H27', 'Census2015Res_CentroidChugoku_OBJECTID', 'Census2015Res_CentroidChugoku_KEN_NAME', 'Census2015Res_CentroidChugoku_SHICHO_NAME', 'Census2015Res_CentroidChugoku_SHI_NAME', 'Census2015Res_CentroidChugoku_KU_NAME', 'Census2015Res_CentroidChugoku_GUN_NAME', 'Census2015Res_CentroidChugoku_CHOSON_NAME', 'Census2015Res_CentroidChugoku_OAZA_NAME', 'Census2015Res_CentroidChugoku_KOAZA_NAME', 'Census2015Res_CentroidChugoku_SUM_AREA', 'Census2015Res_CentroidChugoku_TOTPOP_H27', 'Census2015Res_CentroidChugoku_AreaRes', 'Census2015Res_CentroidChugoku_PopDen', 'Census2015Res_CentroidChugoku_ORIG_FID', 'Shape_Length', 'Shape_Area']\n"
     ]
    }
   ],
   "source": [
    "import arcpy\n",
    "from arcpy import env\n",
    "try:\n",
    "    env.workspace = \"C:/Users/kenta/Documents/ArcGIS/Projects/HealthPlaceNew/OD_Matrix.gdb\"\n",
    "    ### First, delete all unnecesarry fields and create a census polygon data\n",
    "    # list all field name\n",
    "    field_names = [f.name for f in arcpy.ListFields(\"Census2015PopDenChugoku\")]\n",
    "    print(field_names)\n",
    "    # Choose the fields want to be deleted\n",
    "    delfield = ['Census2015PopChugoku_KEN_NAME', 'Census2015PopChugoku_SHICHO_NAME', 'Census2015PopChugoku_SHI_NAME', 'Census2015PopChugoku_KU_NAME', 'Census2015PopChugoku_GUN_NAME', 'Census2015PopChugoku_CHOSON_NAME', 'Census2015PopChugoku_OAZA_NAME', 'Census2015PopChugoku_KOAZA_NAME', 'Census2015PopChugoku_SUM_AREA', 'Census2015PopChugoku_TOTPOP_H27', 'Census2015Res_CentroidChugoku_OBJECTID', 'Census2015Res_CentroidChugoku_KEN_NAME', 'Census2015Res_CentroidChugoku_SHICHO_NAME', 'Census2015Res_CentroidChugoku_SHI_NAME', 'Census2015Res_CentroidChugoku_KU_NAME', 'Census2015Res_CentroidChugoku_GUN_NAME', 'Census2015Res_CentroidChugoku_CHOSON_NAME', 'Census2015Res_CentroidChugoku_OAZA_NAME', 'Census2015Res_CentroidChugoku_KOAZA_NAME', 'Census2015Res_CentroidChugoku_SUM_AREA', 'Census2015Res_CentroidChugoku_TOTPOP_H27', 'Census2015Res_CentroidChugoku_AreaRes','Census2015Res_CentroidChugoku_ORIG_FID']    # Delete fields\n",
    "    arcpy.DeleteField_management('Census2015PopDenChugoku',delfield)\n",
    "\n",
    "except Exception as e:\n",
    "    # If an error occurred, print line number and error message\n",
    "    import traceback, sys\n",
    "    tb = sys.exc_info()[2]\n",
    "    print(\"An error occurred on line %i\" % tb.tb_lineno)\n",
    "    print(str(e))"
   ]
  },
  {
   "cell_type": "markdown",
   "metadata": {},
   "source": [
    "# Second, Spatial join each hospitals with census area data to attach population density"
   ]
  },
  {
   "cell_type": "code",
   "execution_count": 23,
   "metadata": {},
   "outputs": [
    {
     "name": "stdout",
     "output_type": "stream",
     "text": [
      "Script completed successfully\n"
     ]
    }
   ],
   "source": [
    "### Import system modules\n",
    "import arcpy\n",
    "import os\n",
    "\n",
    "try:\n",
    "    \n",
    "    # Set local variables\n",
    "    inWorkspace1 = r\"C:\\Users\\kenta\\Documents\\ArcGIS\\Projects\\HealthPlaceNew\\HealthPlaceNew.gdb\"\n",
    "    inWorkspace2 = r\"C:\\Users\\kenta\\Documents\\ArcGIS\\Projects\\HealthPlaceNew\\OD_Matrix.gdb\"\n",
    "    outWorkdspace = r\"C:\\Users\\kenta\\Documents\\ArcGIS\\Projects\\HealthPlaceNew\\OD_Matrix.gdb\"\n",
    "    targetFeatures = os.path.join(inWorkspace1, \"PHCNaika_Chugoku\")\n",
    "    joinFeatures = os.path.join(inWorkspace2, \"Census2015PopDenChugoku\")\n",
    "    \n",
    "    # Output will be the target features: PHCCover Polygon with a sum of population field \n",
    "    outfc = os.path.join(outWorkdspace, \"PHC_NaikaChugoku_PopDen\")\n",
    "    \n",
    "    # Create a new fieldmappings and add the two input feature classes.\n",
    "    fieldmappings = arcpy.FieldMappings()\n",
    "    fieldmappings.addTable(targetFeatures)\n",
    "    fieldmappings.addTable(joinFeatures)\n",
    "       \n",
    "    # Delete fields that are no longer applicable, such as city CITY_NAME and CITY_FIPS\n",
    "    # as only the first value will be used by default\n",
    "    x = fieldmappings.findFieldMapIndex(\"P04_001\")\n",
    "    fieldmappings.removeFieldMap(x)\n",
    "    y = fieldmappings.findFieldMapIndex(\"P04_002\")\n",
    "    fieldmappings.removeFieldMap(y)\n",
    "    z = fieldmappings.findFieldMapIndex(\"P04_003\")\n",
    "    fieldmappings.removeFieldMap(z)\n",
    "    c = fieldmappings.findFieldMapIndex(\"P04_004\")\n",
    "    fieldmappings.removeFieldMap(c)\n",
    "    d = fieldmappings.findFieldMapIndex(\"P04_005\")\n",
    "    fieldmappings.removeFieldMap(d)\n",
    "    e = fieldmappings.findFieldMapIndex(\"P04_006\")\n",
    "    fieldmappings.removeFieldMap(e)\n",
    "    f = fieldmappings.findFieldMapIndex(\"P04_007\")\n",
    "    fieldmappings.removeFieldMap(f)\n",
    "    h = fieldmappings.findFieldMapIndex(\"Naika\")\n",
    "    fieldmappings.removeFieldMap(h)\n",
    "\n",
    "    #Run the Spatial Join tool, using the defaults for the join operation and join type\n",
    "    arcpy.SpatialJoin_analysis(targetFeatures, joinFeatures, outfc, \"JOIN_ONE_TO_ONE\", \"KEEP_ALL\", fieldmappings,\"COMPLETELY_WITHIN\")\n",
    "\n",
    "    print(\"Script completed successfully\")\n",
    "    \n",
    "except Exception as e:\n",
    "    # If an error occurred, print line number and error message\n",
    "    import traceback, sys\n",
    "    tb = sys.exc_info()[2]\n",
    "    print(\"An error occurred on line %i\" % tb.tb_lineno)\n",
    "    print(str(e))"
   ]
  },
  {
   "cell_type": "code",
   "execution_count": 24,
   "metadata": {},
   "outputs": [
    {
     "name": "stdout",
     "output_type": "stream",
     "text": [
      "Script completed successfully\n"
     ]
    }
   ],
   "source": [
    "### Import system modules\n",
    "import arcpy\n",
    "import os\n",
    "\n",
    "try:\n",
    "    \n",
    "    # Set local variables\n",
    "    inWorkspace1 = r\"C:\\Users\\kenta\\Documents\\ArcGIS\\Projects\\HealthPlaceNew\\HealthPlaceNew.gdb\"\n",
    "    inWorkspace2 = r\"C:\\Users\\kenta\\Documents\\ArcGIS\\Projects\\HealthPlaceNew\\OD_Matrix.gdb\"\n",
    "    outWorkdspace = r\"C:\\Users\\kenta\\Documents\\ArcGIS\\Projects\\HealthPlaceNew\\OD_Matrix.gdb\"\n",
    "    targetFeatures = os.path.join(inWorkspace1, \"Hos2Naika_Chugoku\")\n",
    "    joinFeatures = os.path.join(inWorkspace2, \"Census2015PopDenChugoku\")\n",
    "    \n",
    "    # Output will be the target features: PHCCover Polygon with a sum of population field \n",
    "    outfc = os.path.join(outWorkdspace, \"Hos2_NaikaChugoku_PopDen\")\n",
    "    \n",
    "    # Create a new fieldmappings and add the two input feature classes.\n",
    "    fieldmappings = arcpy.FieldMappings()\n",
    "    fieldmappings.addTable(targetFeatures)\n",
    "    fieldmappings.addTable(joinFeatures)\n",
    "       \n",
    "    # Delete fields that are no longer applicable, such as city CITY_NAME and CITY_FIPS\n",
    "    # as only the first value will be used by default\n",
    "    x = fieldmappings.findFieldMapIndex(\"P04_001\")\n",
    "    fieldmappings.removeFieldMap(x)\n",
    "    y = fieldmappings.findFieldMapIndex(\"P04_002\")\n",
    "    fieldmappings.removeFieldMap(y)\n",
    "    z = fieldmappings.findFieldMapIndex(\"P04_003\")\n",
    "    fieldmappings.removeFieldMap(z)\n",
    "    c = fieldmappings.findFieldMapIndex(\"P04_004\")\n",
    "    fieldmappings.removeFieldMap(c)\n",
    "    d = fieldmappings.findFieldMapIndex(\"P04_005\")\n",
    "    fieldmappings.removeFieldMap(d)\n",
    "    e = fieldmappings.findFieldMapIndex(\"P04_006\")\n",
    "    fieldmappings.removeFieldMap(e)\n",
    "    f = fieldmappings.findFieldMapIndex(\"P04_007\")\n",
    "    fieldmappings.removeFieldMap(f)\n",
    "    h = fieldmappings.findFieldMapIndex(\"Naika\")\n",
    "    fieldmappings.removeFieldMap(h)\n",
    "\n",
    "    #Run the Spatial Join tool, using the defaults for the join operation and join type\n",
    "    arcpy.SpatialJoin_analysis(targetFeatures, joinFeatures, outfc, \"JOIN_ONE_TO_ONE\", \"KEEP_ALL\", fieldmappings,\"COMPLETELY_WITHIN\")\n",
    "\n",
    "    print(\"Script completed successfully\")\n",
    "    \n",
    "except Exception as e:\n",
    "    # If an error occurred, print line number and error message\n",
    "    import traceback, sys\n",
    "    tb = sys.exc_info()[2]\n",
    "    print(\"An error occurred on line %i\" % tb.tb_lineno)\n",
    "    print(str(e))"
   ]
  },
  {
   "cell_type": "code",
   "execution_count": 25,
   "metadata": {},
   "outputs": [
    {
     "name": "stdout",
     "output_type": "stream",
     "text": [
      "Script completed successfully\n"
     ]
    }
   ],
   "source": [
    "### Import system modules\n",
    "import arcpy\n",
    "import os\n",
    "\n",
    "try:\n",
    "    \n",
    "    # Set local variables\n",
    "    inWorkspace1 = r\"C:\\Users\\kenta\\Documents\\ArcGIS\\Projects\\HealthPlaceNew\\HealthPlaceNew.gdb\"\n",
    "    inWorkspace2 = r\"C:\\Users\\kenta\\Documents\\ArcGIS\\Projects\\HealthPlaceNew\\OD_Matrix.gdb\"\n",
    "    outWorkdspace = r\"C:\\Users\\kenta\\Documents\\ArcGIS\\Projects\\HealthPlaceNew\\OD_Matrix.gdb\"\n",
    "    targetFeatures = os.path.join(inWorkspace1, \"Hos3Naika_Chugoku\")\n",
    "    joinFeatures = os.path.join(inWorkspace2, \"Census2015PopDenChugoku\")\n",
    "    \n",
    "    # Output will be the target features: PHCCover Polygon with a sum of population field \n",
    "    outfc = os.path.join(outWorkdspace, \"Hos3_NaikaChugoku_PopDen\")\n",
    "    \n",
    "    # Create a new fieldmappings and add the two input feature classes.\n",
    "    fieldmappings = arcpy.FieldMappings()\n",
    "    fieldmappings.addTable(targetFeatures)\n",
    "    fieldmappings.addTable(joinFeatures)\n",
    "       \n",
    "    # Delete fields that are no longer applicable, such as city CITY_NAME and CITY_FIPS\n",
    "    # as only the first value will be used by default\n",
    "    x = fieldmappings.findFieldMapIndex(\"P04_001\")\n",
    "    fieldmappings.removeFieldMap(x)\n",
    "    y = fieldmappings.findFieldMapIndex(\"P04_002\")\n",
    "    fieldmappings.removeFieldMap(y)\n",
    "    z = fieldmappings.findFieldMapIndex(\"P04_003\")\n",
    "    fieldmappings.removeFieldMap(z)\n",
    "    c = fieldmappings.findFieldMapIndex(\"P04_004\")\n",
    "    fieldmappings.removeFieldMap(c)\n",
    "    d = fieldmappings.findFieldMapIndex(\"P04_005\")\n",
    "    fieldmappings.removeFieldMap(d)\n",
    "    e = fieldmappings.findFieldMapIndex(\"P04_006\")\n",
    "    fieldmappings.removeFieldMap(e)\n",
    "    f = fieldmappings.findFieldMapIndex(\"P04_007\")\n",
    "    fieldmappings.removeFieldMap(f)\n",
    "    h = fieldmappings.findFieldMapIndex(\"Naika\")\n",
    "    fieldmappings.removeFieldMap(h)\n",
    "\n",
    "    #Run the Spatial Join tool, using the defaults for the join operation and join type\n",
    "    arcpy.SpatialJoin_analysis(targetFeatures, joinFeatures, outfc, \"JOIN_ONE_TO_ONE\", \"KEEP_ALL\", fieldmappings,\"COMPLETELY_WITHIN\")\n",
    "\n",
    "    print(\"Script completed successfully\")\n",
    "    \n",
    "except Exception as e:\n",
    "    # If an error occurred, print line number and error message\n",
    "    import traceback, sys\n",
    "    tb = sys.exc_info()[2]\n",
    "    print(\"An error occurred on line %i\" % tb.tb_lineno)\n",
    "    print(str(e))"
   ]
  },
  {
   "cell_type": "markdown",
   "metadata": {},
   "source": [
    "### Create OD Cost matrix layer"
   ]
  },
  {
   "cell_type": "code",
   "execution_count": null,
   "metadata": {
    "collapsed": true
   },
   "outputs": [],
   "source": [
    "# PHC"
   ]
  },
  {
   "cell_type": "code",
   "execution_count": 55,
   "metadata": {},
   "outputs": [
    {
     "name": "stdout",
     "output_type": "stream",
     "text": [
      "Script completed successfully\n"
     ]
    }
   ],
   "source": [
    "#Import system modules\n",
    "import arcpy\n",
    "from arcpy import env\n",
    "import os\n",
    "\n",
    "try:\n",
    "       \n",
    "    #Set environment settings\n",
    "    output_dir = \"C:/Users/kenta/Documents/ArcGIS/Projects/HealthPlaceNew\"\n",
    "    #The NA layer's data will be saved to the workspace specified here\n",
    "    env.workspace = os.path.join(output_dir, \"OD_Matrix.gdb\")\n",
    "    env.overwriteOutput = True\n",
    "\n",
    "    #Set inputs and outputs\n",
    "    input_gdb1 = r\"C:\\Users\\kenta\\Documents\\GISData_Import\\Esri道路2014中国\\道路網_鳥取県_島根県_岡山県_広島県_山口県版\\ADF2014.gdb\"\n",
    "    input_gdb2 = r\"C:/Users/kenta/Documents/ArcGIS/Projects/HealthPlaceNew/HealthPlaceNew.gdb\"\n",
    "    input_gdb3 = r\"C:/Users/kenta/Documents/ArcGIS/Projects/HealthPlaceNew/OD_Matrix.gdb\"\n",
    "    network = os.path.join(input_gdb1, \"ADF\", \"ADF_ND\")\n",
    "    origins = os.path.join(input_gdb3, \"PHC_NaikaChugoku_PopDen\")\n",
    "    destinations = os.path.join(input_gdb3, \"Census2015Res_CentroidChugoku\")\n",
    "    output_features = \"PHCCoverpop\"\n",
    "\n",
    "    #Define some OD cost matrix analysis settings\n",
    "    layer_name = \"PHCCover\"\n",
    "    #User settings for driving\n",
    "    travel_mode = \"Driving Time\"\n",
    "    cut_off = \"60\"\n",
    "     # number_destinations\n",
    "     # time_of_day\n",
    "     # time_zone\n",
    "    line_shape = \"NO_LINES\"\n",
    "     # accumulate_attribute\n",
    "        \n",
    "    #Create a new OD cost matrix layer.\n",
    "    result_object = arcpy.na.MakeODCostMatrixAnalysisLayer(network, layer_name, travel_mode, cut_off,\"\",\"\",\"\",line_shape)\n",
    "\n",
    "    #Get the layer object from the result object. \n",
    "    layer_object = result_object.getOutput(0)\n",
    "\n",
    "    #Get the names of all the sublayers within the OD layer.\n",
    "    sublayer_names = arcpy.na.GetNAClassNames(layer_object)\n",
    "    #Store the layer names for later use\n",
    "    origins_layer_name = sublayer_names[\"Origins\"]\n",
    "    destinations_layer_name = sublayer_names[\"Destinations\"]\n",
    "\n",
    "    #Add the address fields to the \"origin\" sublayers\n",
    "    arcpy.na.AddFieldToAnalysisLayer(layer_object, origins_layer_name, \"PHCID\", \"TEXT\")\n",
    "    arcpy.na.AddFieldToAnalysisLayer(layer_object, origins_layer_name,\"PopDen\", \"DOUBLE\")\n",
    "    \n",
    "    field_mappings = arcpy.na.NAClassFieldMappings(layer_object, origins_layer_name)\n",
    "    field_mappings[\"PHCID\"].mappedFieldName = \"OBJECTID\"\n",
    "    field_mappings[\"PopDen\"].mappedFieldName = \"Census2015Res_CentroidChugoku_PopDen\"\n",
    "\n",
    "    #Load the census tracts as origins.\n",
    "    arcpy.na.AddLocations(layer_object, origins_layer_name, origins, field_mappings)\n",
    "\n",
    "    #Map the input number of population for each census centroid point\n",
    "    #Destinations\n",
    "    arcpy.na.AddFieldToAnalysisLayer(layer_object, destinations_layer_name,\"Pop\", \"DOUBLE\")\n",
    "    \n",
    "    field_mappings = arcpy.na.NAClassFieldMappings(layer_object,destinations_layer_name)\n",
    "    field_mappings[\"Pop\"].mappedFieldName = \"TOTPOP_H27\"\n",
    "  \n",
    "    #Load the hospitals as desinations.\n",
    "    arcpy.na.AddLocations(layer_object, destinations_layer_name, destinations,field_mappings)\n",
    "\n",
    "    #Solve the OD layer\n",
    "    arcpy.na.Solve(layer_object)\n",
    "\n",
    "    #Get sublayers\n",
    "    #listLayers returns a list of sublayer layer objects contained in the NA\n",
    "    #group layer, filtered by layer name used as a wildcard. Use the sublayer\n",
    "    #name from GetNAClassNames as the wildcard string in case the sublayers\n",
    "    #have non-default names.\n",
    "    origins_sublayer = layer_object.listLayers(origins_layer_name)[0]\n",
    "    destinations_sublayer = layer_object.listLayers(destinations_layer_name)[0]\n",
    "    lines_sublayer = layer_object.listLayers(sublayer_names[\"ODLines\"])[0]\n",
    "\n",
    "    #Use the JoinField tool to transfer OD Cost Matrix information to the output feature class\n",
    "    #Transfer the Hospital ID and PopDen fields Origins to the output Lines\n",
    "    arcpy.management.JoinField(lines_sublayer, \"OriginID\",origins_sublayer, \"ObjectID\", \"PHCID\")\n",
    "    arcpy.management.JoinField(lines_sublayer, \"OriginID\",origins_sublayer, \"ObjectID\", \"PopDen\")\n",
    "    #Transfer the Pop field from the input Destinations to the output Lines\n",
    "    arcpy.management.JoinField(lines_sublayer, \"DestinationID\",destinations_sublayer, \"ObjectID\", \"Pop\")\n",
    "    \n",
    "    print(\"Script completed successfully\")\n",
    "\n",
    "except Exception as e:\n",
    "    # If an error occurred, print line number and error message\n",
    "    import traceback, sys\n",
    "    tb = sys.exc_info()[2]\n",
    "    print(\"An error occurred on line %i\" % tb.tb_lineno)\n",
    "    print(str(e))"
   ]
  },
  {
   "cell_type": "code",
   "execution_count": null,
   "metadata": {
    "collapsed": true
   },
   "outputs": [],
   "source": [
    "# Hos 2"
   ]
  },
  {
   "cell_type": "code",
   "execution_count": 36,
   "metadata": {},
   "outputs": [
    {
     "name": "stdout",
     "output_type": "stream",
     "text": [
      "Script completed successfully\n"
     ]
    }
   ],
   "source": [
    "#Import system modules\n",
    "import arcpy\n",
    "from arcpy import env\n",
    "import os\n",
    "\n",
    "try:\n",
    "       \n",
    "    #Set environment settings\n",
    "    output_dir = \"C:/Users/kenta/Documents/ArcGIS/Projects/HealthPlaceNew\"\n",
    "    #The NA layer's data will be saved to the workspace specified here\n",
    "    env.workspace = os.path.join(output_dir, \"OD_Matrix.gdb\")\n",
    "    env.overwriteOutput = True\n",
    "\n",
    "    #Set inputs and outputs\n",
    "    input_gdb1 = r\"C:\\Users\\kenta\\Documents\\GISData_Import\\Esri道路2014中国\\道路網_鳥取県_島根県_岡山県_広島県_山口県版\\ADF2014.gdb\"\n",
    "    input_gdb2 = r\"C:/Users/kenta/Documents/ArcGIS/Projects/HealthPlaceNew/HealthPlaceNew.gdb\"\n",
    "    input_gdb3 = r\"C:/Users/kenta/Documents/ArcGIS/Projects/HealthPlaceNew/OD_Matrix.gdb\"\n",
    "    network = os.path.join(input_gdb1, \"ADF\", \"ADF_ND\")\n",
    "    origins = os.path.join(input_gdb3, \"Hos2_NaikaChugoku_PopDen\")\n",
    "    destinations = os.path.join(input_gdb3, \"Census2015Res_CentroidChugoku\")\n",
    "    output_features = \"Hos2Coverpop\"\n",
    "\n",
    "    #Define some OD cost matrix analysis settings\n",
    "    layer_name = \"Hos2Cover\"\n",
    "    #User settings for driving\n",
    "    travel_mode = \"Driving Time\"\n",
    "    cut_off = \"60\"\n",
    "     # number_destinations\n",
    "     # time_of_day\n",
    "     # time_zone\n",
    "    line_shape = \"NO_LINES\"\n",
    "     # accumulate_attribute\n",
    "        \n",
    "    #Create a new OD cost matrix layer.\n",
    "    result_object = arcpy.na.MakeODCostMatrixAnalysisLayer(network, layer_name, travel_mode, cut_off,\"\",\"\",\"\",line_shape)\n",
    "\n",
    "    #Get the layer object from the result object. \n",
    "    layer_object = result_object.getOutput(0)\n",
    "\n",
    "    #Get the names of all the sublayers within the OD layer.\n",
    "    sublayer_names = arcpy.na.GetNAClassNames(layer_object)\n",
    "    #Store the layer names for later use\n",
    "    origins_layer_name = sublayer_names[\"Origins\"]\n",
    "    destinations_layer_name = sublayer_names[\"Destinations\"]\n",
    "\n",
    "    #Add the address fields to the \"origin\" sublayers\n",
    "    arcpy.na.AddFieldToAnalysisLayer(layer_object, origins_layer_name, \"Hos2ID\", \"TEXT\")\n",
    "    arcpy.na.AddFieldToAnalysisLayer(layer_object, origins_layer_name,\"PopDen\", \"DOUBLE\")\n",
    "    \n",
    "    field_mappings = arcpy.na.NAClassFieldMappings(layer_object, origins_layer_name)\n",
    "    field_mappings[\"Hos2ID\"].mappedFieldName = \"OBJECTID\"\n",
    "    field_mappings[\"PopDen\"].mappedFieldName = \"Census2015Res_CentroidChugoku_PopDen\"\n",
    "\n",
    "    #Load the census tracts as origins.\n",
    "    arcpy.na.AddLocations(layer_object, origins_layer_name, origins, field_mappings)\n",
    "\n",
    "    #Map the input number of population for each census centroid point\n",
    "    #Destinations\n",
    "    arcpy.na.AddFieldToAnalysisLayer(layer_object, destinations_layer_name,\"Pop\", \"DOUBLE\")\n",
    "    \n",
    "    field_mappings = arcpy.na.NAClassFieldMappings(layer_object,destinations_layer_name)\n",
    "    field_mappings[\"Pop\"].mappedFieldName = \"TOTPOP_H27\"\n",
    "  \n",
    "    #Load the hospitals as desinations.\n",
    "    arcpy.na.AddLocations(layer_object, destinations_layer_name, destinations,field_mappings)\n",
    "\n",
    "    #Solve the OD layer\n",
    "    arcpy.na.Solve(layer_object)\n",
    "\n",
    "    #Get sublayers\n",
    "    #listLayers returns a list of sublayer layer objects contained in the NA\n",
    "    #group layer, filtered by layer name used as a wildcard. Use the sublayer\n",
    "    #name from GetNAClassNames as the wildcard string in case the sublayers\n",
    "    #have non-default names.\n",
    "    origins_sublayer = layer_object.listLayers(origins_layer_name)[0]\n",
    "    destinations_sublayer = layer_object.listLayers(destinations_layer_name)[0]\n",
    "    lines_sublayer = layer_object.listLayers(sublayer_names[\"ODLines\"])[0]\n",
    "\n",
    "    #Use the JoinField tool to transfer OD Cost Matrix information to the output feature class\n",
    "    #Transfer the Hospital ID and PopDen fields Origins to the output Lines\n",
    "    arcpy.management.JoinField(lines_sublayer, \"OriginID\",origins_sublayer, \"ObjectID\", \"Hos2ID\")\n",
    "    arcpy.management.JoinField(lines_sublayer, \"OriginID\",origins_sublayer, \"ObjectID\", \"PopDen\")\n",
    "    #Transfer the Pop field from the input Destinations to the output Lines\n",
    "    arcpy.management.JoinField(lines_sublayer, \"DestinationID\",destinations_sublayer, \"ObjectID\", \"Pop\")\n",
    "    \n",
    "    print(\"Script completed successfully\")\n",
    "\n",
    "except Exception as e:\n",
    "    # If an error occurred, print line number and error message\n",
    "    import traceback, sys\n",
    "    tb = sys.exc_info()[2]\n",
    "    print(\"An error occurred on line %i\" % tb.tb_lineno)\n",
    "    print(str(e))"
   ]
  },
  {
   "cell_type": "code",
   "execution_count": null,
   "metadata": {
    "collapsed": true
   },
   "outputs": [],
   "source": [
    "# Hos 3"
   ]
  },
  {
   "cell_type": "code",
   "execution_count": 29,
   "metadata": {},
   "outputs": [
    {
     "name": "stdout",
     "output_type": "stream",
     "text": [
      "Script completed successfully\n"
     ]
    }
   ],
   "source": [
    "#Import system modules\n",
    "import arcpy\n",
    "from arcpy import env\n",
    "import os\n",
    "\n",
    "try:\n",
    "       \n",
    "    #Set environment settings\n",
    "    output_dir = \"C:/Users/kenta/Documents/ArcGIS/Projects/HealthPlaceNew\"\n",
    "    #The NA layer's data will be saved to the workspace specified here\n",
    "    env.workspace = os.path.join(output_dir, \"OD_Matrix.gdb\")\n",
    "    env.overwriteOutput = True\n",
    "\n",
    "    #Set inputs and outputs\n",
    "    input_gdb1 = r\"C:\\Users\\kenta\\Documents\\GISData_Import\\Esri道路2014中国\\道路網_鳥取県_島根県_岡山県_広島県_山口県版\\ADF2014.gdb\"\n",
    "    input_gdb2 = r\"C:/Users/kenta/Documents/ArcGIS/Projects/HealthPlaceNew/HealthPlaceNew.gdb\"\n",
    "    input_gdb3 = r\"C:/Users/kenta/Documents/ArcGIS/Projects/HealthPlaceNew/OD_Matrix.gdb\"\n",
    "    network = os.path.join(input_gdb1, \"ADF\", \"ADF_ND\")\n",
    "    origins = os.path.join(input_gdb3, \"Hos3_NaikaChugoku_PopDen\")\n",
    "    destinations = os.path.join(input_gdb3, \"Census2015Res_CentroidChugoku\")\n",
    "    output_features = \"Hos3Coverpop\"\n",
    "\n",
    "    #Define some OD cost matrix analysis settings\n",
    "    layer_name = \"Hos3Cover\"\n",
    "    #User settings for driving\n",
    "    travel_mode = \"Driving Time\"\n",
    "    cut_off = \"60\"\n",
    "     # number_destinations\n",
    "     # time_of_day\n",
    "     # time_zone\n",
    "    line_shape = \"NO_LINES\"\n",
    "     # accumulate_attribute\n",
    "        \n",
    "    #Create a new OD cost matrix layer.\n",
    "    result_object = arcpy.na.MakeODCostMatrixAnalysisLayer(network, layer_name, travel_mode, cut_off,\"\",\"\",\"\",line_shape)\n",
    "\n",
    "    #Get the layer object from the result object. \n",
    "    layer_object = result_object.getOutput(0)\n",
    "\n",
    "    #Get the names of all the sublayers within the OD layer.\n",
    "    sublayer_names = arcpy.na.GetNAClassNames(layer_object)\n",
    "    #Store the layer names for later use\n",
    "    origins_layer_name = sublayer_names[\"Origins\"]\n",
    "    destinations_layer_name = sublayer_names[\"Destinations\"]\n",
    "\n",
    "    #Add the address fields to the \"origin\" sublayers\n",
    "    arcpy.na.AddFieldToAnalysisLayer(layer_object, origins_layer_name, \"Hos3ID\", \"TEXT\")\n",
    "    arcpy.na.AddFieldToAnalysisLayer(layer_object, origins_layer_name,\"PopDen\", \"DOUBLE\")\n",
    "    \n",
    "    field_mappings = arcpy.na.NAClassFieldMappings(layer_object, origins_layer_name)\n",
    "    field_mappings[\"Hos3ID\"].mappedFieldName = \"OBJECTID\"\n",
    "    field_mappings[\"PopDen\"].mappedFieldName = \"Census2015Res_CentroidChugoku_PopDen\"\n",
    "\n",
    "    #Load the census tracts as origins.\n",
    "    arcpy.na.AddLocations(layer_object, origins_layer_name, origins, field_mappings)\n",
    "\n",
    "    #Map the input number of population for each census centroid point\n",
    "    #Destinations\n",
    "    arcpy.na.AddFieldToAnalysisLayer(layer_object, destinations_layer_name,\"Pop\", \"DOUBLE\")\n",
    "    \n",
    "    field_mappings = arcpy.na.NAClassFieldMappings(layer_object,destinations_layer_name)\n",
    "    field_mappings[\"Pop\"].mappedFieldName = \"TOTPOP_H27\"\n",
    "  \n",
    "    #Load the hospitals as desinations.\n",
    "    arcpy.na.AddLocations(layer_object, destinations_layer_name, destinations,field_mappings)\n",
    "\n",
    "    #Solve the OD layer\n",
    "    arcpy.na.Solve(layer_object)\n",
    "\n",
    "    #Get sublayers\n",
    "    #listLayers returns a list of sublayer layer objects contained in the NA\n",
    "    #group layer, filtered by layer name used as a wildcard. Use the sublayer\n",
    "    #name from GetNAClassNames as the wildcard string in case the sublayers\n",
    "    #have non-default names.\n",
    "    origins_sublayer = layer_object.listLayers(origins_layer_name)[0]\n",
    "    destinations_sublayer = layer_object.listLayers(destinations_layer_name)[0]\n",
    "    lines_sublayer = layer_object.listLayers(sublayer_names[\"ODLines\"])[0]\n",
    "\n",
    "    #Use the JoinField tool to transfer OD Cost Matrix information to the output feature class\n",
    "    #Transfer the Hospital ID and PopDen fields Origins to the output Lines\n",
    "    arcpy.management.JoinField(lines_sublayer, \"OriginID\",origins_sublayer, \"ObjectID\", \"Hos3ID\")\n",
    "    arcpy.management.JoinField(lines_sublayer, \"OriginID\",origins_sublayer, \"ObjectID\", \"PopDen\")\n",
    "    #Transfer the Pop field from the input Destinations to the output Lines\n",
    "    arcpy.management.JoinField(lines_sublayer, \"DestinationID\",destinations_sublayer, \"ObjectID\", \"Pop\")\n",
    "    \n",
    "    print(\"Script completed successfully\")\n",
    "\n",
    "except Exception as e:\n",
    "    # If an error occurred, print line number and error message\n",
    "    import traceback, sys\n",
    "    tb = sys.exc_info()[2]\n",
    "    print(\"An error occurred on line %i\" % tb.tb_lineno)\n",
    "    print(str(e))"
   ]
  },
  {
   "cell_type": "markdown",
   "metadata": {},
   "source": [
    "### Weight the number of stores within 30 minutes based on Continuous distance-decay weight"
   ]
  },
  {
   "cell_type": "code",
   "execution_count": null,
   "metadata": {
    "collapsed": true
   },
   "outputs": [],
   "source": [
    "# PHC"
   ]
  },
  {
   "cell_type": "code",
   "execution_count": 1,
   "metadata": {},
   "outputs": [
    {
     "name": "stdout",
     "output_type": "stream",
     "text": [
      "Script completed successfully\n"
     ]
    }
   ],
   "source": [
    "import arcpy\n",
    "from arcpy import env\n",
    "try:\n",
    "    # Set environment settings\n",
    "    env.workspace =  r\"C:/Users/kenta/Documents/ArcGIS/Projects/HealthPlaceNew/OD_Matrix.gdb\"\n",
    "    \n",
    "    # Set local variables\n",
    "    inTable = \"ODLines17\"\n",
    "    fieldName1 = \"Pop_wSlow\"\n",
    "    fieldName2 = \"Pop_wQuick\"\n",
    "    expression = \"w(!Total_所要時間（自動車）!,!PopDen!,!Pop!)\"\n",
    "    codeblock1 = \"\"\"def w(f1,f2,f3):\n",
    "        if f1 < 10:\n",
    "            return f3\n",
    "        elif (f2 >= 1500) and (f1 >= 10 and f1 < 30):\n",
    "            return f3 * ((30-f1)/(30-10))**1.5\n",
    "        elif (f2 >= 1500) and (f1 >= 30):\n",
    "            return 0\n",
    "        elif (f2 >= 1000 and f2 < 1500) and (f1 >= 10 and f1 < 45):\n",
    "            return f3 * ((45-f1)/(45-10))**1.5\n",
    "        elif (f2 >= 1000 and f2 < 1500) and (f1 >= 45):\n",
    "            return 0\n",
    "        elif (f2 < 1000) and (f1 >= 10 and f1 < 60):\n",
    "            return f3 * ((60-f1)/(60-10))**1.5\n",
    "        elif (f2 < 1000) and (f1 >= 60):\n",
    "            return 0\"\"\"\n",
    "    codeblock2 = \"\"\"def w(f1,f2,f3):\n",
    "        if f1 < 10:\n",
    "            return f3\n",
    "        elif (f2 >= 1500) and (f1 >= 10 and f1 < 30):\n",
    "            return f3 * ((30-f1)/(30-10))**2\n",
    "        elif (f2 >= 1500) and (f1 >= 30):\n",
    "            return 0\n",
    "        elif (f2 >= 1000 and f2 < 1500) and (f1 >= 10 and f1 < 45):\n",
    "            return f3 * ((45-f1)/(45-10))**2\n",
    "        elif (f2 >= 1000 and f2 < 1500) and (f1 >= 45):\n",
    "            return 0\n",
    "        elif (f2 < 1000) and (f1 >= 10 and f1 < 60):\n",
    "            return f3 * ((60-f1)/(60-10))**2\n",
    "        elif (f2 < 1000) and (f1 >= 60):\n",
    "            return 0\"\"\"\n",
    "\n",
    "    # Execute AddField\n",
    "    arcpy.AddField_management(inTable, fieldName1, \"DOUBLE\")\n",
    "    arcpy.AddField_management(inTable, fieldName2, \"DOUBLE\")\n",
    "    # Execute CalculateField - weighting\n",
    "    arcpy.CalculateField_management(inTable, fieldName1, expression, \"PYTHON_9.3\", codeblock1)\n",
    "    arcpy.CalculateField_management(inTable, fieldName2, expression, \"PYTHON_9.3\", codeblock2)\n",
    "\n",
    "    print(\"Script completed successfully\")\n",
    "    \n",
    "except Exception as e:\n",
    "    # If an error occurred, print line number and error message\n",
    "    import traceback, sys\n",
    "    tb = sys.exc_info()[2]\n",
    "    print(\"An error occurred on line %i\" % tb.tb_lineno)\n",
    "    print(str(e))"
   ]
  },
  {
   "cell_type": "code",
   "execution_count": null,
   "metadata": {
    "collapsed": true
   },
   "outputs": [],
   "source": [
    "# Hos 2"
   ]
  },
  {
   "cell_type": "code",
   "execution_count": 37,
   "metadata": {},
   "outputs": [
    {
     "name": "stdout",
     "output_type": "stream",
     "text": [
      "Script completed successfully\n"
     ]
    }
   ],
   "source": [
    "import arcpy\n",
    "from arcpy import env\n",
    "try:\n",
    "    # Set environment settings\n",
    "    env.workspace =  r\"C:/Users/kenta/Documents/ArcGIS/Projects/HealthPlaceNew/OD_Matrix.gdb\"\n",
    "    \n",
    "    # Set local variables\n",
    "    inTable = \"ODLines16\"\n",
    "    fieldName1 = \"Pop_wSlow\"\n",
    "    fieldName2 = \"Pop_wQuick\"\n",
    "    expression = \"w(!Total_所要時間（自動車）!,!PopDen!,!Pop!)\"\n",
    "    codeblock1 = \"\"\"def w(f1,f2,f3):\n",
    "        if f1 < 10:\n",
    "            return f3\n",
    "        elif (f2 >= 1500) and (f1 >= 10 and f1 < 30):\n",
    "            return f3 * ((30-f1)/(30-10))**1.5\n",
    "        elif (f2 >= 1500) and (f1 >= 30):\n",
    "            return 0\n",
    "        elif (f2 >= 1000 and f2 < 1500) and (f1 >= 10 and f1 < 45):\n",
    "            return f3 * ((45-f1)/(45-10))**1.5\n",
    "        elif (f2 >= 1000 and f2 < 1500) and (f1 >= 45):\n",
    "            return 0\n",
    "        elif (f2 < 1000) and (f1 >= 10 and f1 < 60):\n",
    "            return f3 * ((60-f1)/(60-10))**1.5\n",
    "        elif (f2 < 1000) and (f1 >= 60):\n",
    "            return 0\"\"\"\n",
    "    codeblock2 = \"\"\"def w(f1,f2,f3):\n",
    "        if f1 < 10:\n",
    "            return f3\n",
    "        elif (f2 >= 1500) and (f1 >= 10 and f1 < 30):\n",
    "            return f3 * ((30-f1)/(30-10))**2\n",
    "        elif (f2 >= 1500) and (f1 >= 30):\n",
    "            return 0\n",
    "        elif (f2 >= 1000 and f2 < 1500) and (f1 >= 10 and f1 < 45):\n",
    "            return f3 * ((45-f1)/(45-10))**2\n",
    "        elif (f2 >= 1000 and f2 < 1500) and (f1 >= 45):\n",
    "            return 0\n",
    "        elif (f2 < 1000) and (f1 >= 10 and f1 < 60):\n",
    "            return f3 * ((60-f1)/(60-10))**2\n",
    "        elif (f2 < 1000) and (f1 >= 60):\n",
    "            return 0\"\"\"\n",
    "\n",
    "    # Execute AddField\n",
    "    arcpy.AddField_management(inTable, fieldName1, \"DOUBLE\")\n",
    "    arcpy.AddField_management(inTable, fieldName2, \"DOUBLE\")\n",
    "    # Execute CalculateField - weighting\n",
    "    arcpy.CalculateField_management(inTable, fieldName1, expression, \"PYTHON_9.3\", codeblock1)\n",
    "    arcpy.CalculateField_management(inTable, fieldName2, expression, \"PYTHON_9.3\", codeblock2)\n",
    "\n",
    "    print(\"Script completed successfully\")\n",
    "    \n",
    "except Exception as e:\n",
    "    # If an error occurred, print line number and error message\n",
    "    import traceback, sys\n",
    "    tb = sys.exc_info()[2]\n",
    "    print(\"An error occurred on line %i\" % tb.tb_lineno)\n",
    "    print(str(e))"
   ]
  },
  {
   "cell_type": "code",
   "execution_count": null,
   "metadata": {
    "collapsed": true
   },
   "outputs": [],
   "source": [
    "# Hos 3"
   ]
  },
  {
   "cell_type": "code",
   "execution_count": 30,
   "metadata": {},
   "outputs": [
    {
     "name": "stdout",
     "output_type": "stream",
     "text": [
      "Script completed successfully\n"
     ]
    }
   ],
   "source": [
    "import arcpy\n",
    "from arcpy import env\n",
    "try:\n",
    "    # Set environment settings\n",
    "    env.workspace =  r\"C:/Users/kenta/Documents/ArcGIS/Projects/HealthPlaceNew/OD_Matrix.gdb\"\n",
    "    \n",
    "    # Set local variables\n",
    "    inTable = \"ODLines15\"\n",
    "    fieldName1 = \"Pop_wSlow\"\n",
    "    fieldName2 = \"Pop_wQuick\"\n",
    "    expression = \"w(!Total_所要時間（自動車）!,!PopDen!,!Pop!)\"\n",
    "    codeblock1 = \"\"\"def w(f1,f2,f3):\n",
    "        if f1 < 10:\n",
    "            return f3\n",
    "        elif (f2 >= 1500) and (f1 >= 10 and f1 < 30):\n",
    "            return f3 * ((30-f1)/(30-10))**1.5\n",
    "        elif (f2 >= 1500) and (f1 >= 30):\n",
    "            return 0\n",
    "        elif (f2 >= 1000 and f2 < 1500) and (f1 >= 10 and f1 < 45):\n",
    "            return f3 * ((45-f1)/(45-10))**1.5\n",
    "        elif (f2 >= 1000 and f2 < 1500) and (f1 >= 45):\n",
    "            return 0\n",
    "        elif (f2 < 1000) and (f1 >= 10 and f1 < 60):\n",
    "            return f3 * ((60-f1)/(60-10))**1.5\n",
    "        elif (f2 < 1000) and (f1 >= 60):\n",
    "            return 0\"\"\"\n",
    "    codeblock2 = \"\"\"def w(f1,f2,f3):\n",
    "        if f1 < 10:\n",
    "            return f3\n",
    "        elif (f2 >= 1500) and (f1 >= 10 and f1 < 30):\n",
    "            return f3 * ((30-f1)/(30-10))**2\n",
    "        elif (f2 >= 1500) and (f1 >= 30):\n",
    "            return 0\n",
    "        elif (f2 >= 1000 and f2 < 1500) and (f1 >= 10 and f1 < 45):\n",
    "            return f3 * ((45-f1)/(45-10))**2\n",
    "        elif (f2 >= 1000 and f2 < 1500) and (f1 >= 45):\n",
    "            return 0\n",
    "        elif (f2 < 1000) and (f1 >= 10 and f1 < 60):\n",
    "            return f3 * ((60-f1)/(60-10))**2\n",
    "        elif (f2 < 1000) and (f1 >= 60):\n",
    "            return 0\"\"\"\n",
    "\n",
    "    # Execute AddField\n",
    "    arcpy.AddField_management(inTable, fieldName1, \"DOUBLE\")\n",
    "    arcpy.AddField_management(inTable, fieldName2, \"DOUBLE\")\n",
    "    # Execute CalculateField - weighting\n",
    "    arcpy.CalculateField_management(inTable, fieldName1, expression, \"PYTHON_9.3\", codeblock1)\n",
    "    arcpy.CalculateField_management(inTable, fieldName2, expression, \"PYTHON_9.3\", codeblock2)\n",
    "\n",
    "    print(\"Script completed successfully\")\n",
    "    \n",
    "except Exception as e:\n",
    "    # If an error occurred, print line number and error message\n",
    "    import traceback, sys\n",
    "    tb = sys.exc_info()[2]\n",
    "    print(\"An error occurred on line %i\" % tb.tb_lineno)\n",
    "    print(str(e))"
   ]
  },
  {
   "cell_type": "markdown",
   "metadata": {},
   "source": [
    "### Summary statistics by Origin ID to sum up the weighted population"
   ]
  },
  {
   "cell_type": "code",
   "execution_count": 2,
   "metadata": {},
   "outputs": [
    {
     "name": "stdout",
     "output_type": "stream",
     "text": [
      "Script completed successfully\n"
     ]
    }
   ],
   "source": [
    "# Import system modules\n",
    "import arcpy\n",
    "from arcpy import env\n",
    " \n",
    "import os\n",
    "try:\n",
    "    # Set environment settings\n",
    "    env.workspace = r\"C:/Users/kenta/Documents/ArcGIS/Projects/HealthPlaceNew/OD_Matrix.gdb\"\n",
    "    # Set local variables\n",
    "    inFeatures = \"ODLines17\"\n",
    "    outStatsTable = \"PHCCover\"\n",
    "    statsFields = [[\"Pop_wSlow\",\"sum\"],[\"Pop_wQuick\",\"sum\"]]\n",
    "    case_field = \"OriginID\"\n",
    "    # Execute Statistics to get the area of each vegetation type within the clipped buffer.\n",
    "    arcpy.Statistics_analysis(inFeatures, outStatsTable, statsFields, case_field)\n",
    "\n",
    "    print(\"Script completed successfully\")\n",
    "    \n",
    "except Exception as e:\n",
    "    # If an error occurred, print line number and error message\n",
    "    import traceback, sys\n",
    "    tb = sys.exc_info()[2]\n",
    "    print(\"An error occurred on line %i\" % tb.tb_lineno)\n",
    "    print(str(e))"
   ]
  },
  {
   "cell_type": "code",
   "execution_count": null,
   "metadata": {
    "collapsed": true
   },
   "outputs": [],
   "source": [
    "# Hos2"
   ]
  },
  {
   "cell_type": "code",
   "execution_count": 52,
   "metadata": {},
   "outputs": [
    {
     "name": "stdout",
     "output_type": "stream",
     "text": [
      "Script completed successfully\n"
     ]
    }
   ],
   "source": [
    "# Import system modules\n",
    "import arcpy\n",
    "from arcpy import env\n",
    " \n",
    "import os\n",
    "try:\n",
    "    # Set environment settings\n",
    "    env.workspace = r\"C:/Users/kenta/Documents/ArcGIS/Projects/HealthPlaceNew/OD_Matrix.gdb\"\n",
    "    # Set local variables\n",
    "    inFeatures = \"ODLines16\"\n",
    "    outStatsTable = \"Hos2Cover\"\n",
    "    statsFields = [[\"Pop_wSlow\",\"sum\"],[\"Pop_wQuick\",\"sum\"]]\n",
    "    case_field = \"OriginID\"\n",
    "    # Execute Statistics to get the area of each vegetation type within the clipped buffer.\n",
    "    arcpy.Statistics_analysis(inFeatures, outStatsTable, statsFields, case_field)\n",
    "\n",
    "    print(\"Script completed successfully\")\n",
    "    \n",
    "except Exception as e:\n",
    "    # If an error occurred, print line number and error message\n",
    "    import traceback, sys\n",
    "    tb = sys.exc_info()[2]\n",
    "    print(\"An error occurred on line %i\" % tb.tb_lineno)\n",
    "    print(str(e))"
   ]
  },
  {
   "cell_type": "code",
   "execution_count": null,
   "metadata": {
    "collapsed": true
   },
   "outputs": [],
   "source": [
    "# Hos3"
   ]
  },
  {
   "cell_type": "code",
   "execution_count": 48,
   "metadata": {},
   "outputs": [
    {
     "name": "stdout",
     "output_type": "stream",
     "text": [
      "Script completed successfully\n"
     ]
    }
   ],
   "source": [
    "# Import system modules\n",
    "import arcpy\n",
    "from arcpy import env\n",
    " \n",
    "import os\n",
    "try:\n",
    "    # Set environment settings\n",
    "    env.workspace = r\"C:/Users/kenta/Documents/ArcGIS/Projects/HealthPlaceNew/OD_Matrix.gdb\"\n",
    "    # Set local variables\n",
    "    inFeatures = \"ODLines15\"\n",
    "    outStatsTable = \"Hos3Cover\"\n",
    "    statsFields = [[\"Pop_wSlow\",\"sum\"],[\"Pop_wQuick\",\"sum\"]]\n",
    "    case_field = \"OriginID\"\n",
    "    # Execute Statistics to get the area of each vegetation type within the clipped buffer.\n",
    "    arcpy.Statistics_analysis(inFeatures, outStatsTable, statsFields, case_field)\n",
    "\n",
    "    print(\"Script completed successfully\")\n",
    "    \n",
    "except Exception as e:\n",
    "    # If an error occurred, print line number and error message\n",
    "    import traceback, sys\n",
    "    tb = sys.exc_info()[2]\n",
    "    print(\"An error occurred on line %i\" % tb.tb_lineno)\n",
    "    print(str(e))"
   ]
  },
  {
   "cell_type": "code",
   "execution_count": null,
   "metadata": {
    "collapsed": true
   },
   "outputs": [],
   "source": [
    "# Get Provider to Population ratio"
   ]
  },
  {
   "cell_type": "markdown",
   "metadata": {},
   "source": [
    "### Join the PropToPop back to PHCPoint"
   ]
  },
  {
   "cell_type": "code",
   "execution_count": 1,
   "metadata": {},
   "outputs": [
    {
     "name": "stdout",
     "output_type": "stream",
     "text": [
      "Script completed successfully\n"
     ]
    }
   ],
   "source": [
    "import arcpy\n",
    "from arcpy import env\n",
    "import os\n",
    "try:\n",
    "    # Set environment settings\n",
    "    env.workspace = r\"C:/Users/kenta/Documents/ArcGIS/Projects/HealthPlaceNew/OD_Matrix.gdb\"\n",
    "    \n",
    "    # Set the local parameters\n",
    "    inWorkspace1 = r\"C:/Users/kenta/Documents/ArcGIS/Projects/HealthPlaceNew/OD_Matrix.gdb\"\n",
    "    inWorkspace2 = r\"C:/Users/kenta/Documents/ArcGIS/Projects/HealthPlaceNew/OD_Matrix.gdb\"\n",
    "    inFeatures = os.path.join(inWorkspace1,\"PHC_NaikaChugoku_PopDen\")\n",
    "    joinField1 = \"OBJECTID\"\n",
    "    joinTable = os.path.join(inWorkspace2,\"PHCCover\")\n",
    "    joinField2 = \"OriginID\"\n",
    "    fieldList = [\"SUM_Pop_wSlow\",\"SUM_Pop_wQuick\"] \n",
    "    outFeatures = os.path.join(inWorkspace2,\"PHCCover_PTP\")\n",
    "    #dropFields1 = [\"OriginID\"]\n",
    "    # Join two feature classes by the OBJECTID and OriginID fields and only carry \n",
    "    # over the SUM_SuperCount field\n",
    "    arcpy.JoinField_management(inFeatures, joinField1, joinTable, joinField2, fieldList)\n",
    "    # Create a new feature in a current workspace = E2FCAStep1Rural.gdb\n",
    "    arcpy.CopyFeatures_management(inFeatures, outFeatures)\n",
    "    # Delete unnecessary fields\n",
    "    #arcpy.DeleteField_management(outFeatures, dropFields1)\n",
    "    \n",
    "    print(\"Script completed successfully\")\n",
    "\n",
    "except Exception as e:\n",
    "    # If an error occurred, print line number and error message\n",
    "    import traceback, sys\n",
    "    tb = sys.exc_info()[2]\n",
    "    print(\"An error occurred on line %i\" % tb.tb_lineno)\n",
    "    print(str(e))"
   ]
  },
  {
   "cell_type": "code",
   "execution_count": 2,
   "metadata": {},
   "outputs": [
    {
     "name": "stdout",
     "output_type": "stream",
     "text": [
      "Script completed successfully\n"
     ]
    }
   ],
   "source": [
    "import arcpy\n",
    "from arcpy import env\n",
    "try:\n",
    "    # Set environment settings\n",
    "    env.workspace = r\"C:/Users/kenta/Documents/ArcGIS/Projects/HealthPlaceNew/OD_Matrix.gdb\"\n",
    "    \n",
    "    # Set local variables\n",
    "    inTable = \"PHCCover_PTP\"\n",
    "    fieldName1 = \"SUM_Pop_wSlow\"\n",
    "    fieldName2 = \"SUM_Pop_wQuick\"\n",
    "    expression1 = \"1/!SUM_Pop_wSlow!\"\n",
    "    expression2 = \"1/!SUM_Pop_wQuick!\"    \n",
    "    # Execute CalculateField - getting PropToPop deviding 1 by weighted population\n",
    "    arcpy.CalculateField_management(inTable, fieldName1, expression1, \"PYTHON_9.3\")\n",
    "    arcpy.CalculateField_management(inTable, fieldName2, expression2, \"PYTHON_9.3\")\n",
    "\n",
    "    print(\"Script completed successfully\")\n",
    "    \n",
    "except Exception as e:\n",
    "    # If an error occurred, print line number and error message\n",
    "    import traceback, sys\n",
    "    tb = sys.exc_info()[2]\n",
    "    print(\"An error occurred on line %i\" % tb.tb_lineno)\n",
    "    print(str(e))"
   ]
  },
  {
   "cell_type": "code",
   "execution_count": null,
   "metadata": {
    "collapsed": true
   },
   "outputs": [],
   "source": [
    "# Hos2"
   ]
  },
  {
   "cell_type": "code",
   "execution_count": 53,
   "metadata": {},
   "outputs": [
    {
     "name": "stdout",
     "output_type": "stream",
     "text": [
      "Script completed successfully\n"
     ]
    }
   ],
   "source": [
    "import arcpy\n",
    "from arcpy import env\n",
    "import os\n",
    "try:\n",
    "    # Set environment settings\n",
    "    env.workspace = r\"C:/Users/kenta/Documents/ArcGIS/Projects/HealthPlaceNew/OD_Matrix.gdb\"\n",
    "    \n",
    "    # Set the local parameters\n",
    "    inWorkspace1 = r\"C:/Users/kenta/Documents/ArcGIS/Projects/HealthPlaceNew/OD_Matrix.gdb\"\n",
    "    inWorkspace2 = r\"C:/Users/kenta/Documents/ArcGIS/Projects/HealthPlaceNew/OD_Matrix.gdb\"\n",
    "    inFeatures = os.path.join(inWorkspace1,\"Hos2_NaikaChugoku_PopDen\")\n",
    "    joinField1 = \"OBJECTID\"\n",
    "    joinTable = os.path.join(inWorkspace2,\"Hos2Cover\")\n",
    "    joinField2 = \"OriginID\"\n",
    "    fieldList = [\"SUM_Pop_wSlow\",\"SUM_Pop_wQuick\"] \n",
    "    outFeatures = os.path.join(inWorkspace2,\"Hos2Cover_PTP\")\n",
    "    #dropFields1 = [\"OriginID\"]\n",
    "    # Join two feature classes by the OBJECTID and OriginID fields and only carry \n",
    "    # over the SUM_SuperCount field\n",
    "    arcpy.JoinField_management(inFeatures, joinField1, joinTable, joinField2, fieldList)\n",
    "    # Create a new feature in a current workspace = E2FCAStep1Rural.gdb\n",
    "    arcpy.CopyFeatures_management(inFeatures, outFeatures)\n",
    "    # Delete unnecessary fields\n",
    "    #arcpy.DeleteField_management(outFeatures, dropFields1)\n",
    "    \n",
    "    print(\"Script completed successfully\")\n",
    "\n",
    "except Exception as e:\n",
    "    # If an error occurred, print line number and error message\n",
    "    import traceback, sys\n",
    "    tb = sys.exc_info()[2]\n",
    "    print(\"An error occurred on line %i\" % tb.tb_lineno)\n",
    "    print(str(e))"
   ]
  },
  {
   "cell_type": "code",
   "execution_count": 54,
   "metadata": {},
   "outputs": [
    {
     "name": "stdout",
     "output_type": "stream",
     "text": [
      "Script completed successfully\n"
     ]
    }
   ],
   "source": [
    "import arcpy\n",
    "from arcpy import env\n",
    "try:\n",
    "    # Set environment settings\n",
    "    env.workspace = r\"C:/Users/kenta/Documents/ArcGIS/Projects/HealthPlaceNew/OD_Matrix.gdb\"\n",
    "    \n",
    "    # Set local variables\n",
    "    inTable = \"Hos2Cover_PTP\"\n",
    "    fieldName1 = \"SUM_Pop_wSlow\"\n",
    "    fieldName2 = \"SUM_Pop_wQuick\"\n",
    "    expression1 = \"1/!SUM_Pop_wSlow!\"\n",
    "    expression2 = \"1/!SUM_Pop_wQuick!\"    \n",
    "    # Execute CalculateField - getting PropToPop deviding 1 by weighted population\n",
    "    arcpy.CalculateField_management(inTable, fieldName1, expression1, \"PYTHON_9.3\")\n",
    "    arcpy.CalculateField_management(inTable, fieldName2, expression2, \"PYTHON_9.3\")\n",
    "\n",
    "    print(\"Script completed successfully\")\n",
    "    \n",
    "except Exception as e:\n",
    "    # If an error occurred, print line number and error message\n",
    "    import traceback, sys\n",
    "    tb = sys.exc_info()[2]\n",
    "    print(\"An error occurred on line %i\" % tb.tb_lineno)\n",
    "    print(str(e))"
   ]
  },
  {
   "cell_type": "code",
   "execution_count": null,
   "metadata": {
    "collapsed": true
   },
   "outputs": [],
   "source": [
    "# Hos3"
   ]
  },
  {
   "cell_type": "code",
   "execution_count": 50,
   "metadata": {},
   "outputs": [
    {
     "name": "stdout",
     "output_type": "stream",
     "text": [
      "Script completed successfully\n"
     ]
    }
   ],
   "source": [
    "import arcpy\n",
    "from arcpy import env\n",
    "import os\n",
    "try:\n",
    "    # Set environment settings\n",
    "    env.workspace = r\"C:/Users/kenta/Documents/ArcGIS/Projects/HealthPlaceNew/OD_Matrix.gdb\"\n",
    "    \n",
    "    # Set the local parameters\n",
    "    inWorkspace1 = r\"C:/Users/kenta/Documents/ArcGIS/Projects/HealthPlaceNew/OD_Matrix.gdb\"\n",
    "    inWorkspace2 = r\"C:/Users/kenta/Documents/ArcGIS/Projects/HealthPlaceNew/OD_Matrix.gdb\"\n",
    "    inFeatures = os.path.join(inWorkspace1,\"Hos3_NaikaChugoku_PopDen\")\n",
    "    joinField1 = \"OBJECTID\"\n",
    "    joinTable = os.path.join(inWorkspace2,\"Hos3Cover\")\n",
    "    joinField2 = \"OriginID\"\n",
    "    fieldList = [\"SUM_Pop_wSlow\",\"SUM_Pop_wQuick\"] \n",
    "    outFeatures = os.path.join(inWorkspace2,\"Hos3Cover_PTP\")\n",
    "    #dropFields1 = [\"OriginID\"]\n",
    "    # Join two feature classes by the OBJECTID and OriginID fields and only carry \n",
    "    # over the SUM_SuperCount field\n",
    "    arcpy.JoinField_management(inFeatures, joinField1, joinTable, joinField2, fieldList)\n",
    "    # Create a new feature in a current workspace = E2FCAStep1Rural.gdb\n",
    "    arcpy.CopyFeatures_management(inFeatures, outFeatures)\n",
    "    # Delete unnecessary fields\n",
    "    #arcpy.DeleteField_management(outFeatures, dropFields1)\n",
    "    \n",
    "    print(\"Script completed successfully\")\n",
    "\n",
    "except Exception as e:\n",
    "    # If an error occurred, print line number and error message\n",
    "    import traceback, sys\n",
    "    tb = sys.exc_info()[2]\n",
    "    print(\"An error occurred on line %i\" % tb.tb_lineno)\n",
    "    print(str(e))"
   ]
  },
  {
   "cell_type": "code",
   "execution_count": 51,
   "metadata": {},
   "outputs": [
    {
     "name": "stdout",
     "output_type": "stream",
     "text": [
      "Script completed successfully\n"
     ]
    }
   ],
   "source": [
    "import arcpy\n",
    "from arcpy import env\n",
    "try:\n",
    "    # Set environment settings\n",
    "    env.workspace = r\"C:/Users/kenta/Documents/ArcGIS/Projects/HealthPlaceNew/OD_Matrix.gdb\"\n",
    "    \n",
    "    # Set local variables\n",
    "    inTable = \"Hos3Cover_PTP\"\n",
    "    fieldName1 = \"SUM_Pop_wSlow\"\n",
    "    fieldName2 = \"SUM_Pop_wQuick\"\n",
    "    expression1 = \"1/!SUM_Pop_wSlow!\"\n",
    "    expression2 = \"1/!SUM_Pop_wQuick!\"    \n",
    "    # Execute CalculateField - getting PropToPop deviding 1 by weighted population\n",
    "    arcpy.CalculateField_management(inTable, fieldName1, expression1, \"PYTHON_9.3\")\n",
    "    arcpy.CalculateField_management(inTable, fieldName2, expression2, \"PYTHON_9.3\")\n",
    "\n",
    "    print(\"Script completed successfully\")\n",
    "    \n",
    "except Exception as e:\n",
    "    # If an error occurred, print line number and error message\n",
    "    import traceback, sys\n",
    "    tb = sys.exc_info()[2]\n",
    "    print(\"An error occurred on line %i\" % tb.tb_lineno)\n",
    "    print(str(e))"
   ]
  },
  {
   "cell_type": "markdown",
   "metadata": {
    "collapsed": true
   },
   "source": [
    "# Create OD Cost Matrix from Census centroid point to PHC"
   ]
  },
  {
   "cell_type": "code",
   "execution_count": null,
   "metadata": {
    "collapsed": true
   },
   "outputs": [],
   "source": [
    "# PHC"
   ]
  },
  {
   "cell_type": "code",
   "execution_count": 1,
   "metadata": {},
   "outputs": [
    {
     "name": "stdout",
     "output_type": "stream",
     "text": [
      "Script completed successfully\n"
     ]
    }
   ],
   "source": [
    "#Import system modules\n",
    "import arcpy\n",
    "from arcpy import env\n",
    "import os\n",
    "\n",
    "try:\n",
    "       \n",
    "    #Set environment settings\n",
    "    output_dir = \"C:/Users/kenta/Documents/ArcGIS/Projects/HealthPlaceNew\"\n",
    "    #The NA layer's data will be saved to the workspace specified here\n",
    "    env.workspace = os.path.join(output_dir, \"OD_Matrix.gdb\")\n",
    "    env.overwriteOutput = True\n",
    "\n",
    "    #Set inputs and outputs\n",
    "    input_gdb1 = r\"C:\\Users\\kenta\\Documents\\GISData_Import\\Esri道路2014中国\\道路網_鳥取県_島根県_岡山県_広島県_山口県版\\ADF2014.gdb\"\n",
    "    input_gdb2 = r\"C:/Users/kenta/Documents/ArcGIS/Projects/HealthPlaceNew/HealthPlaceNew.gdb\"\n",
    "    input_gdb3 = r\"C:/Users/kenta/Documents/ArcGIS/Projects/HealthPlaceNew/OD_Matrix.gdb\"\n",
    "    network = os.path.join(input_gdb1, \"ADF\", \"ADF_ND\")\n",
    "    origins = os.path.join(input_gdb3, \"Census2015Res_CentroidChugoku\")\n",
    "    destinations = os.path.join(input_gdb3, \"PHCCover_PTP\")\n",
    "    output_features = \"CentroidCoverPHC\"\n",
    "\n",
    "    #Define some OD cost matrix analysis settings\n",
    "    layer_name = \"CentroidCoverPHC\"\n",
    "    #User settings for driving\n",
    "    travel_mode = \"Driving Time\"\n",
    "    cut_off = \"60\"\n",
    "     # number_destinations\n",
    "     # time_of_day\n",
    "     # time_zone\n",
    "    line_shape = \"NO_LINES\"\n",
    "     # accumulate_attribute\n",
    "        \n",
    "    #Create a new OD cost matrix layer.\n",
    "    result_object = arcpy.na.MakeODCostMatrixAnalysisLayer(network, layer_name, travel_mode, cut_off,\"\",\"\",\"\",line_shape)\n",
    "\n",
    "    #Get the layer object from the result object. \n",
    "    layer_object = result_object.getOutput(0)\n",
    "\n",
    "    #Get the names of all the sublayers within the OD layer.\n",
    "    sublayer_names = arcpy.na.GetNAClassNames(layer_object)\n",
    "    #Store the layer names for later use\n",
    "    origins_layer_name = sublayer_names[\"Origins\"]\n",
    "    destinations_layer_name = sublayer_names[\"Destinations\"]\n",
    "\n",
    "    #Add the address fields to the \"origin\" sublayers\n",
    "    arcpy.na.AddFieldToAnalysisLayer(layer_object, origins_layer_name, \"CensusID\",\"TEXT\")\n",
    "    arcpy.na.AddFieldToAnalysisLayer(layer_object, origins_layer_name,\"PopDen\", \"DOUBLE\")\n",
    "    \n",
    "    field_mappings = arcpy.na.NAClassFieldMappings(layer_object, origins_layer_name)\n",
    "    field_mappings[\"CensusID\"].mappedFieldName = \"OBJECTID\"\n",
    "    field_mappings[\"PopDen\"].mappedFieldName = \"PopDen\"\n",
    "\n",
    "    #Load the census tracts as origins.\n",
    "    arcpy.na.AddLocations(layer_object, origins_layer_name, origins, field_mappings)\n",
    "\n",
    "    #Map the input number of population for each census centroid point\n",
    "    #Destinations\n",
    "    arcpy.na.AddFieldToAnalysisLayer(layer_object, destinations_layer_name,\"PropToPopSlow\", \"DOUBLE\")\n",
    "    arcpy.na.AddFieldToAnalysisLayer(layer_object, destinations_layer_name,\"PropToPopQuick\", \"DOUBLE\")\n",
    "    \n",
    "    field_mappings = arcpy.na.NAClassFieldMappings(layer_object,destinations_layer_name)\n",
    "    field_mappings[\"PropToPopSlow\"].mappedFieldName = \"SUM_Pop_wSlow\"\n",
    "    field_mappings[\"PropToPopQuick\"].mappedFieldName = \"SUM_Pop_wQuick\"\n",
    "\n",
    "    #Load the hospitals as desinations.\n",
    "    arcpy.na.AddLocations(layer_object, destinations_layer_name, destinations,field_mappings)\n",
    "\n",
    "    #Solve the OD layer\n",
    "    arcpy.na.Solve(layer_object)\n",
    "\n",
    "    #Get sublayers\n",
    "    #listLayers returns a list of sublayer layer objects contained in the NA\n",
    "    #group layer, filtered by layer name used as a wildcard. Use the sublayer\n",
    "    #name from GetNAClassNames as the wildcard string in case the sublayers\n",
    "    #have non-default names.\n",
    "    origins_sublayer = layer_object.listLayers(origins_layer_name)[0]\n",
    "    destinations_sublayer = layer_object.listLayers(destinations_layer_name)[0]\n",
    "    lines_sublayer = layer_object.listLayers(sublayer_names[\"ODLines\"])[0]\n",
    "\n",
    "    #Use the JoinField tool to transfer OD Cost Matrix information to the\n",
    "    #output feature class\n",
    "    #Transfer the tract ID from the input Origins to the output Lines\n",
    "    arcpy.management.JoinField(lines_sublayer, \"OriginID\",origins_sublayer, \"ObjectID\", \"CensusID\")\n",
    "    arcpy.management.JoinField(lines_sublayer, \"OriginID\",origins_sublayer, \"ObjectID\", \"PopDen\")\n",
    "    #Transfer the hospital name from the input Destinations to the output Lines\n",
    "    arcpy.management.JoinField(lines_sublayer, \"DestinationID\",destinations_sublayer, \"ObjectID\", \"PropToPopSlow\")\n",
    "    arcpy.management.JoinField(lines_sublayer, \"DestinationID\",destinations_sublayer, \"ObjectID\", \"PropToPopQuick\")\n",
    "    #Transfer fields of interest (hospital name, impedance attribute, and other\n",
    "    #accumulated costs) from the output Lines to a copy of the input census\n",
    "    #tracts feature class using the Tract_ID field\n",
    "    # Determine the impedance attribute\n",
    " \n",
    "    print(\"Script completed successfully\")\n",
    "\n",
    "except Exception as e:\n",
    "    # If an error occurred, print line number and error message\n",
    "    import traceback, sys\n",
    "    tb = sys.exc_info()[2]\n",
    "    print(\"An error occurred on line %i\" % tb.tb_lineno)\n",
    "    print(str(e))"
   ]
  },
  {
   "cell_type": "code",
   "execution_count": null,
   "metadata": {
    "collapsed": true
   },
   "outputs": [],
   "source": [
    "# Hos2"
   ]
  },
  {
   "cell_type": "code",
   "execution_count": 4,
   "metadata": {},
   "outputs": [
    {
     "name": "stdout",
     "output_type": "stream",
     "text": [
      "Script completed successfully\n"
     ]
    }
   ],
   "source": [
    "#Import system modules\n",
    "import arcpy\n",
    "from arcpy import env\n",
    "import os\n",
    "\n",
    "try:\n",
    "       \n",
    "    #Set environment settings\n",
    "    output_dir = \"C:/Users/kenta/Documents/ArcGIS/Projects/HealthPlaceNew\"\n",
    "    #The NA layer's data will be saved to the workspace specified here\n",
    "    env.workspace = os.path.join(output_dir, \"OD_Matrix.gdb\")\n",
    "    env.overwriteOutput = True\n",
    "\n",
    "    #Set inputs and outputs\n",
    "    input_gdb1 = r\"C:\\Users\\kenta\\Documents\\GISData_Import\\Esri道路2014中国\\道路網_鳥取県_島根県_岡山県_広島県_山口県版\\ADF2014.gdb\"\n",
    "    input_gdb2 = r\"C:/Users/kenta/Documents/ArcGIS/Projects/HealthPlaceNew/HealthPlaceNew.gdb\"\n",
    "    input_gdb3 = r\"C:/Users/kenta/Documents/ArcGIS/Projects/HealthPlaceNew/OD_Matrix.gdb\"\n",
    "    network = os.path.join(input_gdb1, \"ADF\", \"ADF_ND\")\n",
    "    origins = os.path.join(input_gdb3, \"Census2015Res_CentroidChugoku\")\n",
    "    destinations = os.path.join(input_gdb3, \"Hos2Cover_PTP\")\n",
    "    output_features = \"CentroidCoverHos2\"\n",
    "\n",
    "    #Define some OD cost matrix analysis settings\n",
    "    layer_name = \"CentroidCoverHos2\"\n",
    "    #User settings for driving\n",
    "    travel_mode = \"Driving Time\"\n",
    "    cut_off = \"60\"\n",
    "     # number_destinations\n",
    "     # time_of_day\n",
    "     # time_zone\n",
    "    line_shape = \"NO_LINES\"\n",
    "     # accumulate_attribute\n",
    "        \n",
    "    #Create a new OD cost matrix layer.\n",
    "    result_object = arcpy.na.MakeODCostMatrixAnalysisLayer(network, layer_name, travel_mode, cut_off,\"\",\"\",\"\",line_shape)\n",
    "\n",
    "    #Get the layer object from the result object. \n",
    "    layer_object = result_object.getOutput(0)\n",
    "\n",
    "    #Get the names of all the sublayers within the OD layer.\n",
    "    sublayer_names = arcpy.na.GetNAClassNames(layer_object)\n",
    "    #Store the layer names for later use\n",
    "    origins_layer_name = sublayer_names[\"Origins\"]\n",
    "    destinations_layer_name = sublayer_names[\"Destinations\"]\n",
    "\n",
    "    #Add the address fields to the \"origin\" sublayers\n",
    "    arcpy.na.AddFieldToAnalysisLayer(layer_object, origins_layer_name, \"CensusID\",\"TEXT\")\n",
    "    arcpy.na.AddFieldToAnalysisLayer(layer_object, origins_layer_name,\"PopDen\", \"DOUBLE\")\n",
    "    \n",
    "    field_mappings = arcpy.na.NAClassFieldMappings(layer_object, origins_layer_name)\n",
    "    field_mappings[\"CensusID\"].mappedFieldName = \"OBJECTID\"\n",
    "    field_mappings[\"PopDen\"].mappedFieldName = \"PopDen\"\n",
    "\n",
    "    #Load the census tracts as origins.\n",
    "    arcpy.na.AddLocations(layer_object, origins_layer_name, origins, field_mappings)\n",
    "\n",
    "    #Map the input number of population for each census centroid point\n",
    "    #Destinations\n",
    "    arcpy.na.AddFieldToAnalysisLayer(layer_object, destinations_layer_name,\"PropToPopSlow\", \"DOUBLE\")\n",
    "    arcpy.na.AddFieldToAnalysisLayer(layer_object, destinations_layer_name,\"PropToPopQuick\", \"DOUBLE\")\n",
    "    \n",
    "    field_mappings = arcpy.na.NAClassFieldMappings(layer_object,destinations_layer_name)\n",
    "    field_mappings[\"PropToPopSlow\"].mappedFieldName = \"SUM_Pop_wSlow\"\n",
    "    field_mappings[\"PropToPopQuick\"].mappedFieldName = \"SUM_Pop_wQuick\"\n",
    "\n",
    "    #Load the hospitals as desinations.\n",
    "    arcpy.na.AddLocations(layer_object, destinations_layer_name, destinations,field_mappings)\n",
    "\n",
    "    #Solve the OD layer\n",
    "    arcpy.na.Solve(layer_object)\n",
    "\n",
    "    #Get sublayers\n",
    "    #listLayers returns a list of sublayer layer objects contained in the NA\n",
    "    #group layer, filtered by layer name used as a wildcard. Use the sublayer\n",
    "    #name from GetNAClassNames as the wildcard string in case the sublayers\n",
    "    #have non-default names.\n",
    "    origins_sublayer = layer_object.listLayers(origins_layer_name)[0]\n",
    "    destinations_sublayer = layer_object.listLayers(destinations_layer_name)[0]\n",
    "    lines_sublayer = layer_object.listLayers(sublayer_names[\"ODLines\"])[0]\n",
    "\n",
    "    #Use the JoinField tool to transfer OD Cost Matrix information to the\n",
    "    #output feature class\n",
    "    #Transfer the tract ID from the input Origins to the output Lines\n",
    "    arcpy.management.JoinField(lines_sublayer, \"OriginID\",origins_sublayer, \"ObjectID\", \"CensusID\")\n",
    "    arcpy.management.JoinField(lines_sublayer, \"OriginID\",origins_sublayer, \"ObjectID\", \"PopDen\")\n",
    "    #Transfer the hospital name from the input Destinations to the output Lines\n",
    "    arcpy.management.JoinField(lines_sublayer, \"DestinationID\",destinations_sublayer, \"ObjectID\", \"PropToPopSlow\")\n",
    "    arcpy.management.JoinField(lines_sublayer, \"DestinationID\",destinations_sublayer, \"ObjectID\", \"PropToPopQuick\")\n",
    "    #Transfer fields of interest (hospital name, impedance attribute, and other\n",
    "    #accumulated costs) from the output Lines to a copy of the input census\n",
    "    #tracts feature class using the Tract_ID field\n",
    "    # Determine the impedance attribute\n",
    " \n",
    "    print(\"Script completed successfully\")\n",
    "\n",
    "except Exception as e:\n",
    "    # If an error occurred, print line number and error message\n",
    "    import traceback, sys\n",
    "    tb = sys.exc_info()[2]\n",
    "    print(\"An error occurred on line %i\" % tb.tb_lineno)\n",
    "    print(str(e))"
   ]
  },
  {
   "cell_type": "code",
   "execution_count": null,
   "metadata": {
    "collapsed": true
   },
   "outputs": [],
   "source": [
    "# Hos3"
   ]
  },
  {
   "cell_type": "code",
   "execution_count": 3,
   "metadata": {},
   "outputs": [
    {
     "name": "stdout",
     "output_type": "stream",
     "text": [
      "Script completed successfully\n"
     ]
    }
   ],
   "source": [
    "#Import system modules\n",
    "import arcpy\n",
    "from arcpy import env\n",
    "import os\n",
    "\n",
    "try:\n",
    "       \n",
    "    #Set environment settings\n",
    "    output_dir = \"C:/Users/kenta/Documents/ArcGIS/Projects/HealthPlaceNew\"\n",
    "    #The NA layer's data will be saved to the workspace specified here\n",
    "    env.workspace = os.path.join(output_dir, \"OD_Matrix.gdb\")\n",
    "    env.overwriteOutput = True\n",
    "\n",
    "    #Set inputs and outputs\n",
    "    input_gdb1 = r\"C:\\Users\\kenta\\Documents\\GISData_Import\\Esri道路2014中国\\道路網_鳥取県_島根県_岡山県_広島県_山口県版\\ADF2014.gdb\"\n",
    "    input_gdb2 = r\"C:/Users/kenta/Documents/ArcGIS/Projects/HealthPlaceNew/HealthPlaceNew.gdb\"\n",
    "    input_gdb3 = r\"C:/Users/kenta/Documents/ArcGIS/Projects/HealthPlaceNew/OD_Matrix.gdb\"\n",
    "    network = os.path.join(input_gdb1, \"ADF\", \"ADF_ND\")\n",
    "    origins = os.path.join(input_gdb3, \"Census2015Res_CentroidChugoku\")\n",
    "    destinations = os.path.join(input_gdb3, \"Hos3Cover_PTP\")\n",
    "    output_features = \"CentroidCoverHos3\"\n",
    "\n",
    "    #Define some OD cost matrix analysis settings\n",
    "    layer_name = \"CentroidCoverHos3\"\n",
    "    #User settings for driving\n",
    "    travel_mode = \"Driving Time\"\n",
    "    cut_off = \"60\"\n",
    "     # number_destinations\n",
    "     # time_of_day\n",
    "     # time_zone\n",
    "    line_shape = \"NO_LINES\"\n",
    "     # accumulate_attribute\n",
    "        \n",
    "    #Create a new OD cost matrix layer.\n",
    "    result_object = arcpy.na.MakeODCostMatrixAnalysisLayer(network, layer_name, travel_mode, cut_off,\"\",\"\",\"\",line_shape)\n",
    "\n",
    "    #Get the layer object from the result object. \n",
    "    layer_object = result_object.getOutput(0)\n",
    "\n",
    "    #Get the names of all the sublayers within the OD layer.\n",
    "    sublayer_names = arcpy.na.GetNAClassNames(layer_object)\n",
    "    #Store the layer names for later use\n",
    "    origins_layer_name = sublayer_names[\"Origins\"]\n",
    "    destinations_layer_name = sublayer_names[\"Destinations\"]\n",
    "\n",
    "    #Add the address fields to the \"origin\" sublayers\n",
    "    arcpy.na.AddFieldToAnalysisLayer(layer_object, origins_layer_name, \"CensusID\",\"TEXT\")\n",
    "    arcpy.na.AddFieldToAnalysisLayer(layer_object, origins_layer_name,\"PopDen\", \"DOUBLE\")\n",
    "    \n",
    "    field_mappings = arcpy.na.NAClassFieldMappings(layer_object, origins_layer_name)\n",
    "    field_mappings[\"CensusID\"].mappedFieldName = \"OBJECTID\"\n",
    "    field_mappings[\"PopDen\"].mappedFieldName = \"PopDen\"\n",
    "\n",
    "    #Load the census tracts as origins.\n",
    "    arcpy.na.AddLocations(layer_object, origins_layer_name, origins, field_mappings)\n",
    "\n",
    "    #Map the input number of population for each census centroid point\n",
    "    #Destinations\n",
    "    arcpy.na.AddFieldToAnalysisLayer(layer_object, destinations_layer_name,\"PropToPopSlow\", \"DOUBLE\")\n",
    "    arcpy.na.AddFieldToAnalysisLayer(layer_object, destinations_layer_name,\"PropToPopQuick\", \"DOUBLE\")\n",
    "    \n",
    "    field_mappings = arcpy.na.NAClassFieldMappings(layer_object,destinations_layer_name)\n",
    "    field_mappings[\"PropToPopSlow\"].mappedFieldName = \"SUM_Pop_wSlow\"\n",
    "    field_mappings[\"PropToPopQuick\"].mappedFieldName = \"SUM_Pop_wQuick\"\n",
    "\n",
    "    #Load the hospitals as desinations.\n",
    "    arcpy.na.AddLocations(layer_object, destinations_layer_name, destinations,field_mappings)\n",
    "\n",
    "    #Solve the OD layer\n",
    "    arcpy.na.Solve(layer_object)\n",
    "\n",
    "    #Get sublayers\n",
    "    #listLayers returns a list of sublayer layer objects contained in the NA\n",
    "    #group layer, filtered by layer name used as a wildcard. Use the sublayer\n",
    "    #name from GetNAClassNames as the wildcard string in case the sublayers\n",
    "    #have non-default names.\n",
    "    origins_sublayer = layer_object.listLayers(origins_layer_name)[0]\n",
    "    destinations_sublayer = layer_object.listLayers(destinations_layer_name)[0]\n",
    "    lines_sublayer = layer_object.listLayers(sublayer_names[\"ODLines\"])[0]\n",
    "\n",
    "    #Use the JoinField tool to transfer OD Cost Matrix information to the\n",
    "    #output feature class\n",
    "    #Transfer the tract ID from the input Origins to the output Lines\n",
    "    arcpy.management.JoinField(lines_sublayer, \"OriginID\",origins_sublayer, \"ObjectID\", \"CensusID\")\n",
    "    arcpy.management.JoinField(lines_sublayer, \"OriginID\",origins_sublayer, \"ObjectID\", \"PopDen\")\n",
    "    #Transfer the hospital name from the input Destinations to the output Lines\n",
    "    arcpy.management.JoinField(lines_sublayer, \"DestinationID\",destinations_sublayer, \"ObjectID\", \"PropToPopSlow\")\n",
    "    arcpy.management.JoinField(lines_sublayer, \"DestinationID\",destinations_sublayer, \"ObjectID\", \"PropToPopQuick\")\n",
    "    #Transfer fields of interest (hospital name, impedance attribute, and other\n",
    "    #accumulated costs) from the output Lines to a copy of the input census\n",
    "    #tracts feature class using the Tract_ID field\n",
    "    # Determine the impedance attribute\n",
    " \n",
    "    print(\"Script completed successfully\")\n",
    "\n",
    "except Exception as e:\n",
    "    # If an error occurred, print line number and error message\n",
    "    import traceback, sys\n",
    "    tb = sys.exc_info()[2]\n",
    "    print(\"An error occurred on line %i\" % tb.tb_lineno)\n",
    "    print(str(e))"
   ]
  },
  {
   "cell_type": "markdown",
   "metadata": {
    "collapsed": true
   },
   "source": [
    "# Weight the score by continuous distance decay"
   ]
  },
  {
   "cell_type": "code",
   "execution_count": null,
   "metadata": {
    "collapsed": true
   },
   "outputs": [],
   "source": [
    "# PHC"
   ]
  },
  {
   "cell_type": "code",
   "execution_count": 1,
   "metadata": {},
   "outputs": [
    {
     "name": "stdout",
     "output_type": "stream",
     "text": [
      "Script completed successfully\n"
     ]
    }
   ],
   "source": [
    "import arcpy\n",
    "from arcpy import env\n",
    "try:\n",
    "    # Set environment settings\n",
    "    env.workspace =  r\"C:/Users/kenta/Documents/ArcGIS/Projects/HealthPlaceNew/OD_Matrix.gdb\"\n",
    "    \n",
    "    # Set local variables\n",
    "    inTable = \"ODLines3\"\n",
    "    fieldName1 = \"E2FCA_OD_PHCSlow\"\n",
    "    fieldName2 = \"E2FCA_OD_PHCQuick\"\n",
    "    expression = \"w(!Total_所要時間（自動車）!,!PopDen!,!PropToPopSlow!)\"\n",
    "    expression = \"w(!Total_所要時間（自動車）!,!PopDen!,!PropToPopQuick!)\"\n",
    "    codeblock1 = \"\"\"def w(f1,f2,f3):\n",
    "        if f1 < 10:\n",
    "            return f3\n",
    "        elif (f2 >= 1500) and (f1 >= 10 and f1 < 30):\n",
    "            return f3 * ((30-f1)/(30-10))**1.5\n",
    "        elif (f2 >= 1500) and (f1 >= 30):\n",
    "            return 0\n",
    "        elif (f2 >= 1000 and f2 < 1500) and (f1 >= 10 and f1 < 45):\n",
    "            return f3 * ((45-f1)/(45-10))**1.5\n",
    "        elif (f2 >= 1000 and f2 < 1500) and (f1 >= 45):\n",
    "            return 0\n",
    "        elif (f2 < 1000) and (f1 >= 10 and f1 < 60):\n",
    "            return f3 * ((60-f1)/(60-10))**1.5\n",
    "        elif (f2 < 1000) and (f1 >= 60):\n",
    "            return 0\"\"\"\n",
    "    codeblock2 = \"\"\"def w(f1,f2,f3):\n",
    "        if f1 < 10:\n",
    "            return f3\n",
    "        elif (f2 >= 1500) and (f1 >= 10 and f1 < 30):\n",
    "            return f3 * ((30-f1)/(30-10))**2\n",
    "        elif (f2 >= 1500) and (f1 >= 30):\n",
    "            return 0\n",
    "        elif (f2 >= 1000 and f2 < 1500) and (f1 >= 10 and f1 < 45):\n",
    "            return f3 * ((45-f1)/(45-10))**2\n",
    "        elif (f2 >= 1000 and f2 < 1500) and (f1 >= 45):\n",
    "            return 0\n",
    "        elif (f2 < 1000) and (f1 >= 10 and f1 < 60):\n",
    "            return f3 * ((60-f1)/(60-10))**2\n",
    "        elif (f2 < 1000) and (f1 >= 60):\n",
    "            return 0\"\"\"\n",
    "\n",
    "    # Execute AddField\n",
    "    arcpy.AddField_management(inTable, fieldName1, \"DOUBLE\")\n",
    "    arcpy.AddField_management(inTable, fieldName2, \"DOUBLE\")\n",
    "    # Execute CalculateField - weighting\n",
    "    arcpy.CalculateField_management(inTable, fieldName1, expression, \"PYTHON_9.3\", codeblock1)\n",
    "    arcpy.CalculateField_management(inTable, fieldName2, expression, \"PYTHON_9.3\", codeblock2)\n",
    "\n",
    "    print(\"Script completed successfully\")\n",
    "    \n",
    "except Exception as e:\n",
    "    # If an error occurred, print line number and error message\n",
    "    import traceback, sys\n",
    "    tb = sys.exc_info()[2]\n",
    "    print(\"An error occurred on line %i\" % tb.tb_lineno)\n",
    "    print(str(e))"
   ]
  },
  {
   "cell_type": "code",
   "execution_count": null,
   "metadata": {
    "collapsed": true
   },
   "outputs": [],
   "source": [
    "# Hos2"
   ]
  },
  {
   "cell_type": "code",
   "execution_count": 2,
   "metadata": {},
   "outputs": [
    {
     "name": "stdout",
     "output_type": "stream",
     "text": [
      "Script completed successfully\n"
     ]
    }
   ],
   "source": [
    "import arcpy\n",
    "from arcpy import env\n",
    "try:\n",
    "    # Set environment settings\n",
    "    env.workspace =  r\"C:/Users/kenta/Documents/ArcGIS/Projects/HealthPlaceNew/OD_Matrix.gdb\"\n",
    "    \n",
    "    # Set local variables\n",
    "    inTable = \"ODLines2\"\n",
    "    fieldName1 = \"E2FCA_OD_Hos2Slow\"\n",
    "    fieldName2 = \"E2FCA_OD_Hos2Quick\"\n",
    "    expression1 = \"w(!Total_所要時間（自動車）!,!PopDen!,!PropToPopSlow!)\"\n",
    "    expression2 = \"w(!Total_所要時間（自動車）!,!PopDen!,!PropToPopQuick!)\"\n",
    "    codeblock1 = \"\"\"def w(f1,f2,f3):\n",
    "        if f1 < 10:\n",
    "            return f3\n",
    "        elif (f2 >= 1500) and (f1 >= 10 and f1 < 30):\n",
    "            return f3 * ((30-f1)/(30-10))**1.5\n",
    "        elif (f2 >= 1500) and (f1 >= 30):\n",
    "            return 0\n",
    "        elif (f2 >= 1000 and f2 < 1500) and (f1 >= 10 and f1 < 45):\n",
    "            return f3 * ((45-f1)/(45-10))**1.5\n",
    "        elif (f2 >= 1000 and f2 < 1500) and (f1 >= 45):\n",
    "            return 0\n",
    "        elif (f2 < 1000) and (f1 >= 10 and f1 < 60):\n",
    "            return f3 * ((60-f1)/(60-10))**1.5\n",
    "        elif (f2 < 1000) and (f1 >= 60):\n",
    "            return 0\"\"\"\n",
    "    codeblock2 = \"\"\"def w(f1,f2,f3):\n",
    "        if f1 < 10:\n",
    "            return f3\n",
    "        elif (f2 >= 1500) and (f1 >= 10 and f1 < 30):\n",
    "            return f3 * ((30-f1)/(30-10))**2\n",
    "        elif (f2 >= 1500) and (f1 >= 30):\n",
    "            return 0\n",
    "        elif (f2 >= 1000 and f2 < 1500) and (f1 >= 10 and f1 < 45):\n",
    "            return f3 * ((45-f1)/(45-10))**2\n",
    "        elif (f2 >= 1000 and f2 < 1500) and (f1 >= 45):\n",
    "            return 0\n",
    "        elif (f2 < 1000) and (f1 >= 10 and f1 < 60):\n",
    "            return f3 * ((60-f1)/(60-10))**2\n",
    "        elif (f2 < 1000) and (f1 >= 60):\n",
    "            return 0\"\"\"\n",
    "\n",
    "    # Execute AddField\n",
    "    arcpy.AddField_management(inTable, fieldName1, \"DOUBLE\")\n",
    "    arcpy.AddField_management(inTable, fieldName2, \"DOUBLE\")\n",
    "    # Execute CalculateField - weighting\n",
    "    arcpy.CalculateField_management(inTable, fieldName1, expression1, \"PYTHON_9.3\", codeblock1)\n",
    "    arcpy.CalculateField_management(inTable, fieldName2, expression2, \"PYTHON_9.3\", codeblock2)\n",
    "\n",
    "    print(\"Script completed successfully\")\n",
    "    \n",
    "except Exception as e:\n",
    "    # If an error occurred, print line number and error message\n",
    "    import traceback, sys\n",
    "    tb = sys.exc_info()[2]\n",
    "    print(\"An error occurred on line %i\" % tb.tb_lineno)\n",
    "    print(str(e))"
   ]
  },
  {
   "cell_type": "code",
   "execution_count": null,
   "metadata": {
    "collapsed": true
   },
   "outputs": [],
   "source": [
    "# Hos3"
   ]
  },
  {
   "cell_type": "code",
   "execution_count": 3,
   "metadata": {},
   "outputs": [
    {
     "name": "stdout",
     "output_type": "stream",
     "text": [
      "Script completed successfully\n"
     ]
    }
   ],
   "source": [
    "import arcpy\n",
    "from arcpy import env\n",
    "try:\n",
    "    # Set environment settings\n",
    "    env.workspace =  r\"C:/Users/kenta/Documents/ArcGIS/Projects/HealthPlaceNew/OD_Matrix.gdb\"\n",
    "    \n",
    "    # Set local variables\n",
    "    inTable = \"ODLines1\"\n",
    "    fieldName1 = \"E2FCA_OD_Hos3Slow\"\n",
    "    fieldName2 = \"E2FCA_OD_Hos3Quick\"\n",
    "    expression1 = \"w(!Total_所要時間（自動車）!,!PopDen!,!PropToPopSlow!)\"\n",
    "    expression2 = \"w(!Total_所要時間（自動車）!,!PopDen!,!PropToPopQuick!)\"\n",
    "    codeblock1 = \"\"\"def w(f1,f2,f3):\n",
    "        if f1 < 10:\n",
    "            return f3\n",
    "        elif (f2 >= 1500) and (f1 >= 10 and f1 < 30):\n",
    "            return f3 * ((30-f1)/(30-10))**1.5\n",
    "        elif (f2 >= 1500) and (f1 >= 30):\n",
    "            return 0\n",
    "        elif (f2 >= 1000 and f2 < 1500) and (f1 >= 10 and f1 < 45):\n",
    "            return f3 * ((45-f1)/(45-10))**1.5\n",
    "        elif (f2 >= 1000 and f2 < 1500) and (f1 >= 45):\n",
    "            return 0\n",
    "        elif (f2 < 1000) and (f1 >= 10 and f1 < 60):\n",
    "            return f3 * ((60-f1)/(60-10))**1.5\n",
    "        elif (f2 < 1000) and (f1 >= 60):\n",
    "            return 0\"\"\"\n",
    "    codeblock2 = \"\"\"def w(f1,f2,f3):\n",
    "        if f1 < 10:\n",
    "            return f3\n",
    "        elif (f2 >= 1500) and (f1 >= 10 and f1 < 30):\n",
    "            return f3 * ((30-f1)/(30-10))**2\n",
    "        elif (f2 >= 1500) and (f1 >= 30):\n",
    "            return 0\n",
    "        elif (f2 >= 1000 and f2 < 1500) and (f1 >= 10 and f1 < 45):\n",
    "            return f3 * ((45-f1)/(45-10))**2\n",
    "        elif (f2 >= 1000 and f2 < 1500) and (f1 >= 45):\n",
    "            return 0\n",
    "        elif (f2 < 1000) and (f1 >= 10 and f1 < 60):\n",
    "            return f3 * ((60-f1)/(60-10))**2\n",
    "        elif (f2 < 1000) and (f1 >= 60):\n",
    "            return 0\"\"\"\n",
    "\n",
    "    # Execute AddField\n",
    "    arcpy.AddField_management(inTable, fieldName1, \"DOUBLE\")\n",
    "    arcpy.AddField_management(inTable, fieldName2, \"DOUBLE\")\n",
    "    # Execute CalculateField - weighting\n",
    "    arcpy.CalculateField_management(inTable, fieldName1, expression1, \"PYTHON_9.3\", codeblock1)\n",
    "    arcpy.CalculateField_management(inTable, fieldName2, expression2, \"PYTHON_9.3\", codeblock2)\n",
    "\n",
    "    print(\"Script completed successfully\")\n",
    "    \n",
    "except Exception as e:\n",
    "    # If an error occurred, print line number and error message\n",
    "    import traceback, sys\n",
    "    tb = sys.exc_info()[2]\n",
    "    print(\"An error occurred on line %i\" % tb.tb_lineno)\n",
    "    print(str(e))"
   ]
  },
  {
   "cell_type": "markdown",
   "metadata": {},
   "source": [
    "### Summary statistics by Origin ID to sum up the weighted PTP"
   ]
  },
  {
   "cell_type": "code",
   "execution_count": null,
   "metadata": {
    "collapsed": true
   },
   "outputs": [],
   "source": [
    "# PHC"
   ]
  },
  {
   "cell_type": "code",
   "execution_count": 4,
   "metadata": {},
   "outputs": [
    {
     "name": "stdout",
     "output_type": "stream",
     "text": [
      "Script completed successfully\n"
     ]
    }
   ],
   "source": [
    "# Import system modules\n",
    "import arcpy\n",
    "from arcpy import env\n",
    " \n",
    "import os\n",
    "try:\n",
    "    # Set environment settings\n",
    "    env.workspace = r\"C:/Users/kenta/Documents/ArcGIS/Projects/HealthPlaceNew/OD_Matrix.gdb\"\n",
    "    # Set local variables\n",
    "    inFeatures = \"ODLines3\"\n",
    "    outStatsTable = \"CentroidCoverPHC\"\n",
    "    statsFields = [[\"E2FCA_OD_PHCSlow\",\"sum\"],[\"E2FCA_OD_PHCQuick\",\"sum\"]]\n",
    "    case_field = \"OriginID\"\n",
    "    # Execute Statistics to get the area of each vegetation type within the clipped buffer.\n",
    "    arcpy.Statistics_analysis(inFeatures, outStatsTable, statsFields, case_field)\n",
    "\n",
    "    print(\"Script completed successfully\")\n",
    "    \n",
    "except Exception as e:\n",
    "    # If an error occurred, print line number and error message\n",
    "    import traceback, sys\n",
    "    tb = sys.exc_info()[2]\n",
    "    print(\"An error occurred on line %i\" % tb.tb_lineno)\n",
    "    print(str(e))"
   ]
  },
  {
   "cell_type": "code",
   "execution_count": null,
   "metadata": {
    "collapsed": true
   },
   "outputs": [],
   "source": [
    "# Hos2"
   ]
  },
  {
   "cell_type": "code",
   "execution_count": 5,
   "metadata": {},
   "outputs": [
    {
     "name": "stdout",
     "output_type": "stream",
     "text": [
      "Script completed successfully\n"
     ]
    }
   ],
   "source": [
    "# Import system modules\n",
    "import arcpy\n",
    "from arcpy import env\n",
    " \n",
    "import os\n",
    "try:\n",
    "    # Set environment settings\n",
    "    env.workspace = r\"C:/Users/kenta/Documents/ArcGIS/Projects/HealthPlaceNew/OD_Matrix.gdb\"\n",
    "    # Set local variables\n",
    "    inFeatures = \"ODLines2\"\n",
    "    outStatsTable = \"CentroidCoverHos2\"\n",
    "    statsFields = [[\"E2FCA_OD_Hos2Slow\",\"sum\"],[\"E2FCA_OD_Hos2Quick\",\"sum\"]]\n",
    "    case_field = \"OriginID\"\n",
    "    # Execute Statistics to get the area of each vegetation type within the clipped buffer.\n",
    "    arcpy.Statistics_analysis(inFeatures, outStatsTable, statsFields, case_field)\n",
    "\n",
    "    print(\"Script completed successfully\")\n",
    "    \n",
    "except Exception as e:\n",
    "    # If an error occurred, print line number and error message\n",
    "    import traceback, sys\n",
    "    tb = sys.exc_info()[2]\n",
    "    print(\"An error occurred on line %i\" % tb.tb_lineno)\n",
    "    print(str(e))"
   ]
  },
  {
   "cell_type": "code",
   "execution_count": null,
   "metadata": {
    "collapsed": true
   },
   "outputs": [],
   "source": [
    "# Hos3"
   ]
  },
  {
   "cell_type": "code",
   "execution_count": 6,
   "metadata": {},
   "outputs": [
    {
     "name": "stdout",
     "output_type": "stream",
     "text": [
      "Script completed successfully\n"
     ]
    }
   ],
   "source": [
    "# Import system modules\n",
    "import arcpy\n",
    "from arcpy import env\n",
    " \n",
    "import os\n",
    "try:\n",
    "    # Set environment settings\n",
    "    env.workspace = r\"C:/Users/kenta/Documents/ArcGIS/Projects/HealthPlaceNew/OD_Matrix.gdb\"\n",
    "    # Set local variables\n",
    "    inFeatures = \"ODLines1\"\n",
    "    outStatsTable = \"CentroidCoverHos3\"\n",
    "    statsFields = [[\"E2FCA_OD_Hos3Slow\",\"sum\"],[\"E2FCA_OD_Hos3Quick\",\"sum\"]]\n",
    "    case_field = \"OriginID\"\n",
    "    # Execute Statistics to get the area of each vegetation type within the clipped buffer.\n",
    "    arcpy.Statistics_analysis(inFeatures, outStatsTable, statsFields, case_field)\n",
    "\n",
    "    print(\"Script completed successfully\")\n",
    "    \n",
    "except Exception as e:\n",
    "    # If an error occurred, print line number and error message\n",
    "    import traceback, sys\n",
    "    tb = sys.exc_info()[2]\n",
    "    print(\"An error occurred on line %i\" % tb.tb_lineno)\n",
    "    print(str(e))"
   ]
  },
  {
   "cell_type": "markdown",
   "metadata": {},
   "source": [
    "# Finally, Join all score fields to Census final polygon layer"
   ]
  },
  {
   "cell_type": "code",
   "execution_count": null,
   "metadata": {
    "collapsed": true
   },
   "outputs": [],
   "source": [
    "# PHC"
   ]
  },
  {
   "cell_type": "code",
   "execution_count": 11,
   "metadata": {},
   "outputs": [
    {
     "name": "stdout",
     "output_type": "stream",
     "text": [
      "Script completed successfully\n"
     ]
    }
   ],
   "source": [
    "import arcpy\n",
    "from arcpy import env\n",
    "import os\n",
    "try:\n",
    "    # Set environment settings\n",
    "    # env.workspace = r\"C:\\Users\\kenta\\Documents\\ArcGIS\\Projects\\HealthPlaceNew\\E2FCAStep2Rural.gdb\"\n",
    "    \n",
    "    # Set the local parameters\n",
    "    inWorkspace1 = r\"C:\\Users\\kenta\\Documents\\ArcGIS\\Projects\\HealthPlaceNew\\E2FCAStep2Rural.gdb\"\n",
    "    inWorkspace2 = r\"C:\\Users\\kenta\\Documents\\ArcGIS\\Projects\\HealthPlaceNew\\OD_Matrix.gdb\"\n",
    "    inFeatures = os.path.join(inWorkspace2,\"Census2015PopChugoku\")\n",
    "    joinField1 = \"OBJECTID\"\n",
    "    joinTable = os.path.join(inWorkspace2,\"CentroidCoverPHC\")\n",
    "    joinField2 = \"OriginID\"\n",
    "    fieldList = [\"SUM_E2FCA_OD_PHCSlow\", \"SUM_E2FCA_OD_PHCQuick\"] \n",
    "    outFeatures = os.path.join(inWorkspace2,\"CensusE2FCAPHC_OD\")\n",
    "\n",
    "    # Join two feature classes by the zonecode field and only carry \n",
    "    # over the PropToPopSlow and PropToPopQuick fields\n",
    "    arcpy.JoinField_management(inFeatures, joinField1, joinTable, joinField2, fieldList)\n",
    "    arcpy.CopyFeatures_management(inFeatures, outFeatures)\n",
    "\n",
    "    print(\"Script completed successfully\")\n",
    "except Exception as e:\n",
    "    # If an error occurred, print line number and error message\n",
    "    import traceback, sys\n",
    "    tb = sys.exc_info()[2]\n",
    "    print(\"An error occurred on line %i\" % tb.tb_lineno)\n",
    "    print(str(e))"
   ]
  },
  {
   "cell_type": "code",
   "execution_count": null,
   "metadata": {
    "collapsed": true
   },
   "outputs": [],
   "source": [
    "# Hos2"
   ]
  },
  {
   "cell_type": "code",
   "execution_count": 12,
   "metadata": {},
   "outputs": [
    {
     "name": "stdout",
     "output_type": "stream",
     "text": [
      "Script completed successfully\n"
     ]
    }
   ],
   "source": [
    "import arcpy\n",
    "from arcpy import env\n",
    "import os\n",
    "try:\n",
    "    # Set environment settings\n",
    "    # env.workspace = r\"C:\\Users\\kenta\\Documents\\ArcGIS\\Projects\\HealthPlaceNew\\E2FCAStep2Rural.gdb\"\n",
    "    \n",
    "    # Set the local parameters\n",
    "    inWorkspace1 = r\"C:\\Users\\kenta\\Documents\\ArcGIS\\Projects\\HealthPlaceNew\\E2FCAStep2Rural.gdb\"\n",
    "    inWorkspace2 = r\"C:\\Users\\kenta\\Documents\\ArcGIS\\Projects\\HealthPlaceNew\\OD_Matrix.gdb\"\n",
    "    inFeatures = os.path.join(inWorkspace2,\"CensusE2FCAPHC_OD\")\n",
    "    joinField1 = \"OBJECTID\"\n",
    "    joinTable = os.path.join(inWorkspace2,\"CentroidCoverHos2\")\n",
    "    joinField2 = \"OriginID\"\n",
    "    fieldList = [\"SUM_E2FCA_OD_Hos2Slow\", \"SUM_E2FCA_OD_Hos2Quick\"] \n",
    "    outFeatures = os.path.join(inWorkspace2,\"CensusE2FCAPHCHos2_OD\")\n",
    "\n",
    "    # Join two feature classes by the zonecode field and only carry \n",
    "    # over the PropToPopSlow and PropToPopQuick fields\n",
    "    arcpy.JoinField_management(inFeatures, joinField1, joinTable, joinField2, fieldList)\n",
    "    arcpy.CopyFeatures_management(inFeatures, outFeatures)\n",
    "\n",
    "    print(\"Script completed successfully\")\n",
    "except Exception as e:\n",
    "    # If an error occurred, print line number and error message\n",
    "    import traceback, sys\n",
    "    tb = sys.exc_info()[2]\n",
    "    print(\"An error occurred on line %i\" % tb.tb_lineno)\n",
    "    print(str(e))"
   ]
  },
  {
   "cell_type": "code",
   "execution_count": null,
   "metadata": {
    "collapsed": true
   },
   "outputs": [],
   "source": [
    "# Hos3"
   ]
  },
  {
   "cell_type": "code",
   "execution_count": 13,
   "metadata": {},
   "outputs": [
    {
     "name": "stdout",
     "output_type": "stream",
     "text": [
      "Script completed successfully\n"
     ]
    }
   ],
   "source": [
    "import arcpy\n",
    "from arcpy import env\n",
    "import os\n",
    "try:\n",
    "    # Set environment settings\n",
    "    # env.workspace = r\"C:\\Users\\kenta\\Documents\\ArcGIS\\Projects\\HealthPlaceNew\\E2FCAStep2Rural.gdb\"\n",
    "    \n",
    "    # Set the local parameters\n",
    "    inWorkspace1 = r\"C:\\Users\\kenta\\Documents\\ArcGIS\\Projects\\HealthPlaceNew\\E2FCAStep2Rural.gdb\"\n",
    "    inWorkspace2 = r\"C:\\Users\\kenta\\Documents\\ArcGIS\\Projects\\HealthPlaceNew\\OD_Matrix.gdb\"\n",
    "    inFeatures = os.path.join(inWorkspace2,\"CensusE2FCAPHCHos2_OD\")\n",
    "    joinField1 = \"OBJECTID\"\n",
    "    joinTable = os.path.join(inWorkspace2,\"CentroidCoverHos3\")\n",
    "    joinField2 = \"OriginID\"\n",
    "    fieldList = [\"SUM_E2FCA_OD_Hos3Slow\", \"SUM_E2FCA_OD_Hos3Quick\"] \n",
    "    outFeatures = os.path.join(inWorkspace2,\"CensusE2FCAPHCHos2Hos3_OD\")\n",
    "\n",
    "    # Join two feature classes by the zonecode field and only carry \n",
    "    # over the PropToPopSlow and PropToPopQuick fields\n",
    "    arcpy.JoinField_management(inFeatures, joinField1, joinTable, joinField2, fieldList)\n",
    "    arcpy.CopyFeatures_management(inFeatures, outFeatures)\n",
    "\n",
    "    print(\"Script completed successfully\")\n",
    "except Exception as e:\n",
    "    # If an error occurred, print line number and error message\n",
    "    import traceback, sys\n",
    "    tb = sys.exc_info()[2]\n",
    "    print(\"An error occurred on line %i\" % tb.tb_lineno)\n",
    "    print(str(e))"
   ]
  },
  {
   "cell_type": "code",
   "execution_count": null,
   "metadata": {
    "collapsed": true
   },
   "outputs": [],
   "source": [
    "# Filter out Shimane pref\n",
    "# Completed by manually\n",
    "# New dataset name: CensusE2FCAPHCHos2Hos3_ODShimane"
   ]
  },
  {
   "cell_type": "code",
   "execution_count": 17,
   "metadata": {},
   "outputs": [
    {
     "name": "stdout",
     "output_type": "stream",
     "text": [
      "Script completed successfully\n"
     ]
    }
   ],
   "source": [
    "# Import system modules\n",
    "import arcpy\n",
    "from arcpy import env\n",
    "import os\n",
    "try:\n",
    "    # Set the workspace\n",
    "    env.workspace = r\"C:\\Users\\kenta\\Documents\\ArcGIS\\Projects\\HealthPlaceNew\\OD_Matrix.gdb\"\n",
    "    # Make a layer from the feature class\n",
    "    arcpy.MakeFeatureLayer_management(\"CensusE2FCAPHCHos2Hos3_OD\", \"lyr3\") \n",
    "    \n",
    "    # Within selected features, further select only those cities which have a population > 10,000   \n",
    "    arcpy.SelectLayerByAttribute_management(\"lyr3\", \"NEW_SELECTION\", \"KEN_NAME = '島根県'\")\n",
    "    \n",
    "    # Write the selected features to a new featureclass\n",
    "    arcpy.CopyFeatures_management(\"lyr3\", \"CensusE2FCAPHCHos2Hos3_ODShimane\")\n",
    "    \n",
    "    print(\"Script completed successfully\")\n",
    "except Exception as e:\n",
    "    # If an error occurred, print line number and error message\n",
    "    import traceback, sys\n",
    "    tb = sys.exc_info()[2]\n",
    "    print(\"An error occurred on line %i\" % tb.tb_lineno)\n",
    "    print(str(e))"
   ]
  },
  {
   "cell_type": "code",
   "execution_count": null,
   "metadata": {
    "collapsed": true
   },
   "outputs": [],
   "source": [
    "# Now manually impute 0..."
   ]
  },
  {
   "cell_type": "code",
   "execution_count": null,
   "metadata": {
    "collapsed": true
   },
   "outputs": [],
   "source": [
    "# Filling missing values"
   ]
  },
  {
   "cell_type": "code",
   "execution_count": 19,
   "metadata": {},
   "outputs": [
    {
     "name": "stdout",
     "output_type": "stream",
     "text": [
      "Script completed successfully\n"
     ]
    }
   ],
   "source": [
    "import arcpy\n",
    "# Set geoprocessor object property to overwrite existing output, by default\n",
    "arcpy.env.overwriteOutput = True\n",
    "# Local variables ...\n",
    "arcpy.env.workspace = r\"C:\\Users\\kenta\\Documents\\ArcGIS\\Projects\\HealthPlaceNew\\OD_Matrix.gdb\"\n",
    "try:\n",
    "    # set local variables\n",
    "    infeature = \"CensusE2FCAPHCHos2Hos3_ODShimane2\"\n",
    "    outfeature = \"CensusE2FCAMI_OD\"\n",
    "    fields_to_fill = [\"SUM_E2FCA_OD_PHCSLOW\", \"SUM_E2FCA_OD_PHCQUICK\", \"SUM_E2FCA_OD_HOS2SLOW\", \"SUM_E2FCA_OD_HOS2QUICK\", \"SUM_E2FCA_OD_HOS3SLOW\", \"SUM_E2FCA_OD_HOS3QUICK\"] \n",
    "    fill_method = \"AVERAGE\"\n",
    "    spatialRef = \"CONTIGUITY_EDGES_CORNERS\"\n",
    "    # Fill missing values in a feature class \n",
    "    arcpy.FillMissingValues_stpm(infeature, outfeature, fields_to_fill, fill_method, spatialRef)\n",
    "    \n",
    "    print(\"Script completed successfully\")\n",
    "except Exception as e:\n",
    "    # If an error occurred, print line number and error message\n",
    "    import traceback, sys\n",
    "    tb = sys.exc_info()[2]\n",
    "    print(\"An error occurred on line %i\" % tb.tb_lineno)\n",
    "    print(str(e))"
   ]
  },
  {
   "cell_type": "code",
   "execution_count": null,
   "metadata": {
    "collapsed": true
   },
   "outputs": [],
   "source": [
    "# Join imputed data's fields to CensusE2FCAFinal data and create a new feature \"CensusE2FCAFinalMI\""
   ]
  },
  {
   "cell_type": "code",
   "execution_count": 22,
   "metadata": {},
   "outputs": [
    {
     "name": "stdout",
     "output_type": "stream",
     "text": [
      "Script completed successfully\n"
     ]
    }
   ],
   "source": [
    "import arcpy\n",
    "from arcpy import env\n",
    "import os\n",
    "try:\n",
    "    # Set environment settings\n",
    "    env.workspace = r\"C:\\Users\\kenta\\Documents\\ArcGIS\\Projects\\HealthPlaceNew\\OD_Matrix.gdb\"\n",
    "    \n",
    "    # Set the local parameters\n",
    "    inWorkspace = r\"C:\\Users\\kenta\\Documents\\ArcGIS\\Projects\\HealthPlaceNew\\OD_Matrix.gdb\"\n",
    "    outWorkspace = r\"C:\\Users\\kenta\\Documents\\ArcGIS\\Projects\\HealthPlaceNew\\OD_Matrix.gdb\"\n",
    "    inFeatures = os.path.join(inWorkspace,\"CensusE2FCAPHCHos2Hos3_ODShimane2\")\n",
    "    joinField = \"OBJECTID\"\n",
    "    joinTable = os.path.join(inWorkspace,\"CensusE2FCAMI_OD\")\n",
    "    fieldList = [\"SUM_E2FCA_OD_PHCSLOW\", \"SUM_E2FCA_OD_PHCQUICK\", \"SUM_E2FCA_OD_HOS2SLOW\", \"SUM_E2FCA_OD_HOS2QUICK\", \"SUM_E2FCA_OD_HOS3SLOW\", \"SUM_E2FCA_OD_HOS3QUICK\"] \n",
    "    outFeatures = os.path.join(outWorkspace,\"CensusE2FCAFinalMI_OD2\")\n",
    "    \n",
    "    # Join two feature classes by the zonecode field and only carry \n",
    "    # over the PropToPopSlow and PropToPopQuick fields\n",
    "    arcpy.JoinField_management(inFeatures, joinField, joinTable, joinField, fieldList)\n",
    "    arcpy.CopyFeatures_management(inFeatures, outFeatures)\n",
    "\n",
    "    print(\"Script completed successfully\")\n",
    "except Exception as e:\n",
    "    # If an error occurred, print line number and error message\n",
    "    import traceback, sys\n",
    "    tb = sys.exc_info()[2]\n",
    "    print(\"An error occurred on line %i\" % tb.tb_lineno)\n",
    "    print(str(e))"
   ]
  },
  {
   "cell_type": "code",
   "execution_count": null,
   "metadata": {
    "collapsed": true
   },
   "outputs": [],
   "source": [
    "# Delete unnecessary fields"
   ]
  },
  {
   "cell_type": "code",
   "execution_count": 24,
   "metadata": {},
   "outputs": [
    {
     "name": "stdout",
     "output_type": "stream",
     "text": [
      "['OBJECTID', 'Shape', 'KEN_NAME', 'SHICHO_NAME', 'SHI_NAME', 'KU_NAME', 'GUN_NAME', 'CHOSON_NAME', 'OAZA_NAME', 'KOAZA_NAME', 'SUM_AREA', 'TOTPOP_H27', 'SUM_E2FCA_OD_PHCSlow', 'SUM_E2FCA_OD_PHCQuick', 'SUM_E2FCA_OD_Hos2Slow', 'SUM_E2FCA_OD_Hos2Quick', 'SUM_E2FCA_OD_Hos3Slow', 'SUM_E2FCA_OD_Hos3Quick', 'SUM_E2FCA_OD_PHCSLOW_1', 'SUM_E2FCA_OD_PHCQUICK_1', 'SUM_E2FCA_OD_HOS2SLOW_1', 'SUM_E2FCA_OD_HOS2QUICK_1', 'SUM_E2FCA_OD_HOS3SLOW_1', 'SUM_E2FCA_OD_HOS3QUICK_1', 'Shape_Length', 'Shape_Area']\n"
     ]
    }
   ],
   "source": [
    "import arcpy\n",
    "from arcpy import env\n",
    "try:\n",
    "    env.workspace = r\"C:\\Users\\kenta\\Documents\\ArcGIS\\Projects\\HealthPlaceNew\\OD_Matrix.gdb\"\n",
    "    # list all field name\n",
    "    field_names = [f.name for f in arcpy.ListFields(\"CensusE2FCAFinalMI_OD2\")]\n",
    "    print(field_names)\n",
    "    \n",
    "except Exception as e:\n",
    "    # If an error occurred, print line number and error message\n",
    "    import traceback, sys\n",
    "    tb = sys.exc_info()[2]\n",
    "    print(\"An error occurred on line %i\" % tb.tb_lineno)\n",
    "    print(str(e))"
   ]
  },
  {
   "cell_type": "code",
   "execution_count": 25,
   "metadata": {},
   "outputs": [
    {
     "name": "stdout",
     "output_type": "stream",
     "text": [
      "Script completed successfully\n"
     ]
    }
   ],
   "source": [
    "import arcpy\n",
    "from arcpy import env\n",
    "try:    \n",
    "    env.workspace = r\"C:\\Users\\kenta\\Documents\\ArcGIS\\Projects\\HealthPlaceNew\\OD_Matrix.gdb\"\n",
    "    # Choose the fields want to be deleted\n",
    "    \n",
    "    delfield = ['KEN_NAME', 'SHICHO_NAME', 'SHI_NAME', 'KU_NAME', 'GUN_NAME', 'CHOSON_NAME', 'OAZA_NAME', 'KOAZA_NAME', 'SUM_AREA', 'TOTPOP_H27', 'SUM_E2FCA_OD_PHCSlow', 'SUM_E2FCA_OD_PHCQuick', 'SUM_E2FCA_OD_Hos2Slow', 'SUM_E2FCA_OD_Hos2Quick', 'SUM_E2FCA_OD_Hos3Slow', 'SUM_E2FCA_OD_Hos3Quick']   # Delete fields\n",
    "    arcpy.DeleteField_management('CensusE2FCAFinalMI_OD2',delfield)\n",
    "    \n",
    "    print(\"Script completed successfully\")\n",
    "    \n",
    "except Exception as e:\n",
    "    # If an error occurred, print line number and error message\n",
    "    import traceback, sys\n",
    "    tb = sys.exc_info()[2]\n",
    "    print(\"An error occurred on line %i\" % tb.tb_lineno)\n",
    "    print(str(e))"
   ]
  },
  {
   "cell_type": "markdown",
   "metadata": {
    "collapsed": true
   },
   "source": [
    "# Join fields of OD_Matrix E2FCA score to the CensusFinal data"
   ]
  },
  {
   "cell_type": "code",
   "execution_count": null,
   "metadata": {
    "collapsed": true
   },
   "outputs": [],
   "source": [
    "# First delete fields mistakenly joined with CensusFinal data"
   ]
  },
  {
   "cell_type": "code",
   "execution_count": 26,
   "metadata": {},
   "outputs": [
    {
     "name": "stdout",
     "output_type": "stream",
     "text": [
      "['OBJECTID', 'Shape', 'TARGET_FID', 'KEN_NAME', 'SHICHO_NAME', 'SHI_NAME', 'KU_NAME', 'GUN_NAME', 'CHOSON_NAME', 'OAZA_NAME', 'KOAZA_NAME', 'SUM_AREA', 'TOTPOP_H27', 'AreaRes', 'PopDen', 'SUM_PHCE2FCASLOW_12', 'SUM_PHCE2FCAQUICK_12', 'SUM_HOS2E2FCASLOW_12', 'SUM_HOS2E2FCAQUICK_12', 'SUM_HOS3E2FCASLOW_12', 'SUM_HOS3E2FCAQUICK_12', 'Shape_Length', 'Shape_Area']\n"
     ]
    }
   ],
   "source": [
    "import arcpy\n",
    "from arcpy import env\n",
    "try:\n",
    "    env.workspace = r\"C:\\Users\\kenta\\Documents\\ArcGIS\\Projects\\HealthPlaceNew\\E2FCAStep2Rural.gdb\"\n",
    "    # list all field name\n",
    "    field_names = [f.name for f in arcpy.ListFields(\"CensusE2FCAFinalMICent2\")]\n",
    "    print(field_names)\n",
    "    \n",
    "except Exception as e:\n",
    "    # If an error occurred, print line number and error message\n",
    "    import traceback, sys\n",
    "    tb = sys.exc_info()[2]\n",
    "    print(\"An error occurred on line %i\" % tb.tb_lineno)\n",
    "    print(str(e))"
   ]
  },
  {
   "cell_type": "code",
   "execution_count": null,
   "metadata": {
    "collapsed": true
   },
   "outputs": [],
   "source": [
    "# Join fields"
   ]
  },
  {
   "cell_type": "code",
   "execution_count": 28,
   "metadata": {},
   "outputs": [
    {
     "name": "stdout",
     "output_type": "stream",
     "text": [
      "Script completed successfully\n"
     ]
    }
   ],
   "source": [
    "import arcpy\n",
    "from arcpy import env\n",
    "import os\n",
    "try:\n",
    "    # Set environment settings\n",
    "    env.workspace = r\"C:\\Users\\kenta\\Documents\\ArcGIS\\Projects\\HealthPlaceNew\\OD_Matrix.gdb\"\n",
    "    \n",
    "    # Set the local parameters\n",
    "    inWorkspace1 = r\"C:\\Users\\kenta\\Documents\\ArcGIS\\Projects\\HealthPlaceNew\\E2FCAStep2Rural.gdb\"\n",
    "    inWorkspace2 = r\"C:\\Users\\kenta\\Documents\\ArcGIS\\Projects\\HealthPlaceNew\\OD_Matrix.gdb\"\n",
    "    outWorkspace = r\"C:\\Users\\kenta\\Documents\\ArcGIS\\Projects\\HealthPlaceNew\\OD_Matrix.gdb\"\n",
    "    inFeatures = os.path.join(inWorkspace1,\"CensusE2FCAFinalMICent2\")\n",
    "    joinField = \"OBJECTID\"\n",
    "    joinTable = os.path.join(inWorkspace2,\"CensusE2FCAFinalMI_OD2\")\n",
    "    fieldList = [\"SUM_E2FCA_OD_PHCSLOW_1\", \"SUM_E2FCA_OD_PHCQUICK_1\", \"SUM_E2FCA_OD_HOS2SLOW_1\", \"SUM_E2FCA_OD_HOS2QUICK_1\", \"SUM_E2FCA_OD_HOS3SLOW_1\", \"SUM_E2FCA_OD_HOS3QUICK_1\"] \n",
    "    outFeatures = os.path.join(outWorkspace,\"CensusE2FCAFinalDis_Con\")\n",
    "    \n",
    "    # Join two feature classes by the zonecode field and only carry \n",
    "    # over the PropToPopSlow and PropToPopQuick fields\n",
    "    arcpy.JoinField_management(inFeatures, joinField, joinTable, joinField, fieldList)\n",
    "    arcpy.CopyFeatures_management(inFeatures, outFeatures)\n",
    "\n",
    "    print(\"Script completed successfully\")\n",
    "except Exception as e:\n",
    "    # If an error occurred, print line number and error message\n",
    "    import traceback, sys\n",
    "    tb = sys.exc_info()[2]\n",
    "    print(\"An error occurred on line %i\" % tb.tb_lineno)\n",
    "    print(str(e))"
   ]
  },
  {
   "cell_type": "markdown",
   "metadata": {},
   "source": [
    "# Spatially join with dfnew Geocoded data"
   ]
  },
  {
   "cell_type": "code",
   "execution_count": 32,
   "metadata": {},
   "outputs": [
    {
     "name": "stdout",
     "output_type": "stream",
     "text": [
      "Script completed successfully\n"
     ]
    }
   ],
   "source": [
    "### Import system modules\n",
    "import arcpy\n",
    "import os\n",
    "\n",
    "try:\n",
    "    \n",
    "    # Set local variables\n",
    "    inWorkspace1 = r\"C:\\Users\\kenta\\Documents\\ArcGIS\\Projects\\HealthPlaceNew\\E2FCA.gdb\"\n",
    "    inWorkspace2 = r\"C:\\Users\\kenta\\Documents\\ArcGIS\\Projects\\HealthPlaceNew\\OD_Matrix.gdb\"\n",
    "    outWorkdspace = r\"C:\\Users\\kenta\\Documents\\ArcGIS\\Projects\\HealthPlaceNew\\OD_Matrix.gdb\"\n",
    "    targetFeatures = os.path.join(inWorkspace1, \"dfnew6Gecoded\")\n",
    "    joinFeatures = os.path.join(inWorkspace2, \"CensusE2FCAFinalDis_Con\")\n",
    "    \n",
    "    # Output will be the target features: PHCCover Polygon with a sum of population field \n",
    "    outfc = os.path.join(outWorkdspace, \"dfnew6E2FCAFinal_DisCon\")\n",
    "    \n",
    "    # Create a new fieldmappings and add the two input feature classes.\n",
    "    fieldmappings = arcpy.FieldMappings()\n",
    "    fieldmappings.addTable(targetFeatures)\n",
    "    fieldmappings.addTable(joinFeatures)\n",
    "       \n",
    "    # Delete fields that are no longer applicable, such as city CITY_NAME and CITY_FIPS\n",
    "    # as only the first value will be used by default\n",
    "    x = fieldmappings.findFieldMapIndex(\"Status\")\n",
    "    fieldmappings.removeFieldMap(x)\n",
    "    y = fieldmappings.findFieldMapIndex(\"Score\")\n",
    "    fieldmappings.removeFieldMap(y)\n",
    "    z = fieldmappings.findFieldMapIndex(\"Match_type\")\n",
    "    fieldmappings.removeFieldMap(z)\n",
    "    b = fieldmappings.findFieldMapIndex(\"Year\")\n",
    "    fieldmappings.removeFieldMap(b)\n",
    "    c = fieldmappings.findFieldMapIndex(\"Pref\")\n",
    "    fieldmappings.removeFieldMap(c)\n",
    "    d = fieldmappings.findFieldMapIndex(\"Gun\")\n",
    "    fieldmappings.removeFieldMap(d)\n",
    "    e = fieldmappings.findFieldMapIndex(\"City\")\n",
    "    fieldmappings.removeFieldMap(e)\n",
    "    f = fieldmappings.findFieldMapIndex(\"Ku\")\n",
    "    fieldmappings.removeFieldMap(f)\n",
    "    h = fieldmappings.findFieldMapIndex(\"Match_code\")\n",
    "    fieldmappings.removeFieldMap(h)\n",
    "    i = fieldmappings.findFieldMapIndex(\"Addr_type\")\n",
    "    fieldmappings.removeFieldMap(i)\n",
    "    j = fieldmappings.findFieldMapIndex(\"In_Single_Line_Input\")\n",
    "    fieldmappings.removeFieldMap(j)\n",
    "    k = fieldmappings.findFieldMapIndex(\"TARGET_FID\")\n",
    "    fieldmappings.removeFieldMap(k)\n",
    "    \n",
    "    #Run the Spatial Join tool, using the defaults for the join operation and join type\n",
    "    arcpy.SpatialJoin_analysis(targetFeatures, joinFeatures, outfc, \"JOIN_ONE_TO_ONE\", \"KEEP_ALL\", fieldmappings,\"COMPLETELY_WITHIN\")\n",
    "\n",
    "    print(\"Script completed successfully\")\n",
    "    \n",
    "except Exception as e:\n",
    "    # If an error occurred, print line number and error message\n",
    "    import traceback, sys\n",
    "    tb = sys.exc_info()[2]\n",
    "    print(\"An error occurred on line %i\" % tb.tb_lineno)\n",
    "    print(str(e))"
   ]
  },
  {
   "cell_type": "code",
   "execution_count": 2,
   "metadata": {},
   "outputs": [
    {
     "name": "stdout",
     "output_type": "stream",
     "text": [
      "Script completed successfully\n"
     ]
    }
   ],
   "source": [
    "# Import system modules\n",
    "import arcpy\n",
    "from arcpy import env\n",
    "\n",
    "try:\n",
    "    # Set environment settings\n",
    "    env.workspace = r\"C:\\Users\\kenta\\Documents\\ArcGIS\\Projects\\HealthPlaceNew\\OD_Matrix.gdb\"\n",
    "    # Set local variables\n",
    "    inTable = \"dfnew6E2FCAFinal_DisCon\"\n",
    "    outLocation = r\"C:\\Users\\kenta\\Documents\\ArcGIS\\Projects\\HealthPlaceNew\\OD_Matrix.gdb\"\n",
    "    outTable = \"dfnew6E2CAFinal_DisConTable\"\n",
    "    \n",
    "    # Execute TableToTable\n",
    "    arcpy.TableToTable_conversion(inTable, outLocation, outTable)\n",
    "\n",
    "    print(\"Script completed successfully\")\n",
    "    \n",
    "except Exception as e:\n",
    "    # If an error occurred, print line number and error message\n",
    "    import traceback, sys\n",
    "    tb = sys.exc_info()[2]\n",
    "    print(\"An error occurred on line %i\" % tb.tb_lineno)\n",
    "    print(str(e))"
   ]
  },
  {
   "cell_type": "code",
   "execution_count": 3,
   "metadata": {},
   "outputs": [
    {
     "name": "stdout",
     "output_type": "stream",
     "text": [
      "Script completed successfully\n"
     ]
    }
   ],
   "source": [
    "# Import system modules\n",
    "import arcpy\n",
    "from arcpy import env\n",
    "\n",
    "try:\n",
    "    # Set environment settings\n",
    "    env.workspace = r\"C:\\Users\\kenta\\Documents\\ArcGIS\\Projects\\HealthPlaceNew\\OD_Matrix.gdb\"\n",
    "    # Set local variables\n",
    "    inTable = \"dfnew6E2CAFinal_DisConTable\"\n",
    "    outLocation = r\"C:\\Users\\kenta\\Documents\\ArcGIS\\Projects\\HealthPlaceNew\\OD_Matrix.gdb\"\n",
    "    out_xls = r\"G:\\dfnew6E2CAFinal_DisCon.xls\"\n",
    "    \n",
    "    arcpy.TableToExcel_conversion(inTable, out_xls)\n",
    "\n",
    "    print(\"Script completed successfully\")\n",
    "    \n",
    "except Exception as e:\n",
    "    # If an error occurred, print line number and error message\n",
    "    import traceback, sys\n",
    "    tb = sys.exc_info()[2]\n",
    "    print(\"An error occurred on line %i\" % tb.tb_lineno)\n",
    "    print(str(e))"
   ]
  }
 ],
 "metadata": {
  "kernelspec": {
   "display_name": "Python 3",
   "language": "python",
   "name": "python3"
  },
  "language_info": {
   "codemirror_mode": {
    "name": "ipython",
    "version": 3
   },
   "file_extension": ".py",
   "mimetype": "text/x-python",
   "name": "python",
   "nbconvert_exporter": "python",
   "pygments_lexer": "ipython3",
   "version": "3.5.3"
  }
 },
 "nbformat": 4,
 "nbformat_minor": 2
}
