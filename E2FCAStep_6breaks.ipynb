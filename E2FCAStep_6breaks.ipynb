{
 "cells": [
  {
   "cell_type": "markdown",
   "metadata": {
    "collapsed": true
   },
   "source": [
    "# Calculating E2FCA Score for PHC, Secondary, Tertiary Hospitals for whole Shimane region by cho-cho aza level"
   ]
  },
  {
   "cell_type": "markdown",
   "metadata": {
    "collapsed": true
   },
   "source": [
    "# First, prepare all datasets in appropriate format"
   ]
  },
  {
   "cell_type": "markdown",
   "metadata": {},
   "source": [
    "### Copy all datasets to a project folder"
   ]
  },
  {
   "cell_type": "code",
   "execution_count": null,
   "metadata": {
    "collapsed": true
   },
   "outputs": [],
   "source": [
    "import arcpy\n",
    "from arcpy import env\n",
    "try:\n",
    "    \n",
    "    env.workspace = \"C:/Users/kenta/Documents/ArcGIS/Projects/HealthPlaceNew/HealthPlaceNew.gdb\"\n",
    "    ### Set a path for created data will ve stored\n",
    "    outpath = \"C:/Users/kenta/Documents/ArcGIS/Projects/HealthPlaceNew/HealthPlaceNew.gdb\"\n",
    "    # Export data to new path\n",
    "    arcpy.FeatureClassToFeatureClass_conversion('PHCNaika_Chugoku',outpath,\"PHCNaika_Chugoku\")\n",
    "    arcpy.FeatureClassToFeatureClass_conversion('Hos2Naika_Chugoku',outpath,\"Hos2Naika_Chugoku\")\n",
    "    arcpy.FeatureClassToFeatureClass_conversion('Hos3Naika_Chugoku',outpath,\"Hos3Naika_Chugoku\")\n",
    "    arcpy.FeatureClassToFeatureClass_conversion('KIHON_Chugoku22',outpath,\"KIHON_Chugoku2010\")\n",
    "    arcpy.FeatureClassToFeatureClass_conversion(\"平成27年 国勢調査 町丁字等別集計\",outpath,\"Census2015Pop\")\n",
    "\n",
    "except Exception as e:\n",
    "    # If an error occurred, print line number and error message\n",
    "    import traceback, sys\n",
    "    tb = sys.exc_info()[2]\n",
    "    print(\"An error occurred on line %i\" % tb.tb_lineno)\n",
    "    print(str(e))    \n"
   ]
  },
  {
   "cell_type": "markdown",
   "metadata": {},
   "source": [
    "### Create a Census polygon data and Census centroid point data"
   ]
  },
  {
   "cell_type": "code",
   "execution_count": 1,
   "metadata": {
    "collapsed": true
   },
   "outputs": [],
   "source": [
    "import arcpy\n",
    "from arcpy import env\n",
    "try:\n",
    "    env.workspace = \"C:/Users/kenta/Documents/ArcGIS/Projects/HealthPlaceNew/HealthPlaceNew.gdb\"\n",
    "    \n",
    "    ### Make a centroid point feature of census data\n",
    "    arcpy.Clip_analysis('Census2015Pop', 'LandNoLakeForest',\"Census2015ResArea\")\n",
    "    # Create centroid point feature\n",
    "    arcpy.FeatureToPoint_management(\"Census2015ResArea\", \"C:/Users/kenta/Documents/ArcGIS/Projects/HealthPlaceNew/HealthPlaceNew.gdb/Census2015Res_Centroid\", \"CENTROID\")\n",
    "\n",
    "except Exception as e:\n",
    "    # If an error occurred, print line number and error message\n",
    "    import traceback, sys\n",
    "    tb = sys.exc_info()[2]\n",
    "    print(\"An error occurred on line %i\" % tb.tb_lineno)\n",
    "    print(str(e))"
   ]
  },
  {
   "cell_type": "markdown",
   "metadata": {},
   "source": [
    "### Get a residential area size to compute an accurate population density"
   ]
  },
  {
   "cell_type": "code",
   "execution_count": 2,
   "metadata": {
    "collapsed": true
   },
   "outputs": [],
   "source": [
    "import arcpy\n",
    "from arcpy import env\n",
    "try:\n",
    "    env.workspace = \"C:/Users/kenta/Documents/ArcGIS/Projects/HealthPlaceNew/HealthPlaceNew.gdb\"\n",
    "\n",
    "    ### Calculate the size of each polygon (Residential area)\n",
    "    # Set local variables\n",
    "    inTable = \"Census2015ResArea\"\n",
    "    fieldName = \"AreaRes\"\n",
    "    expression = \"!shape.area@SQUAREKILOMETERS!\"\n",
    "    # Execute AddField\n",
    "    arcpy.AddField_management(inTable, fieldName, \"DOUBLE\")\n",
    "    # Execute CalculateField - Get a area size in square kilometers\n",
    "    arcpy.CalculateField_management(inTable, fieldName, expression, \"PYTHON_9.3\")\n",
    "\n",
    "except Exception as e:\n",
    "    # If an error occurred, print line number and error message\n",
    "    import traceback, sys\n",
    "    tb = sys.exc_info()[2]\n",
    "    print(\"An error occurred on line %i\" % tb.tb_lineno)\n",
    "    print(str(e))"
   ]
  },
  {
   "cell_type": "markdown",
   "metadata": {},
   "source": [
    "### Join the field (residential area) back to Census Polygon data"
   ]
  },
  {
   "cell_type": "code",
   "execution_count": 5,
   "metadata": {
    "collapsed": true
   },
   "outputs": [],
   "source": [
    "import arcpy\n",
    "from arcpy import env\n",
    "import os\n",
    "try:\n",
    "    # Set environment settings\n",
    "    env.workspace = r\"C:\\Users\\kenta\\Documents\\ArcGIS\\Projects\\HealthPlaceNew\\HealthPlaceNew.gdb\"\n",
    "    \n",
    "    # Set the local parameters\n",
    "    inWorkspace1 = r\"C:\\Users\\kenta\\Documents\\ArcGIS\\Projects\\HealthPlaceNew\\HealthPlaceNew.gdb\"\n",
    "    inFeatures = os.path.join(inWorkspace1,\"Census2015PopNoLake\")\n",
    "    inWorkspace2 = r\"C:\\Users\\kenta\\Documents\\HDDFiles\\GISData_Import\\Esri公共2016中国\\公共地図\\PUBLIC_MAP.gdb\"\n",
    "    eraseFeature = os.path.join(inWorkspace2,\"WATER_LAKE\") #Lake from Kokyo 2016\n",
    "    joinField1 = \"OBJECTID\"\n",
    "    joinTable = os.path.join(inWorkspace1,\"Census2015ResArea\")\n",
    "    joinField2 = \"OBJECTID\"\n",
    "    fieldList = [\"AreaRes\"] \n",
    "    outFeatures = os.path.join(inWorkspace1,\"Census2015Final\")\n",
    "    \n",
    "    # First create a Census Polygon data without Lake - ***This is for join, visualize, and final dataset\n",
    "    arcpy.Erase_analysis('Census2015Pop', eraseFeature, inFeatures)\n",
    "    # Join two feature classes by the OBJECTID field and only carry \n",
    "    # over the AreaRes field\n",
    "    arcpy.JoinField_management(inFeatures, joinField1, joinTable, joinField2, fieldList)\n",
    "    arcpy.CopyFeatures_management(inFeatures, outFeatures)\n",
    "\n",
    "except Exception as e:\n",
    "    # If an error occurred, print line number and error message\n",
    "    import traceback, sys\n",
    "    tb = sys.exc_info()[2]\n",
    "    print(\"An error occurred on line %i\" % tb.tb_lineno)\n",
    "    print(str(e))"
   ]
  },
  {
   "cell_type": "markdown",
   "metadata": {},
   "source": [
    "### Calculate Population density"
   ]
  },
  {
   "cell_type": "code",
   "execution_count": 6,
   "metadata": {
    "collapsed": true
   },
   "outputs": [],
   "source": [
    "import arcpy\n",
    "from arcpy import env\n",
    "try:\n",
    "    env.workspace = \"C:/Users/kenta/Documents/ArcGIS/Projects/HealthPlaceNew/HealthPlaceNew.gdb\"\n",
    "\n",
    "    ### Calculate the size of each polygon (Residential area)\n",
    "    # Set local variables\n",
    "    inTable = \"Census2015Final\"\n",
    "    fieldName = \"PopDen\"\n",
    "    expression = \"!TOTPOP_H27!/!AreaRes!\"\n",
    "    # Execute AddField\n",
    "    arcpy.AddField_management(inTable, fieldName, \"DOUBLE\")\n",
    "    # Execute CalculateField - Get a area size in square kilometers\n",
    "    arcpy.CalculateField_management(inTable, fieldName, expression, \"PYTHON_9.3\")\n",
    "\n",
    "except Exception as e:\n",
    "    # If an error occurred, print line number and error message\n",
    "    import traceback, sys\n",
    "    tb = sys.exc_info()[2]\n",
    "    print(\"An error occurred on line %i\" % tb.tb_lineno)\n",
    "    print(str(e))"
   ]
  },
  {
   "cell_type": "markdown",
   "metadata": {
    "collapsed": true
   },
   "source": [
    "# Create network service layer for PHC"
   ]
  },
  {
   "cell_type": "markdown",
   "metadata": {},
   "source": [
    "### PHC"
   ]
  },
  {
   "cell_type": "code",
   "execution_count": null,
   "metadata": {
    "collapsed": true
   },
   "outputs": [],
   "source": [
    "# This works!!\n",
    "# PHC 45 facilities not created - 3 in Shimane\n",
    "# Hos2 4 facilities not created - 1 in Shimane\n",
    "# Hos3 2 facilities not created - Not in catchment (out of Shimane)"
   ]
  },
  {
   "cell_type": "code",
   "execution_count": null,
   "metadata": {
    "collapsed": true
   },
   "outputs": [],
   "source": [
    "import arcpy\n",
    "from arcpy import env\n",
    "import os\n",
    "try:\n",
    "    # First Create new gdb in the folder of HDD\n",
    "    out_folder_path = r\"C:\\Users\\kenta\\Documents\\ArcGIS\\Projects\\HealthPlaceNew\" \n",
    "    out_name1 = \"E2FCAStep1Rural.gdb\"\n",
    "    out_name2 = \"E2FCAStep2Rural.gdb\"\n",
    "    out_name3 = \"NetworkServiceRural.gdb\"\n",
    "    # Execute CreateFileGDB\n",
    "    arcpy.CreateFileGDB_management(out_folder_path, out_name1)\n",
    "    arcpy.CreateFileGDB_management(out_folder_path, out_name2)\n",
    "    arcpy.CreateFileGDB_management(out_folder_path, out_name3)\n",
    "    #Set environment settings\n",
    "    output_dir = r\"C:\\Users\\kenta\\Documents\\ArcGIS\\Projects\\HealthPlaceNew\"\n",
    "    #The NA layer's data will be saved to the workspace specified here\n",
    "    env.workspace = os.path.join(output_dir, \"NetworkServiceRural.gdb\")\n",
    "    env.overwriteOutput = True\n",
    "    \n",
    "    #Set local variables\n",
    "    input_gdb1 = r\"C:/Users/kenta/Documents/HDDFiles/GISData_Import/Esri道路2014中国/道路網_鳥取県_島根県_岡山県_広島県_山口県版/ADF2014.gdb\"\n",
    "    network = os.path.join(input_gdb1, \"ADF\",\"ADF_ND\")\n",
    "    layer_name = \"PHCCover\"\n",
    "    travel_mode = \"Driving Time\"\n",
    "    input_gdb2 = \"C:/Users/kenta/Documents/ArcGIS/Projects/HealthPlaceNew/HealthPlaceNew.gdb\"\n",
    "    facilities = os.path.join(input_gdb2,\"PHCNaika_Chugoku\")\n",
    "    output_layer_file = os.path.join(output_dir, layer_name + \".lyrx\")\n",
    "  \n",
    "    \n",
    "    #Create a new service area layer. We wish to generate the service area\n",
    "    #polygons as rings, so that we can easily visualize the coverage for any\n",
    "    #given location. We also want overlapping polygons so we can determine the\n",
    "    #number of fire stations that cover a given location. We will specify these\n",
    "    #options while creating the new service area layer.\n",
    "    result_object = arcpy.na.MakeServiceAreaAnalysisLayer(network, layer_name,\n",
    "                                    travel_mode, \"FROM_FACILITIES\", [10, 20, 30, 60],\n",
    "                                    time_zone=\"LOCAL_TIME_AT_LOCATIONS\",\n",
    "                                    polygon_detail=\"STANDARD\",\n",
    "                                    geometry_at_overlaps=\"OVERLAP\",\n",
    "                                    geometry_at_cutoffs=\"RINGS\")\n",
    "\n",
    "    #Get the layer object from the result object. The service layer can now be\n",
    "    #referenced using the layer object.\n",
    "    layer_object = result_object.getOutput(0)\n",
    "\n",
    "    #Get the names of all the sublayers within the service area layer.\n",
    "    sublayer_names = arcpy.na.GetNAClassNames(layer_object)\n",
    "    #Stores the layer names that we will use later\n",
    "    facilities_layer_name = sublayer_names[\"Facilities\"]\n",
    "\n",
    "    #Load the fire stations as facilities using default field mappings and\n",
    "    #default search tolerance\n",
    "    arcpy.na.AddLocations(layer_object, facilities_layer_name, facilities, \"\", \"\")\n",
    "\n",
    "    #Solve the service area layer\n",
    "    arcpy.na.Solve(layer_object)\n",
    "\n",
    "    #Save the solved service area layer as a layer file on disk\n",
    "    layer_object.saveACopy(output_layer_file)\n",
    "\n",
    "    print(\"Script completed successfully\")\n",
    "\n",
    "except Exception as e:\n",
    "    # If an error occurred, print line number and error message\n",
    "    import traceback, sys\n",
    "    tb = sys.exc_info()[2]\n",
    "    print(\"An error occurred on line %i\" % tb.tb_lineno)\n",
    "    print(str(e))"
   ]
  },
  {
   "cell_type": "markdown",
   "metadata": {},
   "source": [
    "### Hos2"
   ]
  },
  {
   "cell_type": "code",
   "execution_count": null,
   "metadata": {
    "collapsed": true
   },
   "outputs": [],
   "source": [
    "import arcpy\n",
    "from arcpy import env\n",
    "import os\n",
    "try:\n",
    "    #Set environment settings\n",
    "    output_dir = r\"C:\\Users\\kenta\\Documents\\ArcGIS\\Projects\\HealthPlaceNew\"\n",
    "    #The NA layer's data will be saved to the workspace specified here\n",
    "    env.workspace = os.path.join(output_dir, \"NetworkServiceRural.gdb\")\n",
    "    env.overwriteOutput = True\n",
    "    \n",
    "    #Set local variables\n",
    "    input_gdb1 = r\"C:/Users/kenta/Documents/HDDFiles/GISData_Import/Esri道路2014中国/道路網_鳥取県_島根県_岡山県_広島県_山口県版/ADF2014.gdb\"\n",
    "    network = os.path.join(input_gdb1, \"ADF\",\"ADF_ND\")\n",
    "    layer_name = \"Hos2Cover\"\n",
    "    travel_mode = \"Driving Time\"\n",
    "    input_gdb2 = \"C:/Users/kenta/Documents/ArcGIS/Projects/HealthPlaceNew/HealthPlaceNew.gdb\"\n",
    "    facilities = os.path.join(input_gdb2,\"Hos2Naika_Chugoku\")\n",
    "    output_layer_file = os.path.join(output_dir, layer_name + \".lyrx\")\n",
    "  \n",
    "    \n",
    "    #Create a new service area layer. We wish to generate the service area\n",
    "    #polygons as rings, so that we can easily visualize the coverage for any\n",
    "    #given location. We also want overlapping polygons so we can determine the\n",
    "    #number of fire stations that cover a given location. We will specify these\n",
    "    #options while creating the new service area layer.\n",
    "    result_object = arcpy.na.MakeServiceAreaAnalysisLayer(network, layer_name,\n",
    "                                    travel_mode, \"FROM_FACILITIES\", [10, 20, 30, 60],\n",
    "                                    time_zone=\"LOCAL_TIME_AT_LOCATIONS\",\n",
    "                                    polygon_detail=\"STANDARD\",\n",
    "                                    geometry_at_overlaps=\"OVERLAP\",\n",
    "                                    geometry_at_cutoffs=\"RINGS\")\n",
    "\n",
    "    #Get the layer object from the result object. The service layer can now be\n",
    "    #referenced using the layer object.\n",
    "    layer_object = result_object.getOutput(0)\n",
    "\n",
    "    #Get the names of all the sublayers within the service area layer.\n",
    "    sublayer_names = arcpy.na.GetNAClassNames(layer_object)\n",
    "    #Stores the layer names that we will use later\n",
    "    facilities_layer_name = sublayer_names[\"Facilities\"]\n",
    "\n",
    "    #Load the fire stations as facilities using default field mappings and\n",
    "    #default search tolerance\n",
    "    arcpy.na.AddLocations(layer_object, facilities_layer_name, facilities, \"\", \"\")\n",
    "\n",
    "    #Solve the service area layer\n",
    "    arcpy.na.Solve(layer_object)\n",
    "\n",
    "    #Save the solved service area layer as a layer file on disk\n",
    "    layer_object.saveACopy(output_layer_file)\n",
    "\n",
    "    print(\"Script completed successfully\")\n",
    "\n",
    "except Exception as e:\n",
    "    # If an error occurred, print line number and error message\n",
    "    import traceback, sys\n",
    "    tb = sys.exc_info()[2]\n",
    "    print(\"An error occurred on line %i\" % tb.tb_lineno)\n",
    "    print(str(e))"
   ]
  },
  {
   "cell_type": "markdown",
   "metadata": {},
   "source": [
    "### Hos3"
   ]
  },
  {
   "cell_type": "code",
   "execution_count": null,
   "metadata": {
    "collapsed": true
   },
   "outputs": [],
   "source": [
    "import arcpy\n",
    "from arcpy import env\n",
    "import os\n",
    "try:\n",
    "    #Set environment settings\n",
    "    output_dir = r\"C:\\Users\\kenta\\Documents\\ArcGIS\\Projects\\HealthPlaceNew\"\n",
    "    #The NA layer's data will be saved to the workspace specified here\n",
    "    env.workspace = os.path.join(output_dir, \"NetworkServiceRural.gdb\")\n",
    "    env.overwriteOutput = True\n",
    "    \n",
    "    #Set local variables\n",
    "    input_gdb1 = r\"C:/Users/kenta/Documents/HDDFiles/GISData_Import/Esri道路2014中国/道路網_鳥取県_島根県_岡山県_広島県_山口県版/ADF2014.gdb\"\n",
    "    network = os.path.join(input_gdb1, \"ADF\",\"ADF_ND\")\n",
    "    layer_name = \"Hos3Cover\"\n",
    "    travel_mode = \"Driving Time\"\n",
    "    input_gdb2 = \"C:/Users/kenta/Documents/ArcGIS/Projects/HealthPlaceNew/HealthPlaceNew.gdb\"\n",
    "    facilities = os.path.join(input_gdb2,\"Hos3Naika_Chugoku\")\n",
    "    output_layer_file = os.path.join(output_dir, layer_name + \".lyrx\")\n",
    "  \n",
    "    \n",
    "    #Create a new service area layer. We wish to generate the service area\n",
    "    #polygons as rings, so that we can easily visualize the coverage for any\n",
    "    #given location. We also want overlapping polygons so we can determine the\n",
    "    #number of fire stations that cover a given location. We will specify these\n",
    "    #options while creating the new service area layer.\n",
    "    result_object = arcpy.na.MakeServiceAreaAnalysisLayer(network, layer_name,\n",
    "                                    travel_mode, \"FROM_FACILITIES\", [10, 20, 30, 60],\n",
    "                                    time_zone=\"LOCAL_TIME_AT_LOCATIONS\",\n",
    "                                    polygon_detail=\"STANDARD\",\n",
    "                                    geometry_at_overlaps=\"OVERLAP\",\n",
    "                                    geometry_at_cutoffs=\"RINGS\")\n",
    "\n",
    "    #Get the layer object from the result object. The service layer can now be\n",
    "    #referenced using the layer object.\n",
    "    layer_object = result_object.getOutput(0)\n",
    "\n",
    "    #Get the names of all the sublayers within the service area layer.\n",
    "    sublayer_names = arcpy.na.GetNAClassNames(layer_object)\n",
    "    #Stores the layer names that we will use later\n",
    "    facilities_layer_name = sublayer_names[\"Facilities\"]\n",
    "\n",
    "    #Load the fire stations as facilities using default field mappings and\n",
    "    #default search tolerance\n",
    "    arcpy.na.AddLocations(layer_object, facilities_layer_name, facilities, \"\", \"\")\n",
    "\n",
    "    #Solve the service area layer\n",
    "    arcpy.na.Solve(layer_object)\n",
    "\n",
    "    #Save the solved service area layer as a layer file on disk\n",
    "    layer_object.saveACopy(output_layer_file)\n",
    "\n",
    "    print(\"Script completed successfully\")\n",
    "\n",
    "except Exception as e:\n",
    "    # If an error occurred, print line number and error message\n",
    "    import traceback, sys\n",
    "    tb = sys.exc_info()[2]\n",
    "    print(\"An error occurred on line %i\" % tb.tb_lineno)\n",
    "    print(str(e))"
   ]
  },
  {
   "cell_type": "markdown",
   "metadata": {
    "collapsed": true
   },
   "source": [
    "# Spatial join with Population data"
   ]
  },
  {
   "cell_type": "markdown",
   "metadata": {
    "collapsed": true
   },
   "source": [
    "### PHC"
   ]
  },
  {
   "cell_type": "code",
   "execution_count": 1,
   "metadata": {},
   "outputs": [
    {
     "name": "stdout",
     "output_type": "stream",
     "text": [
      "Script completed successfully\n"
     ]
    }
   ],
   "source": [
    "### Import system modules\n",
    "import arcpy\n",
    "import os\n",
    "\n",
    "try:\n",
    "    \n",
    "    # Set local variables\n",
    "    inWorkspace1 = r\"C:/Users/kenta/Documents/ArcGIS/Projects/HealthPlaceNew/NetworkServiceRural.gdb\"\n",
    "    inWorkspace2 = r\"C:/Users/kenta/Documents/ArcGIS/Projects/HealthPlaceNew/HealthPlaceNew.gdb\"\n",
    "    outWorkspace = r\"C:/Users/kenta/Documents/ArcGIS/Projects/HealthPlaceNew/E2FCAStep1Rural.gdb\"\n",
    "    \n",
    "    # Want to join PHCCover polygon to KIHON_Chugoku2010 and calculate\n",
    "    # the total number of population that service area (10, 20, 30, 60 min) can cover\n",
    "    targetFeatures = os.path.join(inWorkspace1, \"SAPolygons1\")\n",
    "    joinFeatures = os.path.join(inWorkspace2, \"KIHON_Chugoku2010\")\n",
    "    \n",
    "    # Output will be the target features: PHCCover Polygon with a sum of population field \n",
    "    outfc = os.path.join(outWorkspace, \"PHCCoverPop\")\n",
    "    \n",
    "    # Create a new fieldmappings and add the two input feature classes.\n",
    "    fieldmappings = arcpy.FieldMappings()\n",
    "    fieldmappings.addTable(targetFeatures)\n",
    "    fieldmappings.addTable(joinFeatures)\n",
    "    \n",
    "    # First get the POP_H22 fieldmap. POP_H22 is a field in the KIHON_Chugoku2010 feature class.\n",
    "    # The output will have the PHCCover Polygon with the attributes of the KIHON_Chugoku2010. Setting the\n",
    "    # field's merge rule to SUM will aggregate the values for all of the KIHON_Chugoku2010 for\n",
    "    # each break time into an SUM value. The field is also renamed to be more appropriate\n",
    "    # for the output.\n",
    "    POP2010FieldIndex = fieldmappings.findFieldMapIndex(\"POP_H22\")\n",
    "    fieldmap = fieldmappings.getFieldMap(POP2010FieldIndex)\n",
    "    \n",
    "    # Get the output field's properties as a field object\n",
    "    field = fieldmap.outputField\n",
    "    \n",
    "    # Rename the field and pass the updated field object back into the field map\n",
    "    field.name = \"SUM_POP\"\n",
    "    field.aliasName = \"SUM_POP\"\n",
    "    fieldmap.outputField = field\n",
    "    \n",
    "    # Set the merge rule to sum and then replace the old fieldmap in the mappings object\n",
    "    # with the updated one\n",
    "    fieldmap.mergeRule = \"sum\"\n",
    "    fieldmappings.replaceFieldMap(POP2010FieldIndex, fieldmap)\n",
    "    \n",
    "    # Delete fields that are no longer needed, such as city YEAR and PREF\n",
    "    # as only the first value will be used by default\n",
    "    x = fieldmappings.findFieldMapIndex(\"YEAR\")\n",
    "    fieldmappings.removeFieldMap(x)\n",
    "    y = fieldmappings.findFieldMapIndex(\"PREF\")\n",
    "    fieldmappings.removeFieldMap(y)\n",
    "    z = fieldmappings.findFieldMapIndex(\"CITY\")\n",
    "    fieldmappings.removeFieldMap(z)\n",
    "    a = fieldmappings.findFieldMapIndex(\"K_CODE\")\n",
    "    fieldmappings.removeFieldMap(a)\n",
    "    b = fieldmappings.findFieldMapIndex(\"C_CODE\")\n",
    "    fieldmappings.removeFieldMap(b)\n",
    "    c = fieldmappings.findFieldMapIndex(\"DID\")\n",
    "    fieldmappings.removeFieldMap(c)\n",
    "    d = fieldmappings.findFieldMapIndex(\"KEY_CODE\")\n",
    "    fieldmappings.removeFieldMap(d)\n",
    "    e = fieldmappings.findFieldMapIndex(\"PREF_NAME\")\n",
    "    fieldmappings.removeFieldMap(e)\n",
    "    f = fieldmappings.findFieldMapIndex(\"CITY_NAME\")\n",
    "    fieldmappings.removeFieldMap(f)\n",
    "    g = fieldmappings.findFieldMapIndex(\"OAZA_NAME\")\n",
    "    fieldmappings.removeFieldMap(g)\n",
    "    h = fieldmappings.findFieldMapIndex(\"AZA_NAME\")\n",
    "    fieldmappings.removeFieldMap(h)\n",
    "    i = fieldmappings.findFieldMapIndex(\"MALE_H22\")\n",
    "    fieldmappings.removeFieldMap(i)\n",
    "    j = fieldmappings.findFieldMapIndex(\"FEMALE_H22\")\n",
    "    fieldmappings.removeFieldMap(j)\n",
    "    k = fieldmappings.findFieldMapIndex(\"HOUSEHOLDS_H22\")\n",
    "    fieldmappings.removeFieldMap(k)\n",
    "    l = fieldmappings.findFieldMapIndex(\"Name\")\n",
    "    fieldmappings.removeFieldMap(l)\n",
    "    \n",
    "    \n",
    "    #Run the Spatial Join tool, using the defaults for the join operation and join type\n",
    "    arcpy.SpatialJoin_analysis(targetFeatures, joinFeatures, outfc, \"JOIN_ONE_TO_ONE\", \"KEEP_ALL\", fieldmappings,\"COMPLETELY_CONTAINS\")\n",
    "\n",
    "    print(\"Script completed successfully\")\n",
    "    \n",
    "except Exception as e:\n",
    "    # If an error occurred, print line number and error message\n",
    "    import traceback, sys\n",
    "    tb = sys.exc_info()[2]\n",
    "    print(\"An error occurred on line %i\" % tb.tb_lineno)\n",
    "    print(str(e))\n",
    "    "
   ]
  },
  {
   "cell_type": "markdown",
   "metadata": {
    "collapsed": true
   },
   "source": [
    "### Hos2"
   ]
  },
  {
   "cell_type": "code",
   "execution_count": 2,
   "metadata": {},
   "outputs": [
    {
     "name": "stdout",
     "output_type": "stream",
     "text": [
      "Script completed successfully\n"
     ]
    }
   ],
   "source": [
    "### Import system modules\n",
    "import arcpy\n",
    "import os\n",
    "\n",
    "try:\n",
    "    \n",
    "    # Set local variables\n",
    "    inWorkspace1 = r\"C:/Users/kenta/Documents/ArcGIS/Projects/HealthPlaceNew/NetworkServiceRural.gdb\"\n",
    "    inWorkspace2 = r\"C:/Users/kenta/Documents/ArcGIS/Projects/HealthPlaceNew/HealthPlaceNew.gdb\"\n",
    "    outWorkspace = r\"C:/Users/kenta/Documents/ArcGIS/Projects/HealthPlaceNew/E2FCAStep1Rural.gdb\"\n",
    "      \n",
    "    # Want to join PHCCover polygon to KIHON_Chugoku2010 and calculate\n",
    "    # the total number of population that service area (10, 20, 30 min) can cover\n",
    "    targetFeatures = os.path.join(inWorkspace1, \"SAPolygons2\")\n",
    "    joinFeatures = os.path.join(inWorkspace2, \"KIHON_Chugoku2010\")\n",
    "    \n",
    "    # Output will be the target features: PHCCover Polygon with a sum of population field \n",
    "    outfc = os.path.join(outWorkspace, \"Hos2CoverPop\")\n",
    "    \n",
    "    # Create a new fieldmappings and add the two input feature classes.\n",
    "    fieldmappings = arcpy.FieldMappings()\n",
    "    fieldmappings.addTable(targetFeatures)\n",
    "    fieldmappings.addTable(joinFeatures)\n",
    "    \n",
    "    # First get the POP_H22 fieldmap. POP_H22 is a field in the KIHON_Chugoku2010 feature class.\n",
    "    # The output will have the PHCCover Polygon with the attributes of the KIHON_Chugoku2010. Setting the\n",
    "    # field's merge rule to SUM will aggregate the values for all of the KIHON_Chugoku2010 for\n",
    "    # each break time into an SUM value. The field is also renamed to be more appropriate\n",
    "    # for the output.\n",
    "    POP2010FieldIndex = fieldmappings.findFieldMapIndex(\"POP_H22\")\n",
    "    fieldmap = fieldmappings.getFieldMap(POP2010FieldIndex)\n",
    "    \n",
    "    # Get the output field's properties as a field object\n",
    "    field = fieldmap.outputField\n",
    "    \n",
    "    # Rename the field and pass the updated field object back into the field map\n",
    "    field.name = \"SUM_POP\"\n",
    "    field.aliasName = \"SUM_POP\"\n",
    "    fieldmap.outputField = field\n",
    "    \n",
    "    # Set the merge rule to sum and then replace the old fieldmap in the mappings object\n",
    "    # with the updated one\n",
    "    fieldmap.mergeRule = \"sum\"\n",
    "    fieldmappings.replaceFieldMap(POP2010FieldIndex, fieldmap)\n",
    "    \n",
    "    # Delete fields that are no longer applicable, such as city CITY_NAME and CITY_FIPS\n",
    "    # as only the first value will be used by default\n",
    "    x = fieldmappings.findFieldMapIndex(\"YEAR\")\n",
    "    fieldmappings.removeFieldMap(x)\n",
    "    y = fieldmappings.findFieldMapIndex(\"PREF\")\n",
    "    fieldmappings.removeFieldMap(y)\n",
    "    z = fieldmappings.findFieldMapIndex(\"CITY\")\n",
    "    fieldmappings.removeFieldMap(z)\n",
    "    a = fieldmappings.findFieldMapIndex(\"K_CODE\")\n",
    "    fieldmappings.removeFieldMap(a)\n",
    "    b = fieldmappings.findFieldMapIndex(\"C_CODE\")\n",
    "    fieldmappings.removeFieldMap(b)\n",
    "    c = fieldmappings.findFieldMapIndex(\"DID\")\n",
    "    fieldmappings.removeFieldMap(c)\n",
    "    d = fieldmappings.findFieldMapIndex(\"KEY_CODE\")\n",
    "    fieldmappings.removeFieldMap(d)\n",
    "    e = fieldmappings.findFieldMapIndex(\"PREF_NAME\")\n",
    "    fieldmappings.removeFieldMap(e)\n",
    "    f = fieldmappings.findFieldMapIndex(\"CITY_NAME\")\n",
    "    fieldmappings.removeFieldMap(f)\n",
    "    g = fieldmappings.findFieldMapIndex(\"OAZA_NAME\")\n",
    "    fieldmappings.removeFieldMap(g)\n",
    "    h = fieldmappings.findFieldMapIndex(\"AZA_NAME\")\n",
    "    fieldmappings.removeFieldMap(h)\n",
    "    i = fieldmappings.findFieldMapIndex(\"MALE_H22\")\n",
    "    fieldmappings.removeFieldMap(i)\n",
    "    j = fieldmappings.findFieldMapIndex(\"FEMALE_H22\")\n",
    "    fieldmappings.removeFieldMap(j)\n",
    "    k = fieldmappings.findFieldMapIndex(\"HOUSEHOLDS_H22\")\n",
    "    fieldmappings.removeFieldMap(k)\n",
    "    l = fieldmappings.findFieldMapIndex(\"Name\")\n",
    "    fieldmappings.removeFieldMap(l)\n",
    "    \n",
    "    #Run the Spatial Join tool, using the defaults for the join operation and join type\n",
    "    arcpy.SpatialJoin_analysis(targetFeatures, joinFeatures, outfc, \"JOIN_ONE_TO_ONE\", \"KEEP_ALL\", fieldmappings,\"COMPLETELY_CONTAINS\")\n",
    "\n",
    "    print(\"Script completed successfully\")\n",
    "    \n",
    "except Exception as e:\n",
    "    # If an error occurred, print line number and error message\n",
    "    import traceback, sys\n",
    "    tb = sys.exc_info()[2]\n",
    "    print(\"An error occurred on line %i\" % tb.tb_lineno)\n",
    "    print(str(e))"
   ]
  },
  {
   "cell_type": "markdown",
   "metadata": {
    "collapsed": true
   },
   "source": [
    "### Hos3"
   ]
  },
  {
   "cell_type": "code",
   "execution_count": 3,
   "metadata": {},
   "outputs": [
    {
     "name": "stdout",
     "output_type": "stream",
     "text": [
      "Script completed successfully\n"
     ]
    }
   ],
   "source": [
    "### Import system modules\n",
    "import arcpy\n",
    "import os\n",
    "\n",
    "try:\n",
    "    \n",
    "    # Set local variables\n",
    "    inWorkspace1 = r\"C:/Users/kenta/Documents/ArcGIS/Projects/HealthPlaceNew/NetworkServiceRural.gdb\"\n",
    "    inWorkspace2 = r\"C:/Users/kenta/Documents/ArcGIS/Projects/HealthPlaceNew/HealthPlaceNew.gdb\"\n",
    "    outWorkspace = r\"C:/Users/kenta/Documents/ArcGIS/Projects/HealthPlaceNew/E2FCAStep1Rural.gdb\"\n",
    "    \n",
    "    # Want to join PHCCover polygon to KIHON_Chugoku2010 and calculate\n",
    "    # the total number of population that service area (10, 20, 30 min) can cover\n",
    "    targetFeatures = os.path.join(inWorkspace1, \"SAPolygons3\")\n",
    "    joinFeatures = os.path.join(inWorkspace2, \"KIHON_Chugoku2010\")\n",
    "    \n",
    "    # Output will be the target features: PHCCover Polygon with a sum of population field \n",
    "    outfc = os.path.join(outWorkspace, \"Hos3CoverPop\")\n",
    "    \n",
    "    # Create a new fieldmappings and add the two input feature classes.\n",
    "    fieldmappings = arcpy.FieldMappings()\n",
    "    fieldmappings.addTable(targetFeatures)\n",
    "    fieldmappings.addTable(joinFeatures)\n",
    "    \n",
    "    # First get the POP_H22 fieldmap. POP_H22 is a field in the KIHON_Chugoku2010 feature class.\n",
    "    # The output will have the PHCCover Polygon with the attributes of the KIHON_Chugoku2010. Setting the\n",
    "    # field's merge rule to SUM will aggregate the values for all of the KIHON_Chugoku2010 for\n",
    "    # each break time into an SUM value. The field is also renamed to be more appropriate\n",
    "    # for the output.\n",
    "    POP2010FieldIndex = fieldmappings.findFieldMapIndex(\"POP_H22\")\n",
    "    fieldmap = fieldmappings.getFieldMap(POP2010FieldIndex)\n",
    "    \n",
    "    # Get the output field's properties as a field object\n",
    "    field = fieldmap.outputField\n",
    "    \n",
    "    # Rename the field and pass the updated field object back into the field map\n",
    "    field.name = \"SUM_POP\"\n",
    "    field.aliasName = \"SUM_POP\"\n",
    "    fieldmap.outputField = field\n",
    "    \n",
    "    # Set the merge rule to sum and then replace the old fieldmap in the mappings object\n",
    "    # with the updated one\n",
    "    fieldmap.mergeRule = \"sum\"\n",
    "    fieldmappings.replaceFieldMap(POP2010FieldIndex, fieldmap)\n",
    "    \n",
    "    # Delete fields that are no longer applicable, such as city CITY_NAME and CITY_FIPS\n",
    "    # as only the first value will be used by default\n",
    "    x = fieldmappings.findFieldMapIndex(\"YEAR\")\n",
    "    fieldmappings.removeFieldMap(x)\n",
    "    y = fieldmappings.findFieldMapIndex(\"PREF\")\n",
    "    fieldmappings.removeFieldMap(y)\n",
    "    z = fieldmappings.findFieldMapIndex(\"CITY\")\n",
    "    fieldmappings.removeFieldMap(z)\n",
    "    a = fieldmappings.findFieldMapIndex(\"K_CODE\")\n",
    "    fieldmappings.removeFieldMap(a)\n",
    "    b = fieldmappings.findFieldMapIndex(\"C_CODE\")\n",
    "    fieldmappings.removeFieldMap(b)\n",
    "    c = fieldmappings.findFieldMapIndex(\"DID\")\n",
    "    fieldmappings.removeFieldMap(c)\n",
    "    d = fieldmappings.findFieldMapIndex(\"KEY_CODE\")\n",
    "    fieldmappings.removeFieldMap(d)\n",
    "    e = fieldmappings.findFieldMapIndex(\"PREF_NAME\")\n",
    "    fieldmappings.removeFieldMap(e)\n",
    "    f = fieldmappings.findFieldMapIndex(\"CITY_NAME\")\n",
    "    fieldmappings.removeFieldMap(f)\n",
    "    g = fieldmappings.findFieldMapIndex(\"OAZA_NAME\")\n",
    "    fieldmappings.removeFieldMap(g)\n",
    "    h = fieldmappings.findFieldMapIndex(\"AZA_NAME\")\n",
    "    fieldmappings.removeFieldMap(h)\n",
    "    i = fieldmappings.findFieldMapIndex(\"MALE_H22\")\n",
    "    fieldmappings.removeFieldMap(i)\n",
    "    j = fieldmappings.findFieldMapIndex(\"FEMALE_H22\")\n",
    "    fieldmappings.removeFieldMap(j)\n",
    "    k = fieldmappings.findFieldMapIndex(\"HOUSEHOLDS_H22\")\n",
    "    fieldmappings.removeFieldMap(k)\n",
    "    l = fieldmappings.findFieldMapIndex(\"Name\")\n",
    "    fieldmappings.removeFieldMap(l)\n",
    "    \n",
    "    #Run the Spatial Join tool, using the defaults for the join operation and join type\n",
    "    arcpy.SpatialJoin_analysis(targetFeatures, joinFeatures, outfc, \"JOIN_ONE_TO_ONE\", \"KEEP_ALL\", fieldmappings,\"COMPLETELY_CONTAINS\")\n",
    "\n",
    "    print(\"Script completed successfully\")\n",
    "    \n",
    "except Exception as e:\n",
    "    # If an error occurred, print line number and error message\n",
    "    import traceback, sys\n",
    "    tb = sys.exc_info()[2]\n",
    "    print(\"An error occurred on line %i\" % tb.tb_lineno)\n",
    "    print(str(e))"
   ]
  },
  {
   "cell_type": "markdown",
   "metadata": {
    "collapsed": true
   },
   "source": [
    "# Weighting the Step 1 population with slow and quick distance decay"
   ]
  },
  {
   "cell_type": "markdown",
   "metadata": {
    "collapsed": true
   },
   "source": [
    "### PHC"
   ]
  },
  {
   "cell_type": "code",
   "execution_count": 4,
   "metadata": {
    "scrolled": true
   },
   "outputs": [
    {
     "name": "stdout",
     "output_type": "stream",
     "text": [
      "Script completed successfully\n"
     ]
    }
   ],
   "source": [
    "import arcpy\n",
    "from arcpy import env\n",
    "try:\n",
    "    # Set environment settings\n",
    "    env.workspace = r\"C:\\Users\\kenta\\Documents\\ArcGIS\\Projects\\HealthPlaceNew\\E2FCAStep1Rural.gdb\"\n",
    "    \n",
    "    # Set local variables\n",
    "    inTable = \"PHCCoverPop\"\n",
    "    fieldName1 = \"PropToPopSlow\"\n",
    "    fieldName2 = \"PropToPopQuick\"\n",
    "    expression1 = \"w(!ToBreak!,!SUM_POP!)\"\n",
    "    codeblock1 = \"\"\"def w (f1,f2):\n",
    "        if f1 <= 10:\n",
    "            return f2 * 1\n",
    "        elif f1 > 10 and f1 <= 20:\n",
    "            return f2 * 0.80\n",
    "        elif f1 > 20 and f1 <=30:\n",
    "            return f2 * 0.55\n",
    "        elif f1 > 30 and f1 <=60:\n",
    "            return f2 * 0.15\"\"\"\n",
    "    codeblock2 = \"\"\"def w(f1,f2):\n",
    "        if f1 <= 10:\n",
    "            return f2 * 1\n",
    "        elif f1 > 10 and f1 <= 20:\n",
    "            return f2 * 0.60\n",
    "        elif f1 > 20 and f1 <=30:\n",
    "            return f2 * 0.25\n",
    "        elif f1 > 30 and f1 <=60:\n",
    "            return f2 * 0.05\"\"\"\n",
    "    \n",
    "    # Execute AddField\n",
    "    arcpy.AddField_management(inTable, fieldName1, \"DOUBLE\")\n",
    "    arcpy.AddField_management(inTable, fieldName2, \"DOUBLE\")\n",
    "    # Execute CalculateField - weighting\n",
    "    arcpy.CalculateField_management(inTable, fieldName1, expression1, \"PYTHON_9.3\", codeblock1)\n",
    "    arcpy.CalculateField_management(inTable, fieldName2, expression1, \"PYTHON_9.3\", codeblock2)\n",
    "\n",
    "    print(\"Script completed successfully\")\n",
    "    \n",
    "except Exception as e:\n",
    "    # If an error occurred, print line number and error message\n",
    "    import traceback, sys\n",
    "    tb = sys.exc_info()[2]\n",
    "    print(\"An error occurred on line %i\" % tb.tb_lineno)\n",
    "    print(str(e))"
   ]
  },
  {
   "cell_type": "markdown",
   "metadata": {},
   "source": [
    "### Hos2"
   ]
  },
  {
   "cell_type": "code",
   "execution_count": 11,
   "metadata": {},
   "outputs": [
    {
     "name": "stdout",
     "output_type": "stream",
     "text": [
      "Script completed successfully\n"
     ]
    }
   ],
   "source": [
    "import arcpy\n",
    "from arcpy import env\n",
    "try:\n",
    "    # Set environment settings\n",
    "    env.workspace = r\"C:\\Users\\kenta\\Documents\\ArcGIS\\Projects\\HealthPlaceNew\\E2FCAStep1Rural.gdb\"\n",
    "    \n",
    "    # Set local variables\n",
    "    inTable = \"Hos2CoverPop\"\n",
    "    fieldName1 = \"PropToPopSlow\"\n",
    "    fieldName2 = \"PropToPopQuick\"\n",
    "    expression1 = \"w(!ToBreak!,!SUM_POP!)\"\n",
    "    codeblock1 = \"\"\"def w (f1,f2):\n",
    "        if f1 <= 10:\n",
    "            return f2 * 1\n",
    "        elif f1 > 10 and f1 <= 20:\n",
    "            return f2 * 0.80\n",
    "        elif f1 > 20 and f1 <=30:\n",
    "            return f2 * 0.55\n",
    "        elif f1 > 30 and f1 <=60:\n",
    "            return f2 * 0.15\"\"\"\n",
    "    codeblock2 = \"\"\"def w(f1,f2):\n",
    "        if f1 <= 10:\n",
    "            return f2 * 1\n",
    "        elif f1 > 10 and f1 <= 20:\n",
    "            return f2 * 0.60\n",
    "        elif f1 > 20 and f1 <=30:\n",
    "            return f2 * 0.25\n",
    "        elif f1 > 30 and f1 <=60:\n",
    "            return f2 * 0.05\"\"\"\n",
    "    \n",
    "    # Execute AddField\n",
    "    arcpy.AddField_management(inTable, fieldName1, \"DOUBLE\")\n",
    "    arcpy.AddField_management(inTable, fieldName2, \"DOUBLE\")\n",
    "    # Execute CalculateField - weighting\n",
    "    arcpy.CalculateField_management(inTable, fieldName1, expression1, \"PYTHON_9.3\", codeblock1)\n",
    "    arcpy.CalculateField_management(inTable, fieldName2, expression1, \"PYTHON_9.3\", codeblock2)\n",
    "\n",
    "    print(\"Script completed successfully\")\n",
    "    \n",
    "except Exception as e:\n",
    "    # If an error occurred, print line number and error message\n",
    "    import traceback, sys\n",
    "    tb = sys.exc_info()[2]\n",
    "    print(\"An error occurred on line %i\" % tb.tb_lineno)\n",
    "    print(str(e))"
   ]
  },
  {
   "cell_type": "markdown",
   "metadata": {
    "collapsed": true
   },
   "source": [
    "### Hos3"
   ]
  },
  {
   "cell_type": "code",
   "execution_count": 12,
   "metadata": {},
   "outputs": [
    {
     "name": "stdout",
     "output_type": "stream",
     "text": [
      "Script completed successfully\n"
     ]
    }
   ],
   "source": [
    "import arcpy\n",
    "from arcpy import env\n",
    "try:\n",
    "    # Set environment settings\n",
    "    env.workspace = r\"C:\\Users\\kenta\\Documents\\ArcGIS\\Projects\\HealthPlaceNew\\E2FCAStep1Rural.gdb\"\n",
    "    \n",
    "    # Set local variables\n",
    "    inTable = \"Hos3CoverPop\"\n",
    "    fieldName1 = \"PropToPopSlow\"\n",
    "    fieldName2 = \"PropToPopQuick\"\n",
    "    expression1 = \"w(!ToBreak!,!SUM_POP!)\"\n",
    "    codeblock1 = \"\"\"def w (f1,f2):\n",
    "        if f1 <= 10:\n",
    "            return f2 * 1\n",
    "        elif f1 > 10 and f1 <= 20:\n",
    "            return f2 * 0.80\n",
    "        elif f1 > 20 and f1 <=30:\n",
    "            return f2 * 0.55\n",
    "        elif f1 > 30 and f1 <=60:\n",
    "            return f2 * 0.15\"\"\"\n",
    "    codeblock2 = \"\"\"def w(f1,f2):\n",
    "        if f1 <= 10:\n",
    "            return f2 * 1\n",
    "        elif f1 > 10 and f1 <= 20:\n",
    "            return f2 * 0.60\n",
    "        elif f1 > 20 and f1 <=30:\n",
    "            return f2 * 0.25\n",
    "        elif f1 > 30 and f1 <=60:\n",
    "            return f2 * 0.05\"\"\"\n",
    "    \n",
    "    # Execute AddField\n",
    "    arcpy.AddField_management(inTable, fieldName1, \"DOUBLE\")\n",
    "    arcpy.AddField_management(inTable, fieldName2, \"DOUBLE\")\n",
    "    # Execute CalculateField - weighting\n",
    "    arcpy.CalculateField_management(inTable, fieldName1, expression1, \"PYTHON_9.3\", codeblock1)\n",
    "    arcpy.CalculateField_management(inTable, fieldName2, expression1, \"PYTHON_9.3\", codeblock2)\n",
    "\n",
    "    print(\"Script completed successfully\")\n",
    "    \n",
    "except Exception as e:\n",
    "    # If an error occurred, print line number and error message\n",
    "    import traceback, sys\n",
    "    tb = sys.exc_info()[2]\n",
    "    print(\"An error occurred on line %i\" % tb.tb_lineno)\n",
    "    print(str(e))"
   ]
  },
  {
   "cell_type": "markdown",
   "metadata": {},
   "source": [
    "# Dissolve all 4 breaks polygons into one by Faciliy ID"
   ]
  },
  {
   "cell_type": "markdown",
   "metadata": {},
   "source": [
    "## First block executes dissolve by Facility ID and sum up weighted population in each breaks\n",
    "## Second block executes a calculation to get supply - demand ratio: 1 / cover pop"
   ]
  },
  {
   "cell_type": "markdown",
   "metadata": {
    "collapsed": true
   },
   "source": [
    "### PHC"
   ]
  },
  {
   "cell_type": "code",
   "execution_count": 13,
   "metadata": {},
   "outputs": [
    {
     "name": "stdout",
     "output_type": "stream",
     "text": [
      "Script completed successfully\n"
     ]
    }
   ],
   "source": [
    "import arcpy\n",
    "from arcpy import env\n",
    "import os\n",
    "try:\n",
    "    # Set environment settings\n",
    "    env.workspace = r\"C:\\Users\\kenta\\Documents\\ArcGIS\\Projects\\HealthPlaceNew\\E2FCAStep1Rural.gdb\"\n",
    "    # Set local variables\n",
    "    inWorkspace = r\"C:\\Users\\kenta\\Documents\\ArcGIS\\Projects\\HealthPlaceNew\\E2FCAStep1Rural.gdb\"\n",
    "    outWorkspace = r\"C:\\Users\\kenta\\Documents\\ArcGIS\\Projects\\HealthPlaceNew\\E2FCAStep1Rural.gdb\"\n",
    "    inFeatures = os.path.join(inWorkspace,\"PHCCoverPop\")\n",
    "    outFeatures = os.path.join(outWorkspace,\"PHCCoverDiss\")\n",
    "    dissolveFields = [\"FacilityID\"]\n",
    "    statFields = [[\"PropToPopSlow\",\"sum\"],[\"PropToPopQuick\",\"sum\"]]\n",
    "    \n",
    "    # Execute Dissolve using FaclityID as Dissolve Fields, summing the weighted PropToPop(Slow & Quick) of 3 time breaks into 1\n",
    "    arcpy.Dissolve_management(inFeatures, outFeatures, dissolveFields, statFields)\n",
    "    \n",
    "    print(\"Script completed successfully\")\n",
    "    \n",
    "except Exception as e:\n",
    "    # If an error occurred, print line number and error message\n",
    "    import traceback, sys\n",
    "    tb = sys.exc_info()[2]\n",
    "    print(\"An error occurred on line %i\" % tb.tb_lineno)\n",
    "    print(str(e))"
   ]
  },
  {
   "cell_type": "code",
   "execution_count": 16,
   "metadata": {},
   "outputs": [
    {
     "name": "stdout",
     "output_type": "stream",
     "text": [
      "Script completed successfully\n"
     ]
    }
   ],
   "source": [
    "import arcpy\n",
    "from arcpy import env\n",
    "try:\n",
    "    # Set environment settings\n",
    "    env.workspace = r\"C:\\Users\\kenta\\Documents\\ArcGIS\\Projects\\HealthPlaceNew\\E2FCAStep1Rural.gdb\"\n",
    "    \n",
    "    # Set local variables\n",
    "    inTable = \"PHCCoverDiss\"\n",
    "    fieldName1 = \"SUM_PropToPopSlow\"\n",
    "    fieldName2 = \"SUM_PropToPopQuick\"\n",
    "    expression1 = \"1/!SUM_PropToPopSlow!\"\n",
    "    expression2 = \"1/!SUM_PropToPopQuick!\"    \n",
    "    # Execute CalculateField - getting PropToPop deviding 1 by weighted population\n",
    "    arcpy.CalculateField_management(inTable, fieldName1, expression1, \"PYTHON_9.3\")\n",
    "    arcpy.CalculateField_management(inTable, fieldName2, expression2, \"PYTHON_9.3\")\n",
    "\n",
    "    print(\"Script completed successfully\")\n",
    "    \n",
    "except Exception as e:\n",
    "    # If an error occurred, print line number and error message\n",
    "    import traceback, sys\n",
    "    tb = sys.exc_info()[2]\n",
    "    print(\"An error occurred on line %i\" % tb.tb_lineno)\n",
    "    print(str(e))"
   ]
  },
  {
   "cell_type": "markdown",
   "metadata": {
    "collapsed": true
   },
   "source": [
    "### Hos2"
   ]
  },
  {
   "cell_type": "code",
   "execution_count": 14,
   "metadata": {},
   "outputs": [
    {
     "name": "stdout",
     "output_type": "stream",
     "text": [
      "Script completed successfully\n"
     ]
    }
   ],
   "source": [
    "import arcpy\n",
    "from arcpy import env\n",
    "import os\n",
    "try:\n",
    "    # Set environment settings\n",
    "    env.workspace = r\"C:\\Users\\kenta\\Documents\\ArcGIS\\Projects\\HealthPlaceNew\\E2FCAStep1Rural.gdb\"\n",
    "    # Set local variables\n",
    "    inWorkspace = r\"C:\\Users\\kenta\\Documents\\ArcGIS\\Projects\\HealthPlaceNew\\E2FCAStep1Rural.gdb\"\n",
    "    outWorkspace = r\"C:\\Users\\kenta\\Documents\\ArcGIS\\Projects\\HealthPlaceNew\\E2FCAStep1Rural.gdb\"\n",
    "    inFeatures = os.path.join(inWorkspace,\"Hos2CoverPop\")\n",
    "    outFeatures = os.path.join(outWorkspace,\"Hos2CoverDiss\")\n",
    "    dissolveFields = [\"FacilityID\"]\n",
    "    statFields = [[\"PropToPopSlow\",\"sum\"],[\"PropToPopQuick\",\"sum\"]]\n",
    "    \n",
    "    # Execute Dissolve using FaclityID as Dissolve Fields, summing the weighted PropToPop(Slow & Quick) of 3 time breaks into 1\n",
    "    arcpy.Dissolve_management(inFeatures, outFeatures, dissolveFields, statFields)\n",
    "\n",
    "    print(\"Script completed successfully\")\n",
    "    \n",
    "except Exception as e:\n",
    "    # If an error occurred, print line number and error message\n",
    "    import traceback, sys\n",
    "    tb = sys.exc_info()[2]\n",
    "    print(\"An error occurred on line %i\" % tb.tb_lineno)\n",
    "    print(str(e))"
   ]
  },
  {
   "cell_type": "code",
   "execution_count": 17,
   "metadata": {},
   "outputs": [
    {
     "name": "stdout",
     "output_type": "stream",
     "text": [
      "Script completed successfully\n"
     ]
    }
   ],
   "source": [
    "import arcpy\n",
    "from arcpy import env\n",
    "try:\n",
    "    # Set environment settings\n",
    "    env.workspace = r\"C:\\Users\\kenta\\Documents\\ArcGIS\\Projects\\HealthPlaceNew\\E2FCAStep1Rural.gdb\"\n",
    "    \n",
    "    # Set local variables\n",
    "    inTable = \"Hos2CoverDiss\"\n",
    "    fieldName1 = \"SUM_PropToPopSlow\"\n",
    "    fieldName2 = \"SUM_PropToPopQuick\"\n",
    "    expression1 = \"1/!SUM_PropToPopSlow!\"\n",
    "    expression2 = \"1/!SUM_PropToPopQuick!\"    \n",
    "    # Execute CalculateField - getting PropToPop deviding 1 by weighted population\n",
    "    arcpy.CalculateField_management(inTable, fieldName1, expression1, \"PYTHON_9.3\")\n",
    "    arcpy.CalculateField_management(inTable, fieldName2, expression2, \"PYTHON_9.3\")\n",
    "\n",
    "    print(\"Script completed successfully\")\n",
    "    \n",
    "except Exception as e:\n",
    "    # If an error occurred, print line number and error message\n",
    "    import traceback, sys\n",
    "    tb = sys.exc_info()[2]\n",
    "    print(\"An error occurred on line %i\" % tb.tb_lineno)\n",
    "    print(str(e))"
   ]
  },
  {
   "cell_type": "markdown",
   "metadata": {
    "collapsed": true
   },
   "source": [
    "### Hos3"
   ]
  },
  {
   "cell_type": "code",
   "execution_count": 15,
   "metadata": {},
   "outputs": [
    {
     "name": "stdout",
     "output_type": "stream",
     "text": [
      "Script completed successfully\n"
     ]
    }
   ],
   "source": [
    "import arcpy\n",
    "from arcpy import env\n",
    "import os\n",
    "try:\n",
    "    # Set environment settings\n",
    "    env.workspace = r\"C:\\Users\\kenta\\Documents\\ArcGIS\\Projects\\HealthPlaceNew\\E2FCAStep1Rural.gdb\"\n",
    "    # Set local variables   \n",
    "    inWorkspace = r\"C:\\Users\\kenta\\Documents\\ArcGIS\\Projects\\HealthPlaceNew\\E2FCAStep1Rural.gdb\"\n",
    "    outWorkspace = r\"C:\\Users\\kenta\\Documents\\ArcGIS\\Projects\\HealthPlaceNew\\E2FCAStep1Rural.gdb\"\n",
    "    inFeatures = os.path.join(inWorkspace,\"Hos3CoverPop\")\n",
    "    outFeatures = os.path.join(outWorkspace,\"Hos3CoverDiss\")\n",
    "    dissolveFields = [\"FacilityID\"]\n",
    "    statFields = [[\"PropToPopSlow\",\"sum\"],[\"PropToPopQuick\",\"sum\"]]\n",
    "    \n",
    "    # Execute Dissolve using FaclityID as Dissolve Fields, summing the weighted PropToPop(Slow & Quick) of 3 time breaks into 1\n",
    "    arcpy.Dissolve_management(inFeatures, outFeatures, dissolveFields, statFields)\n",
    "\n",
    "    print(\"Script completed successfully\")\n",
    "    \n",
    "except Exception as e:\n",
    "    # If an error occurred, print line number and error message\n",
    "    import traceback, sys\n",
    "    tb = sys.exc_info()[2]\n",
    "    print(\"An error occurred on line %i\" % tb.tb_lineno)\n",
    "    print(str(e))"
   ]
  },
  {
   "cell_type": "code",
   "execution_count": 18,
   "metadata": {},
   "outputs": [
    {
     "name": "stdout",
     "output_type": "stream",
     "text": [
      "Script completed successfully\n"
     ]
    }
   ],
   "source": [
    "import arcpy\n",
    "from arcpy import env\n",
    "try:\n",
    "    # Set environment settings\n",
    "    env.workspace = r\"C:\\Users\\kenta\\Documents\\ArcGIS\\Projects\\HealthPlaceNew\\E2FCAStep1Rural.gdb\"\n",
    "    \n",
    "    # Set local variables\n",
    "    inTable = \"Hos3CoverDiss\"\n",
    "    fieldName1 = \"SUM_PropToPopSlow\"\n",
    "    fieldName2 = \"SUM_PropToPopQuick\"\n",
    "    expression1 = \"1/!SUM_PropToPopSlow!\"\n",
    "    expression2 = \"1/!SUM_PropToPopQuick!\"    \n",
    "    # Execute CalculateField - getting PropToPop deviding 1 by weighted population\n",
    "    arcpy.CalculateField_management(inTable, fieldName1, expression1, \"PYTHON_9.3\")\n",
    "    arcpy.CalculateField_management(inTable, fieldName2, expression2, \"PYTHON_9.3\")\n",
    "\n",
    "    print(\"Script completed successfully\")\n",
    "    \n",
    "except Exception as e:\n",
    "    # If an error occurred, print line number and error message\n",
    "    import traceback, sys\n",
    "    tb = sys.exc_info()[2]\n",
    "    print(\"An error occurred on line %i\" % tb.tb_lineno)\n",
    "    print(str(e))"
   ]
  },
  {
   "cell_type": "markdown",
   "metadata": {},
   "source": [
    "# Join fields (PropToPopSlow and PropToPopQuick) back to the healthcare point feature"
   ]
  },
  {
   "cell_type": "markdown",
   "metadata": {
    "collapsed": true
   },
   "source": [
    "### PHC"
   ]
  },
  {
   "cell_type": "code",
   "execution_count": 19,
   "metadata": {},
   "outputs": [
    {
     "name": "stdout",
     "output_type": "stream",
     "text": [
      "Script completed successfully\n"
     ]
    }
   ],
   "source": [
    "import arcpy\n",
    "from arcpy import env\n",
    "import os\n",
    "try:\n",
    "    # Set environment settings\n",
    "    env.workspace = r\"C:\\Users\\kenta\\Documents\\ArcGIS\\Projects\\HealthPlaceNew\\E2FCAStep1Rural.gdb\"\n",
    "    \n",
    "    # Set the local parameters\n",
    "    inWorkspace1 = r\"C:\\Users\\kenta\\Documents\\ArcGIS\\Projects\\HealthPlaceNew\\HealthPlaceNew.gdb\"\n",
    "    inWorkspace2 = r\"C:\\Users\\kenta\\Documents\\ArcGIS\\Projects\\HealthPlaceNew\\E2FCAStep1Rural.gdb\"\n",
    "    inFeatures = os.path.join(inWorkspace1,\"PHCNaika_Chugoku\")\n",
    "    joinField1 = \"OBJECTID\"\n",
    "    joinTable = os.path.join(inWorkspace2,\"PHCCoverDiss\")\n",
    "    joinField2 = \"FacilityID\"\n",
    "    fieldList = [\"SUM_PropToPopSlow\", \"SUM_PropToPopQuick\"] \n",
    "    outFeatures = os.path.join(inWorkspace2,\"PHCNaika_ChugokuPTP\")\n",
    "    dropFields = [\"P04_001\", \"P04_002\", \"P04_003\", \"P04_004\", \"P04_005\", \"P04_006\", \"P04_007\", \"Naika\"]\n",
    "    \n",
    "    \n",
    "    # Join two feature classes by the OBJECTID and FacilityID fields and only carry \n",
    "    # over the PropToPopSlow and PropToPopQuick fields\n",
    "    arcpy.JoinField_management(inFeatures, joinField1, joinTable, joinField2, fieldList)\n",
    "    # Create a new feature in a current workspace = E2FCAStep1Rural.gdb\n",
    "    arcpy.CopyFeatures_management(inFeatures, outFeatures)\n",
    "    # Delete unnecessary fields\n",
    "    arcpy.DeleteField_management(outFeatures, dropFields)\n",
    "    \n",
    "    print(\"Script completed successfully\")\n",
    "\n",
    "except Exception as e:\n",
    "    # If an error occurred, print line number and error message\n",
    "    import traceback, sys\n",
    "    tb = sys.exc_info()[2]\n",
    "    print(\"An error occurred on line %i\" % tb.tb_lineno)\n",
    "    print(str(e))"
   ]
  },
  {
   "cell_type": "markdown",
   "metadata": {
    "collapsed": true
   },
   "source": [
    "### Hos2"
   ]
  },
  {
   "cell_type": "code",
   "execution_count": 20,
   "metadata": {},
   "outputs": [
    {
     "name": "stdout",
     "output_type": "stream",
     "text": [
      "Script completed successfully\n"
     ]
    }
   ],
   "source": [
    "import arcpy\n",
    "from arcpy import env\n",
    "import os\n",
    "try:\n",
    "    # Set environment settings\n",
    "    env.workspace = r\"C:\\Users\\kenta\\Documents\\ArcGIS\\Projects\\HealthPlaceNew\\E2FCAStep1Rural.gdb\"\n",
    "    \n",
    "    # Set the local parameters\n",
    "    inWorkspace1 = r\"C:\\Users\\kenta\\Documents\\ArcGIS\\Projects\\HealthPlaceNew\\HealthPlaceNew.gdb\"\n",
    "    inWorkspace2 = r\"C:\\Users\\kenta\\Documents\\ArcGIS\\Projects\\HealthPlaceNew\\E2FCAStep1Rural.gdb\"\n",
    "    inFeatures = os.path.join(inWorkspace1,\"Hos2Naika_Chugoku\")\n",
    "    joinField1 = \"OBJECTID\"\n",
    "    joinTable = os.path.join(inWorkspace2,\"Hos2CoverDiss\")\n",
    "    joinField2 = \"FacilityID\"\n",
    "    fieldList = [\"SUM_PropToPopSlow\", \"SUM_PropToPopQuick\"] \n",
    "    outFeatures = os.path.join(inWorkspace2,\"Hos2Naika_ChugokuPTP\")\n",
    "    dropFields = [\"P04_001\", \"P04_002\", \"P04_003\", \"P04_004\", \"P04_005\", \"P04_006\", \"P04_007\", \"Naika\"]\n",
    "    \n",
    "    \n",
    "    # Join two feature classes by the OBJECTID and FacilityID fields and only carry \n",
    "    # over the PropToPopSlow and PropToPopQuick fields\n",
    "    arcpy.JoinField_management(inFeatures, joinField1, joinTable, joinField2, fieldList)\n",
    "    # Create a new feature in a current workspace = E2FCAStep1Rural.gdb\n",
    "    arcpy.CopyFeatures_management(inFeatures, outFeatures)\n",
    "    # Delete unnecessary fields\n",
    "    arcpy.DeleteField_management(outFeatures, dropFields)\n",
    "    \n",
    "    print(\"Script completed successfully\")\n",
    "\n",
    "except Exception as e:\n",
    "    # If an error occurred, print line number and error message\n",
    "    import traceback, sys\n",
    "    tb = sys.exc_info()[2]\n",
    "    print(\"An error occurred on line %i\" % tb.tb_lineno)\n",
    "    print(str(e))"
   ]
  },
  {
   "cell_type": "markdown",
   "metadata": {
    "collapsed": true
   },
   "source": [
    "### Hos3"
   ]
  },
  {
   "cell_type": "code",
   "execution_count": 21,
   "metadata": {},
   "outputs": [
    {
     "name": "stdout",
     "output_type": "stream",
     "text": [
      "Script completed successfully\n"
     ]
    }
   ],
   "source": [
    "import arcpy\n",
    "from arcpy import env\n",
    "import os\n",
    "try:\n",
    "    # Set environment settings\n",
    "    env.workspace = r\"C:\\Users\\kenta\\Documents\\ArcGIS\\Projects\\HealthPlaceNew\\E2FCAStep1Rural.gdb\"\n",
    "    \n",
    "    # Set the local parameters\n",
    "    inWorkspace1 = r\"C:\\Users\\kenta\\Documents\\ArcGIS\\Projects\\HealthPlaceNew\\HealthPlaceNew.gdb\"\n",
    "    inWorkspace2 = r\"C:\\Users\\kenta\\Documents\\ArcGIS\\Projects\\HealthPlaceNew\\E2FCAStep1Rural.gdb\"\n",
    "    inFeatures = os.path.join(inWorkspace1,\"Hos3Naika_Chugoku\")\n",
    "    joinField1 = \"OBJECTID\"\n",
    "    joinTable = os.path.join(inWorkspace2,\"Hos3CoverDiss\")\n",
    "    joinField2 = \"FacilityID\"\n",
    "    fieldList = [\"SUM_PropToPopSlow\", \"SUM_PropToPopQuick\"] \n",
    "    outFeatures = os.path.join(inWorkspace2,\"Hos3Naika_ChugokuPTP\")\n",
    "    dropFields = [\"P04_001\", \"P04_002\", \"P04_003\", \"P04_004\", \"P04_005\", \"P04_006\", \"P04_007\", \"Naika\"]\n",
    "    \n",
    "    \n",
    "    # Join two feature classes by the OBJECTID and FacilityID fields and only carry \n",
    "    # over the PropToPopSlow and PropToPopQuick fields\n",
    "    arcpy.JoinField_management(inFeatures, joinField1, joinTable, joinField2, fieldList)\n",
    "    # Create a new feature in a current workspace = E2FCAStep1Rural.gdb\n",
    "    arcpy.CopyFeatures_management(inFeatures, outFeatures)\n",
    "    # Delete unnecessary fields\n",
    "    arcpy.DeleteField_management(outFeatures, dropFields)\n",
    "    \n",
    "    print(\"Script completed successfully\")\n",
    "\n",
    "except Exception as e:\n",
    "    # If an error occurred, print line number and error message\n",
    "    import traceback, sys\n",
    "    tb = sys.exc_info()[2]\n",
    "    print(\"An error occurred on line %i\" % tb.tb_lineno)\n",
    "    print(str(e))"
   ]
  },
  {
   "cell_type": "markdown",
   "metadata": {},
   "source": [
    "# Create network service layer for Centroid point of cho-cho aza"
   ]
  },
  {
   "cell_type": "markdown",
   "metadata": {},
   "source": [
    "### Centroid gravity point of residential area"
   ]
  },
  {
   "cell_type": "code",
   "execution_count": null,
   "metadata": {
    "collapsed": true
   },
   "outputs": [],
   "source": [
    "import arcpy\n",
    "from arcpy import env\n",
    "import os\n",
    "try:\n",
    "    #Set environment settings\n",
    "    output_dir = r\"C:\\Users\\kenta\\Documents\\ArcGIS\\Projects\\HealthPlaceNew\"\n",
    "    #The NA layer's data will be saved to the workspace specified here\n",
    "    env.workspace = os.path.join(output_dir, \"NetworkServiceRural.gdb\")\n",
    "    env.overwriteOutput = True\n",
    "    \n",
    "    #Set local variables\n",
    "    input_gdb1 = r\"C:/Users/kenta/Documents/HDDFiles/GISData_Import/Esri道路2014中国/道路網_鳥取県_島根県_岡山県_広島県_山口県版/ADF2014.gdb\"\n",
    "    network = os.path.join(input_gdb1, \"ADF\",\"ADF_ND\")\n",
    "    layer_name = \"CentroidResAreaCover\"\n",
    "    travel_mode = \"Driving Time\"\n",
    "    input_gdb2 = \"C:/Users/kenta/Documents/ArcGIS/Projects/HealthPlaceNew/HealthPlaceNew.gdb\"\n",
    "    facilities = os.path.join(input_gdb2,\"Census2015Res_Centroid\")\n",
    "    output_layer_file = os.path.join(output_dir, layer_name + \".lyrx\")\n",
    "  \n",
    "    \n",
    "    #Create a new service area layer. We wish to generate the service area\n",
    "    #polygons as rings, so that we can easily visualize the coverage for any\n",
    "    #given location. We also want overlapping polygons so we can determine the\n",
    "    #number of fire stations that cover a given location. We will specify these\n",
    "    #options while creating the new service area layer.\n",
    "    result_object = arcpy.na.MakeServiceAreaAnalysisLayer(network, layer_name,\n",
    "                                    travel_mode, \"FROM_FACILITIES\", [10, 20, 30, 60],\n",
    "                                    time_zone=\"LOCAL_TIME_AT_LOCATIONS\",\n",
    "                                    polygon_detail=\"STANDARD\",\n",
    "                                    geometry_at_overlaps=\"OVERLAP\",\n",
    "                                    geometry_at_cutoffs=\"RINGS\")\n",
    "\n",
    "    #Get the layer object from the result object. The service layer can now be\n",
    "    #referenced using the layer object.\n",
    "    layer_object = result_object.getOutput(0)\n",
    "\n",
    "    #Get the names of all the sublayers within the service area layer.\n",
    "    sublayer_names = arcpy.na.GetNAClassNames(layer_object)\n",
    "    #Stores the layer names that we will use later\n",
    "    facilities_layer_name = sublayer_names[\"Facilities\"]\n",
    "\n",
    "    #Load the fire stations as facilities using default field mappings and\n",
    "    #default search tolerance\n",
    "    arcpy.na.AddLocations(layer_object, facilities_layer_name, facilities, \"\", \"\")\n",
    "\n",
    "    #Solve the service area layer\n",
    "    arcpy.na.Solve(layer_object)\n",
    "\n",
    "    #Save the solved service area layer as a layer file on disk\n",
    "    layer_object.saveACopy(output_layer_file)\n",
    "\n",
    "    print(\"Script completed successfully\")\n",
    "\n",
    "except Exception as e:\n",
    "    # If an error occurred, print line number and error message\n",
    "    import traceback, sys\n",
    "    tb = sys.exc_info()[2]\n",
    "    print(\"An error occurred on line %i\" % tb.tb_lineno)\n",
    "    print(str(e))"
   ]
  },
  {
   "cell_type": "markdown",
   "metadata": {
    "collapsed": true
   },
   "source": [
    "### Simple centroid point"
   ]
  },
  {
   "cell_type": "code",
   "execution_count": 22,
   "metadata": {},
   "outputs": [
    {
     "name": "stdout",
     "output_type": "stream",
     "text": [
      "Script completed successfully\n"
     ]
    }
   ],
   "source": [
    "import arcpy\n",
    "from arcpy import env\n",
    "import os\n",
    "try:\n",
    "    #Set environment settings\n",
    "    output_dir = r\"C:\\Users\\kenta\\Documents\\ArcGIS\\Projects\\HealthPlaceNew\"\n",
    "    #The NA layer's data will be saved to the workspace specified here\n",
    "    env.workspace = os.path.join(output_dir, \"NetworkServiceRural.gdb\")\n",
    "    env.overwriteOutput = True\n",
    "    \n",
    "    #Set local variables\n",
    "    input_gdb1 = r\"C:/Users/kenta/Documents/HDDFiles/GISData_Import/Esri道路2014中国/道路網_鳥取県_島根県_岡山県_広島県_山口県版/ADF2014.gdb\"\n",
    "    network = os.path.join(input_gdb1, \"ADF\",\"ADF_ND\")\n",
    "    layer_name = \"CentroidSimpleCover\"\n",
    "    travel_mode = \"Driving Time\"\n",
    "    input_gdb2 = \"C:/Users/kenta/Documents/ArcGIS/Projects/HealthPlaceNew/HealthPlaceNew.gdb\"\n",
    "    facilities = os.path.join(input_gdb2,\"Census2015Centroid\")\n",
    "    output_layer_file = os.path.join(output_dir, layer_name + \".lyrx\")\n",
    "  \n",
    "    \n",
    "    #Create a new service area layer. We wish to generate the service area\n",
    "    #polygons as rings, so that we can easily visualize the coverage for any\n",
    "    #given location. We also want overlapping polygons so we can determine the\n",
    "    #number of fire stations that cover a given location. We will specify these\n",
    "    #options while creating the new service area layer.\n",
    "    result_object = arcpy.na.MakeServiceAreaAnalysisLayer(network, layer_name,\n",
    "                                    travel_mode, \"FROM_FACILITIES\", [10, 20, 30, 60],\n",
    "                                    time_zone=\"LOCAL_TIME_AT_LOCATIONS\",\n",
    "                                    polygon_detail=\"STANDARD\",\n",
    "                                    geometry_at_overlaps=\"OVERLAP\",\n",
    "                                    geometry_at_cutoffs=\"RINGS\")\n",
    "\n",
    "    #Get the layer object from the result object. The service layer can now be\n",
    "    #referenced using the layer object.\n",
    "    layer_object = result_object.getOutput(0)\n",
    "\n",
    "    #Get the names of all the sublayers within the service area layer.\n",
    "    sublayer_names = arcpy.na.GetNAClassNames(layer_object)\n",
    "    #Stores the layer names that we will use later\n",
    "    facilities_layer_name = sublayer_names[\"Facilities\"]\n",
    "\n",
    "    #Load the fire stations as facilities using default field mappings and\n",
    "    #default search tolerance\n",
    "    arcpy.na.AddLocations(layer_object, facilities_layer_name, facilities, \"\", \"\")\n",
    "\n",
    "    #Solve the service area layer\n",
    "    arcpy.na.Solve(layer_object)\n",
    "\n",
    "    #Save the solved service area layer as a layer file on disk\n",
    "    layer_object.saveACopy(output_layer_file)\n",
    "\n",
    "    print(\"Script completed successfully\")\n",
    "\n",
    "except Exception as e:\n",
    "    # If an error occurred, print line number and error message\n",
    "    import traceback, sys\n",
    "    tb = sys.exc_info()[2]\n",
    "    print(\"An error occurred on line %i\" % tb.tb_lineno)\n",
    "    print(str(e))"
   ]
  },
  {
   "cell_type": "markdown",
   "metadata": {},
   "source": [
    "# Spatial join with healthcare facilities point data"
   ]
  },
  {
   "cell_type": "markdown",
   "metadata": {
    "collapsed": true
   },
   "source": [
    "### PHC"
   ]
  },
  {
   "cell_type": "code",
   "execution_count": 23,
   "metadata": {},
   "outputs": [
    {
     "name": "stdout",
     "output_type": "stream",
     "text": [
      "Script completed successfully\n"
     ]
    }
   ],
   "source": [
    "### Import system modules\n",
    "import arcpy\n",
    "import os\n",
    "\n",
    "try:\n",
    "    \n",
    "    # Set local variables\n",
    "    inWorkspace1 = r\"C:/Users/kenta/Documents/ArcGIS/Projects/HealthPlaceNew/NetworkServiceRural.gdb\"\n",
    "    inWorkspace2 = r\"C:/Users/kenta/Documents/ArcGIS/Projects/HealthPlaceNew/E2FCAStep1Rural.gdb\"\n",
    "    outWorkspace = r\"C:/Users/kenta/Documents/ArcGIS/Projects/HealthPlaceNew/E2FCAStep2Rural.gdb\"\n",
    "    \n",
    "    # Want to join Centroid catchment area polygon to Step1 PHC data and calculate\n",
    "    # the total score that catchment area (10, 20, 30 min) can cover\n",
    "    targetFeatures = os.path.join(inWorkspace1, \"SAPolygons4\")\n",
    "    joinFeatures = os.path.join(inWorkspace2, \"PHCNaika_ChugokuPTP\")\n",
    "    \n",
    "    # Output will be the target features: PHCCover Polygon with a sum of population field \n",
    "    outfc = os.path.join(outWorkspace, \"CentroidCatchPHC\")\n",
    "    \n",
    "    # Create a new fieldmappings and add the two input feature classes.\n",
    "    fieldmappings = arcpy.FieldMappings()\n",
    "    fieldmappings.addTable(targetFeatures)\n",
    "    fieldmappings.addTable(joinFeatures)\n",
    "    \n",
    "    # First get the POP_H22 fieldmap. POP_H22 is a field in the KIHON_Chugoku2010 feature class.\n",
    "    # The output will have the PHCCover Polygon with the attributes of the KIHON_Chugoku2010. Setting the\n",
    "    # field's merge rule to SUM will aggregate the values for all of the KIHON_Chugoku2010 for\n",
    "    # each break time into an SUM value. The field is also renamed to be more appropriate\n",
    "    # for the output.\n",
    "    PropToPopSlowFieldIndex = fieldmappings.findFieldMapIndex(\"SUM_PropToPopSlow\")\n",
    "    PropToPopQuickFieldIndex = fieldmappings.findFieldMapIndex(\"SUM_PropToPopQuick\")\n",
    "    fieldmapSlow = fieldmappings.getFieldMap(PropToPopSlowFieldIndex)\n",
    "    fieldmapQuick = fieldmappings.getFieldMap(PropToPopQuickFieldIndex)\n",
    "    # Get the output field's properties as a field object\n",
    "    fieldS = fieldmapSlow.outputField\n",
    "    fieldQ = fieldmapQuick.outputField\n",
    "    \n",
    "    # Rename the field and pass the updated field object back into the field map\n",
    "    fieldS.name = \"E2FCAPHCSlow\"\n",
    "    fieldS.aliasName = \"E2FCAPHCSlow\"\n",
    "    fieldQ.name = \"E2FCAPHCQuick\"\n",
    "    fieldQ.aliasName = \"E2FCAPHCQuick\"\n",
    "    fieldmapSlow.outputField = fieldS\n",
    "    fieldmapQuick.outputField = fieldQ\n",
    "    \n",
    "    # Set the merge rule to sum and then replace the old fieldmap in the mappings object\n",
    "    # with the updated one\n",
    "    fieldmapSlow.mergeRule = \"sum\"\n",
    "    fieldmapQuick.mergeRule = \"sum\"\n",
    "    fieldmappings.replaceFieldMap(PropToPopSlowFieldIndex, fieldmapSlow)\n",
    "    fieldmappings.replaceFieldMap(PropToPopQuickFieldIndex, fieldmapQuick)\n",
    "    \n",
    "    # Delete fields that are no longer applicable, such as city CITY_NAME and CITY_FIPS\n",
    "    # as only the first value will be used by default\n",
    "    x = fieldmappings.findFieldMapIndex(\"Name\")\n",
    "    fieldmappings.removeFieldMap(x)\n",
    "    \n",
    "    \n",
    "    #Run the Spatial Join tool, using the defaults for the join operation and join type\n",
    "    arcpy.SpatialJoin_analysis(targetFeatures, joinFeatures, outfc, \"JOIN_ONE_TO_ONE\", \"KEEP_ALL\", fieldmappings,\"COMPLETELY_CONTAINS\")\n",
    "\n",
    "    print(\"Script completed successfully\")\n",
    "    \n",
    "except Exception as e:\n",
    "    # If an error occurred, print line number and error message\n",
    "    import traceback, sys\n",
    "    tb = sys.exc_info()[2]\n",
    "    print(\"An error occurred on line %i\" % tb.tb_lineno)\n",
    "    print(str(e))"
   ]
  },
  {
   "cell_type": "markdown",
   "metadata": {
    "collapsed": true
   },
   "source": [
    "### Hos2"
   ]
  },
  {
   "cell_type": "code",
   "execution_count": 24,
   "metadata": {},
   "outputs": [
    {
     "name": "stdout",
     "output_type": "stream",
     "text": [
      "Script completed successfully\n"
     ]
    }
   ],
   "source": [
    "### Import system modules\n",
    "import arcpy\n",
    "import os\n",
    "\n",
    "try:\n",
    "    \n",
    "    # Set local variables\n",
    "    inWorkspace1 = r\"C:/Users/kenta/Documents/ArcGIS/Projects/HealthPlaceNew/NetworkServiceRural.gdb\"\n",
    "    inWorkspace2 = r\"C:/Users/kenta/Documents/ArcGIS/Projects/HealthPlaceNew/E2FCAStep1Rural.gdb\"\n",
    "    outWorkspace = r\"C:/Users/kenta/Documents/ArcGIS/Projects/HealthPlaceNew/E2FCAStep2Rural.gdb\"\n",
    "    \n",
    "    # Want to join Centroid catchment area polygon to Step1 PHC data and calculate\n",
    "    # the total score that catchment area (10, 20, 30 min) can cover\n",
    "    targetFeatures = os.path.join(inWorkspace1, \"SAPolygons4\")\n",
    "    joinFeatures = os.path.join(inWorkspace2, \"Hos2Naika_ChugokuPTP\")\n",
    "    \n",
    "    # Output will be the target features: PHCCover Polygon with a sum of population field \n",
    "    outfc = os.path.join(outWorkspace, \"CentroidCatchHos2\")\n",
    "    \n",
    "    # Create a new fieldmappings and add the two input feature classes.\n",
    "    fieldmappings = arcpy.FieldMappings()\n",
    "    fieldmappings.addTable(targetFeatures)\n",
    "    fieldmappings.addTable(joinFeatures)\n",
    "    \n",
    "    # First get the POP_H22 fieldmap. POP_H22 is a field in the KIHON_Chugoku2010 feature class.\n",
    "    # The output will have the PHCCover Polygon with the attributes of the KIHON_Chugoku2010. Setting the\n",
    "    # field's merge rule to SUM will aggregate the values for all of the KIHON_Chugoku2010 for\n",
    "    # each break time into an SUM value. The field is also renamed to be more appropriate\n",
    "    # for the output.\n",
    "    PropToPopSlowFieldIndex = fieldmappings.findFieldMapIndex(\"SUM_PropToPopSlow\")\n",
    "    PropToPopQuickFieldIndex = fieldmappings.findFieldMapIndex(\"SUM_PropToPopQuick\")\n",
    "    fieldmapSlow = fieldmappings.getFieldMap(PropToPopSlowFieldIndex)\n",
    "    fieldmapQuick = fieldmappings.getFieldMap(PropToPopQuickFieldIndex)\n",
    "    # Get the output field's properties as a field object\n",
    "    fieldS = fieldmapSlow.outputField\n",
    "    fieldQ = fieldmapQuick.outputField\n",
    "    \n",
    "    # Rename the field and pass the updated field object back into the field map\n",
    "    fieldS.name = \"E2FCAHos2Slow\"\n",
    "    fieldS.aliasName = \"E2FCAHos2Slow\"\n",
    "    fieldQ.name = \"E2FCAHos2Quick\"\n",
    "    fieldQ.aliasName = \"E2FCAHos2Quick\"\n",
    "    fieldmapSlow.outputField = fieldS\n",
    "    fieldmapQuick.outputField = fieldQ\n",
    "    \n",
    "    # Set the merge rule to sum and then replace the old fieldmap in the mappings object\n",
    "    # with the updated one\n",
    "    fieldmapSlow.mergeRule = \"sum\"\n",
    "    fieldmapQuick.mergeRule = \"sum\"\n",
    "    fieldmappings.replaceFieldMap(PropToPopSlowFieldIndex, fieldmapSlow)\n",
    "    fieldmappings.replaceFieldMap(PropToPopQuickFieldIndex, fieldmapQuick)\n",
    "    \n",
    "    # Delete fields that are no longer applicable, such as city CITY_NAME and CITY_FIPS\n",
    "    # as only the first value will be used by default\n",
    "    x = fieldmappings.findFieldMapIndex(\"Name\")\n",
    "    fieldmappings.removeFieldMap(x)\n",
    "    \n",
    "    \n",
    "    #Run the Spatial Join tool, using the defaults for the join operation and join type\n",
    "    arcpy.SpatialJoin_analysis(targetFeatures, joinFeatures, outfc, \"JOIN_ONE_TO_ONE\", \"KEEP_ALL\", fieldmappings,\"COMPLETELY_CONTAINS\")\n",
    "\n",
    "    print(\"Script completed successfully\")\n",
    "        \n",
    "except Exception as e:\n",
    "    # If an error occurred, print line number and error message\n",
    "    import traceback, sys\n",
    "    tb = sys.exc_info()[2]\n",
    "    print(\"An error occurred on line %i\" % tb.tb_lineno)\n",
    "    print(str(e))"
   ]
  },
  {
   "cell_type": "code",
   "execution_count": null,
   "metadata": {
    "collapsed": true
   },
   "outputs": [],
   "source": [
    "# Hos3"
   ]
  },
  {
   "cell_type": "code",
   "execution_count": 25,
   "metadata": {},
   "outputs": [
    {
     "name": "stdout",
     "output_type": "stream",
     "text": [
      "Script completed successfully\n"
     ]
    }
   ],
   "source": [
    "### Import system modules\n",
    "import arcpy\n",
    "import os\n",
    "\n",
    "try:\n",
    "    \n",
    "    # Set local variables\n",
    "    inWorkspace1 = r\"C:/Users/kenta/Documents/ArcGIS/Projects/HealthPlaceNew/NetworkServiceRural.gdb\"\n",
    "    inWorkspace2 = r\"C:/Users/kenta/Documents/ArcGIS/Projects/HealthPlaceNew/E2FCAStep1Rural.gdb\"\n",
    "    outWorkspace = r\"C:/Users/kenta/Documents/ArcGIS/Projects/HealthPlaceNew/E2FCAStep2Rural.gdb\"\n",
    "    \n",
    "    # Want to join Centroid catchment area polygon to Step1 PHC data and calculate\n",
    "    # the total score that catchment area (10, 20, 30 min) can cover\n",
    "    targetFeatures = os.path.join(inWorkspace1, \"SAPolygons4\")\n",
    "    joinFeatures = os.path.join(inWorkspace2, \"Hos3Naika_ChugokuPTP\")\n",
    "    \n",
    "    # Output will be the target features: PHCCover Polygon with a sum of population field \n",
    "    outfc = os.path.join(outWorkspace, \"CentroidCatchHos3\")\n",
    "    \n",
    "    # Create a new fieldmappings and add the two input feature classes.\n",
    "    fieldmappings = arcpy.FieldMappings()\n",
    "    fieldmappings.addTable(targetFeatures)\n",
    "    fieldmappings.addTable(joinFeatures)\n",
    "    \n",
    "    # First get the POP_H22 fieldmap. POP_H22 is a field in the KIHON_Chugoku2010 feature class.\n",
    "    # The output will have the PHCCover Polygon with the attributes of the KIHON_Chugoku2010. Setting the\n",
    "    # field's merge rule to SUM will aggregate the values for all of the KIHON_Chugoku2010 for\n",
    "    # each break time into an SUM value. The field is also renamed to be more appropriate\n",
    "    # for the output.\n",
    "    PropToPopSlowFieldIndex = fieldmappings.findFieldMapIndex(\"SUM_PropToPopSlow\")\n",
    "    PropToPopQuickFieldIndex = fieldmappings.findFieldMapIndex(\"SUM_PropToPopQuick\")\n",
    "    fieldmapSlow = fieldmappings.getFieldMap(PropToPopSlowFieldIndex)\n",
    "    fieldmapQuick = fieldmappings.getFieldMap(PropToPopQuickFieldIndex)\n",
    "    # Get the output field's properties as a field object\n",
    "    fieldS = fieldmapSlow.outputField\n",
    "    fieldQ = fieldmapQuick.outputField\n",
    "    \n",
    "    # Rename the field and pass the updated field object back into the field map\n",
    "    fieldS.name = \"E2FCAHos3Slow\"\n",
    "    fieldS.aliasName = \"E2FCAHos3Slow\"\n",
    "    fieldQ.name = \"E2FCAHos3Quick\"\n",
    "    fieldQ.aliasName = \"E2FCAHos3Quick\"\n",
    "    fieldmapSlow.outputField = fieldS\n",
    "    fieldmapQuick.outputField = fieldQ\n",
    "    \n",
    "    # Set the merge rule to sum and then replace the old fieldmap in the mappings object\n",
    "    # with the updated one\n",
    "    fieldmapSlow.mergeRule = \"sum\"\n",
    "    fieldmapQuick.mergeRule = \"sum\"\n",
    "    fieldmappings.replaceFieldMap(PropToPopSlowFieldIndex, fieldmapSlow)\n",
    "    fieldmappings.replaceFieldMap(PropToPopQuickFieldIndex, fieldmapQuick)\n",
    "    \n",
    "    # Delete fields that are no longer applicable, such as city CITY_NAME and CITY_FIPS\n",
    "    # as only the first value will be used by default\n",
    "    x = fieldmappings.findFieldMapIndex(\"Name\")\n",
    "    fieldmappings.removeFieldMap(x)\n",
    "    \n",
    "    \n",
    "    #Run the Spatial Join tool, using the defaults for the join operation and join type\n",
    "    arcpy.SpatialJoin_analysis(targetFeatures, joinFeatures, outfc, \"JOIN_ONE_TO_ONE\", \"KEEP_ALL\", fieldmappings,\"COMPLETELY_CONTAINS\")\n",
    "\n",
    "    print(\"Script completed successfully\")\n",
    "    \n",
    "except Exception as e:\n",
    "    # If an error occurred, print line number and error message\n",
    "    import traceback, sys\n",
    "    tb = sys.exc_info()[2]\n",
    "    print(\"An error occurred on line %i\" % tb.tb_lineno)\n",
    "    print(str(e))"
   ]
  },
  {
   "cell_type": "markdown",
   "metadata": {},
   "source": [
    "# Weighting scores for all 4 breaks"
   ]
  },
  {
   "cell_type": "markdown",
   "metadata": {
    "collapsed": true
   },
   "source": [
    "### PHC"
   ]
  },
  {
   "cell_type": "code",
   "execution_count": 31,
   "metadata": {},
   "outputs": [
    {
     "name": "stdout",
     "output_type": "stream",
     "text": [
      "Script completed successfully\n"
     ]
    }
   ],
   "source": [
    "import arcpy\n",
    "from arcpy import env\n",
    "try:\n",
    "    # Set environment settings\n",
    "    env.workspace = r\"C:\\Users\\kenta\\Documents\\ArcGIS\\Projects\\HealthPlaceNew\\E2FCAStep2Rural.gdb\"\n",
    "    \n",
    "    # Set local variables\n",
    "    inTable = r\"C:\\Users\\kenta\\Documents\\ArcGIS\\Projects\\HealthPlaceNew\\E2FCAStep2Rural.gdb\\CentroidCatchPHC\"\n",
    "    fieldName1 = \"PHCE2FCASlow\"\n",
    "    fieldName2 = \"PHCE2FCAQuick\"\n",
    "    expression1 = \"w(!ToBreak!,!E2FCAPHCSlow!)\"\n",
    "    expression2 = \"w(!ToBreak!,!E2FCAPHCQuick!)\"\n",
    "    codeblock1 = \"\"\"def w (f1,f2):\n",
    "        if f1 <= 10:\n",
    "            return f2 * 1\n",
    "        elif f1 > 10 and f1 <= 20:\n",
    "            return f2 * 0.80\n",
    "        elif f1 > 20 and f1 <=30:\n",
    "            return f2 * 0.55\n",
    "        elif f1 > 30 and f1 <=60:\n",
    "            return f2 * 0.15\"\"\"\n",
    "    codeblock2 = \"\"\"def w(f1,f2):\n",
    "        if f1 <= 10:\n",
    "            return f2 * 1\n",
    "        elif f1 > 10 and f1 <= 20:\n",
    "            return f2 * 0.60\n",
    "        elif f1 > 20 and f1 <=30:\n",
    "            return f2 * 0.25\n",
    "        elif f1 > 30 and f1 <=60:\n",
    "            return f2 * 0.05\"\"\"   \n",
    "    # Execute AddField\n",
    "    arcpy.AddField_management(inTable, fieldName1, \"DOUBLE\")\n",
    "    arcpy.AddField_management(inTable, fieldName2, \"DOUBLE\")\n",
    "    # Execute CalculateField - weighting\n",
    "    arcpy.CalculateField_management(inTable, fieldName1, expression1, \"PYTHON_9.3\", codeblock1)\n",
    "    arcpy.CalculateField_management(inTable, fieldName2, expression2, \"PYTHON_9.3\", codeblock2)\n",
    "    \n",
    "    print(\"Script completed successfully\")\n",
    "    \n",
    "except Exception as e:\n",
    "    # If an error occurred, print line number and error message\n",
    "    import traceback, sys\n",
    "    tb = sys.exc_info()[2]\n",
    "    print(\"An error occurred on line %i\" % tb.tb_lineno)\n",
    "    print(str(e))"
   ]
  },
  {
   "cell_type": "markdown",
   "metadata": {
    "collapsed": true
   },
   "source": [
    "### Hos2"
   ]
  },
  {
   "cell_type": "code",
   "execution_count": 32,
   "metadata": {},
   "outputs": [
    {
     "name": "stdout",
     "output_type": "stream",
     "text": [
      "Script completed successfully\n"
     ]
    }
   ],
   "source": [
    "import arcpy\n",
    "from arcpy import env\n",
    "try:\n",
    "    # Set environment settings\n",
    "    env.workspace = r\"C:\\Users\\kenta\\Documents\\ArcGIS\\Projects\\HealthPlaceNew\\E2FCAStep2Rural.gdb\"\n",
    "    \n",
    "    # Set local variables\n",
    "    inTable = r\"C:\\Users\\kenta\\Documents\\ArcGIS\\Projects\\HealthPlaceNew\\E2FCAStep2Rural.gdb\\CentroidCatchHos2\"\n",
    "    fieldName1 = \"Hos2E2FCASlow\"\n",
    "    fieldName2 = \"Hos2E2FCAQuick\"\n",
    "    expression1 = \"w(!ToBreak!,!E2FCAHos2Slow!)\"\n",
    "    expression2 = \"w(!ToBreak!,!E2FCAHos2Quick!)\"\n",
    "    codeblock1 = \"\"\"def w (f1,f2):\n",
    "        if f1 <= 10:\n",
    "            return f2 * 1\n",
    "        elif f1 > 10 and f1 <= 20:\n",
    "            return f2 * 0.80\n",
    "        elif f1 > 20 and f1 <=30:\n",
    "            return f2 * 0.55\n",
    "        elif f1 > 30 and f1 <=60:\n",
    "            return f2 * 0.15\"\"\"\n",
    "    codeblock2 = \"\"\"def w(f1,f2):\n",
    "        if f1 <= 10:\n",
    "            return f2 * 1\n",
    "        elif f1 > 10 and f1 <= 20:\n",
    "            return f2 * 0.60\n",
    "        elif f1 > 20 and f1 <=30:\n",
    "            return f2 * 0.25\n",
    "        elif f1 > 30 and f1 <=60:\n",
    "            return f2 * 0.05\"\"\"   \n",
    "    # Execute AddField\n",
    "    arcpy.AddField_management(inTable, fieldName1, \"DOUBLE\")\n",
    "    arcpy.AddField_management(inTable, fieldName2, \"DOUBLE\")\n",
    "    # Execute CalculateField - weighting\n",
    "    arcpy.CalculateField_management(inTable, fieldName1, expression1, \"PYTHON_9.3\", codeblock1)\n",
    "    arcpy.CalculateField_management(inTable, fieldName2, expression2, \"PYTHON_9.3\", codeblock2)\n",
    "\n",
    "    print(\"Script completed successfully\")\n",
    "\n",
    "except Exception as e:\n",
    "    # If an error occurred, print line number and error message\n",
    "    import traceback, sys\n",
    "    tb = sys.exc_info()[2]\n",
    "    print(\"An error occurred on line %i\" % tb.tb_lineno)\n",
    "    print(str(e))"
   ]
  },
  {
   "cell_type": "markdown",
   "metadata": {
    "collapsed": true
   },
   "source": [
    "### Hos3"
   ]
  },
  {
   "cell_type": "code",
   "execution_count": 33,
   "metadata": {
    "scrolled": true
   },
   "outputs": [
    {
     "name": "stdout",
     "output_type": "stream",
     "text": [
      "Script completed successfully\n"
     ]
    }
   ],
   "source": [
    "import arcpy\n",
    "from arcpy import env\n",
    "try:\n",
    "    # Set environment settings\n",
    "    env.workspace = r\"C:\\Users\\kenta\\Documents\\ArcGIS\\Projects\\HealthPlaceNew\\E2FCAStep2Rural.gdb\"\n",
    "    \n",
    "    # Set local variables\n",
    "    inTable = r\"C:\\Users\\kenta\\Documents\\ArcGIS\\Projects\\HealthPlaceNew\\E2FCAStep2Rural.gdb\\CentroidCatchHos3\"\n",
    "    fieldName1 = \"Hos3E2FCASlow\"\n",
    "    fieldName2 = \"Hos3E2FCAQuick\"\n",
    "    expression1 = \"w(!ToBreak!,!E2FCAHos3Slow!)\"\n",
    "    expression2 = \"w(!ToBreak!,!E2FCAHos3Quick!)\"\n",
    "    codeblock1 = \"\"\"def w (f1,f2):\n",
    "        if f1 <= 10:\n",
    "            return f2 * 1\n",
    "        elif f1 > 10 and f1 <= 20:\n",
    "            return f2 * 0.80\n",
    "        elif f1 > 20 and f1 <=30:\n",
    "            return f2 * 0.55\n",
    "        elif f1 > 30 and f1 <=60:\n",
    "            return f2 * 0.15\"\"\"\n",
    "    codeblock2 = \"\"\"def w(f1,f2):\n",
    "        if f1 <= 10:\n",
    "            return f2 * 1\n",
    "        elif f1 > 10 and f1 <= 20:\n",
    "            return f2 * 0.60\n",
    "        elif f1 > 20 and f1 <=30:\n",
    "            return f2 * 0.25\n",
    "        elif f1 > 30 and f1 <=60:\n",
    "            return f2 * 0.05\"\"\"   \n",
    "    # Execute AddField\n",
    "    arcpy.AddField_management(inTable, fieldName1, \"DOUBLE\")\n",
    "    arcpy.AddField_management(inTable, fieldName2, \"DOUBLE\")\n",
    "    # Execute CalculateField - weighting\n",
    "    arcpy.CalculateField_management(inTable, fieldName1, expression1, \"PYTHON_9.3\", codeblock1)\n",
    "    arcpy.CalculateField_management(inTable, fieldName2, expression2, \"PYTHON_9.3\", codeblock2)\n",
    "\n",
    "    print(\"Script completed successfully\")\n",
    "\n",
    "except Exception as e:\n",
    "    # If an error occurred, print line number and error message\n",
    "    import traceback, sys\n",
    "    tb = sys.exc_info()[2]\n",
    "    print(\"An error occurred on line %i\" % tb.tb_lineno)\n",
    "    print(str(e))"
   ]
  },
  {
   "cell_type": "markdown",
   "metadata": {
    "collapsed": true
   },
   "source": [
    "# Dissolve by Facility ID and get E2FCA score "
   ]
  },
  {
   "cell_type": "markdown",
   "metadata": {},
   "source": [
    "### PHC"
   ]
  },
  {
   "cell_type": "code",
   "execution_count": 34,
   "metadata": {},
   "outputs": [
    {
     "name": "stdout",
     "output_type": "stream",
     "text": [
      "Script completed successfully\n"
     ]
    }
   ],
   "source": [
    "import arcpy\n",
    "from arcpy import env\n",
    "import os\n",
    "try:\n",
    "    # Set environment settings\n",
    "    env.workspace = r\"C:\\Users\\kenta\\Documents\\ArcGIS\\Projects\\HealthPlaceNew\\E2FCAStep2Rural.gdb\"\n",
    "    # Set local variables\n",
    "    inWorkspace = r\"C:\\Users\\kenta\\Documents\\ArcGIS\\Projects\\HealthPlaceNew\\E2FCAStep2Rural.gdb\"\n",
    "    outWorkspace = r\"C:\\Users\\kenta\\Documents\\ArcGIS\\Projects\\HealthPlaceNew\\E2FCAStep2Rural.gdb\"\n",
    "    inFeatures = os.path.join(inWorkspace,\"CentroidCatchPHC\")\n",
    "    outFeatures = os.path.join(outWorkspace,\"CentroidCatchPHC_Diss\")\n",
    "    dissolveFields = [\"FacilityID\"]\n",
    "    statFields = [[\"PHCE2FCASlow\",\"sum\"],[\"PHCE2FCAQuick\",\"sum\"]]\n",
    "    \n",
    "    # Execute Dissolve using FaclityID as Dissolve Fields, summing the weighted PropToPop(Slow & Quick) of 3 time breaks into 1\n",
    "    arcpy.Dissolve_management(inFeatures, outFeatures, dissolveFields, statFields)\n",
    "\n",
    "    print(\"Script completed successfully\")\n",
    "except Exception as e:\n",
    "    # If an error occurred, print line number and error message\n",
    "    import traceback, sys\n",
    "    tb = sys.exc_info()[2]\n",
    "    print(\"An error occurred on line %i\" % tb.tb_lineno)\n",
    "    print(str(e))"
   ]
  },
  {
   "cell_type": "markdown",
   "metadata": {
    "collapsed": true
   },
   "source": [
    "### Hos2"
   ]
  },
  {
   "cell_type": "code",
   "execution_count": 35,
   "metadata": {},
   "outputs": [
    {
     "name": "stdout",
     "output_type": "stream",
     "text": [
      "Script completed successfully\n"
     ]
    }
   ],
   "source": [
    "import arcpy\n",
    "from arcpy import env\n",
    "import os\n",
    "try:\n",
    "    # Set environment settings\n",
    "    env.workspace = r\"C:\\Users\\kenta\\Documents\\ArcGIS\\Projects\\HealthPlaceNew\\E2FCAStep2Rural.gdb\"\n",
    "    # Set local variables\n",
    "    inWorkspace = r\"C:\\Users\\kenta\\Documents\\ArcGIS\\Projects\\HealthPlaceNew\\E2FCAStep2Rural.gdb\"\n",
    "    outWorkspace = r\"C:\\Users\\kenta\\Documents\\ArcGIS\\Projects\\HealthPlaceNew\\E2FCAStep2Rural.gdb\"\n",
    "    inFeatures = os.path.join(inWorkspace,\"CentroidCatchHos2\")\n",
    "    outFeatures = os.path.join(outWorkspace,\"CentroidCatchHos2_Diss\")\n",
    "    dissolveFields = [\"FacilityID\"]\n",
    "    statFields = [[\"Hos2E2FCASlow\",\"sum\"],[\"Hos2E2FCAQuick\",\"sum\"]]\n",
    "    \n",
    "    # Execute Dissolve using FaclityID as Dissolve Fields, summing the weighted PropToPop(Slow & Quick) of 3 time breaks into 1\n",
    "    arcpy.Dissolve_management(inFeatures, outFeatures, dissolveFields, statFields)\n",
    "\n",
    "    print(\"Script completed successfully\")\n",
    "    \n",
    "except Exception as e:\n",
    "    # If an error occurred, print line number and error message\n",
    "    import traceback, sys\n",
    "    tb = sys.exc_info()[2]\n",
    "    print(\"An error occurred on line %i\" % tb.tb_lineno)\n",
    "    print(str(e))"
   ]
  },
  {
   "cell_type": "markdown",
   "metadata": {
    "collapsed": true
   },
   "source": [
    "### Hos3"
   ]
  },
  {
   "cell_type": "code",
   "execution_count": 38,
   "metadata": {},
   "outputs": [
    {
     "name": "stdout",
     "output_type": "stream",
     "text": [
      "Script completed successfully\n"
     ]
    }
   ],
   "source": [
    "import arcpy\n",
    "from arcpy import env\n",
    "import os\n",
    "try:\n",
    "    # Set environment settings\n",
    "    env.workspace = r\"C:\\Users\\kenta\\Documents\\ArcGIS\\Projects\\HealthPlaceNew\\E2FCAStep2Rural.gdb\"\n",
    "    # Set local variables\n",
    "    inWorkspace = r\"C:\\Users\\kenta\\Documents\\ArcGIS\\Projects\\HealthPlaceNew\\E2FCAStep2Rural.gdb\"\n",
    "    outWorkspace = r\"C:\\Users\\kenta\\Documents\\ArcGIS\\Projects\\HealthPlaceNew\\E2FCAStep2Rural.gdb\"\n",
    "    inFeatures = os.path.join(inWorkspace,\"CentroidCatchHos3\")\n",
    "    outFeatures = os.path.join(outWorkspace,\"CentroidCatchHos3_Diss\")\n",
    "    dissolveFields = [\"FacilityID\"]\n",
    "    statFields = [[\"Hos3E2FCASlow\",\"sum\"],[\"Hos3E2FCAQuick\",\"sum\"]]\n",
    "    \n",
    "    # Execute Dissolve using FaclityID as Dissolve Fields, summing the weighted PropToPop(Slow & Quick) of 3 time breaks into 1\n",
    "    arcpy.Dissolve_management(inFeatures, outFeatures, dissolveFields, statFields)\n",
    "    \n",
    "    print(\"Script completed successfully\")\n",
    "    \n",
    "except Exception as e:\n",
    "    # If an error occurred, print line number and error message\n",
    "    import traceback, sys\n",
    "    tb = sys.exc_info()[2]\n",
    "    print(\"An error occurred on line %i\" % tb.tb_lineno)\n",
    "    print(str(e))"
   ]
  },
  {
   "cell_type": "markdown",
   "metadata": {},
   "source": [
    "# Join all three tables with Census polygon layer"
   ]
  },
  {
   "cell_type": "markdown",
   "metadata": {},
   "source": [
    "### PHC"
   ]
  },
  {
   "cell_type": "code",
   "execution_count": 39,
   "metadata": {},
   "outputs": [
    {
     "name": "stdout",
     "output_type": "stream",
     "text": [
      "Script completed successfully\n"
     ]
    }
   ],
   "source": [
    "import arcpy\n",
    "from arcpy import env\n",
    "import os\n",
    "try:\n",
    "    # Set environment settings\n",
    "    env.workspace = r\"C:\\Users\\kenta\\Documents\\ArcGIS\\Projects\\HealthPlaceNew\\E2FCAStep2Rural.gdb\"\n",
    "    \n",
    "    # Set the local parameters\n",
    "    inWorkspace1 = r\"C:\\Users\\kenta\\Documents\\ArcGIS\\Projects\\HealthPlaceNew\\HealthPlaceNew.gdb\"\n",
    "    inWorkspace2 = r\"C:\\Users\\kenta\\Documents\\ArcGIS\\Projects\\HealthPlaceNew\\E2FCAStep2Rural.gdb\"\n",
    "    inFeatures = os.path.join(inWorkspace1,\"Census2015Final\")\n",
    "    joinField1 = \"OBJECTID\"\n",
    "    joinTable = os.path.join(inWorkspace2,\"CentroidCatchPHC_Diss\")\n",
    "    joinField2 = \"FacilityID\"\n",
    "    fieldList = [\"SUM_PHCE2FCASlow\", \"SUM_PHCE2FCAQuick\"] \n",
    "    outFeatures = os.path.join(inWorkspace2,\"CensusE2FCAPHC\")\n",
    "    \n",
    "    # Join two feature classes by the zonecode field and only carry \n",
    "    # over the PropToPopSlow and PropToPopQuick fields\n",
    "    arcpy.JoinField_management(inFeatures, joinField1, joinTable, joinField2, fieldList)\n",
    "    arcpy.CopyFeatures_management(inFeatures, outFeatures)\n",
    "\n",
    "    print(\"Script completed successfully\")\n",
    "except Exception as e:\n",
    "    # If an error occurred, print line number and error message\n",
    "    import traceback, sys\n",
    "    tb = sys.exc_info()[2]\n",
    "    print(\"An error occurred on line %i\" % tb.tb_lineno)\n",
    "    print(str(e))"
   ]
  },
  {
   "cell_type": "markdown",
   "metadata": {
    "collapsed": true
   },
   "source": [
    "### Hos2"
   ]
  },
  {
   "cell_type": "code",
   "execution_count": 42,
   "metadata": {},
   "outputs": [
    {
     "name": "stdout",
     "output_type": "stream",
     "text": [
      "Script completed successfully\n"
     ]
    }
   ],
   "source": [
    "import arcpy\n",
    "from arcpy import env\n",
    "import os\n",
    "try:\n",
    "    # Set environment settings\n",
    "    env.workspace = r\"C:\\Users\\kenta\\Documents\\ArcGIS\\Projects\\HealthPlaceNew\\E2FCAStep2Rural.gdb\"\n",
    "    \n",
    "    # Set the local parameters\n",
    "    inWorkspace1 = r\"C:\\Users\\kenta\\Documents\\ArcGIS\\Projects\\HealthPlaceNew\\HealthPlaceNew.gdb\"\n",
    "    inWorkspace2 = r\"C:\\Users\\kenta\\Documents\\ArcGIS\\Projects\\HealthPlaceNew\\E2FCAStep2Rural.gdb\"\n",
    "    inFeatures = os.path.join(inWorkspace2,\"CensusE2FCAPHC\")\n",
    "    joinField1 = \"OBJECTID\"\n",
    "    joinTable = os.path.join(inWorkspace2,\"CentroidCatchHos2_Diss\")\n",
    "    joinField2 = \"FacilityID\"\n",
    "    fieldList = [\"SUM_Hos2E2FCASlow\", \"SUM_Hos2E2FCAQuick\"] \n",
    "    outFeatures = os.path.join(inWorkspace2,\"CensusE2FCAPHCHos2\")\n",
    "    \n",
    "    # Join two feature classes by the zonecode field and only carry \n",
    "    # over the PropToPopSlow and PropToPopQuick fields\n",
    "    arcpy.JoinField_management(inFeatures, joinField1, joinTable, joinField2, fieldList)\n",
    "    arcpy.CopyFeatures_management(inFeatures, outFeatures)\n",
    " \n",
    "    print(\"Script completed successfully\")\n",
    "except Exception as e:\n",
    "    # If an error occurred, print line number and error message\n",
    "    import traceback, sys\n",
    "    tb = sys.exc_info()[2]\n",
    "    print(\"An error occurred on line %i\" % tb.tb_lineno)\n",
    "    print(str(e))"
   ]
  },
  {
   "cell_type": "markdown",
   "metadata": {
    "collapsed": true
   },
   "source": [
    "### Hos3"
   ]
  },
  {
   "cell_type": "code",
   "execution_count": 44,
   "metadata": {},
   "outputs": [
    {
     "name": "stdout",
     "output_type": "stream",
     "text": [
      "Script completed successfully\n"
     ]
    }
   ],
   "source": [
    "import arcpy\n",
    "from arcpy import env\n",
    "import os\n",
    "try:\n",
    "    # Set environment settings\n",
    "    env.workspace = r\"C:\\Users\\kenta\\Documents\\ArcGIS\\Projects\\HealthPlaceNew\\E2FCAStep2Rural.gdb\"\n",
    "    \n",
    "    # Set the local parameters\n",
    "    inWorkspace1 = r\"C:\\Users\\kenta\\Documents\\ArcGIS\\Projects\\HealthPlaceNew\\HealthPlaceNew.gdb\"\n",
    "    inWorkspace2 = r\"C:\\Users\\kenta\\Documents\\ArcGIS\\Projects\\HealthPlaceNew\\E2FCAStep2Rural.gdb\"\n",
    "    inFeatures = os.path.join(inWorkspace2,\"CensusE2FCAPHCHos2\")\n",
    "    joinField1 = \"OBJECTID\"\n",
    "    joinTable = os.path.join(inWorkspace2,\"CentroidCatchHos3_Diss\")\n",
    "    joinField2 = \"FacilityID\"\n",
    "    fieldList = [\"SUM_Hos3E2FCASlow\", \"SUM_Hos3E2FCAQuick\"] \n",
    "    outFeatures = os.path.join(inWorkspace2,\"CensusE2FCAPHCHos2Hos3\")\n",
    "\n",
    "    # Join two feature classes by the zonecode field and only carry \n",
    "    # over the PropToPopSlow and PropToPopQuick fields\n",
    "    arcpy.JoinField_management(inFeatures, joinField1, joinTable, joinField2, fieldList)\n",
    "    arcpy.CopyFeatures_management(inFeatures, outFeatures)\n",
    "\n",
    "    print(\"Script completed successfully\")\n",
    "except Exception as e:\n",
    "    # If an error occurred, print line number and error message\n",
    "    import traceback, sys\n",
    "    tb = sys.exc_info()[2]\n",
    "    print(\"An error occurred on line %i\" % tb.tb_lineno)\n",
    "    print(str(e))"
   ]
  },
  {
   "cell_type": "markdown",
   "metadata": {},
   "source": [
    "# Finally, export the feature and create a final feature - CensusE2FCAFinal"
   ]
  },
  {
   "cell_type": "markdown",
   "metadata": {},
   "source": [
    "## Additional data - Bus stop density"
   ]
  },
  {
   "cell_type": "markdown",
   "metadata": {},
   "source": [
    "### Spatial join with bus stop point feature "
   ]
  },
  {
   "cell_type": "code",
   "execution_count": 46,
   "metadata": {},
   "outputs": [
    {
     "name": "stdout",
     "output_type": "stream",
     "text": [
      "Script completed successfully\n"
     ]
    }
   ],
   "source": [
    "### Import system modules\n",
    "import arcpy\n",
    "import os\n",
    "\n",
    "try:\n",
    "    \n",
    "    # Set local variables\n",
    "    inWorkspace1 = r\"C:/Users/kenta/Documents/ArcGIS/Projects/HealthPlaceNew/E2FCAStep2Rural.gdb\"\n",
    "    inWorkspace2 = r\"C:\\Users\\kenta\\Documents\\HDDFiles\\GISData_Import\\Esri詳細2015中国四国\\MS_SCALE.gdb\"\n",
    "    outWorkspace = r\"C:/Users/kenta/Documents/ArcGIS/Projects/HealthPlaceNew/E2FCAStep2Rural.gdb\"\n",
    "      \n",
    "    # Want to join PHCCover polygon to KIHON_Chugoku2010 and calculate\n",
    "    # the total number of population that service area (10, 20, 30 min) can cover\n",
    "    targetFeatures = os.path.join(inWorkspace1, \"CensusE2FCAPHCHos2Hos3\")\n",
    "    joinFeatures = os.path.join(inWorkspace2, \"POI_BUSSTOP\")\n",
    "    \n",
    "    # Output will be the target features: PHCCover Polygon with a sum of population field \n",
    "    outfc = os.path.join(outWorkspace, \"CensusE2FCAFinal\")\n",
    "    \n",
    "    # Create a new fieldmappings and add the two input feature classes.\n",
    "    fieldmappings = arcpy.FieldMappings()\n",
    "    fieldmappings.addTable(targetFeatures)\n",
    "    fieldmappings.addTable(joinFeatures)\n",
    "        \n",
    "    # Delete fields that are no longer applicable, such as city CITY_NAME and CITY_FIPS\n",
    "    # as only the first value will be used by default\n",
    "    x = fieldmappings.findFieldMapIndex(\"BSN\")\n",
    "    fieldmappings.removeFieldMap(x)\n",
    "    \n",
    "    #Run the Spatial Join tool, using the defaults for the join operation and join type\n",
    "    arcpy.SpatialJoin_analysis(targetFeatures, joinFeatures, outfc, \"JOIN_ONE_TO_ONE\", \"KEEP_ALL\", fieldmappings,\"COMPLETELY_CONTAINS\")\n",
    " \n",
    "    print(\"Script completed successfully\")\n",
    "    \n",
    "except Exception as e:\n",
    "    # If an error occurred, print line number and error message\n",
    "    import traceback, sys\n",
    "    tb = sys.exc_info()[2]\n",
    "    print(\"An error occurred on line %i\" % tb.tb_lineno)\n",
    "    print(str(e))"
   ]
  },
  {
   "cell_type": "markdown",
   "metadata": {},
   "source": [
    "# Missing imputation of E2FCA score"
   ]
  },
  {
   "cell_type": "markdown",
   "metadata": {},
   "source": [
    "### Several units are missing E2FCA score due to the network construction aka systematic issue\n",
    "### Imputing a mean score of neighboring units (n=8)\n",
    "### Imputing 0 for the units which are clearly out of catchments"
   ]
  },
  {
   "cell_type": "markdown",
   "metadata": {},
   "source": [
    "### First, impute mean for Hos2 and Hos3 by using conditinal statements (if SUM_PHCE2FCASlow = None)"
   ]
  },
  {
   "cell_type": "code",
   "execution_count": null,
   "metadata": {
    "collapsed": true
   },
   "outputs": [],
   "source": [
    "### from pandas.core.reshape import (pivot_simple as pivot, get_dummies,\n",
    "### ImportError: cannot import name 'pivot_simple'\n",
    "### This didnt work...\n",
    "############ Need to impute missing value with different PC manually############"
   ]
  },
  {
   "cell_type": "code",
   "execution_count": 8,
   "metadata": {
    "scrolled": true
   },
   "outputs": [
    {
     "name": "stdout",
     "output_type": "stream",
     "text": [
      "An error occurred on line 19\n",
      "\n",
      "Traceback (most recent call last):\n",
      "  File \"<string>\", line 3479, in execute\n",
      "  File \"C:\\Users\\kenta\\AppData\\Local\\Programs\\ArcGIS\\Pro\\Resources\\ArcToolbox\\Scripts\\SSImpute.py\", line 19, in <module>\n",
      "    import SSDataObject as SSDO\n",
      "  File \"C:\\Users\\kenta\\AppData\\Local\\Programs\\ArcGIS\\Pro\\Resources\\ArcToolbox\\Scripts\\SSDataObject.py\", line 23, in <module>\n",
      "    import SSUtilities as UTILS\n",
      "  File \"C:\\Users\\kenta\\AppData\\Local\\Programs\\ArcGIS\\Pro\\Resources\\ArcToolbox\\Scripts\\SSUtilities.py\", line 26, in <module>\n",
      "    import WeightsUtilities as WU\n",
      "  File \"C:\\Users\\kenta\\AppData\\Local\\Programs\\ArcGIS\\Pro\\Resources\\ArcToolbox\\Scripts\\WeightsUtilities.py\", line 22, in <module>\n",
      "    import SSPanelObject as SSPO\n",
      "  File \"C:\\Users\\kenta\\AppData\\Local\\Programs\\ArcGIS\\Pro\\Resources\\ArcToolbox\\Scripts\\SSPanelObject.py\", line 18, in <module>\n",
      "    import pandas as PANDAS\n",
      "  File \"C:\\Users\\kenta\\AppData\\Local\\Programs\\ArcGIS\\Pro\\bin\\Python\\envs\\arcgispro-py3\\lib\\site-packages\\pandas\\__init__.py\", line 39, in <module>\n",
      "    from pandas.core.api import *\n",
      "  File \"C:\\Users\\kenta\\AppData\\Local\\Programs\\ArcGIS\\Pro\\bin\\Python\\envs\\arcgispro-py3\\lib\\site-packages\\pandas\\core\\api.py\", line 20, in <module>\n",
      "    from pandas.core.reshape import (pivot_simple as pivot, get_dummies,\n",
      "ImportError: cannot import name 'pivot_simple'\n",
      "\n",
      "(FillMissingValues) を実行できませんでした。\n",
      "\n"
     ]
    }
   ],
   "source": [
    "import arcpy\n",
    "from arcpy import env\n",
    "try:\n",
    "    env.workspace = r\"C:\\Users\\kenta\\Documents\\ArcGIS\\Projects\\HealthPlaceNew\\E2FCAStep2Rural.gdb\"\n",
    "    env.overwriteOutput = True\n",
    "    \n",
    "    inFeatures = \"CensusE2FCAFinal\"\n",
    "    outFeatures = \"CensusE2FCAFinalMI\"\n",
    "    fields_to_fill1 = \"SUM_Hos2E2FCASlow\"\n",
    "    fields_to_fill2 = \"SUM_Hos2E2FCAQuick\"\n",
    "    fields_to_fill3 = \"SUM_Hos3E2FCASlow\"\n",
    "    fields_to_fill4 = \"SUM_Hos3E2FCAQuick\"\n",
    "    fill_method = \"AVERAGE\"\n",
    "    conceptualization_of_spatial_relationships = \"CONTIGUITY_EDGES_ONLY\"\n",
    "    \n",
    "    arcpy.FillMissingValues_stpm(inFeatures, outFeatures, fields_to_fill1, fill_method, conceptualization_of_spatial_relationships)\n",
    "    arcpy.FillMissingValues_stpm(outFeatures, outFeatures, fields_to_fill2, fill_method, conceptualization_of_spatial_relationships)\n",
    "    arcpy.FillMissingValues_stpm(outFeatures, outFeatures, fields_to_fill3, fill_method, conceptualization_of_spatial_relationships)\n",
    "    arcpy.FillMissingValues_stpm(outFeatures, outFeatures, fields_to_fill4, fill_method, conceptualization_of_spatial_relationships)\n",
    "\n",
    "    # Write the selected features to a new featureclass\n",
    "    arcpy.CopyFeatures_management(outFeatures, outFeatures)\n",
    "\n",
    "    print(\"Script completed successfully\")\n",
    "\n",
    "except Exception as e:\n",
    "    # If an error occurred, print line number and error message\n",
    "    import traceback, sys\n",
    "    tb = sys.exc_info()[2]\n",
    "    print(\"An error occurred on line %i\" % tb.tb_lineno)\n",
    "    print(str(e))\n",
    "    "
   ]
  },
  {
   "cell_type": "markdown",
   "metadata": {},
   "source": [
    "### Second, impute 0 for the rest of units = out of catchments"
   ]
  },
  {
   "cell_type": "code",
   "execution_count": null,
   "metadata": {
    "collapsed": true
   },
   "outputs": [],
   "source": [
    "### This didnt work..."
   ]
  },
  {
   "cell_type": "code",
   "execution_count": 14,
   "metadata": {},
   "outputs": [
    {
     "name": "stdout",
     "output_type": "stream",
     "text": [
      "Script completed successfully\n"
     ]
    }
   ],
   "source": [
    "import arcpy\n",
    "from arcpy import env\n",
    "try:\n",
    "    # Set environment settings\n",
    "    env.workspace = r\"C:\\Users\\kenta\\Documents\\ArcGIS\\Projects\\HealthPlaceNew\\E2FCAStep2Rural.gdb\"\n",
    "    \n",
    "    # Set local variables\n",
    "    inTable = r\"C:\\Users\\kenta\\Documents\\ArcGIS\\Projects\\HealthPlaceNew\\E2FCAStep2Rural.gdb\\CensusE2FCAFinal\"\n",
    "    fieldName1 = \"SUM_Hos2E2FCASlow\"\n",
    "    fieldName2 = \"SUM_Hos2E2FCAQuick\"\n",
    "    fieldName3 = \"SUM_Hos3E2FCASlow\"\n",
    "    fieldName4 = \"SUM_Hos3E2FCAQuick\"\n",
    "    expression1 = \"w(!SUM_PHCE2FCASlow!,!SUM_Hos2E2FCASlow!)\"\n",
    "    expression2 = \"w(!SUM_PHCE2FCASlow!,!SUM_Hos2E2FCAQuick!)\"\n",
    "    expression3 = \"w(!SUM_PHCE2FCASlow!,!SUM_Hos3E2FCASlow!)\"\n",
    "    expression4 = \"w(!SUM_PHCE2FCASlow!,!SUM_Hos3E2FCAQuick!)\"\n",
    "    codeblock1 = \"\"\"def w (f0,f1):\n",
    "        if (f0 != None and f1 is None):\n",
    "            return 0\"\"\"\n",
    "    codeblock2 = \"\"\"def w (f0,f2):\n",
    "        if f0 is None:\n",
    "            return f2\n",
    "        elif (f0 is not None and f2 is None):\n",
    "            return 0\"\"\"\n",
    "    codeblock3 = \"\"\"def w (f0,f3):\n",
    "        if f0 is None:\n",
    "            return f3\n",
    "        elif (f0 is not None and f3 is None):\n",
    "            return 0\"\"\"\n",
    "    codeblock4 = \"\"\"def w (f0,f4):\n",
    "        if f0 is None:\n",
    "            return f4\n",
    "        elif (f0 is not None and f4 is None):\n",
    "            return 0\"\"\"\n",
    "    # Execute CalculateField - imputing 0 where PHC score is not equal to NULL\n",
    "    arcpy.CalculateField_management(inTable, fieldName1, expression1, \"PYTHON_9.3\", codeblock1)\n",
    "    arcpy.CalculateField_management(inTable, fieldName2, expression2, \"PYTHON_9.3\", codeblock2)\n",
    "    arcpy.CalculateField_management(inTable, fieldName3, expression3, \"PYTHON_9.3\", codeblock3)\n",
    "    arcpy.CalculateField_management(inTable, fieldName4, expression4, \"PYTHON_9.3\", codeblock4)\n",
    "\n",
    "\n",
    "    print(\"Script completed successfully\")\n",
    "\n",
    "except Exception as e:\n",
    "    # If an error occurred, print line number and error message\n",
    "    import traceback, sys\n",
    "    tb = sys.exc_info()[2]\n",
    "    print(\"An error occurred on line %i\" % tb.tb_lineno)\n",
    "    print(str(e))"
   ]
  },
  {
   "cell_type": "markdown",
   "metadata": {},
   "source": [
    "### Calculate bus stop density"
   ]
  },
  {
   "cell_type": "code",
   "execution_count": 48,
   "metadata": {
    "scrolled": true
   },
   "outputs": [
    {
     "name": "stdout",
     "output_type": "stream",
     "text": [
      "Script completed successfully\n"
     ]
    }
   ],
   "source": [
    "### Import system modules\n",
    "import arcpy\n",
    "import os\n",
    "\n",
    "try:\n",
    "    \n",
    "    # Create a new field of Bus stop count and Bus stop density\n",
    "    env.workspace = r\"C:\\Users\\kenta\\Documents\\ArcGIS\\Projects\\HealthPlaceNew\\E2FCAStep2Rural.gdb\"\n",
    "    inTable = r\"C:\\Users\\kenta\\Documents\\ArcGIS\\Projects\\HealthPlaceNew\\E2FCAStep2Rural.gdb\\CensusE2FCAFinal\"\n",
    "    fieldName1 = \"BusCount\"\n",
    "    fieldName2 = \"BusDen\"\n",
    "    expression1 = \"!Join_Count!\"\n",
    "    expression2 = \"!BusCount!/!AreaRes!\"\n",
    "    dropFields = \"JOIN_COUNT\"\n",
    "    # Execute AddField\n",
    "    arcpy.AddField_management(inTable, fieldName1, \"DOUBLE\")\n",
    "    arcpy.AddField_management(inTable, fieldName2, \"DOUBLE\")\n",
    "    # Execute CalculateField - weighting\n",
    "    arcpy.CalculateField_management(inTable, fieldName1, expression1, \"PYTHON_9.3\")\n",
    "    arcpy.CalculateField_management(inTable, fieldName2, expression2, \"PYTHON_9.3\")\n",
    "    # Delete JOIN_COUNT field\n",
    "    arcpy.DeleteField_management(inTable, dropFields)\n",
    "    \n",
    "    print(\"Script completed successfully\")\n",
    "    \n",
    "except Exception as e:\n",
    "    # If an error occurred, print line number and error message\n",
    "    import traceback, sys\n",
    "    tb = sys.exc_info()[2]\n",
    "    print(\"An error occurred on line %i\" % tb.tb_lineno)\n",
    "    print(str(e))"
   ]
  },
  {
   "cell_type": "markdown",
   "metadata": {},
   "source": [
    "### Manually finished missing imputation by different PC\n",
    "### Now make a final dataset\n",
    "### 1. Copy imputed data to a project folder\n",
    "### 2. Join imputed data's fields to CensusE2FCAFinal data and create a new feature \"CensusE2FCAFinalMI\"\n",
    "### 3. Delete duplicated E2FCA score fields\n",
    "### 4. Spatial join with dfnew Gecoded"
   ]
  },
  {
   "cell_type": "code",
   "execution_count": null,
   "metadata": {
    "collapsed": true
   },
   "outputs": [],
   "source": [
    "### 1. Copy imputed data to a project folder"
   ]
  },
  {
   "cell_type": "code",
   "execution_count": 1,
   "metadata": {
    "collapsed": true
   },
   "outputs": [],
   "source": [
    "import arcpy\n",
    "from arcpy import env\n",
    "try:\n",
    "    \n",
    "    env.workspace = r\"G:\\ArcGIS\\Projects\\HealthPlaceNew\\E2FCAStep2Rural.gdb\"\n",
    "    ### Set a path for created data will ve stored\n",
    "    outpath = r\"C:\\Users\\kenta\\Documents\\ArcGIS\\Projects\\HealthPlaceNew\\E2FCAStep2Rural.gdb\"\n",
    "    # Export data to new path\n",
    "    arcpy.FeatureClassToFeatureClass_conversion('CensusE2FCAMI',outpath,\"CensusE2FCAMI\")\n",
    "    \n",
    "    print(\"Script completed successfully\")\n",
    "    \n",
    "except Exception as e:\n",
    "    # If an error occurred, print line number and error message\n",
    "    import traceback, sys\n",
    "    tb = sys.exc_info()[2]\n",
    "    print(\"An error occurred on line %i\" % tb.tb_lineno)\n",
    "    print(str(e))    "
   ]
  },
  {
   "cell_type": "code",
   "execution_count": null,
   "metadata": {
    "collapsed": true
   },
   "outputs": [],
   "source": [
    "# This works!"
   ]
  },
  {
   "cell_type": "code",
   "execution_count": null,
   "metadata": {
    "collapsed": true
   },
   "outputs": [],
   "source": [
    "### 2. Join imputed data's fields to CensusE2FCAFinal data and create a new feature \"CensusE2FCAFinalMI\""
   ]
  },
  {
   "cell_type": "code",
   "execution_count": 6,
   "metadata": {},
   "outputs": [
    {
     "name": "stdout",
     "output_type": "stream",
     "text": [
      "Script completed successfully\n"
     ]
    }
   ],
   "source": [
    "import arcpy\n",
    "from arcpy import env\n",
    "import os\n",
    "try:\n",
    "    # Set environment settings\n",
    "    env.workspace = r\"C:\\Users\\kenta\\Documents\\ArcGIS\\Projects\\HealthPlaceNew\\E2FCAStep2Rural.gdb\"\n",
    "    \n",
    "    # Set the local parameters\n",
    "    inWorkspace = r\"C:\\Users\\kenta\\Documents\\ArcGIS\\Projects\\HealthPlaceNew\\E2FCAStep2Rural.gdb\"\n",
    "    outWorkspace = r\"C:\\Users\\kenta\\Documents\\ArcGIS\\Projects\\HealthPlaceNew\\E2FCAStep2Rural.gdb\"\n",
    "    inFeatures = os.path.join(inWorkspace,\"CensusE2FCAFinal\")\n",
    "    joinField = \"OBJECTID\"\n",
    "    joinTable = os.path.join(inWorkspace,\"CensusE2FCAMI\")\n",
    "    fieldList = [\"SUM_PHCE2FCASLOW\", \"SUM_PHCE2FCAQUICK\", \"SUM_HOS2E2FCASLOW\", \"SUM_HOS2E2FCAQUICK\", \"SUM_HOS3E2FCASLOW\", \"SUM_HOS3E2FCAQUICK\"] \n",
    "    outFeatures = os.path.join(outWorkspace,\"CensusE2FCAFinalMI\")\n",
    "    \n",
    "    # Join two feature classes by the zonecode field and only carry \n",
    "    # over the PropToPopSlow and PropToPopQuick fields\n",
    "    arcpy.JoinField_management(inFeatures, joinField, joinTable, joinField, fieldList)\n",
    "    arcpy.CopyFeatures_management(inFeatures, outFeatures)\n",
    "\n",
    "    print(\"Script completed successfully\")\n",
    "except Exception as e:\n",
    "    # If an error occurred, print line number and error message\n",
    "    import traceback, sys\n",
    "    tb = sys.exc_info()[2]\n",
    "    print(\"An error occurred on line %i\" % tb.tb_lineno)\n",
    "    print(str(e))"
   ]
  },
  {
   "cell_type": "code",
   "execution_count": null,
   "metadata": {
    "collapsed": true
   },
   "outputs": [],
   "source": [
    "### 3. Delete duplicated E2FCA score fields"
   ]
  },
  {
   "cell_type": "code",
   "execution_count": 8,
   "metadata": {},
   "outputs": [
    {
     "name": "stdout",
     "output_type": "stream",
     "text": [
      "['OBJECTID', 'Shape', 'TARGET_FID', 'KEN_NAME', 'SHICHO_NAME', 'SHI_NAME', 'KU_NAME', 'GUN_NAME', 'CHOSON_NAME', 'OAZA_NAME', 'KOAZA_NAME', 'SUM_AREA', 'TOTPOP_H27', 'AreaRes', 'PopDen', 'SUM_PHCE2FCASlow', 'SUM_PHCE2FCAQuick', 'SUM_Hos2E2FCASlow', 'SUM_Hos2E2FCAQuick', 'SUM_Hos3E2FCASlow', 'SUM_Hos3E2FCAQuick', 'BusCount', 'BusDen', 'SUM_PHCE2FCASLOW_1', 'SUM_PHCE2FCAQUICK_1', 'SUM_HOS2E2FCASLOW_1', 'SUM_HOS2E2FCAQUICK_1', 'SUM_HOS3E2FCASLOW_1', 'SUM_HOS3E2FCAQUICK_1', 'Shape_Length', 'Shape_Area']\n"
     ]
    }
   ],
   "source": [
    "import arcpy\n",
    "from arcpy import env\n",
    "try:\n",
    "    env.workspace = r\"C:\\Users\\kenta\\Documents\\ArcGIS\\Projects\\HealthPlaceNew\\E2FCAStep2Rural.gdb\"\n",
    "    # list all field name\n",
    "    field_names = [f.name for f in arcpy.ListFields(\"CensusE2FCAFinalMI\")]\n",
    "    print(field_names)\n",
    "    \n",
    "except Exception as e:\n",
    "    # If an error occurred, print line number and error message\n",
    "    import traceback, sys\n",
    "    tb = sys.exc_info()[2]\n",
    "    print(\"An error occurred on line %i\" % tb.tb_lineno)\n",
    "    print(str(e))"
   ]
  },
  {
   "cell_type": "code",
   "execution_count": 9,
   "metadata": {
    "collapsed": true
   },
   "outputs": [],
   "source": [
    "import arcpy\n",
    "from arcpy import env\n",
    "try:    \n",
    "    env.workspace = r\"C:\\Users\\kenta\\Documents\\ArcGIS\\Projects\\HealthPlaceNew\\E2FCAStep2Rural.gdb\"\n",
    "    # Choose the fields want to be deleted\n",
    "    \n",
    "    delfield = ['SUM_PHCE2FCASlow', 'SUM_PHCE2FCAQuick', 'SUM_Hos2E2FCASlow', 'SUM_Hos2E2FCAQuick', 'SUM_Hos3E2FCASlow', 'SUM_Hos3E2FCAQuick']   # Delete fields\n",
    "    arcpy.DeleteField_management('CensusE2FCAFinalMI',delfield)\n",
    "    \n",
    "    print(\"Script completed successfully\")\n",
    "    \n",
    "except Exception as e:\n",
    "    # If an error occurred, print line number and error message\n",
    "    import traceback, sys\n",
    "    tb = sys.exc_info()[2]\n",
    "    print(\"An error occurred on line %i\" % tb.tb_lineno)\n",
    "    print(str(e))"
   ]
  },
  {
   "cell_type": "code",
   "execution_count": null,
   "metadata": {
    "collapsed": true
   },
   "outputs": [],
   "source": [
    "# Well done!!"
   ]
  },
  {
   "cell_type": "markdown",
   "metadata": {},
   "source": [
    "### Found the area which has innappropriate population density\n",
    "### Replace manually - if OAZA_AZA = \"津和野町富田\": return 498.34528"
   ]
  },
  {
   "cell_type": "code",
   "execution_count": 13,
   "metadata": {},
   "outputs": [
    {
     "name": "stdout",
     "output_type": "stream",
     "text": [
      "Script completed successfully\n"
     ]
    }
   ],
   "source": [
    "import arcpy\n",
    "from arcpy import env\n",
    "try:\n",
    "    # Set environment settings\n",
    "    env.workspace = r\"C:\\Users\\kenta\\Documents\\ArcGIS\\Projects\\HealthPlaceNew\\E2FCAStep2Rural.gdb\"\n",
    "    \n",
    "    # Set local variables\n",
    "    inTable = r\"C:\\Users\\kenta\\Documents\\ArcGIS\\Projects\\HealthPlaceNew\\E2FCAStep2Rural.gdb\\CensusE2FCAFinalMI\"\n",
    "    fieldName1 = \"PopDen\"\n",
    "    expression1 = \"w(!PopDen!)\"\n",
    "    codeblock1 = \"\"\"def w (f1):\n",
    "        if f1 > 50000:\n",
    "            return 498.34528\n",
    "        else:\n",
    "            return f1\"\"\"\n",
    "    # Execute CalculateField - imputing 0 where PHC score is not equal to NULL\n",
    "    arcpy.CalculateField_management(inTable, fieldName1, expression1, \"PYTHON_9.3\", codeblock1)\n",
    "\n",
    "\n",
    "    print(\"Script completed successfully\")\n",
    "\n",
    "except Exception as e:\n",
    "    # If an error occurred, print line number and error message\n",
    "    import traceback, sys\n",
    "    tb = sys.exc_info()[2]\n",
    "    print(\"An error occurred on line %i\" % tb.tb_lineno)\n",
    "    print(str(e))"
   ]
  },
  {
   "cell_type": "markdown",
   "metadata": {},
   "source": [
    "# Spatial Join with geocoded Kosha2015 data"
   ]
  },
  {
   "cell_type": "code",
   "execution_count": 14,
   "metadata": {},
   "outputs": [
    {
     "name": "stdout",
     "output_type": "stream",
     "text": [
      "Script completed successfully\n"
     ]
    }
   ],
   "source": [
    "### Import system modules\n",
    "import arcpy\n",
    "import os\n",
    "\n",
    "try:\n",
    "    \n",
    "    # Set local variables\n",
    "    inWorkspace1 = r\"C:\\Users\\kenta\\Documents\\ArcGIS\\Projects\\HealthPlaceNew\\E2FCA.gdb\"\n",
    "    inWorkspace2 = r\"C:\\Users\\kenta\\Documents\\ArcGIS\\Projects\\HealthPlaceNew\\E2FCAStep2Rural.gdb\"\n",
    "    outWorkdspace = r\"C:\\Users\\kenta\\Documents\\ArcGIS\\Projects\\HealthPlaceNew\\HealthPlaceNew.gdb\"\n",
    "    targetFeatures = os.path.join(inWorkspace1, \"dfnew6Gecoded\")\n",
    "    joinFeatures = os.path.join(inWorkspace2, \"CensusE2FCAFinalMI\")\n",
    "    \n",
    "    # Output will be the target features: PHCCover Polygon with a sum of population field \n",
    "    outfc = os.path.join(outWorkdspace, \"dfnew6E2CAFinal\")\n",
    "    \n",
    "    # Create a new fieldmappings and add the two input feature classes.\n",
    "    fieldmappings = arcpy.FieldMappings()\n",
    "    fieldmappings.addTable(targetFeatures)\n",
    "    fieldmappings.addTable(joinFeatures)\n",
    "       \n",
    "    # Delete fields that are no longer applicable, such as city CITY_NAME and CITY_FIPS\n",
    "    # as only the first value will be used by default\n",
    "    x = fieldmappings.findFieldMapIndex(\"Status\")\n",
    "    fieldmappings.removeFieldMap(x)\n",
    "    y = fieldmappings.findFieldMapIndex(\"Score\")\n",
    "    fieldmappings.removeFieldMap(y)\n",
    "    z = fieldmappings.findFieldMapIndex(\"Match_type\")\n",
    "    fieldmappings.removeFieldMap(z)\n",
    "    b = fieldmappings.findFieldMapIndex(\"Year\")\n",
    "    fieldmappings.removeFieldMap(b)\n",
    "    c = fieldmappings.findFieldMapIndex(\"Pref\")\n",
    "    fieldmappings.removeFieldMap(c)\n",
    "    d = fieldmappings.findFieldMapIndex(\"Gun\")\n",
    "    fieldmappings.removeFieldMap(d)\n",
    "    e = fieldmappings.findFieldMapIndex(\"City\")\n",
    "    fieldmappings.removeFieldMap(e)\n",
    "    f = fieldmappings.findFieldMapIndex(\"Ku\")\n",
    "    fieldmappings.removeFieldMap(f)\n",
    "    h = fieldmappings.findFieldMapIndex(\"Match_code\")\n",
    "    fieldmappings.removeFieldMap(h)\n",
    "    i = fieldmappings.findFieldMapIndex(\"Addr_type\")\n",
    "    fieldmappings.removeFieldMap(i)\n",
    "    j = fieldmappings.findFieldMapIndex(\"In_Single_Line_Input\")\n",
    "    fieldmappings.removeFieldMap(j)\n",
    "    k = fieldmappings.findFieldMapIndex(\"TARGET_FID\")\n",
    "    fieldmappings.removeFieldMap(k)\n",
    "    \n",
    "    #Run the Spatial Join tool, using the defaults for the join operation and join type\n",
    "    arcpy.SpatialJoin_analysis(targetFeatures, joinFeatures, outfc, \"JOIN_ONE_TO_ONE\", \"KEEP_ALL\", fieldmappings,\"COMPLETELY_WITHIN\")\n",
    "\n",
    "    print(\"Script completed successfully\")\n",
    "    \n",
    "except Exception as e:\n",
    "    # If an error occurred, print line number and error message\n",
    "    import traceback, sys\n",
    "    tb = sys.exc_info()[2]\n",
    "    print(\"An error occurred on line %i\" % tb.tb_lineno)\n",
    "    print(str(e))"
   ]
  },
  {
   "cell_type": "markdown",
   "metadata": {},
   "source": [
    "# Export data as csv or xls format"
   ]
  },
  {
   "cell_type": "markdown",
   "metadata": {},
   "source": [
    "### First, create a gdb table from point feature"
   ]
  },
  {
   "cell_type": "code",
   "execution_count": 15,
   "metadata": {
    "scrolled": true
   },
   "outputs": [
    {
     "name": "stdout",
     "output_type": "stream",
     "text": [
      "Script completed successfully\n"
     ]
    }
   ],
   "source": [
    "# Import system modules\n",
    "import arcpy\n",
    "from arcpy import env\n",
    "\n",
    "try:\n",
    "    # Set environment settings\n",
    "    env.workspace = r\"C:\\Users\\kenta\\Documents\\ArcGIS\\Projects\\HealthPlaceNew\\HealthPlaceNew.gdb\"\n",
    "    # Set local variables\n",
    "    inTable = \"dfnew6E2CAFinal\"\n",
    "    outLocation = r\"C:\\Users\\kenta\\Documents\\ArcGIS\\Projects\\HealthPlaceNew\\HealthPlaceNew.gdb\"\n",
    "    outTable = \"dfnew6E2FCAFinalTable\"\n",
    "    \n",
    "    # Execute TableToTable\n",
    "    arcpy.TableToTable_conversion(inTable, outLocation, outTable)\n",
    "\n",
    "    print(\"Script completed successfully\")\n",
    "    \n",
    "except Exception as e:\n",
    "    # If an error occurred, print line number and error message\n",
    "    import traceback, sys\n",
    "    tb = sys.exc_info()[2]\n",
    "    print(\"An error occurred on line %i\" % tb.tb_lineno)\n",
    "    print(str(e))"
   ]
  },
  {
   "cell_type": "code",
   "execution_count": null,
   "metadata": {
    "collapsed": true
   },
   "outputs": [],
   "source": [
    "### Now export the table to xls format file"
   ]
  },
  {
   "cell_type": "code",
   "execution_count": 16,
   "metadata": {},
   "outputs": [
    {
     "name": "stdout",
     "output_type": "stream",
     "text": [
      "Script completed successfully\n"
     ]
    }
   ],
   "source": [
    "# Import system modules\n",
    "import arcpy\n",
    "from arcpy import env\n",
    "\n",
    "try:\n",
    "    # Set environment settings\n",
    "    env.workspace = r\"C:\\Users\\kenta\\Documents\\ArcGIS\\Projects\\HealthPlaceNew\\HealthPlaceNew.gdb\"\n",
    "    # Set local variables\n",
    "    inTable = \"dfnew6E2FCAFinalTable\"\n",
    "    out_xls = r\"G:\\dfnew6E2FCAFinal.xls\"\n",
    "    \n",
    "    arcpy.TableToExcel_conversion(inTable, out_xls)\n",
    "\n",
    "    print(\"Script completed successfully\")\n",
    "    \n",
    "except Exception as e:\n",
    "    # If an error occurred, print line number and error message\n",
    "    import traceback, sys\n",
    "    tb = sys.exc_info()[2]\n",
    "    print(\"An error occurred on line %i\" % tb.tb_lineno)\n",
    "    print(str(e))"
   ]
  }
 ],
 "metadata": {
  "kernelspec": {
   "display_name": "Python 3",
   "language": "python",
   "name": "python3"
  },
  "language_info": {
   "codemirror_mode": {
    "name": "ipython",
    "version": 3
   },
   "file_extension": ".py",
   "mimetype": "text/x-python",
   "name": "python",
   "nbconvert_exporter": "python",
   "pygments_lexer": "ipython3",
   "version": "3.5.3"
  }
 },
 "nbformat": 4,
 "nbformat_minor": 2
}
