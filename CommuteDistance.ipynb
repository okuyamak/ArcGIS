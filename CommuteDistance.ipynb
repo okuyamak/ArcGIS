{
 "cells": [
  {
   "cell_type": "markdown",
   "metadata": {},
   "source": [
    "# Calculate commute distance between home - office"
   ]
  },
  {
   "cell_type": "code",
   "execution_count": 8,
   "metadata": {},
   "outputs": [
    {
     "name": "stdout",
     "output_type": "stream",
     "text": [
      "Script completed successfully\n"
     ]
    }
   ],
   "source": [
    "import arcpy\n",
    "from arcpy import env\n",
    "import os\n",
    "\n",
    "try:\n",
    "    \n",
    "    #The NA layer's data will be saved to the workspace specified here\n",
    "    env.workspace = r\"C:\\Users\\kenta\\Documents\\ArcGIS\\Projects\\MyProject1\\MyProject1.gdb\"\n",
    "    env.overwriteOutput = True\n",
    "\n",
    "    #Set local variables\n",
    "    input_gdb1 = r\"C:\\Users\\kenta\\Documents\\GISData_Import\\Esri道路2014中国\\道路網_鳥取県_島根県_岡山県_広島県_山口県版\\ADF2014.gdb\"\n",
    "    input_gdb2 = r\"C:\\Users\\kenta\\Documents\\ArcGIS\\Projects\\MyProject1\\MyProject1.gdb\"\n",
    "    input_gdb3 = r\"C:\\Users\\kenta\\Documents\\ArcGIS\\Projects\\HealthPlaceNew\\E2FCA.gdb\"\n",
    "    network = os.path.join(input_gdb1, \"ADF\", \"ADF_ND\")\n",
    "    stops_home = os.path.join(input_gdb3, \"dfnew6Gecoded\")\n",
    "    stops_work = os.path.join(input_gdb2, \"WorkAddress2015_Geocode\")\n",
    "    layer_name = \"CommuteDistance\"\n",
    "    out_routes_featureclass = \"CommuteDistance\"\n",
    "    travel_mode = \"Driving Time\"\n",
    "\n",
    "    #Create a new Route layer.  Optimize on driving time, but compute the\n",
    "    #distance traveled by accumulating the Meters attribute.\n",
    "    result_object = arcpy.na.MakeRouteAnalysisLayer(network, layer_name, travel_mode)\n",
    "\n",
    "    #Get the layer object from the result object. \n",
    "    #The route layer can now be referenced using the layer object.\n",
    "    layer_object = result_object.getOutput(0)\n",
    "\n",
    "    #Get the names of all the sublayers within the route layer.\n",
    "    sublayer_names = arcpy.na.GetNAClassNames(layer_object)\n",
    "    #Stores the layer names that we will use later\n",
    "    stops_layer_name = sublayer_names[\"Stops\"]\n",
    "    routes_layer_name = sublayer_names[\"Routes\"]\n",
    "\n",
    "    #Before loading the commuters' home and work locations as route stops, set\n",
    "    #up field mapping.  Map the \"ID\" field from the input data to\n",
    "    #the RouteName property in the Stops sublayer, which ensures that each\n",
    "    #unique ID will be placed in a separate route.  Matching\n",
    "    #ID from home and office will end up in the same route.\n",
    "    field_mappings = arcpy.na.NAClassFieldMappings(layer_object, stops_layer_name)\n",
    "    field_mappings[\"RouteName\"].mappedFieldName = \"ID\"\n",
    "\n",
    "    #Add the commuters' home and work locations as Stops. The same field mapping\n",
    "    #works for both input feature classes because they both have a field called\n",
    "    #\"Commuter_Name\"\n",
    "    arcpy.na.AddLocations(layer_object, stops_layer_name, stops_home,\n",
    "                        field_mappings, \"\")\n",
    "    arcpy.na.AddLocations(layer_object, stops_layer_name, stops_work,\n",
    "                        field_mappings, \"\", append=\"APPEND\")\n",
    "\n",
    "    #Solve the route layer.\n",
    "    arcpy.na.Solve(layer_object)\n",
    "\n",
    "    # Get the output Routes sublayer and save it to a feature class\n",
    "    routes_sublayer = layer_object.listLayers(routes_layer_name)[0]\n",
    "    arcpy.management.CopyFeatures(routes_sublayer, out_routes_featureclass)\n",
    "\n",
    "    print(\"Script completed successfully\")\n",
    "\n",
    "except Exception as e:\n",
    "    # If an error occurred, print line number and error message\n",
    "    import traceback, sys\n",
    "    tb = sys.exc_info()[2]\n",
    "    print(\"An error occurred on line %i\" % tb.tb_lineno)\n",
    "    print(str(e))"
   ]
  }
 ],
 "metadata": {
  "kernelspec": {
   "display_name": "Python 3",
   "language": "python",
   "name": "python3"
  },
  "language_info": {
   "codemirror_mode": {
    "name": "ipython",
    "version": 3
   },
   "file_extension": ".py",
   "mimetype": "text/x-python",
   "name": "python",
   "nbconvert_exporter": "python",
   "pygments_lexer": "ipython3",
   "version": "3.5.3"
  }
 },
 "nbformat": 4,
 "nbformat_minor": 2
}
