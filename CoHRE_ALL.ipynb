{
 "cells": [
  {
   "cell_type": "markdown",
   "metadata": {},
   "source": [
    "# Create neighborhood boundary polygon feature class with the size of \"residential area\""
   ]
  },
  {
   "cell_type": "code",
   "execution_count": 3,
   "metadata": {},
   "outputs": [
    {
     "name": "stdout",
     "output_type": "stream",
     "text": [
      "Script completed successfully\n"
     ]
    }
   ],
   "source": [
    "import arcpy\n",
    "from arcpy import env\n",
    "import os\n",
    "try:\n",
    "    env.workspace = r\"C:\\Users\\kenta\\Documents\\ArcGIS\\Projects\\CoHREAll\\CoHREAll.gdb\"\n",
    "    # Set local variables\n",
    "    input_gdb = r\"C:\\Users\\kenta\\Documents\\ArcGIS\\Projects\\HealthPlaceNew\\HealthPlaceNew.gdb\"\n",
    "    clipFC = os.path.join(input_gdb,\"LandNoLakeForest\")\n",
    "    # Get a Residential area for census data\n",
    "    arcpy.Clip_analysis('Census2010_Shimane', clipFC,\"Census2010_Shimane_ResArea\")\n",
    "    \n",
    "    # Calculate area\n",
    "    inTable = \"Census2010_Shimane_ResArea\"\n",
    "    fieldName1 = \"AreaRes\"\n",
    "    expression1 = \"!shape.area@SQUAREKILOMETERS!\"\n",
    "    # Execute AddField\n",
    "    arcpy.AddField_management(inTable, fieldName1, \"DOUBLE\")\n",
    "    # Execute CalculateField - Get a area size in square kilometers\n",
    "    arcpy.CalculateField_management(inTable, fieldName1, expression1, \"PYTHON_9.3\")\n",
    "\n",
    "    # Join the AreaRes field to original data\n",
    "    inFeatures = \"Census2010_Shimane\"\n",
    "    joinField1 = \"OBJECTID\"\n",
    "    joinTable = \"Census2010_Shimane_ResArea\"\n",
    "    joinField2 = \"OBJECTID\"\n",
    "    fieldList = [\"AreaRes\"] \n",
    "    outFeatures = \"Census2010_Shimane2\"\n",
    "    arcpy.JoinField_management(inFeatures, joinField1, joinTable, joinField2, fieldList)\n",
    "    arcpy.CopyFeatures_management(inFeatures, outFeatures)\n",
    "    \n",
    "    \n",
    "    print(\"Script completed successfully\")\n",
    "    \n",
    "except Exception as e:\n",
    "    # If an error occurred, print line number and error message\n",
    "    import traceback, sys\n",
    "    tb = sys.exc_info()[2]\n",
    "    print(\"An error occurred on line %i\" % tb.tb_lineno)\n",
    "    print(str(e))"
   ]
  },
  {
   "cell_type": "markdown",
   "metadata": {},
   "source": [
    "## Create walkability index - Neighborhood level\n",
    "### 1. Residential density (already in the neighborhood data)\n",
    "### 2. Bus stop density (spatial join with bus stop point data 2010)\n",
    "### 3. Intersection density (spatial join with intersection with >= 3 legs point data 2012)\n",
    "### 4. Slope (spatial join with mean slope 5 mesh data 2015)\n",
    "### 5. Age-specific population density (already in the neighborhood data)"
   ]
  },
  {
   "cell_type": "code",
   "execution_count": 7,
   "metadata": {},
   "outputs": [
    {
     "name": "stdout",
     "output_type": "stream",
     "text": [
      "Script completed successfully\n"
     ]
    }
   ],
   "source": [
    "### Import system modules\n",
    "import arcpy\n",
    "from arcpy import env\n",
    "import os\n",
    "\n",
    "try:\n",
    "    env.workspace = r\"C:\\Users\\kenta\\Documents\\ArcGIS\\Projects\\CoHREAll\\CoHREAll.gdb\"\n",
    "    ### Set local variables\n",
    "    targetFeatures1 = (\"Census2010_Shimane2\")\n",
    "    targetFeatures2 = (\"Census2010_Shimane2Bus\")\n",
    "    targetFeatures3 = (\"Census2010_Shimane2BusInter\")\n",
    "    joinFeatures1 = (\"busstop_Chugoku2010\")\n",
    "    joinFeatures2 = (\"Intersect_Shimane2012\")\n",
    "    joinFeatures3 = (\"SlopeShimane2\")\n",
    "    outfc1 = (\"Census2010_Shimane2Bus\")\n",
    "    outfc2 = (\"Census2010_Shimane2BusInter\")\n",
    "    outfc3 = (\"Census2010_Shimane2BusInterSlope\")\n",
    "    \n",
    "    ### Run the Spatial Join tool, using the defaults for the join operation and join type\n",
    "    arcpy.SpatialJoin_analysis(targetFeatures1, joinFeatures1, outfc1, \"JOIN_ONE_TO_ONE\", \"KEEP_ALL\", \"\",\"COMPLETELY_CONTAINS\")\n",
    "    arcpy.SpatialJoin_analysis(targetFeatures2, joinFeatures2, outfc2, \"JOIN_ONE_TO_ONE\", \"KEEP_ALL\", \"\",\"COMPLETELY_CONTAINS\")\n",
    "    \n",
    "    ### Create a new fieldmappings and add the two input feature classes.\n",
    "    fieldmappings = arcpy.FieldMappings()\n",
    "    fieldmappings.addTable(targetFeatures3)\n",
    "    fieldmappings.addTable(joinFeatures3)\n",
    "    # First get the slope fieldmap. slope is a field in the SlopeShimane2 feature class.\n",
    "    # The output will have the attributes of the SlopeShimane2. Setting the\n",
    "    # field's merge rule to mean will produce the mean of slope for overlapped polygon.\n",
    "    SlopeFieldIndex = fieldmappings.findFieldMapIndex(\"slope\")\n",
    "    fieldmap = fieldmappings.getFieldMap(SlopeFieldIndex)\n",
    "    # Get the output field's properties as a field object\n",
    "    field = fieldmap.outputField\n",
    "    # Rename the field and pass the updated field object back into the field map\n",
    "    field.name = \"mean_slope\"\n",
    "    field.aliasName = \"mean_slope\"\n",
    "    fieldmap.outputField = field\n",
    "    # Set the merge rule to \"mean\" and then replace the old fieldmap in the mappings object\n",
    "    # with the updated one\n",
    "    fieldmap.mergeRule = \"mean\"\n",
    "    fieldmappings.replaceFieldMap(SlopeFieldIndex, fieldmap)\n",
    "    \n",
    "    ### Run the Spatial Join tool, using the defaults for the join operation and join type\n",
    "    arcpy.SpatialJoin_analysis(targetFeatures3, joinFeatures3, outfc3, \"JOIN_ONE_TO_ONE\", \"KEEP_ALL\", fieldmappings,\"INTERSECT\")\n",
    "\n",
    "    print(\"Script completed successfully\")\n",
    "    \n",
    "except Exception as e:\n",
    "    # If an error occurred, print line number and error message\n",
    "    import traceback, sys\n",
    "    tb = sys.exc_info()[2]\n",
    "    print(\"An error occurred on line %i\" % tb.tb_lineno)\n",
    "    print(str(e))"
   ]
  },
  {
   "cell_type": "markdown",
   "metadata": {},
   "source": [
    "### Calculate density"
   ]
  },
  {
   "cell_type": "code",
   "execution_count": 11,
   "metadata": {},
   "outputs": [
    {
     "name": "stdout",
     "output_type": "stream",
     "text": [
      "Script completed successfully\n"
     ]
    }
   ],
   "source": [
    "import arcpy\n",
    "from arcpy import env\n",
    "try:\n",
    "    # Set environment settings\n",
    "    env.workspace = r\"C:\\Users\\kenta\\Documents\\ArcGIS\\Projects\\CoHREAll\\CoHREAll.gdb\"\n",
    "    \n",
    "    # Set local variables\n",
    "    inTable = \"Census2010_Shimane2BusInterSlope\"\n",
    "    fieldName1 = \"BusDen\"\n",
    "    fieldName2 = \"InterDen\"\n",
    "    fieldName3 = \"ResiDen\"\n",
    "    expression1 = \"(!Join_Count!/!AreaRes_1!)\"\n",
    "    expression2 = \"(!Join_Count_1!/!AreaRes_1!)\"\n",
    "    expression3 = \"(!TOTHH_H22!/!AreaRes_1!)\"\n",
    "\n",
    "    # Execute AddField\n",
    "    arcpy.AddField_management(inTable, fieldName1, \"DOUBLE\")\n",
    "    arcpy.AddField_management(inTable, fieldName2, \"DOUBLE\")\n",
    "    arcpy.AddField_management(inTable, fieldName3, \"DOUBLE\")\n",
    "\n",
    "    # Execute CalculateField - weighting\n",
    "    arcpy.CalculateField_management(inTable, fieldName1, expression1, \"PYTHON_9.3\")\n",
    "    arcpy.CalculateField_management(inTable, fieldName2, expression2, \"PYTHON_9.3\")\n",
    "    arcpy.CalculateField_management(inTable, fieldName3, expression3, \"PYTHON_9.3\")\n",
    "    \n",
    "    print(\"Script completed successfully\")\n",
    "    \n",
    "except Exception as e:\n",
    "    # If an error occurred, print line number and error message\n",
    "    import traceback, sys\n",
    "    tb = sys.exc_info()[2]\n",
    "    print(\"An error occurred on line %i\" % tb.tb_lineno)\n",
    "    print(str(e))"
   ]
  },
  {
   "cell_type": "markdown",
   "metadata": {},
   "source": [
    "## Create walkability index - Individual level\n",
    "### 1. Residential density (od cost matrix to KIHON_Chugoku2010)\n",
    "### 2. Bus stop density (od cost matrix to bus stop point data 2010)\n",
    "### 3. Intersection density (od cost matrix to intersection with >= 3 legs point data 2012)\n",
    "### 4. Slope (spatial join with mean slope 5 mesh data 2015)\n",
    "### 5. Age-specific population density (od cost matrix to census point data 2010)"
   ]
  },
  {
   "cell_type": "code",
   "execution_count": null,
   "metadata": {
    "collapsed": true
   },
   "outputs": [],
   "source": [
    "# Residential density"
   ]
  },
  {
   "cell_type": "code",
   "execution_count": 2,
   "metadata": {},
   "outputs": [
    {
     "name": "stdout",
     "output_type": "stream",
     "text": [
      "Script completed successfully\n"
     ]
    }
   ],
   "source": [
    "import arcpy\n",
    "from arcpy import env\n",
    "import os\n",
    "\n",
    "try:\n",
    "       \n",
    "    output_dir = r\"C:\\Users\\kenta\\Documents\\ArcGIS\\Projects\\CoHREAll\"\n",
    "    env.workspace = os.path.join(output_dir, \"Walkability_calculation.gdb\")\n",
    "    env.overwriteOutput = True\n",
    "\n",
    "    input_gdb1 = r\"C:\\Users\\kenta\\Documents\\GISData_Import\\Esri道路2012島根\\道路網_島根県版\\ADF2012_DISSOLVE.gdb\"\n",
    "    input_gdb2 = r\"C:\\Users\\kenta\\Documents\\ArcGIS\\Projects\\CoHREAll\\CoHREAll.gdb\"\n",
    "    input_gdb3 = r\"C:\\Users\\kenta\\Documents\\ArcGIS\\Projects\\CoHREAll\\Walkabiliy_Indices.gdb\"\n",
    "    network = os.path.join(input_gdb1, \"ADF\", \"ADF_ND\")\n",
    "    origins = os.path.join(input_gdb2, \"cohreAllGeocoded\")\n",
    "    destinations = os.path.join(input_gdb3, \"KIHON_Chugoku2010\")\n",
    "    output_features = \"RW1_res\"\n",
    "\n",
    "    #Define some OD cost matrix analysis settings\n",
    "    layer_name = \"RW1_res\"\n",
    "    travel_mode = \"Driving Time\"\n",
    "    cut_off = \"30\"\n",
    "     # number_destinations\n",
    "     # time_of_day\n",
    "     # time_zone\n",
    "    line_shape = \"NO_LINES\"\n",
    "     # accumulate_attribute\n",
    "        \n",
    "    #Create a new OD cost matrix layer.\n",
    "    result_object = arcpy.na.MakeODCostMatrixAnalysisLayer(network, layer_name, travel_mode, cut_off,\"\",\"\",\"\",line_shape)\n",
    "\n",
    "    #Get the layer object from the result object. \n",
    "    layer_object = result_object.getOutput(0)\n",
    "    #Get the names of all the sublayers within the OD layer.\n",
    "    sublayer_names = arcpy.na.GetNAClassNames(layer_object)\n",
    "    #Store the layer names for later use\n",
    "    origins_layer_name = sublayer_names[\"Origins\"]\n",
    "    destinations_layer_name = sublayer_names[\"Destinations\"]\n",
    "\n",
    "    #Add the ID fields to the \"origin\" sublayers\n",
    "    arcpy.na.AddFieldToAnalysisLayer(layer_object, origins_layer_name, \"cohreID\", \"TEXT\")\n",
    "    field_mappings = arcpy.na.NAClassFieldMappings(layer_object, origins_layer_name)\n",
    "    field_mappings[\"cohreID\"].mappedFieldName = \"OBJECTID\"\n",
    "   \n",
    "    #Load the census tracts as origins.\n",
    "    arcpy.na.AddLocations(layer_object, origins_layer_name, origins, field_mappings)\n",
    "\n",
    "    #Map the input number of population for each census centroid point\n",
    "    #Destinations\n",
    "    arcpy.na.AddFieldToAnalysisLayer(layer_object, destinations_layer_name,\"Resi\", \"DOUBLE\")\n",
    "    \n",
    "    field_mappings = arcpy.na.NAClassFieldMappings(layer_object,destinations_layer_name)\n",
    "    field_mappings[\"Resi\"].mappedFieldName = \"HOUSEHOLDS_H22\"\n",
    "  \n",
    "    #Load the hospitals as desinations.\n",
    "    arcpy.na.AddLocations(layer_object, destinations_layer_name, destinations,field_mappings)\n",
    "\n",
    "    #Solve the OD layer\n",
    "    arcpy.na.Solve(layer_object)\n",
    "\n",
    "    #Get sublayers\n",
    "    #listLayers returns a list of sublayer layer objects contained in the NA\n",
    "    #group layer, filtered by layer name used as a wildcard. Use the sublayer\n",
    "    #name from GetNAClassNames as the wildcard string in case the sublayers\n",
    "    #have non-default names.\n",
    "    origins_sublayer = layer_object.listLayers(origins_layer_name)[0]\n",
    "    destinations_sublayer = layer_object.listLayers(destinations_layer_name)[0]\n",
    "    lines_sublayer = layer_object.listLayers(sublayer_names[\"ODLines\"])[0]\n",
    "\n",
    "    #Use the JoinField tool to transfer OD Cost Matrix information to the output feature class\n",
    "    #Transfer the Hospital ID and PopDen fields Origins to the output Lines\n",
    "    arcpy.management.JoinField(lines_sublayer, \"OriginID\",origins_sublayer, \"ObjectID\", \"coreID\")\n",
    "    #Transfer the Pop field from the input Destinations to the output Lines\n",
    "    arcpy.management.JoinField(lines_sublayer, \"DestinationID\",destinations_sublayer, \"ObjectID\", \"Resi\")\n",
    "    \n",
    "    print(\"Script completed successfully\")\n",
    "\n",
    "except Exception as e:\n",
    "    # If an error occurred, print line number and error message\n",
    "    import traceback, sys\n",
    "    tb = sys.exc_info()[2]\n",
    "    print(\"An error occurred on line %i\" % tb.tb_lineno)\n",
    "    print(str(e))"
   ]
  },
  {
   "cell_type": "code",
   "execution_count": null,
   "metadata": {
    "collapsed": true
   },
   "outputs": [],
   "source": [
    "# Weight the residential units"
   ]
  },
  {
   "cell_type": "code",
   "execution_count": 3,
   "metadata": {},
   "outputs": [
    {
     "name": "stdout",
     "output_type": "stream",
     "text": [
      "Script completed successfully\n"
     ]
    }
   ],
   "source": [
    "import arcpy\n",
    "from arcpy import env\n",
    "try:\n",
    "    # Set environment settings\n",
    "    env.workspace =  r\"C:\\Users\\kenta\\Documents\\ArcGIS\\Projects\\CoHREAll\\Walkability_calculation.gdb\"\n",
    "    \n",
    "    # Set local variables\n",
    "    inTable = \"ODLines1\"\n",
    "    fieldName1 = \"Resi_w\"\n",
    "    expression = \"w(!Total_所要時間（自動車）!,!Resi!)\"\n",
    "    codeblock1 = \"\"\"def w(f1,f2):\n",
    "        if f1 < 10:\n",
    "            return f2\n",
    "        elif (f1 >= 10 and f1 < 30):\n",
    "            return f2 * ((30-f1)/(30-10))**1.5\"\"\"\n",
    "\n",
    "    # Execute AddField\n",
    "    arcpy.AddField_management(inTable, fieldName1, \"DOUBLE\")\n",
    "    # Execute CalculateField - weighting\n",
    "    arcpy.CalculateField_management(inTable, fieldName1, expression, \"PYTHON_9.3\", codeblock1)\n",
    "\n",
    "    print(\"Script completed successfully\")\n",
    "    \n",
    "except Exception as e:\n",
    "    # If an error occurred, print line number and error message\n",
    "    import traceback, sys\n",
    "    tb = sys.exc_info()[2]\n",
    "    print(\"An error occurred on line %i\" % tb.tb_lineno)\n",
    "    print(str(e))"
   ]
  },
  {
   "cell_type": "code",
   "execution_count": null,
   "metadata": {
    "collapsed": true
   },
   "outputs": [],
   "source": [
    "# Summary statisitcs by ID"
   ]
  },
  {
   "cell_type": "code",
   "execution_count": 4,
   "metadata": {},
   "outputs": [
    {
     "name": "stdout",
     "output_type": "stream",
     "text": [
      "Script completed successfully\n"
     ]
    }
   ],
   "source": [
    "# Import system modules\n",
    "import arcpy\n",
    "from arcpy import env\n",
    " \n",
    "import os\n",
    "try:\n",
    "    # Set environment settings\n",
    "    env.workspace = r\"C:\\Users\\kenta\\Documents\\ArcGIS\\Projects\\CoHREAll\\Walkability_calculation.gdb\"\n",
    "    # Set local variables\n",
    "    inFeatures = \"ODLines1\"\n",
    "    outStatsTable = \"RW1_res\"\n",
    "    statsFields = [[\"Resi_w\",\"sum\"]]\n",
    "    case_field = \"OriginID\"\n",
    "    # Execute Statistics to get the area of each vegetation type within the clipped buffer.\n",
    "    arcpy.Statistics_analysis(inFeatures, outStatsTable, statsFields, case_field)\n",
    "\n",
    "    print(\"Script completed successfully\")\n",
    "    \n",
    "except Exception as e:\n",
    "    # If an error occurred, print line number and error message\n",
    "    import traceback, sys\n",
    "    tb = sys.exc_info()[2]\n",
    "    print(\"An error occurred on line %i\" % tb.tb_lineno)\n",
    "    print(str(e))"
   ]
  },
  {
   "cell_type": "code",
   "execution_count": null,
   "metadata": {
    "collapsed": true
   },
   "outputs": [],
   "source": [
    "# Bus Stop"
   ]
  },
  {
   "cell_type": "code",
   "execution_count": 5,
   "metadata": {},
   "outputs": [
    {
     "name": "stdout",
     "output_type": "stream",
     "text": [
      "Script completed successfully\n"
     ]
    }
   ],
   "source": [
    "import arcpy\n",
    "from arcpy import env\n",
    "import os\n",
    "\n",
    "try:\n",
    "       \n",
    "    output_dir = r\"C:\\Users\\kenta\\Documents\\ArcGIS\\Projects\\CoHREAll\"\n",
    "    env.workspace = os.path.join(output_dir, \"Walkability_calculation.gdb\")\n",
    "    env.overwriteOutput = True\n",
    "\n",
    "    input_gdb1 = r\"C:\\Users\\kenta\\Documents\\GISData_Import\\Esri道路2012島根\\道路網_島根県版\\ADF2012_DISSOLVE.gdb\"\n",
    "    input_gdb2 = r\"C:\\Users\\kenta\\Documents\\ArcGIS\\Projects\\CoHREAll\\CoHREAll.gdb\"\n",
    "    input_gdb3 = r\"C:\\Users\\kenta\\Documents\\ArcGIS\\Projects\\CoHREAll\\Walkabiliy_Indices.gdb\"\n",
    "    network = os.path.join(input_gdb1, \"ADF\", \"ADF_ND\")\n",
    "    origins = os.path.join(input_gdb2, \"cohreAllGeocoded\")\n",
    "    destinations = os.path.join(input_gdb3, \"busstop_Chugoku2010\")\n",
    "    output_features = \"RW2_bus\"\n",
    "\n",
    "    #Define some OD cost matrix analysis settings\n",
    "    layer_name = \"RW2_bus\"\n",
    "    travel_mode = \"Driving Time\"\n",
    "    cut_off = \"30\"\n",
    "     # number_destinations\n",
    "     # time_of_day\n",
    "     # time_zone\n",
    "    line_shape = \"NO_LINES\"\n",
    "     # accumulate_attribute\n",
    "        \n",
    "    #Create a new OD cost matrix layer.\n",
    "    result_object = arcpy.na.MakeODCostMatrixAnalysisLayer(network, layer_name, travel_mode, cut_off,\"\",\"\",\"\",line_shape)\n",
    "\n",
    "    #Get the layer object from the result object. \n",
    "    layer_object = result_object.getOutput(0)\n",
    "    #Get the names of all the sublayers within the OD layer.\n",
    "    sublayer_names = arcpy.na.GetNAClassNames(layer_object)\n",
    "    #Store the layer names for later use\n",
    "    origins_layer_name = sublayer_names[\"Origins\"]\n",
    "    destinations_layer_name = sublayer_names[\"Destinations\"]\n",
    "\n",
    "    #Add the ID fields to the \"origin\" sublayers\n",
    "    arcpy.na.AddFieldToAnalysisLayer(layer_object, origins_layer_name, \"cohreID\", \"TEXT\")\n",
    "    field_mappings = arcpy.na.NAClassFieldMappings(layer_object, origins_layer_name)\n",
    "    field_mappings[\"cohreID\"].mappedFieldName = \"OBJECTID\"\n",
    "   \n",
    "    #Load the cohre samples as origin\n",
    "    arcpy.na.AddLocations(layer_object, origins_layer_name, origins, field_mappings)\n",
    "    #Load the bus stop as desinations.\n",
    "    arcpy.na.AddLocations(layer_object, destinations_layer_name, destinations,field_mappings)\n",
    "\n",
    "    #Solve the OD layer\n",
    "    arcpy.na.Solve(layer_object)\n",
    "\n",
    "    #Get sublayers\n",
    "    #listLayers returns a list of sublayer layer objects contained in the NA\n",
    "    #group layer, filtered by layer name used as a wildcard. Use the sublayer\n",
    "    #name from GetNAClassNames as the wildcard string in case the sublayers\n",
    "    #have non-default names.\n",
    "    origins_sublayer = layer_object.listLayers(origins_layer_name)[0]\n",
    "    destinations_sublayer = layer_object.listLayers(destinations_layer_name)[0]\n",
    "    lines_sublayer = layer_object.listLayers(sublayer_names[\"ODLines\"])[0]\n",
    "\n",
    "    #Use the JoinField tool to transfer OD Cost Matrix information to the output feature class\n",
    "    #Transfer the Hospital ID and PopDen fields Origins to the output Lines\n",
    "    arcpy.management.JoinField(lines_sublayer, \"OriginID\",origins_sublayer, \"ObjectID\", \"coreID\")\n",
    "    #Transfer the Pop field from the input Destinations to the output Lines\n",
    "    arcpy.management.JoinField(lines_sublayer, \"DestinationID\",destinations_sublayer, \"ObjectID\")\n",
    "    \n",
    "    print(\"Script completed successfully\")\n",
    "\n",
    "except Exception as e:\n",
    "    # If an error occurred, print line number and error message\n",
    "    import traceback, sys\n",
    "    tb = sys.exc_info()[2]\n",
    "    print(\"An error occurred on line %i\" % tb.tb_lineno)\n",
    "    print(str(e))"
   ]
  },
  {
   "cell_type": "code",
   "execution_count": null,
   "metadata": {
    "collapsed": true
   },
   "outputs": [],
   "source": [
    "# Weight the bus stop"
   ]
  },
  {
   "cell_type": "code",
   "execution_count": 6,
   "metadata": {},
   "outputs": [
    {
     "name": "stdout",
     "output_type": "stream",
     "text": [
      "Script completed successfully\n"
     ]
    }
   ],
   "source": [
    "import arcpy\n",
    "from arcpy import env\n",
    "try:\n",
    "    # Set environment settings\n",
    "    env.workspace =  r\"C:\\Users\\kenta\\Documents\\ArcGIS\\Projects\\CoHREAll\\Walkability_calculation.gdb\"\n",
    "    \n",
    "    # Set local variables\n",
    "    inTable = \"ODLines2\"\n",
    "    fieldName1 = \"Bus_w\"\n",
    "    expression = \"w(!Total_所要時間（自動車）!)\"\n",
    "    codeblock1 = \"\"\"def w(f1):\n",
    "        if f1 < 10:\n",
    "            return 1\n",
    "        elif (f1 >= 10 and f1 < 30):\n",
    "            return 1 * ((30-f1)/(30-10))**1.5\"\"\"\n",
    "\n",
    "    # Execute AddField\n",
    "    arcpy.AddField_management(inTable, fieldName1, \"DOUBLE\")\n",
    "    # Execute CalculateField - weighting\n",
    "    arcpy.CalculateField_management(inTable, fieldName1, expression, \"PYTHON_9.3\", codeblock1)\n",
    "\n",
    "    print(\"Script completed successfully\")\n",
    "    \n",
    "except Exception as e:\n",
    "    # If an error occurred, print line number and error message\n",
    "    import traceback, sys\n",
    "    tb = sys.exc_info()[2]\n",
    "    print(\"An error occurred on line %i\" % tb.tb_lineno)\n",
    "    print(str(e))"
   ]
  },
  {
   "cell_type": "code",
   "execution_count": null,
   "metadata": {
    "collapsed": true
   },
   "outputs": [],
   "source": [
    "# Summary statistic by ID"
   ]
  },
  {
   "cell_type": "code",
   "execution_count": 7,
   "metadata": {},
   "outputs": [
    {
     "name": "stdout",
     "output_type": "stream",
     "text": [
      "Script completed successfully\n"
     ]
    }
   ],
   "source": [
    "# Import system modules\n",
    "import arcpy\n",
    "from arcpy import env\n",
    " \n",
    "import os\n",
    "try:\n",
    "    # Set environment settings\n",
    "    env.workspace = r\"C:\\Users\\kenta\\Documents\\ArcGIS\\Projects\\CoHREAll\\Walkability_calculation.gdb\"\n",
    "    # Set local variables\n",
    "    inFeatures = \"ODLines2\"\n",
    "    outStatsTable = \"RW2_bus\"\n",
    "    statsFields = [[\"Bus_w\",\"sum\"]]\n",
    "    case_field = \"OriginID\"\n",
    "    # Execute Statistics to get the area of each vegetation type within the clipped buffer.\n",
    "    arcpy.Statistics_analysis(inFeatures, outStatsTable, statsFields, case_field)\n",
    "\n",
    "    print(\"Script completed successfully\")\n",
    "    \n",
    "except Exception as e:\n",
    "    # If an error occurred, print line number and error message\n",
    "    import traceback, sys\n",
    "    tb = sys.exc_info()[2]\n",
    "    print(\"An error occurred on line %i\" % tb.tb_lineno)\n",
    "    print(str(e))"
   ]
  },
  {
   "cell_type": "code",
   "execution_count": null,
   "metadata": {
    "collapsed": true
   },
   "outputs": [],
   "source": [
    "# Intersection"
   ]
  },
  {
   "cell_type": "code",
   "execution_count": 8,
   "metadata": {},
   "outputs": [
    {
     "name": "stdout",
     "output_type": "stream",
     "text": [
      "Script completed successfully\n"
     ]
    }
   ],
   "source": [
    "import arcpy\n",
    "from arcpy import env\n",
    "import os\n",
    "\n",
    "try:\n",
    "       \n",
    "    output_dir = r\"C:\\Users\\kenta\\Documents\\ArcGIS\\Projects\\CoHREAll\"\n",
    "    env.workspace = os.path.join(output_dir, \"Walkability_calculation.gdb\")\n",
    "    env.overwriteOutput = True\n",
    "\n",
    "    input_gdb1 = r\"C:\\Users\\kenta\\Documents\\GISData_Import\\Esri道路2012島根\\道路網_島根県版\\ADF2012_DISSOLVE.gdb\"\n",
    "    input_gdb2 = r\"C:\\Users\\kenta\\Documents\\ArcGIS\\Projects\\CoHREAll\\CoHREAll.gdb\"\n",
    "    input_gdb3 = r\"C:\\Users\\kenta\\Documents\\ArcGIS\\Projects\\CoHREAll\\Walkabiliy_Indices.gdb\"\n",
    "    network = os.path.join(input_gdb1, \"ADF\", \"ADF_ND\")\n",
    "    origins = os.path.join(input_gdb2, \"cohreAllGeocoded\")\n",
    "    destinations = os.path.join(input_gdb3, \"Intersect_Shimane2012\")\n",
    "    output_features = \"RW3_inter\"\n",
    "\n",
    "    #Define some OD cost matrix analysis settings\n",
    "    layer_name = \"RW3_inter\"\n",
    "    travel_mode = \"Driving Time\"\n",
    "    cut_off = \"30\"\n",
    "     # number_destinations\n",
    "     # time_of_day\n",
    "     # time_zone\n",
    "    line_shape = \"NO_LINES\"\n",
    "     # accumulate_attribute\n",
    "        \n",
    "    #Create a new OD cost matrix layer.\n",
    "    result_object = arcpy.na.MakeODCostMatrixAnalysisLayer(network, layer_name, travel_mode, cut_off,\"\",\"\",\"\",line_shape)\n",
    "\n",
    "    #Get the layer object from the result object. \n",
    "    layer_object = result_object.getOutput(0)\n",
    "    #Get the names of all the sublayers within the OD layer.\n",
    "    sublayer_names = arcpy.na.GetNAClassNames(layer_object)\n",
    "    #Store the layer names for later use\n",
    "    origins_layer_name = sublayer_names[\"Origins\"]\n",
    "    destinations_layer_name = sublayer_names[\"Destinations\"]\n",
    "\n",
    "    #Add the ID fields to the \"origin\" sublayers\n",
    "    arcpy.na.AddFieldToAnalysisLayer(layer_object, origins_layer_name, \"cohreID\", \"TEXT\")\n",
    "    field_mappings = arcpy.na.NAClassFieldMappings(layer_object, origins_layer_name)\n",
    "    field_mappings[\"cohreID\"].mappedFieldName = \"OBJECTID\"\n",
    "   \n",
    "    #Load the cohre samples as origin\n",
    "    arcpy.na.AddLocations(layer_object, origins_layer_name, origins, field_mappings)\n",
    "    #Load the bus stop as desinations.\n",
    "    arcpy.na.AddLocations(layer_object, destinations_layer_name, destinations,field_mappings)\n",
    "\n",
    "    #Solve the OD layer\n",
    "    arcpy.na.Solve(layer_object)\n",
    "\n",
    "    #Get sublayers\n",
    "    #listLayers returns a list of sublayer layer objects contained in the NA\n",
    "    #group layer, filtered by layer name used as a wildcard. Use the sublayer\n",
    "    #name from GetNAClassNames as the wildcard string in case the sublayers\n",
    "    #have non-default names.\n",
    "    origins_sublayer = layer_object.listLayers(origins_layer_name)[0]\n",
    "    destinations_sublayer = layer_object.listLayers(destinations_layer_name)[0]\n",
    "    lines_sublayer = layer_object.listLayers(sublayer_names[\"ODLines\"])[0]\n",
    "\n",
    "    #Use the JoinField tool to transfer OD Cost Matrix information to the output feature class\n",
    "    #Transfer the Hospital ID and PopDen fields Origins to the output Lines\n",
    "    arcpy.management.JoinField(lines_sublayer, \"OriginID\",origins_sublayer, \"ObjectID\", \"coreID\")\n",
    "    #Transfer the Pop field from the input Destinations to the output Lines\n",
    "    arcpy.management.JoinField(lines_sublayer, \"DestinationID\",destinations_sublayer, \"ObjectID\")\n",
    "    \n",
    "    print(\"Script completed successfully\")\n",
    "\n",
    "except Exception as e:\n",
    "    # If an error occurred, print line number and error message\n",
    "    import traceback, sys\n",
    "    tb = sys.exc_info()[2]\n",
    "    print(\"An error occurred on line %i\" % tb.tb_lineno)\n",
    "    print(str(e))"
   ]
  },
  {
   "cell_type": "code",
   "execution_count": 9,
   "metadata": {
    "collapsed": true
   },
   "outputs": [],
   "source": [
    "# Weight the intersection"
   ]
  },
  {
   "cell_type": "code",
   "execution_count": 11,
   "metadata": {},
   "outputs": [
    {
     "name": "stdout",
     "output_type": "stream",
     "text": [
      "Script completed successfully\n"
     ]
    }
   ],
   "source": [
    "import arcpy\n",
    "from arcpy import env\n",
    "try:\n",
    "    # Set environment settings\n",
    "    env.workspace =  r\"C:\\Users\\kenta\\Documents\\ArcGIS\\Projects\\CoHREAll\\Walkability_calculation.gdb\"\n",
    "    \n",
    "    # Set local variables\n",
    "    inTable = \"ODLines3\"\n",
    "    fieldName1 = \"Inter_w\"\n",
    "    expression = \"w(!Total_所要時間（自動車）!)\"\n",
    "    codeblock1 = \"\"\"def w(f1):\n",
    "        if f1 < 10:\n",
    "            return 1\n",
    "        elif (f1 >= 10 and f1 < 30):\n",
    "            return 1 * ((30-f1)/(30-10))**1.5\"\"\"\n",
    "\n",
    "    # Execute AddField\n",
    "    arcpy.AddField_management(inTable, fieldName1, \"DOUBLE\")\n",
    "    # Execute CalculateField - weighting\n",
    "    arcpy.CalculateField_management(inTable, fieldName1, expression, \"PYTHON_9.3\", codeblock1)\n",
    "\n",
    "    print(\"Script completed successfully\")\n",
    "    \n",
    "except Exception as e:\n",
    "    # If an error occurred, print line number and error message\n",
    "    import traceback, sys\n",
    "    tb = sys.exc_info()[2]\n",
    "    print(\"An error occurred on line %i\" % tb.tb_lineno)\n",
    "    print(str(e))"
   ]
  },
  {
   "cell_type": "code",
   "execution_count": null,
   "metadata": {
    "collapsed": true
   },
   "outputs": [],
   "source": [
    "# Summary statistics by ID"
   ]
  },
  {
   "cell_type": "code",
   "execution_count": 12,
   "metadata": {},
   "outputs": [
    {
     "name": "stdout",
     "output_type": "stream",
     "text": [
      "Script completed successfully\n"
     ]
    }
   ],
   "source": [
    "# Import system modules\n",
    "import arcpy\n",
    "from arcpy import env\n",
    " \n",
    "import os\n",
    "try:\n",
    "    # Set environment settings\n",
    "    env.workspace = r\"C:\\Users\\kenta\\Documents\\ArcGIS\\Projects\\CoHREAll\\Walkability_calculation.gdb\"\n",
    "    # Set local variables\n",
    "    inFeatures = \"ODLines3\"\n",
    "    outStatsTable = \"RW3_inter\"\n",
    "    statsFields = [[\"Inter_w\",\"sum\"]]\n",
    "    case_field = \"OriginID\"\n",
    "    # Execute Statistics to get the area of each vegetation type within the clipped buffer.\n",
    "    arcpy.Statistics_analysis(inFeatures, outStatsTable, statsFields, case_field)\n",
    "\n",
    "    print(\"Script completed successfully\")\n",
    "    \n",
    "except Exception as e:\n",
    "    # If an error occurred, print line number and error message\n",
    "    import traceback, sys\n",
    "    tb = sys.exc_info()[2]\n",
    "    print(\"An error occurred on line %i\" % tb.tb_lineno)\n",
    "    print(str(e))"
   ]
  },
  {
   "cell_type": "code",
   "execution_count": null,
   "metadata": {
    "collapsed": true
   },
   "outputs": [],
   "source": [
    "# Slope"
   ]
  },
  {
   "cell_type": "code",
   "execution_count": 13,
   "metadata": {},
   "outputs": [
    {
     "name": "stdout",
     "output_type": "stream",
     "text": [
      "Script completed successfully\n"
     ]
    }
   ],
   "source": [
    "import arcpy\n",
    "from arcpy import env\n",
    "import os\n",
    "\n",
    "try:\n",
    "       \n",
    "    output_dir = r\"C:\\Users\\kenta\\Documents\\ArcGIS\\Projects\\CoHREAll\"\n",
    "    env.workspace = os.path.join(output_dir, \"Walkability_calculation.gdb\")\n",
    "    env.overwriteOutput = True\n",
    "\n",
    "    input_gdb1 = r\"C:\\Users\\kenta\\Documents\\GISData_Import\\Esri道路2012島根\\道路網_島根県版\\ADF2012_DISSOLVE.gdb\"\n",
    "    input_gdb2 = r\"C:\\Users\\kenta\\Documents\\ArcGIS\\Projects\\CoHREAll\\CoHREAll.gdb\"\n",
    "    input_gdb3 = r\"C:\\Users\\kenta\\Documents\\ArcGIS\\Projects\\CoHREAll\\Walkabiliy_Indices.gdb\"\n",
    "    network = os.path.join(input_gdb1, \"ADF\", \"ADF_ND\")\n",
    "    origins = os.path.join(input_gdb2, \"cohreAllGeocoded\")\n",
    "    destinations = os.path.join(input_gdb3, \"SlopeShimaneCentroid\")\n",
    "    output_features = \"RW4_slope\"\n",
    "\n",
    "    #Define some OD cost matrix analysis settings\n",
    "    layer_name = \"RW4_slope\"\n",
    "    travel_mode = \"Driving Time\"\n",
    "    cut_off = \"30\"\n",
    "     # number_destinations\n",
    "     # time_of_day\n",
    "     # time_zone\n",
    "    line_shape = \"NO_LINES\"\n",
    "     # accumulate_attribute\n",
    "        \n",
    "    #Create a new OD cost matrix layer.\n",
    "    result_object = arcpy.na.MakeODCostMatrixAnalysisLayer(network, layer_name, travel_mode, cut_off,\"\",\"\",\"\",line_shape)\n",
    "\n",
    "    #Get the layer object from the result object. \n",
    "    layer_object = result_object.getOutput(0)\n",
    "    #Get the names of all the sublayers within the OD layer.\n",
    "    sublayer_names = arcpy.na.GetNAClassNames(layer_object)\n",
    "    #Store the layer names for later use\n",
    "    origins_layer_name = sublayer_names[\"Origins\"]\n",
    "    destinations_layer_name = sublayer_names[\"Destinations\"]\n",
    "\n",
    "    #Add the ID fields to the \"origin\" sublayers\n",
    "    arcpy.na.AddFieldToAnalysisLayer(layer_object, origins_layer_name, \"cohreID\", \"TEXT\")\n",
    "    field_mappings = arcpy.na.NAClassFieldMappings(layer_object, origins_layer_name)\n",
    "    field_mappings[\"cohreID\"].mappedFieldName = \"OBJECTID\"\n",
    "   \n",
    "    #Load the census tracts as origins.\n",
    "    arcpy.na.AddLocations(layer_object, origins_layer_name, origins, field_mappings)\n",
    "\n",
    "    #Map the input number of population for each census centroid point\n",
    "    #Destinations\n",
    "    arcpy.na.AddFieldToAnalysisLayer(layer_object, destinations_layer_name,\"Slope\", \"DOUBLE\")\n",
    "    \n",
    "    field_mappings = arcpy.na.NAClassFieldMappings(layer_object,destinations_layer_name)\n",
    "    field_mappings[\"Slope\"].mappedFieldName = \"slope\"\n",
    "  \n",
    "    #Load the hospitals as desinations.\n",
    "    arcpy.na.AddLocations(layer_object, destinations_layer_name, destinations,field_mappings)\n",
    "\n",
    "    #Solve the OD layer\n",
    "    arcpy.na.Solve(layer_object)\n",
    "\n",
    "    #Get sublayers\n",
    "    #listLayers returns a list of sublayer layer objects contained in the NA\n",
    "    #group layer, filtered by layer name used as a wildcard. Use the sublayer\n",
    "    #name from GetNAClassNames as the wildcard string in case the sublayers\n",
    "    #have non-default names.\n",
    "    origins_sublayer = layer_object.listLayers(origins_layer_name)[0]\n",
    "    destinations_sublayer = layer_object.listLayers(destinations_layer_name)[0]\n",
    "    lines_sublayer = layer_object.listLayers(sublayer_names[\"ODLines\"])[0]\n",
    "\n",
    "    #Use the JoinField tool to transfer OD Cost Matrix information to the output feature class\n",
    "    #Transfer the Hospital ID and PopDen fields Origins to the output Lines\n",
    "    arcpy.management.JoinField(lines_sublayer, \"OriginID\",origins_sublayer, \"ObjectID\", \"coreID\")\n",
    "    #Transfer the Pop field from the input Destinations to the output Lines\n",
    "    arcpy.management.JoinField(lines_sublayer, \"DestinationID\",destinations_sublayer, \"ObjectID\", \"Slope\")\n",
    "    \n",
    "    print(\"Script completed successfully\")\n",
    "\n",
    "except Exception as e:\n",
    "    # If an error occurred, print line number and error message\n",
    "    import traceback, sys\n",
    "    tb = sys.exc_info()[2]\n",
    "    print(\"An error occurred on line %i\" % tb.tb_lineno)\n",
    "    print(str(e))"
   ]
  },
  {
   "cell_type": "code",
   "execution_count": null,
   "metadata": {
    "collapsed": true
   },
   "outputs": [],
   "source": [
    "# Weight the slope"
   ]
  },
  {
   "cell_type": "code",
   "execution_count": 14,
   "metadata": {},
   "outputs": [
    {
     "name": "stdout",
     "output_type": "stream",
     "text": [
      "Script completed successfully\n"
     ]
    }
   ],
   "source": [
    "import arcpy\n",
    "from arcpy import env\n",
    "try:\n",
    "    # Set environment settings\n",
    "    env.workspace =  r\"C:\\Users\\kenta\\Documents\\ArcGIS\\Projects\\CoHREAll\\Walkability_calculation.gdb\"\n",
    "    \n",
    "    # Set local variables\n",
    "    inTable = \"ODLines4\"\n",
    "    fieldName1 = \"Slope_w\"\n",
    "    expression = \"w(!Total_所要時間（自動車）!,!Slope!)\"\n",
    "    codeblock1 = \"\"\"def w(f1,f2):\n",
    "        if f1 < 10:\n",
    "            return f2\n",
    "        elif (f1 >= 10 and f1 < 30):\n",
    "            return f2 * ((30-f1)/(30-10))**1.5\"\"\"\n",
    "\n",
    "    # Execute AddField\n",
    "    arcpy.AddField_management(inTable, fieldName1, \"DOUBLE\")\n",
    "    # Execute CalculateField - weighting\n",
    "    arcpy.CalculateField_management(inTable, fieldName1, expression, \"PYTHON_9.3\", codeblock1)\n",
    "\n",
    "    print(\"Script completed successfully\")\n",
    "    \n",
    "except Exception as e:\n",
    "    # If an error occurred, print line number and error message\n",
    "    import traceback, sys\n",
    "    tb = sys.exc_info()[2]\n",
    "    print(\"An error occurred on line %i\" % tb.tb_lineno)\n",
    "    print(str(e))"
   ]
  },
  {
   "cell_type": "code",
   "execution_count": null,
   "metadata": {
    "collapsed": true
   },
   "outputs": [],
   "source": [
    "# Summary statistics by ID"
   ]
  },
  {
   "cell_type": "code",
   "execution_count": 15,
   "metadata": {},
   "outputs": [
    {
     "name": "stdout",
     "output_type": "stream",
     "text": [
      "Script completed successfully\n"
     ]
    }
   ],
   "source": [
    "# Import system modules\n",
    "import arcpy\n",
    "from arcpy import env\n",
    " \n",
    "import os\n",
    "try:\n",
    "    # Set environment settings\n",
    "    env.workspace = r\"C:\\Users\\kenta\\Documents\\ArcGIS\\Projects\\CoHREAll\\Walkability_calculation.gdb\"\n",
    "    # Set local variables\n",
    "    inFeatures = \"ODLines4\"\n",
    "    outStatsTable = \"RW4_slope\"\n",
    "    statsFields = [[\"Slope_w\",\"sum\"]]\n",
    "    case_field = \"OriginID\"\n",
    "    # Execute Statistics to get the area of each vegetation type within the clipped buffer.\n",
    "    arcpy.Statistics_analysis(inFeatures, outStatsTable, statsFields, case_field)\n",
    "\n",
    "    print(\"Script completed successfully\")\n",
    "    \n",
    "except Exception as e:\n",
    "    # If an error occurred, print line number and error message\n",
    "    import traceback, sys\n",
    "    tb = sys.exc_info()[2]\n",
    "    print(\"An error occurred on line %i\" % tb.tb_lineno)\n",
    "    print(str(e))"
   ]
  },
  {
   "cell_type": "code",
   "execution_count": null,
   "metadata": {
    "collapsed": true
   },
   "outputs": [],
   "source": [
    "# Compute mean slope\n",
    "# Calculate manually"
   ]
  },
  {
   "cell_type": "code",
   "execution_count": null,
   "metadata": {
    "collapsed": true
   },
   "outputs": [],
   "source": [
    "# Join all tables"
   ]
  },
  {
   "cell_type": "code",
   "execution_count": 22,
   "metadata": {},
   "outputs": [
    {
     "name": "stdout",
     "output_type": "stream",
     "text": [
      "Script completed successfully\n"
     ]
    }
   ],
   "source": [
    "import arcpy\n",
    "from arcpy import env\n",
    "import os\n",
    "try:\n",
    "    # Set environment settings\n",
    "    env.workspace = r\"C:\\Users\\kenta\\Documents\\ArcGIS\\Projects\\CoHREAll\\Walkability_calculation.gdb\"\n",
    "    env.overwriteOutput = True\n",
    "    # Set the local parameters\n",
    "    inWorkspace1 = r\"C:\\Users\\kenta\\Documents\\ArcGIS\\Projects\\CoHREAll\\CoHREAll.gdb\"\n",
    "    inWorkspace2 = r\"C:\\Users\\kenta\\Documents\\ArcGIS\\Projects\\CoHREAll\\Walkability_calculation.gdb\"\n",
    "    inWorkspace3 = r\"C:\\Users\\kenta\\Documents\\ArcGIS\\Projects\\CoHREAll\\Walkability_final.gdb\"\n",
    "    inFeatures = os.path.join(inWorkspace1,\"cohreAllGeocoded\")\n",
    "    joinField = \"OBJECTID\"\n",
    "    joinTable1 = os.path.join(inWorkspace2,\"RW1_res\")\n",
    "    joinTable2 = os.path.join(inWorkspace2,\"RW2_bus\")\n",
    "    joinTable3 = os.path.join(inWorkspace2,\"RW3_inter\")\n",
    "    joinTable4 = os.path.join(inWorkspace2,\"RW4_slope\")\n",
    "    joinField2 = \"OriginID\"\n",
    "    fieldList1 = [\"SUM_Resi_w\"] \n",
    "    fieldList2 = [\"SUM_Bus_w\"] \n",
    "    fieldList3 = [\"SUM_Inter_w\"] \n",
    "    fieldList4 = [\"SUM_Slope_w_mean\"] \n",
    "    outFeatures1 = os.path.join(inWorkspace3,\"cohreRW1\")\n",
    "    outFeatures2 = os.path.join(inWorkspace3,\"cohreRW12\")\n",
    "    outFeatures3 = os.path.join(inWorkspace3,\"cohreRW123\")\n",
    "    outFeatures4 = os.path.join(inWorkspace3,\"cohreRW1234\")\n",
    "\n",
    "    # Join two feature classes by the zonecode field and only carry \n",
    "    # over the PropToPopSlow and PropToPopQuick fields\n",
    "    arcpy.JoinField_management(inFeatures, joinField, joinTable1, joinField2, fieldList1)\n",
    "    arcpy.CopyFeatures_management(inFeatures, outFeatures1)\n",
    "    arcpy.JoinField_management(outFeatures1, joinField, joinTable2, joinField2, fieldList2)\n",
    "    arcpy.CopyFeatures_management(outFeatures1, outFeatures2)\n",
    "    arcpy.JoinField_management(outFeatures2, joinField, joinTable3, joinField2, fieldList3)\n",
    "    arcpy.CopyFeatures_management(outFeatures2, outFeatures3)\n",
    "    arcpy.JoinField_management(outFeatures3, joinField, joinTable4, joinField2, fieldList4)\n",
    "    arcpy.CopyFeatures_management(outFeatures3, outFeatures4)\n",
    "\n",
    "    print(\"Script completed successfully\")\n",
    "except Exception as e:\n",
    "    # If an error occurred, print line number and error message\n",
    "    import traceback, sys\n",
    "    tb = sys.exc_info()[2]\n",
    "    print(\"An error occurred on line %i\" % tb.tb_lineno)\n",
    "    print(str(e))"
   ]
  },
  {
   "cell_type": "markdown",
   "metadata": {},
   "source": [
    "### Traditional approach: 400m 800m buffer"
   ]
  },
  {
   "cell_type": "code",
   "execution_count": null,
   "metadata": {
    "collapsed": true
   },
   "outputs": [],
   "source": [
    "# completed manually"
   ]
  },
  {
   "cell_type": "markdown",
   "metadata": {
    "collapsed": true
   },
   "source": [
    "# Spatial join neighborhoood walkability and geocoded cohre data"
   ]
  },
  {
   "cell_type": "code",
   "execution_count": 25,
   "metadata": {},
   "outputs": [
    {
     "name": "stdout",
     "output_type": "stream",
     "text": [
      "Script completed successfully\n"
     ]
    }
   ],
   "source": [
    "### Import system modules\n",
    "import arcpy\n",
    "import os\n",
    "\n",
    "try:\n",
    "    \n",
    "    # Set environment settings\n",
    "    env.workspace = r\"C:\\Users\\kenta\\Documents\\ArcGIS\\Projects\\CoHREAll\\Walkability_calculation.gdb\"\n",
    "    env.overwriteOutput = True\n",
    "    \n",
    "    # Set local variables\n",
    "    inWorkspace1 = r\"C:\\Users\\kenta\\Documents\\ArcGIS\\Projects\\CoHREAll\\Walkability_final.gdb\"\n",
    "    inWorkspace2 = r\"C:\\Users\\kenta\\Documents\\ArcGIS\\Projects\\CoHREAll\\CoHREAll.gdb\"\n",
    "    outWorkdspace = r\"C:\\Users\\kenta\\Documents\\ArcGIS\\Projects\\CoHREAll\\Walkability_final.gdb\"\n",
    "    targetFeatures = os.path.join(inWorkspace1, \"cohreRW1234\")\n",
    "    joinFeatures = os.path.join(inWorkspace2, \"Census2010_Shimane2BusInterSlope\")\n",
    "    \n",
    "    # Output will be the target features: PHCCover Polygon with a sum of population field \n",
    "    outfc = os.path.join(outWorkdspace, \"cohreRWfinal\")\n",
    "    \n",
    "    # Create a new fieldmappings and add the two input feature classes.\n",
    "    fieldmappings = arcpy.FieldMappings()\n",
    "    fieldmappings.addTable(targetFeatures)\n",
    "    fieldmappings.addTable(joinFeatures)\n",
    "       \n",
    "    # Delete fields that are no longer applicable, such as city CITY_NAME and CITY_FIPS\n",
    "    # as only the first value will be used by default\n",
    "    x = fieldmappings.findFieldMapIndex(\"Join_Count\")\n",
    "    fieldmappings.removeFieldMap(x)\n",
    "    y = fieldmappings.findFieldMapIndex(\"TARGET_FID\")\n",
    "    fieldmappings.removeFieldMap(y)\n",
    "    z = fieldmappings.findFieldMapIndex(\"Join_Count_1\")\n",
    "    fieldmappings.removeFieldMap(z)\n",
    "    b = fieldmappings.findFieldMapIndex(\"TARGET_FID_1\")\n",
    "    fieldmappings.removeFieldMap(b)\n",
    "    c = fieldmappings.findFieldMapIndex(\"Join_Count_12\")\n",
    "    fieldmappings.removeFieldMap(c)\n",
    "    d = fieldmappings.findFieldMapIndex(\"TARGET_FID_12\")\n",
    "    fieldmappings.removeFieldMap(d)\n",
    "    e = fieldmappings.findFieldMapIndex(\"P11_001\")\n",
    "    fieldmappings.removeFieldMap(e)\n",
    "    f = fieldmappings.findFieldMapIndex(\"P11_002\")\n",
    "    fieldmappings.removeFieldMap(f)\n",
    "    \n",
    "    \n",
    "    #Run the Spatial Join tool, using the defaults for the join operation and join type\n",
    "    arcpy.SpatialJoin_analysis(targetFeatures, joinFeatures, outfc, \"JOIN_ONE_TO_ONE\", \"KEEP_ALL\", fieldmappings,\"WITHIN\")\n",
    "\n",
    "    print(\"Script completed successfully\")\n",
    "    \n",
    "except Exception as e:\n",
    "    # If an error occurred, print line number and error message\n",
    "    import traceback, sys\n",
    "    tb = sys.exc_info()[2]\n",
    "    print(\"An error occurred on line %i\" % tb.tb_lineno)\n",
    "    print(str(e))"
   ]
  },
  {
   "cell_type": "markdown",
   "metadata": {},
   "source": [
    "# Export data"
   ]
  },
  {
   "cell_type": "code",
   "execution_count": 26,
   "metadata": {},
   "outputs": [
    {
     "name": "stdout",
     "output_type": "stream",
     "text": [
      "An error occurred on line 15\n",
      "実行できません。パラメーターが不正です。\n",
      "ERROR 000732: Input Table: データセット cohreRWfinalTable が存在しないか、サポートされていません\n",
      "(TableToExcel) を実行できませんでした。\n",
      "\n"
     ]
    }
   ],
   "source": [
    "# Import system modules\n",
    "import arcpy\n",
    "from arcpy import env\n",
    "\n",
    "try:\n",
    "    # Set environment settings\n",
    "    env.workspace = r\"C:\\Users\\kenta\\Documents\\ArcGIS\\Projects\\CoHREAll\\Walkability_final.gdb\"\n",
    "    # Set local variables\n",
    "    inTable = \"cohreRWfinal\"\n",
    "    outLocation = r\"C:\\Users\\kenta\\Documents\\ArcGIS\\Projects\\CoHREAll\\Walkability_final.gdb\"\n",
    "    outTable = \"cohreRWfinalTable\"\n",
    "    # Execute TableToTable\n",
    "    arcpy.TableToTable_conversion(inTable, outLocation, outTable)\n",
    "\n",
    "    print(\"Script completed successfully\")\n",
    "    \n",
    "except Exception as e:\n",
    "    # If an error occurred, print line number and error message\n",
    "    import traceback, sys\n",
    "    tb = sys.exc_info()[2]\n",
    "    print(\"An error occurred on line %i\" % tb.tb_lineno)\n",
    "    print(str(e))"
   ]
  },
  {
   "cell_type": "code",
   "execution_count": 27,
   "metadata": {},
   "outputs": [
    {
     "name": "stdout",
     "output_type": "stream",
     "text": [
      "Script completed successfully\n"
     ]
    }
   ],
   "source": [
    "# Import system modules\n",
    "import arcpy\n",
    "from arcpy import env\n",
    "\n",
    "try:\n",
    "    # Set environment settings\n",
    "    env.workspace = r\"C:\\Users\\kenta\\Documents\\ArcGIS\\Projects\\CoHREAll\\Walkability_final.gdb\"\n",
    "    # Set local variables\n",
    "    inTable = \"cohreRWfinalTable\"\n",
    "    out_xls = r\"G:\\cohreRWfinal.xls\"\n",
    "    \n",
    "    arcpy.TableToExcel_conversion(inTable, out_xls)\n",
    "\n",
    "    print(\"Script completed successfully\")\n",
    "    \n",
    "except Exception as e:\n",
    "    # If an error occurred, print line number and error message\n",
    "    import traceback, sys\n",
    "    tb = sys.exc_info()[2]\n",
    "    print(\"An error occurred on line %i\" % tb.tb_lineno)\n",
    "    print(str(e))"
   ]
  },
  {
   "cell_type": "markdown",
   "metadata": {},
   "source": [
    "# Create Kyuson - Cho aza address list\n",
    "### 1. Spatial join with Kyuson polygon and Cho aza polygon by retaining the address name\n",
    "### 2. Export the table as excel table"
   ]
  },
  {
   "cell_type": "code",
   "execution_count": 8,
   "metadata": {},
   "outputs": [
    {
     "name": "stdout",
     "output_type": "stream",
     "text": [
      "Script completed successfully\n"
     ]
    }
   ],
   "source": [
    "### Import system modules\n",
    "import arcpy\n",
    "import os\n",
    "from arcpy import env\n",
    "\n",
    "try:\n",
    "    env.workspace = r\"C:\\Users\\kenta\\Documents\\ArcGIS\\Projects\\CoHREAll\\CoHREAll.gdb\"\n",
    "    env.overwriteOutput = True\n",
    "    # Set local variables\n",
    "    \n",
    "    # Want to join PHCCover polygon to KIHON_Chugoku2010 and calculate\n",
    "    # the total number of population that service area (10, 20, 30, 60 min) can cover\n",
    "    targetFeatures = \"Census2010Centroid\"\n",
    "    joinFeatures = \"Kyuson_H12foAdd\"\n",
    "    \n",
    "    # Output will be the target features: PHCCover Polygon with a sum of population field \n",
    "    outfc = \"Aza_KyusonAdderss\"\n",
    "    \n",
    "    #Run the Spatial Join tool, using the defaults for the join operation and join type\n",
    "    arcpy.SpatialJoin_analysis(targetFeatures, joinFeatures, outfc, \"JOIN_ONE_TO_ONE\", \"KEEP_ALL\", \"\",\"WITHIN\")\n",
    "\n",
    "    print(\"Script completed successfully\")\n",
    "    \n",
    "except Exception as e:\n",
    "    # If an error occurred, print line number and error message\n",
    "    import traceback, sys\n",
    "    tb = sys.exc_info()[2]\n",
    "    print(\"An error occurred on line %i\" % tb.tb_lineno)\n",
    "    print(str(e))\n",
    "    "
   ]
  }
 ],
 "metadata": {
  "kernelspec": {
   "display_name": "Python 3",
   "language": "python",
   "name": "python3"
  },
  "language_info": {
   "codemirror_mode": {
    "name": "ipython",
    "version": 3
   },
   "file_extension": ".py",
   "mimetype": "text/x-python",
   "name": "python",
   "nbconvert_exporter": "python",
   "pygments_lexer": "ipython3",
   "version": "3.5.3"
  }
 },
 "nbformat": 4,
 "nbformat_minor": 2
}
