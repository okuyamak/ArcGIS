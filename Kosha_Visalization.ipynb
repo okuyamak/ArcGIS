{
 "cells": [
  {
   "cell_type": "markdown",
   "metadata": {},
   "source": [
    "# Export Kyuson feature to project"
   ]
  },
  {
   "cell_type": "code",
   "execution_count": 2,
   "metadata": {},
   "outputs": [
    {
     "data": {
      "text/plain": [
       "<Result 'C:\\\\Users\\\\kenta\\\\Documents\\\\ArcGIS\\\\Projects\\\\MyProject2\\\\MyProject2.gdb\\\\Kyuson_H12'>"
      ]
     },
     "execution_count": 2,
     "metadata": {},
     "output_type": "execute_result"
    }
   ],
   "source": [
    "import arcpy\n",
    "import os\n",
    "from arcpy import env\n",
    "\n",
    "inPath = r\"C:\\Users\\kenta\\Documents\\GISData_Import\\Esri国勢調査2000全国\\00_zenkoku.gdb\"\n",
    "outPath = r\"C:\\Users\\kenta\\Documents\\ArcGIS\\Projects\\MyProject2\\MyProject2.gdb\"\n",
    "\n",
    "# Set local variables\n",
    "inFC = os.path.join(outPath,\"CITY_H12_CopyFeatures\")\n",
    "outFC = os.path.join(outPath,\"Kyuson_H12\")\n",
    "arcpy.CopyFeatures_management (inFC, outFC)"
   ]
  },
  {
   "cell_type": "markdown",
   "metadata": {},
   "source": [
    "# Delete fields of Kyuson fc + Create new Kyuson field starting from City name"
   ]
  },
  {
   "cell_type": "code",
   "execution_count": 5,
   "metadata": {
    "collapsed": true
   },
   "outputs": [],
   "source": [
    "import arcpy\n",
    "from arcpy import env\n",
    "env.workspace = r\"C:\\Users\\kenta\\Documents\\ArcGIS\\Projects\\MyProject2\\MyProject2.gdb\"\n",
    "field_names = [f.name for f in arcpy.ListFields(\"Kyuson_H12\")]"
   ]
  },
  {
   "cell_type": "code",
   "execution_count": 7,
   "metadata": {},
   "outputs": [
    {
     "name": "stdout",
     "output_type": "stream",
     "text": [
      "['OBJECTID', 'Shape', 'KEN', 'CITY', 'KEN_NAME', 'SHICHO_NAME', 'SHI_NAME', 'KU_NAME', 'GUN_NAME', 'CHOSON_NAME', 'X_CODE', 'Y_CODE', 'ZONE', 'COORDINATE_X', 'COORDINATE_Y', 'COORDINATE_AREA', 'TOTPOP_H12', 'TOTMALE_H12', 'TOTFEMALE_H12', 'TOTHH_H12', 'TOTPOP_INC_H12', 'POP_0_4_H12', 'POP_5_9_H12', 'POP_10_14_H12', 'POP_15_19_H12', 'POP_20_24_H12', 'POP_25_29_H12', 'POP_30_34_H12', 'POP_35_39_H12', 'POP_40_44_H12', 'POP_45_49_H12', 'POP_50_54_H12', 'POP_55_59_H12', 'POP_60_64_H12', 'POP_65_69_H12', 'POP_70_74_H12', 'POP_0_14_H12', 'POP_15_64_H12', 'POP_65UP_H12', 'POP_65_74_H12', 'POP_75UP_H12', 'TOTAGE_H12', 'TOTMALE_INC_H12', 'MALE_0_4_H12', 'MALE_5_9_H12', 'MALE_10_14_H12', 'MALE_15_19_H12', 'MALE_20_24_H12', 'MALE_25_29_H12', 'MALE_30_34_H12', 'MALE_35_39_H12', 'MALE_40_44_H12', 'MALE_45_49_H12', 'MALE_50_54_H12', 'MALE_55_59_H12', 'MALE_60_64_H12', 'MALE_65_69_H12', 'MALE_70_74_H12', 'MALE_0_14_H12', 'MALE_15_64_H12', 'MALE_65UP_H12', 'MALE_65_74_H12', 'MALE_75UP_H12', 'TOTMALEAGE_H12', 'TOTFEMALE_INC_H12', 'FEMALE_0_4_H12', 'FEMALE_5_9_H12', 'FEMALE_10_14_H12', 'FEMALE_15_19_H12', 'FEMALE_20_24_H12', 'FEMALE_25_29_H12', 'FEMALE_30_34_H12', 'FEMALE_35_39_H12', 'FEMALE_40_44_H12', 'FEMALE_45_49_H12', 'FEMALE_50_54_H12', 'FEMALE_55_59_H12', 'FEMALE_60_64_H12', 'FEMALE_65_69_H12', 'FEMALE_70_74_H12', 'FEMALE_0_14_H12', 'FEMALE_15_64_H12', 'FEMALE_65UP_H12', 'FEMALE_65_74_H12', 'FEMALE_75UP_H12', 'TOTFEMALEAGE_H12', 'GENHH_ALLPER_H12', 'GENHH_1PER_H12', 'GENHH_2PER_H12', 'GENHH_3PER_H12', 'GENHH_4PER_H12', 'GENHH_5PER_H12', 'GENNUM_H12', 'GENNUM_PERHH_H12', 'GENHH_H12', 'FMHH_H12', 'FMHHNC_H12', 'FMHHNC_HW_H12', 'FMHHNC_HWC_H12', 'OFMHH_H12', 'GENHH_WTU6_H12', 'GENHH_WTU18_H12', 'GENHH_WT65UP_H12', 'GENHH_LH_H12', 'GENHH_OWN_H12', 'GENHH_RNTPRV_H12', 'FSPERHH_GENHH_H12', 'FSPERP_GENHH_H12', 'TOTFS_GENHH_H12', 'TOTMHH_H12', 'MHH_DTCHD_H12', 'MHH_ATCHD_H12', 'MHH_APT_H12', 'MHH_LEV1_2_H12', 'MHH_LEV3_5_H12', 'MHH_LEV6_10_H12', 'MHH_LEV11UP_H12', 'MHH_OT_H12', 'GENHH_65UP_H12', 'POPWK_H12', 'IND_AGRIC_H12', 'IND_FOREST_H12', 'IND_FISH_H12', 'IND_MINIG_H12', 'IND_CONSTR_H12', 'IND_MANUF_H12', 'IND_UTILIT_H12', 'IND_TRNSP_INFO_H12', 'IND_WRT_H12', 'IND_FNCINS_H12', 'IND_RE_H12', 'IND_OSV_H12', 'IND_PUB_H12', 'WK_EMPLOYEE_H12', 'WK_SLFEMFM_H12', 'POPFMWK_H12', 'TOTSTNUM_H12', 'STNUM_JUNIOR_H12', 'STNUM_HIGHSC_H12', 'STNUM_COLLEGE_H12', 'STNUM_UNIV_H12', 'NONSTNUM_H12', 'TOTHH_12', 'HHWAFF_H12', 'HHWWOAFF_H12', 'HHWNAFF_H12', 'HHNONWK_H12', 'TOTWK_H12', 'WK_PROFTECH_H12', 'WK_MGMT_H12', 'WK_OW_H12', 'WK_SALE_H12', 'WK_SVC_H12', 'WK_SECU_H12', 'WK_AFF_H12', 'WK_TRNSCOMMU_H12', 'WK_PROD_H12', 'Kyuson', 'Shape_Length', 'Shape_Area']\n"
     ]
    }
   ],
   "source": [
    "print(field_names)"
   ]
  },
  {
   "cell_type": "code",
   "execution_count": 10,
   "metadata": {
    "collapsed": true
   },
   "outputs": [],
   "source": [
    "delf = ['KEN', 'CITY',  'X_CODE', 'Y_CODE', 'ZONE', 'COORDINATE_X', 'COORDINATE_Y', 'COORDINATE_AREA', 'TOTPOP_H12', 'TOTMALE_H12', 'TOTFEMALE_H12', 'TOTHH_H12', 'TOTPOP_INC_H12', 'POP_0_4_H12', 'POP_5_9_H12', 'POP_10_14_H12', 'POP_15_19_H12', 'POP_20_24_H12', 'POP_25_29_H12', 'POP_30_34_H12', 'POP_35_39_H12', 'POP_40_44_H12', 'POP_45_49_H12', 'POP_50_54_H12', 'POP_55_59_H12', 'POP_60_64_H12', 'POP_65_69_H12', 'POP_70_74_H12', 'POP_0_14_H12', 'POP_15_64_H12', 'POP_65UP_H12', 'POP_65_74_H12', 'POP_75UP_H12', 'TOTAGE_H12', 'TOTMALE_INC_H12', 'MALE_0_4_H12', 'MALE_5_9_H12', 'MALE_10_14_H12', 'MALE_15_19_H12', 'MALE_20_24_H12', 'MALE_25_29_H12', 'MALE_30_34_H12', 'MALE_35_39_H12', 'MALE_40_44_H12', 'MALE_45_49_H12', 'MALE_50_54_H12', 'MALE_55_59_H12', 'MALE_60_64_H12', 'MALE_65_69_H12', 'MALE_70_74_H12', 'MALE_0_14_H12', 'MALE_15_64_H12', 'MALE_65UP_H12', 'MALE_65_74_H12', 'MALE_75UP_H12', 'TOTMALEAGE_H12', 'TOTFEMALE_INC_H12', 'FEMALE_0_4_H12', 'FEMALE_5_9_H12', 'FEMALE_10_14_H12', 'FEMALE_15_19_H12', 'FEMALE_20_24_H12', 'FEMALE_25_29_H12', 'FEMALE_30_34_H12', 'FEMALE_35_39_H12', 'FEMALE_40_44_H12', 'FEMALE_45_49_H12', 'FEMALE_50_54_H12', 'FEMALE_55_59_H12', 'FEMALE_60_64_H12', 'FEMALE_65_69_H12', 'FEMALE_70_74_H12', 'FEMALE_0_14_H12', 'FEMALE_15_64_H12', 'FEMALE_65UP_H12', 'FEMALE_65_74_H12', 'FEMALE_75UP_H12', 'TOTFEMALEAGE_H12', 'GENHH_ALLPER_H12', 'GENHH_1PER_H12', 'GENHH_2PER_H12', 'GENHH_3PER_H12', 'GENHH_4PER_H12', 'GENHH_5PER_H12', 'GENNUM_H12', 'GENNUM_PERHH_H12', 'GENHH_H12', 'FMHH_H12', 'FMHHNC_H12', 'FMHHNC_HW_H12', 'FMHHNC_HWC_H12', 'OFMHH_H12', 'GENHH_WTU6_H12', 'GENHH_WTU18_H12', 'GENHH_WT65UP_H12', 'GENHH_LH_H12', 'GENHH_OWN_H12', 'GENHH_RNTPRV_H12', 'FSPERHH_GENHH_H12', 'FSPERP_GENHH_H12', 'TOTFS_GENHH_H12', 'TOTMHH_H12', 'MHH_DTCHD_H12', 'MHH_ATCHD_H12', 'MHH_APT_H12', 'MHH_LEV1_2_H12', 'MHH_LEV3_5_H12', 'MHH_LEV6_10_H12', 'MHH_LEV11UP_H12', 'MHH_OT_H12', 'GENHH_65UP_H12', 'POPWK_H12', 'IND_AGRIC_H12', 'IND_FOREST_H12', 'IND_FISH_H12', 'IND_MINIG_H12', 'IND_CONSTR_H12', 'IND_MANUF_H12', 'IND_UTILIT_H12', 'IND_TRNSP_INFO_H12', 'IND_WRT_H12', 'IND_FNCINS_H12', 'IND_RE_H12', 'IND_OSV_H12', 'IND_PUB_H12', 'WK_EMPLOYEE_H12', 'WK_SLFEMFM_H12', 'POPFMWK_H12', 'TOTSTNUM_H12', 'STNUM_JUNIOR_H12', 'STNUM_HIGHSC_H12', 'STNUM_COLLEGE_H12', 'STNUM_UNIV_H12', 'NONSTNUM_H12', 'TOTHH_12', 'HHWAFF_H12', 'HHWWOAFF_H12', 'HHWNAFF_H12', 'HHNONWK_H12', 'TOTWK_H12', 'WK_PROFTECH_H12', 'WK_MGMT_H12', 'WK_OW_H12', 'WK_SALE_H12', 'WK_SVC_H12', 'WK_SECU_H12', 'WK_AFF_H12', 'WK_TRNSCOMMU_H12', 'WK_PROD_H12','Kyuson']"
   ]
  },
  {
   "cell_type": "code",
   "execution_count": 12,
   "metadata": {},
   "outputs": [
    {
     "data": {
      "text/plain": [
       "<Result 'C:\\\\Users\\\\kenta\\\\Documents\\\\ArcGIS\\\\Projects\\\\MyProject2\\\\MyProject2.gdb\\\\Kyuson_H12'>"
      ]
     },
     "execution_count": 12,
     "metadata": {},
     "output_type": "execute_result"
    }
   ],
   "source": [
    "import arcpy\n",
    "import os \n",
    "from arcpy import env\n",
    "env.workspace = r\"C:\\Users\\kenta\\Documents\\ArcGIS\\Projects\\MyProject2\\MyProject2.gdb\"\n",
    "arcpy.DeleteField_management('Kyuson_H12',delf)\n",
    "arcpy.AddField_management('Kyuson_H12', \"Kyuson\", \"TEXT\")\n",
    "arcpy.CalculateField_management ('Kyuson_H12', \"Kyuson\", \"!SHI_NAME! + !KU_NAME! + !GUN_NAME! + !CHOSON_NAME!\")"
   ]
  },
  {
   "cell_type": "code",
   "execution_count": 13,
   "metadata": {},
   "outputs": [
    {
     "name": "stdout",
     "output_type": "stream",
     "text": [
      "['OBJECTID', 'Shape', 'KEN_NAME', 'SHICHO_NAME', 'SHI_NAME', 'KU_NAME', 'GUN_NAME', 'CHOSON_NAME', 'Shape_Length', 'Shape_Area', 'Kyuson']\n"
     ]
    }
   ],
   "source": [
    "import arcpy\n",
    "from arcpy import env\n",
    "env.workspace = r\"C:\\Users\\kenta\\Documents\\ArcGIS\\Projects\\MyProject2\\MyProject2.gdb\"\n",
    "field_names = [f.name for f in arcpy.ListFields(\"Kyuson_H12\")]\n",
    "print(field_names)"
   ]
  },
  {
   "cell_type": "code",
   "execution_count": 14,
   "metadata": {
    "collapsed": true
   },
   "outputs": [],
   "source": [
    "delf = ['KEN_NAME', 'SHICHO_NAME', 'SHI_NAME', 'KU_NAME', 'GUN_NAME', 'CHOSON_NAME']"
   ]
  },
  {
   "cell_type": "code",
   "execution_count": 15,
   "metadata": {},
   "outputs": [
    {
     "data": {
      "text/plain": [
       "<Result 'C:\\\\Users\\\\kenta\\\\Documents\\\\ArcGIS\\\\Projects\\\\MyProject2\\\\MyProject2.gdb\\\\Kyuson_H12'>"
      ]
     },
     "execution_count": 15,
     "metadata": {},
     "output_type": "execute_result"
    }
   ],
   "source": [
    "import arcpy\n",
    "import os \n",
    "from arcpy import env\n",
    "env.workspace = r\"C:\\Users\\kenta\\Documents\\ArcGIS\\Projects\\MyProject2\\MyProject2.gdb\"\n",
    "arcpy.DeleteField_management('Kyuson_H12',delf)"
   ]
  },
  {
   "cell_type": "markdown",
   "metadata": {},
   "source": [
    "# Import csv and convert it to gdb table"
   ]
  },
  {
   "cell_type": "code",
   "execution_count": 18,
   "metadata": {
    "collapsed": true
   },
   "outputs": [],
   "source": [
    "import arcpy\n",
    "import os\n",
    "from arcpy import env\n",
    "env.workspace = r\"G:\\AllData\\Kosha\"\n",
    "env.overwriteOutput = True\n",
    "csvlist = arcpy.ListFiles(\"koshaShimane_*\")\n",
    "for csvfile in csvlist:\n",
    "    outfile = os.path.splitext(csvfile)[0]\n",
    "    arcpy.TableToTable_conversion(csvfile,r\"C:\\Users\\kenta\\Documents\\ArcGIS\\Projects\\MyProject2\\MyProject2.gdb\",outfile)"
   ]
  },
  {
   "cell_type": "markdown",
   "metadata": {},
   "source": [
    "# Summary statistics table by Kyuson"
   ]
  },
  {
   "cell_type": "code",
   "execution_count": 4,
   "metadata": {},
   "outputs": [
    {
     "data": {
      "text/plain": [
       "<Result 'C:\\\\Users\\\\kenta\\\\Documents\\\\ArcGIS\\\\Projects\\\\MyProject2\\\\MyProject2.gdb\\\\Kyuson_summary'>"
      ]
     },
     "execution_count": 4,
     "metadata": {},
     "output_type": "execute_result"
    }
   ],
   "source": [
    "import arcpy\n",
    "import os\n",
    "from arcpy import env\n",
    "# Set environment settings\n",
    "arcpy.env.workspace = r\"C:\\Users\\kenta\\Documents\\ArcGIS\\Projects\\MyProject2\\MyProject2.gdb\"\n",
    "env.overwriteOutput = True\n",
    " \n",
    "# Set local variables\n",
    "inFC = \"koshaShimane_gis\"\n",
    "outStatsTable = \"Kyuson_summary\"\n",
    "statsFields = [[\"malnut1\", \"COUNT\"],[\"malnut1\", \"SUM\"],[\"malnut2\", \"COUNT\"],[\"malnut2\", \"SUM\"],[\"hbp_ob\", \"COUNT\"],[\"hbp_ob\", \"SUM\"],[\"diab_ob1\", \"COUNT\"],[\"diab_ob1\", \"SUM\"],[\"diab_ob2\", \"COUNT\"],[\"diab_ob2\", \"SUM\"],[\"dyslip_ob\", \"COUNT\"],[\"dyslip_ob\", \"SUM\"]]\n",
    "caseFields = [\"Kyuson\",\"year\"]\n",
    "\n",
    "arcpy.Statistics_analysis(inFC, outStatsTable, statsFields, caseFields)"
   ]
  },
  {
   "cell_type": "markdown",
   "metadata": {},
   "source": [
    "# Calculate Proportion for each disease"
   ]
  },
  {
   "cell_type": "code",
   "execution_count": 8,
   "metadata": {},
   "outputs": [
    {
     "data": {
      "text/plain": [
       "<Result 'C:\\\\Users\\\\kenta\\\\Documents\\\\ArcGIS\\\\Projects\\\\MyProject2\\\\MyProject2.gdb\\\\Kyuson_summary'>"
      ]
     },
     "execution_count": 8,
     "metadata": {},
     "output_type": "execute_result"
    }
   ],
   "source": [
    "import arcpy\n",
    "import os \n",
    "from arcpy import env\n",
    "env.workspace = r\"C:\\Users\\kenta\\Documents\\ArcGIS\\Projects\\MyProject2\\MyProject2.gdb\"\n",
    "\n",
    "inFC = \"Kyuson_summary\"\n",
    "field1 = \"malnut1Prop\"\n",
    "field2 = \"malnut2Prop\"\n",
    "field3 = \"hbpProp\"\n",
    "field4 = \"diab1Prop\"\n",
    "field5 = \"diab2Prop\"\n",
    "field6 = \"dyslipProp\"\n",
    "\n",
    "arcpy.AddField_management(inFC, field1, \"DOUBLE\")\n",
    "arcpy.AddField_management(inFC, field2, \"DOUBLE\")\n",
    "arcpy.AddField_management(inFC, field3, \"DOUBLE\")\n",
    "arcpy.AddField_management(inFC, field4, \"DOUBLE\")\n",
    "arcpy.AddField_management(inFC, field5, \"DOUBLE\")\n",
    "arcpy.AddField_management(inFC, field6, \"DOUBLE\")"
   ]
  },
  {
   "cell_type": "code",
   "execution_count": 9,
   "metadata": {},
   "outputs": [
    {
     "name": "stdout",
     "output_type": "stream",
     "text": [
      "['OBJECTID', 'Kyuson', 'year', 'FREQUENCY', 'COUNT_malnut1', 'SUM_malnut1', 'COUNT_malnut2', 'SUM_malnut2', 'COUNT_hbp_ob', 'SUM_hbp_ob', 'COUNT_diab_ob1', 'SUM_diab_ob1', 'COUNT_diab_ob2', 'SUM_diab_ob2', 'COUNT_dyslip_ob', 'SUM_dyslip_ob', 'malnut1Prop', 'malnut2Prop', 'hbpProp', 'diab1Prop', 'diab2Prop', 'dyslipProp']\n"
     ]
    }
   ],
   "source": [
    "import arcpy\n",
    "from arcpy import env\n",
    "env.workspace = r\"C:\\Users\\kenta\\Documents\\ArcGIS\\Projects\\MyProject2\\MyProject2.gdb\"\n",
    "field_names = [f.name for f in arcpy.ListFields(\"Kyuson_summary\")]\n",
    "print(field_names)"
   ]
  },
  {
   "cell_type": "code",
   "execution_count": 11,
   "metadata": {},
   "outputs": [
    {
     "data": {
      "text/plain": [
       "<Result 'C:\\\\Users\\\\kenta\\\\Documents\\\\ArcGIS\\\\Projects\\\\MyProject2\\\\MyProject2.gdb\\\\Kyuson_summary'>"
      ]
     },
     "execution_count": 11,
     "metadata": {},
     "output_type": "execute_result"
    }
   ],
   "source": [
    "import arcpy\n",
    "import os \n",
    "from arcpy import env\n",
    "env.workspace = r\"C:\\Users\\kenta\\Documents\\ArcGIS\\Projects\\MyProject2\\MyProject2.gdb\"\n",
    "env.overwriteOutput = True\n",
    "\n",
    "inFC = \"Kyuson_summary\"\n",
    "field1 = \"malnut1Prop\"\n",
    "field2 = \"malnut2Prop\"\n",
    "field3 = \"hbpProp\"\n",
    "field4 = \"diab1Prop\"\n",
    "field5 = \"diab2Prop\"\n",
    "field6 = \"dyslipProp\"\n",
    "expression1 = \"(!SUM_malnut1!/!COUNT_malnut1!)*100\"\n",
    "expression2 = \"(!SUM_malnut2!/!COUNT_malnut2!)*100\"\n",
    "expression3 = \"(!SUM_hbp_ob!/!COUNT_hbp_ob!)*100\"\n",
    "expression4 = \"(!SUM_diab_ob1!/!COUNT_diab_ob1!)*100\"\n",
    "expression5 = \"(!SUM_diab_ob2!/!COUNT_diab_ob2!)*100\"\n",
    "expression6 = \"(!SUM_dyslip_ob!/!COUNT_dyslip_ob!)*100\"\n",
    "\n",
    "arcpy.CalculateField_management (inFC, field1, expression1)\n",
    "arcpy.CalculateField_management (inFC, field2, expression2)\n",
    "arcpy.CalculateField_management (inFC, field3, expression3)\n",
    "arcpy.CalculateField_management (inFC, field4, expression4)\n",
    "arcpy.CalculateField_management (inFC, field5, expression5)\n",
    "arcpy.CalculateField_management (inFC, field6, expression6)"
   ]
  },
  {
   "cell_type": "markdown",
   "metadata": {},
   "source": [
    "# Join summary table to Kyuson boundary"
   ]
  },
  {
   "cell_type": "code",
   "execution_count": 6,
   "metadata": {},
   "outputs": [
    {
     "data": {
      "text/plain": [
       "<Result 'C:\\\\Users\\\\kenta\\\\Documents\\\\ArcGIS\\\\Projects\\\\MyProject2\\\\MyProject2.gdb\\\\Kyuson_Prop'>"
      ]
     },
     "execution_count": 6,
     "metadata": {},
     "output_type": "execute_result"
    }
   ],
   "source": [
    "import arcpy\n",
    "import os\n",
    "from arcpy import env\n",
    "env.workspace = r\"C:\\Users\\kenta\\Documents\\ArcGIS\\Projects\\MyProject2\\MyProject2.gdb\"\n",
    "env.overwriteOutput = True\n",
    "\n",
    "inFC = \"Kyuson_H12\"\n",
    "layerName = \"Kyuson_layer\"\n",
    "joinTable = \"Kyuson_summary\"\n",
    "joinField1 = \"Kyuson\"\n",
    "joinField2 = \"Kyuson\"\n",
    "outFC = \"Kyuson_Prop\"\n",
    "\n",
    "arcpy.MakeFeatureLayer_management (inFC,  layerName)\n",
    "arcpy.AddJoin_management(layerName, joinField1, joinTable, joinField2)\n",
    "arcpy.CopyFeatures_management(layerName, outFC)"
   ]
  },
  {
   "cell_type": "markdown",
   "metadata": {},
   "source": [
    "# Convert \"year\" field as ArcGIS time field \"year2\""
   ]
  },
  {
   "cell_type": "code",
   "execution_count": 8,
   "metadata": {},
   "outputs": [
    {
     "data": {
      "text/plain": [
       "<Result 'C:\\\\Users\\\\kenta\\\\Documents\\\\ArcGIS\\\\Projects\\\\MyProject2\\\\MyProject2.gdb\\\\Kyuson_Prop'>"
      ]
     },
     "execution_count": 8,
     "metadata": {},
     "output_type": "execute_result"
    }
   ],
   "source": [
    "import arcpy\n",
    "import os\n",
    "from arcpy import env\n",
    "env.workspace = r\"C:\\Users\\kenta\\Documents\\ArcGIS\\Projects\\MyProject2\\MyProject2.gdb\"\n",
    "inTable = \"Kyuson_Prop\"\n",
    "inputTimeField = \"Kyuson_summary_year\"\n",
    "inputTimeFormat = \"yyyy\"\n",
    "outputDateField = \"year2\"\n",
    "\n",
    "# Execute CalculateEndDate\n",
    "arcpy.ConvertTimeField_management(inTable, inputTimeField, inputTimeFormat, outputDateField)"
   ]
  },
  {
   "cell_type": "markdown",
   "metadata": {},
   "source": [
    "# Copy Kyuson_Prop FC for multiple measures"
   ]
  },
  {
   "cell_type": "markdown",
   "metadata": {
    "collapsed": true
   },
   "source": [
    "# Continuous measure\n",
    "### 1. Aggregate data from R\n",
    "### 2. Join all aggregate table to Kyuson boundary (Join>>Copy fc>>Remove join)\n",
    "### 3. Simbology setting for each layer"
   ]
  },
  {
   "cell_type": "code",
   "execution_count": 18,
   "metadata": {},
   "outputs": [
    {
     "ename": "ExecuteError",
     "evalue": "ERROR 999999: 関数の実行中にエラーが発生しました。\n使用された SQL ステートメントは正しくありません。 [Kyuson_layer]\n使用された SQL ステートメントは正しくありません。 [agg15male]\n(MakeQueryTable) を実行できませんでした。\n",
     "output_type": "error",
     "traceback": [
      "\u001b[1;31m---------------------------------------------------------------------------\u001b[0m",
      "\u001b[1;31mExecuteError\u001b[0m                              Traceback (most recent call last)",
      "\u001b[1;32m<ipython-input-18-8157f5026e46>\u001b[0m in \u001b[0;36m<module>\u001b[1;34m()\u001b[0m\n\u001b[0;32m      8\u001b[0m \u001b[1;32mfor\u001b[0m \u001b[0mtable\u001b[0m \u001b[1;32min\u001b[0m \u001b[0mtables\u001b[0m\u001b[1;33m:\u001b[0m\u001b[1;33m\u001b[0m\u001b[0m\n\u001b[0;32m      9\u001b[0m     \u001b[0moutFeatureClass\u001b[0m \u001b[1;33m=\u001b[0m \u001b[0mos\u001b[0m\u001b[1;33m.\u001b[0m\u001b[0mpath\u001b[0m\u001b[1;33m.\u001b[0m\u001b[0mjoin\u001b[0m\u001b[1;33m(\u001b[0m\u001b[0moutPath\u001b[0m\u001b[1;33m,\u001b[0m\u001b[0mtable\u001b[0m\u001b[1;33m)\u001b[0m\u001b[1;33m\u001b[0m\u001b[0m\n\u001b[1;32m---> 10\u001b[1;33m     \u001b[0marcpy\u001b[0m\u001b[1;33m.\u001b[0m\u001b[0mMakeQueryTable_management\u001b[0m\u001b[1;33m(\u001b[0m\u001b[1;33m[\u001b[0m\u001b[1;34m\"Kyuson_H12\"\u001b[0m\u001b[1;33m,\u001b[0m\u001b[0mtable\u001b[0m\u001b[1;33m]\u001b[0m\u001b[1;33m,\u001b[0m \u001b[0mlyrName\u001b[0m\u001b[1;33m,\u001b[0m\u001b[1;34m\"USE_KEY_FIELDS\"\u001b[0m\u001b[1;33m,\u001b[0m \u001b[1;34m\"\"\u001b[0m\u001b[1;33m,\u001b[0m \u001b[1;34m\"\"\u001b[0m\u001b[1;33m,\u001b[0m \u001b[1;34m\"Kyuson_H12.Kyuson = agg15male.Kyuson\"\u001b[0m\u001b[1;33m)\u001b[0m\u001b[1;33m\u001b[0m\u001b[0m\n\u001b[0m\u001b[0;32m     11\u001b[0m     \u001b[0marcpy\u001b[0m\u001b[1;33m.\u001b[0m\u001b[0mCopyFeatures_management\u001b[0m\u001b[1;33m(\u001b[0m\u001b[0mlyrName\u001b[0m\u001b[1;33m,\u001b[0m \u001b[0moutFeatureClass\u001b[0m\u001b[1;33m)\u001b[0m\u001b[1;33m\u001b[0m\u001b[0m\n",
      "\u001b[1;32m~\\AppData\\Local\\Programs\\ArcGIS\\Pro\\Resources\\ArcPy\\arcpy\\management.py\u001b[0m in \u001b[0;36mMakeQueryTable\u001b[1;34m(in_table, out_table, in_key_field_option, in_key_field, in_field, where_clause)\u001b[0m\n\u001b[0;32m   6314\u001b[0m         \u001b[1;32mreturn\u001b[0m \u001b[0mretval\u001b[0m\u001b[1;33m\u001b[0m\u001b[0m\n\u001b[0;32m   6315\u001b[0m     \u001b[1;32mexcept\u001b[0m \u001b[0mException\u001b[0m \u001b[1;32mas\u001b[0m \u001b[0me\u001b[0m\u001b[1;33m:\u001b[0m\u001b[1;33m\u001b[0m\u001b[0m\n\u001b[1;32m-> 6316\u001b[1;33m         \u001b[1;32mraise\u001b[0m \u001b[0me\u001b[0m\u001b[1;33m\u001b[0m\u001b[0m\n\u001b[0m\u001b[0;32m   6317\u001b[0m \u001b[1;33m\u001b[0m\u001b[0m\n\u001b[0;32m   6318\u001b[0m \u001b[1;33m@\u001b[0m\u001b[0mgptooldoc\u001b[0m\u001b[1;33m(\u001b[0m\u001b[1;34m'MakeRasterLayer_management'\u001b[0m\u001b[1;33m,\u001b[0m \u001b[1;32mNone\u001b[0m\u001b[1;33m)\u001b[0m\u001b[1;33m\u001b[0m\u001b[0m\n",
      "\u001b[1;32m~\\AppData\\Local\\Programs\\ArcGIS\\Pro\\Resources\\ArcPy\\arcpy\\management.py\u001b[0m in \u001b[0;36mMakeQueryTable\u001b[1;34m(in_table, out_table, in_key_field_option, in_key_field, in_field, where_clause)\u001b[0m\n\u001b[0;32m   6311\u001b[0m     \u001b[1;32mfrom\u001b[0m \u001b[0marcpy\u001b[0m\u001b[1;33m.\u001b[0m\u001b[0marcobjects\u001b[0m\u001b[1;33m.\u001b[0m\u001b[0marcobjectconversion\u001b[0m \u001b[1;32mimport\u001b[0m \u001b[0mconvertArcObjectToPythonObject\u001b[0m\u001b[1;33m\u001b[0m\u001b[0m\n\u001b[0;32m   6312\u001b[0m     \u001b[1;32mtry\u001b[0m\u001b[1;33m:\u001b[0m\u001b[1;33m\u001b[0m\u001b[0m\n\u001b[1;32m-> 6313\u001b[1;33m         \u001b[0mretval\u001b[0m \u001b[1;33m=\u001b[0m \u001b[0mconvertArcObjectToPythonObject\u001b[0m\u001b[1;33m(\u001b[0m\u001b[0mgp\u001b[0m\u001b[1;33m.\u001b[0m\u001b[0mMakeQueryTable_management\u001b[0m\u001b[1;33m(\u001b[0m\u001b[1;33m*\u001b[0m\u001b[0mgp_fixargs\u001b[0m\u001b[1;33m(\u001b[0m\u001b[1;33m(\u001b[0m\u001b[0min_table\u001b[0m\u001b[1;33m,\u001b[0m \u001b[0mout_table\u001b[0m\u001b[1;33m,\u001b[0m \u001b[0min_key_field_option\u001b[0m\u001b[1;33m,\u001b[0m \u001b[0min_key_field\u001b[0m\u001b[1;33m,\u001b[0m \u001b[0min_field\u001b[0m\u001b[1;33m,\u001b[0m \u001b[0mwhere_clause\u001b[0m\u001b[1;33m)\u001b[0m\u001b[1;33m,\u001b[0m \u001b[1;32mTrue\u001b[0m\u001b[1;33m)\u001b[0m\u001b[1;33m)\u001b[0m\u001b[1;33m)\u001b[0m\u001b[1;33m\u001b[0m\u001b[0m\n\u001b[0m\u001b[0;32m   6314\u001b[0m         \u001b[1;32mreturn\u001b[0m \u001b[0mretval\u001b[0m\u001b[1;33m\u001b[0m\u001b[0m\n\u001b[0;32m   6315\u001b[0m     \u001b[1;32mexcept\u001b[0m \u001b[0mException\u001b[0m \u001b[1;32mas\u001b[0m \u001b[0me\u001b[0m\u001b[1;33m:\u001b[0m\u001b[1;33m\u001b[0m\u001b[0m\n",
      "\u001b[1;32m~\\AppData\\Local\\Programs\\ArcGIS\\Pro\\Resources\\ArcPy\\arcpy\\geoprocessing\\_base.py\u001b[0m in \u001b[0;36m<lambda>\u001b[1;34m(*args)\u001b[0m\n\u001b[0;32m    504\u001b[0m         \u001b[0mval\u001b[0m \u001b[1;33m=\u001b[0m \u001b[0mgetattr\u001b[0m\u001b[1;33m(\u001b[0m\u001b[0mself\u001b[0m\u001b[1;33m.\u001b[0m\u001b[0m_gp\u001b[0m\u001b[1;33m,\u001b[0m \u001b[0mattr\u001b[0m\u001b[1;33m)\u001b[0m\u001b[1;33m\u001b[0m\u001b[0m\n\u001b[0;32m    505\u001b[0m         \u001b[1;32mif\u001b[0m \u001b[0mcallable\u001b[0m\u001b[1;33m(\u001b[0m\u001b[0mval\u001b[0m\u001b[1;33m)\u001b[0m\u001b[1;33m:\u001b[0m\u001b[1;33m\u001b[0m\u001b[0m\n\u001b[1;32m--> 506\u001b[1;33m             \u001b[1;32mreturn\u001b[0m \u001b[1;32mlambda\u001b[0m \u001b[1;33m*\u001b[0m\u001b[0margs\u001b[0m\u001b[1;33m:\u001b[0m \u001b[0mval\u001b[0m\u001b[1;33m(\u001b[0m\u001b[1;33m*\u001b[0m\u001b[0mgp_fixargs\u001b[0m\u001b[1;33m(\u001b[0m\u001b[0margs\u001b[0m\u001b[1;33m,\u001b[0m \u001b[1;32mTrue\u001b[0m\u001b[1;33m)\u001b[0m\u001b[1;33m)\u001b[0m\u001b[1;33m\u001b[0m\u001b[0m\n\u001b[0m\u001b[0;32m    507\u001b[0m         \u001b[1;32melse\u001b[0m\u001b[1;33m:\u001b[0m\u001b[1;33m\u001b[0m\u001b[0m\n\u001b[0;32m    508\u001b[0m             \u001b[1;32mreturn\u001b[0m \u001b[0mconvertArcObjectToPythonObject\u001b[0m\u001b[1;33m(\u001b[0m\u001b[0mval\u001b[0m\u001b[1;33m)\u001b[0m\u001b[1;33m\u001b[0m\u001b[0m\n",
      "\u001b[1;31mExecuteError\u001b[0m: ERROR 999999: 関数の実行中にエラーが発生しました。\n使用された SQL ステートメントは正しくありません。 [Kyuson_layer]\n使用された SQL ステートメントは正しくありません。 [agg15male]\n(MakeQueryTable) を実行できませんでした。\n"
     ]
    }
   ],
   "source": [
    "import arcpy,os\n",
    "from arcpy import env\n",
    "env.overwriteOutput = True\n",
    "env.workspace = r\"C:\\Users\\kenta\\Documents\\ArcGIS\\Projects\\MyProject2\\Rdata.gdb\"\n",
    "outPath = r\"C:\\Users\\kenta\\Documents\\ArcGIS\\Projects\\MyProject2\\Mean.gdb\"\n",
    "lyrName = \"Kyuson_layer\"\n",
    "tables = arcpy.ListTables()\n",
    "for table in tables:\n",
    "    outFeatureClass = os.path.join(outPath,table)\n",
    "    arcpy.MakeQueryTable_management([\"Kyuson_H12\",table], lyrName,\"USE_KEY_FIELDS\", \"\", \"\", \"Kyuson_H12.Kyuson = agg15male.Kyuson\")\n",
    "    arcpy.CopyFeatures_management(lyrName, outFeatureClass)"
   ]
  },
  {
   "cell_type": "markdown",
   "metadata": {},
   "source": [
    "### I wanna use loop so bad..."
   ]
  },
  {
   "cell_type": "code",
   "execution_count": 19,
   "metadata": {},
   "outputs": [
    {
     "data": {
      "text/plain": [
       "<Result 'C:\\\\Users\\\\kenta\\\\Documents\\\\ArcGIS\\\\Projects\\\\MyProject2\\\\Mean.gdb\\\\agg15male'>"
      ]
     },
     "execution_count": 19,
     "metadata": {},
     "output_type": "execute_result"
    }
   ],
   "source": [
    "import arcpy,os\n",
    "from arcpy import env\n",
    "env.overwriteOutput = True\n",
    "env.workspace = r\"C:\\Users\\kenta\\Documents\\ArcGIS\\Projects\\MyProject2\\Rdata.gdb\"\n",
    "outPath = r\"C:\\Users\\kenta\\Documents\\ArcGIS\\Projects\\MyProject2\\Mean.gdb\"\n",
    "lyrName = \"Kyuson_layer\"\n",
    "outFeatureClass = os.path.join(outPath,\"agg15male\")\n",
    "arcpy.MakeQueryTable_management([\"Kyuson_H12\",\"agg15male\"], lyrName,\"USE_KEY_FIELDS\", \"\", \"\", \"Kyuson_H12.Kyuson = agg15male.Kyuson\")\n",
    "arcpy.CopyFeatures_management(lyrName, outFeatureClass)"
   ]
  },
  {
   "cell_type": "code",
   "execution_count": 20,
   "metadata": {},
   "outputs": [
    {
     "data": {
      "text/plain": [
       "<Result 'C:\\\\Users\\\\kenta\\\\Documents\\\\ArcGIS\\\\Projects\\\\MyProject2\\\\Mean.gdb\\\\agg15female'>"
      ]
     },
     "execution_count": 20,
     "metadata": {},
     "output_type": "execute_result"
    }
   ],
   "source": [
    "import arcpy,os\n",
    "from arcpy import env\n",
    "env.overwriteOutput = True\n",
    "env.workspace = r\"C:\\Users\\kenta\\Documents\\ArcGIS\\Projects\\MyProject2\\Rdata.gdb\"\n",
    "outPath = r\"C:\\Users\\kenta\\Documents\\ArcGIS\\Projects\\MyProject2\\Mean.gdb\"\n",
    "lyrName = \"Kyuson_layer\"\n",
    "outFeatureClass = os.path.join(outPath,\"agg15female\")\n",
    "arcpy.MakeQueryTable_management([\"Kyuson_H12\",\"agg15female\"], lyrName,\"USE_KEY_FIELDS\", \"\", \"\", \"Kyuson_H12.Kyuson = agg15female.Kyuson\")\n",
    "arcpy.CopyFeatures_management(lyrName, outFeatureClass)"
   ]
  },
  {
   "cell_type": "code",
   "execution_count": 21,
   "metadata": {},
   "outputs": [
    {
     "data": {
      "text/plain": [
       "<Result 'C:\\\\Users\\\\kenta\\\\Documents\\\\ArcGIS\\\\Projects\\\\MyProject2\\\\Mean.gdb\\\\agg25male'>"
      ]
     },
     "execution_count": 21,
     "metadata": {},
     "output_type": "execute_result"
    }
   ],
   "source": [
    "import arcpy,os\n",
    "from arcpy import env\n",
    "env.overwriteOutput = True\n",
    "env.workspace = r\"C:\\Users\\kenta\\Documents\\ArcGIS\\Projects\\MyProject2\\Rdata.gdb\"\n",
    "outPath = r\"C:\\Users\\kenta\\Documents\\ArcGIS\\Projects\\MyProject2\\Mean.gdb\"\n",
    "lyrName = \"Kyuson_layer\"\n",
    "outFeatureClass = os.path.join(outPath,\"agg25male\")\n",
    "arcpy.MakeQueryTable_management([\"Kyuson_H12\",\"agg25male\"], lyrName,\"USE_KEY_FIELDS\", \"\", \"\", \"Kyuson_H12.Kyuson = agg25male.Kyuson\")\n",
    "arcpy.CopyFeatures_management(lyrName, outFeatureClass)"
   ]
  },
  {
   "cell_type": "code",
   "execution_count": 22,
   "metadata": {},
   "outputs": [
    {
     "data": {
      "text/plain": [
       "<Result 'C:\\\\Users\\\\kenta\\\\Documents\\\\ArcGIS\\\\Projects\\\\MyProject2\\\\Mean.gdb\\\\agg25female'>"
      ]
     },
     "execution_count": 22,
     "metadata": {},
     "output_type": "execute_result"
    }
   ],
   "source": [
    "import arcpy,os\n",
    "from arcpy import env\n",
    "env.overwriteOutput = True\n",
    "env.workspace = r\"C:\\Users\\kenta\\Documents\\ArcGIS\\Projects\\MyProject2\\Rdata.gdb\"\n",
    "outPath = r\"C:\\Users\\kenta\\Documents\\ArcGIS\\Projects\\MyProject2\\Mean.gdb\"\n",
    "lyrName = \"Kyuson_layer\"\n",
    "outFeatureClass = os.path.join(outPath,\"agg25female\")\n",
    "arcpy.MakeQueryTable_management([\"Kyuson_H12\",\"agg25female\"], lyrName,\"USE_KEY_FIELDS\", \"\", \"\", \"Kyuson_H12.Kyuson = agg25female.Kyuson\")\n",
    "arcpy.CopyFeatures_management(lyrName, outFeatureClass)"
   ]
  },
  {
   "cell_type": "code",
   "execution_count": null,
   "metadata": {
    "collapsed": true
   },
   "outputs": [],
   "source": []
  }
 ],
 "metadata": {
  "kernelspec": {
   "display_name": "Python 3",
   "language": "python",
   "name": "python3"
  },
  "language_info": {
   "codemirror_mode": {
    "name": "ipython",
    "version": 3
   },
   "file_extension": ".py",
   "mimetype": "text/x-python",
   "name": "python",
   "nbconvert_exporter": "python",
   "pygments_lexer": "ipython3",
   "version": "3.5.3"
  }
 },
 "nbformat": 4,
 "nbformat_minor": 2
}
