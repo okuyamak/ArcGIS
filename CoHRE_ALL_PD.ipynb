{
 "cells": [
  {
   "cell_type": "markdown",
   "metadata": {},
   "source": [
    "## Create walkability index - Individual level\n",
    "### 1. Residential density (od cost matrix to KIHON_Chugoku2010)\n",
    "### 2. Bus stop density (od cost matrix to bus stop point data 2010)\n",
    "### 3. Intersection density (od cost matrix to intersection with >= 3 legs point data 2012)\n",
    "### 4. Slope (spatial join with mean slope 5 mesh data 2015)\n",
    "### 5. Age-specific population density (od cost matrix to census point data 2010)"
   ]
  },
  {
   "cell_type": "code",
   "execution_count": null,
   "metadata": {
    "collapsed": true
   },
   "outputs": [],
   "source": [
    "# Residential density"
   ]
  },
  {
   "cell_type": "code",
   "execution_count": null,
   "metadata": {
    "collapsed": true
   },
   "outputs": [],
   "source": [
    "# OD cost matrix was done manually"
   ]
  },
  {
   "cell_type": "code",
   "execution_count": null,
   "metadata": {
    "collapsed": true
   },
   "outputs": [],
   "source": [
    "# Join field (number of households) to ODLines1"
   ]
  },
  {
   "cell_type": "code",
   "execution_count": 2,
   "metadata": {},
   "outputs": [
    {
     "name": "stdout",
     "output_type": "stream",
     "text": [
      "Script completed successfully\n"
     ]
    }
   ],
   "source": [
    "import arcpy\n",
    "from arcpy import env\n",
    "import os\n",
    "try:\n",
    "    # Set environment settings\n",
    "    env.workspace = r\"C:\\Users\\kenta\\Documents\\ArcGIS\\Projects\\CoHREAll\\Walkability_calculationPD.gdb\"\n",
    "    env.overwriteOutput = True\n",
    "    # Set the local parameters\n",
    "    inWorkspace1 = r\"C:\\Users\\kenta\\Documents\\ArcGIS\\Projects\\CoHREAll\\CoHREAll.gdb\"\n",
    "    inWorkspace2 = r\"C:\\Users\\kenta\\Documents\\ArcGIS\\Projects\\CoHREAll\\Walkabiliy_Indices.gdb\"\n",
    "    inWorkspace3 = r\"C:\\Users\\kenta\\Documents\\ArcGIS\\Projects\\CoHREAll\\Walkability_calculationPD.gdb\"\n",
    "    inFeatures = os.path.join(inWorkspace1,\"ODLines1\")\n",
    "    joinField = \"DestinationID\"\n",
    "    joinTable1 = os.path.join(inWorkspace2,\"KIHON_Chugoku2010\")\n",
    "    joinField2 = \"OBJECTID\"\n",
    "    fieldList1 = [\"HOUSEHOLDS_H22\"] \n",
    "\n",
    "    outFeatures1 = os.path.join(inWorkspace3,\"ODLines1\")\n",
    "\n",
    "    # Join two feature classes by the zonecode field and only carry \n",
    "    # over the PropToPopSlow and PropToPopQuick fields\n",
    "    arcpy.JoinField_management(inFeatures, joinField, joinTable1, joinField2, fieldList1)\n",
    "    arcpy.CopyFeatures_management(inFeatures, outFeatures1)\n",
    "\n",
    "    print(\"Script completed successfully\")\n",
    "except Exception as e:\n",
    "    # If an error occurred, print line number and error message\n",
    "    import traceback, sys\n",
    "    tb = sys.exc_info()[2]\n",
    "    print(\"An error occurred on line %i\" % tb.tb_lineno)\n",
    "    print(str(e))"
   ]
  },
  {
   "cell_type": "code",
   "execution_count": null,
   "metadata": {
    "collapsed": true
   },
   "outputs": [],
   "source": [
    "# Weight the residential units"
   ]
  },
  {
   "cell_type": "code",
   "execution_count": 4,
   "metadata": {},
   "outputs": [
    {
     "name": "stdout",
     "output_type": "stream",
     "text": [
      "Script completed successfully\n"
     ]
    }
   ],
   "source": [
    "import arcpy\n",
    "from arcpy import env\n",
    "try:\n",
    "    # Set environment settings\n",
    "    env.workspace =  r\"C:\\Users\\kenta\\Documents\\ArcGIS\\Projects\\CoHREAll\\Walkability_calculationPD.gdb\"\n",
    "    \n",
    "    # Set local variables\n",
    "    inTable = \"ODLines1\"\n",
    "    fieldName1 = \"Resi_wPD\"\n",
    "    expression = \"w(!Total_所要時間（徒歩）!,!HOUSEHOLDS_H22!)\"\n",
    "    codeblock1 = \"\"\"def w(f1,f2):\n",
    "        if f1 < 10:\n",
    "            return f2\n",
    "        elif (f1 >= 10 and f1 < 30):\n",
    "            return f2 * ((30-f1)/(30-10))**1.5\"\"\"\n",
    "\n",
    "    # Execute AddField\n",
    "    arcpy.AddField_management(inTable, fieldName1, \"DOUBLE\")\n",
    "    # Execute CalculateField - weighting\n",
    "    arcpy.CalculateField_management(inTable, fieldName1, expression, \"PYTHON_9.3\", codeblock1)\n",
    "\n",
    "    print(\"Script completed successfully\")\n",
    "    \n",
    "except Exception as e:\n",
    "    # If an error occurred, print line number and error message\n",
    "    import traceback, sys\n",
    "    tb = sys.exc_info()[2]\n",
    "    print(\"An error occurred on line %i\" % tb.tb_lineno)\n",
    "    print(str(e))"
   ]
  },
  {
   "cell_type": "code",
   "execution_count": null,
   "metadata": {
    "collapsed": true
   },
   "outputs": [],
   "source": [
    "# Summary statisitcs by ID"
   ]
  },
  {
   "cell_type": "code",
   "execution_count": 5,
   "metadata": {},
   "outputs": [
    {
     "name": "stdout",
     "output_type": "stream",
     "text": [
      "Script completed successfully\n"
     ]
    }
   ],
   "source": [
    "# Import system modules\n",
    "import arcpy\n",
    "from arcpy import env\n",
    " \n",
    "import os\n",
    "try:\n",
    "    # Set environment settings\n",
    "    env.workspace = r\"C:\\Users\\kenta\\Documents\\ArcGIS\\Projects\\CoHREAll\\Walkability_calculationPD.gdb\"\n",
    "    # Set local variables\n",
    "    inFeatures = \"ODLines1\"\n",
    "    outStatsTable = \"RW1_resPD\"\n",
    "    statsFields = [[\"Resi_wPD\",\"sum\"]]\n",
    "    case_field = \"OriginID\"\n",
    "    # Execute Statistics to get the area of each vegetation type within the clipped buffer.\n",
    "    arcpy.Statistics_analysis(inFeatures, outStatsTable, statsFields, case_field)\n",
    "\n",
    "    print(\"Script completed successfully\")\n",
    "    \n",
    "except Exception as e:\n",
    "    # If an error occurred, print line number and error message\n",
    "    import traceback, sys\n",
    "    tb = sys.exc_info()[2]\n",
    "    print(\"An error occurred on line %i\" % tb.tb_lineno)\n",
    "    print(str(e))"
   ]
  },
  {
   "cell_type": "code",
   "execution_count": null,
   "metadata": {
    "collapsed": true
   },
   "outputs": [],
   "source": [
    "# Bus Stop"
   ]
  },
  {
   "cell_type": "code",
   "execution_count": null,
   "metadata": {
    "collapsed": true
   },
   "outputs": [],
   "source": [
    "# Weight the bus stop"
   ]
  },
  {
   "cell_type": "code",
   "execution_count": 6,
   "metadata": {},
   "outputs": [
    {
     "name": "stdout",
     "output_type": "stream",
     "text": [
      "Script completed successfully\n"
     ]
    }
   ],
   "source": [
    "import arcpy\n",
    "from arcpy import env\n",
    "import os\n",
    "try:\n",
    "    # Set environment settings\n",
    "    env.workspace =  r\"C:\\Users\\kenta\\Documents\\ArcGIS\\Projects\\CoHREAll\\Walkability_calculationPD.gdb\"\n",
    "    inWorkspace1 = r\"C:\\Users\\kenta\\Documents\\ArcGIS\\Projects\\CoHREAll\\CoHREAll.gdb\"\n",
    "    inWorkspace2 = r\"C:\\Users\\kenta\\Documents\\ArcGIS\\Projects\\CoHREAll\\Walkability_calculationPD.gdb\"\n",
    "    inFeature = os.path.join(inWorkspace1,\"ODLines2\")\n",
    "    outFeature = os.path.join(inWorkspace2,\"ODLines2\")\n",
    "    arcpy.CopyFeatures_management(inFeature, outFeature)\n",
    "    \n",
    "    # Set local variables\n",
    "    inTable = \"ODLines2\"\n",
    "    fieldName1 = \"Bus_wPD\"\n",
    "    expression = \"w(!Total_所要時間（徒歩）!)\"\n",
    "    codeblock1 = \"\"\"def w(f1):\n",
    "        if f1 < 10:\n",
    "            return 1\n",
    "        elif (f1 >= 10 and f1 < 30):\n",
    "            return 1 * ((30-f1)/(30-10))**1.5\"\"\"\n",
    "\n",
    "    # Execute AddField\n",
    "    arcpy.AddField_management(inTable, fieldName1, \"DOUBLE\")\n",
    "    # Execute CalculateField - weighting\n",
    "    arcpy.CalculateField_management(inTable, fieldName1, expression, \"PYTHON_9.3\", codeblock1)\n",
    "\n",
    "    print(\"Script completed successfully\")\n",
    "    \n",
    "except Exception as e:\n",
    "    # If an error occurred, print line number and error message\n",
    "    import traceback, sys\n",
    "    tb = sys.exc_info()[2]\n",
    "    print(\"An error occurred on line %i\" % tb.tb_lineno)\n",
    "    print(str(e))"
   ]
  },
  {
   "cell_type": "code",
   "execution_count": null,
   "metadata": {
    "collapsed": true
   },
   "outputs": [],
   "source": [
    "# Summary statistic by ID"
   ]
  },
  {
   "cell_type": "code",
   "execution_count": 7,
   "metadata": {},
   "outputs": [
    {
     "name": "stdout",
     "output_type": "stream",
     "text": [
      "Script completed successfully\n"
     ]
    }
   ],
   "source": [
    "# Import system modules\n",
    "import arcpy\n",
    "from arcpy import env\n",
    " \n",
    "import os\n",
    "try:\n",
    "    # Set environment settings\n",
    "    env.workspace = r\"C:\\Users\\kenta\\Documents\\ArcGIS\\Projects\\CoHREAll\\Walkability_calculationPD.gdb\"\n",
    "    # Set local variables\n",
    "    inFeatures = \"ODLines2\"\n",
    "    outStatsTable = \"RW2_busPD\"\n",
    "    statsFields = [[\"Bus_wPD\",\"sum\"]]\n",
    "    case_field = \"OriginID\"\n",
    "    # Execute Statistics to get the area of each vegetation type within the clipped buffer.\n",
    "    arcpy.Statistics_analysis(inFeatures, outStatsTable, statsFields, case_field)\n",
    "\n",
    "    print(\"Script completed successfully\")\n",
    "    \n",
    "except Exception as e:\n",
    "    # If an error occurred, print line number and error message\n",
    "    import traceback, sys\n",
    "    tb = sys.exc_info()[2]\n",
    "    print(\"An error occurred on line %i\" % tb.tb_lineno)\n",
    "    print(str(e))"
   ]
  },
  {
   "cell_type": "code",
   "execution_count": null,
   "metadata": {
    "collapsed": true
   },
   "outputs": [],
   "source": [
    "# Intersection"
   ]
  },
  {
   "cell_type": "code",
   "execution_count": 9,
   "metadata": {
    "collapsed": true
   },
   "outputs": [],
   "source": [
    "# Weight the intersection"
   ]
  },
  {
   "cell_type": "code",
   "execution_count": 8,
   "metadata": {},
   "outputs": [
    {
     "name": "stdout",
     "output_type": "stream",
     "text": [
      "Script completed successfully\n"
     ]
    }
   ],
   "source": [
    "import arcpy\n",
    "from arcpy import env\n",
    "import os\n",
    "try:\n",
    "    # Set environment settings\n",
    "    env.workspace =  r\"C:\\Users\\kenta\\Documents\\ArcGIS\\Projects\\CoHREAll\\Walkability_calculationPD.gdb\"\n",
    "    inWorkspace1 = r\"C:\\Users\\kenta\\Documents\\ArcGIS\\Projects\\CoHREAll\\CoHREAll.gdb\"\n",
    "    inWorkspace2 = r\"C:\\Users\\kenta\\Documents\\ArcGIS\\Projects\\CoHREAll\\Walkability_calculationPD.gdb\"\n",
    "    inFeature = os.path.join(inWorkspace1,\"ODLines3\")\n",
    "    outFeature = os.path.join(inWorkspace2,\"ODLines3\")\n",
    "    arcpy.CopyFeatures_management(inFeature, outFeature)\n",
    "    \n",
    "    # Set local variables\n",
    "    inTable = \"ODLines3\"\n",
    "    fieldName1 = \"Inter_wPD\"\n",
    "    expression = \"w(!Total_所要時間（徒歩）!)\"\n",
    "    codeblock1 = \"\"\"def w(f1):\n",
    "        if f1 < 10:\n",
    "            return 1\n",
    "        elif (f1 >= 10 and f1 < 30):\n",
    "            return 1 * ((30-f1)/(30-10))**1.5\"\"\"\n",
    "\n",
    "    # Execute AddField\n",
    "    arcpy.AddField_management(inTable, fieldName1, \"DOUBLE\")\n",
    "    # Execute CalculateField - weighting\n",
    "    arcpy.CalculateField_management(inTable, fieldName1, expression, \"PYTHON_9.3\", codeblock1)\n",
    "\n",
    "    print(\"Script completed successfully\")\n",
    "    \n",
    "except Exception as e:\n",
    "    # If an error occurred, print line number and error message\n",
    "    import traceback, sys\n",
    "    tb = sys.exc_info()[2]\n",
    "    print(\"An error occurred on line %i\" % tb.tb_lineno)\n",
    "    print(str(e))"
   ]
  },
  {
   "cell_type": "code",
   "execution_count": null,
   "metadata": {
    "collapsed": true
   },
   "outputs": [],
   "source": [
    "# Summary statistics by ID"
   ]
  },
  {
   "cell_type": "code",
   "execution_count": 9,
   "metadata": {},
   "outputs": [
    {
     "name": "stdout",
     "output_type": "stream",
     "text": [
      "Script completed successfully\n"
     ]
    }
   ],
   "source": [
    "# Import system modules\n",
    "import arcpy\n",
    "from arcpy import env\n",
    " \n",
    "import os\n",
    "try:\n",
    "    # Set environment settings\n",
    "    env.workspace = r\"C:\\Users\\kenta\\Documents\\ArcGIS\\Projects\\CoHREAll\\Walkability_calculationPD.gdb\"\n",
    "    # Set local variables\n",
    "    inFeatures = \"ODLines3\"\n",
    "    outStatsTable = \"RW3_interPD\"\n",
    "    statsFields = [[\"Inter_wPD\",\"sum\"]]\n",
    "    case_field = \"OriginID\"\n",
    "    # Execute Statistics to get the area of each vegetation type within the clipped buffer.\n",
    "    arcpy.Statistics_analysis(inFeatures, outStatsTable, statsFields, case_field)\n",
    "\n",
    "    print(\"Script completed successfully\")\n",
    "    \n",
    "except Exception as e:\n",
    "    # If an error occurred, print line number and error message\n",
    "    import traceback, sys\n",
    "    tb = sys.exc_info()[2]\n",
    "    print(\"An error occurred on line %i\" % tb.tb_lineno)\n",
    "    print(str(e))"
   ]
  },
  {
   "cell_type": "code",
   "execution_count": null,
   "metadata": {
    "collapsed": true
   },
   "outputs": [],
   "source": [
    "# Slope"
   ]
  },
  {
   "cell_type": "code",
   "execution_count": null,
   "metadata": {
    "collapsed": true
   },
   "outputs": [],
   "source": [
    "# Join field (mean slope) to ODLines4"
   ]
  },
  {
   "cell_type": "code",
   "execution_count": 10,
   "metadata": {},
   "outputs": [
    {
     "name": "stdout",
     "output_type": "stream",
     "text": [
      "Script completed successfully\n"
     ]
    }
   ],
   "source": [
    "import arcpy\n",
    "from arcpy import env\n",
    "import os\n",
    "try:\n",
    "    # Set environment settings\n",
    "    env.workspace = r\"C:\\Users\\kenta\\Documents\\ArcGIS\\Projects\\CoHREAll\\Walkability_calculationPD.gdb\"\n",
    "    env.overwriteOutput = True\n",
    "    # Set the local parameters\n",
    "    inWorkspace1 = r\"C:\\Users\\kenta\\Documents\\ArcGIS\\Projects\\CoHREAll\\CoHREAll.gdb\"\n",
    "    inWorkspace2 = r\"C:\\Users\\kenta\\Documents\\ArcGIS\\Projects\\CoHREAll\\Walkabiliy_Indices.gdb\"\n",
    "    inWorkspace3 = r\"C:\\Users\\kenta\\Documents\\ArcGIS\\Projects\\CoHREAll\\Walkability_calculationPD.gdb\"\n",
    "    inFeatures = os.path.join(inWorkspace1,\"ODLines4\")\n",
    "    joinField = \"DestinationID\"\n",
    "    joinTable1 = os.path.join(inWorkspace2,\"SlopeShimaneCentroid\")\n",
    "    joinField2 = \"OBJECTID\"\n",
    "    fieldList1 = [\"slope\"] \n",
    "\n",
    "    outFeatures1 = os.path.join(inWorkspace3,\"ODLines4\")\n",
    "\n",
    "    # Join two feature classes by the zonecode field and only carry \n",
    "    # over the PropToPopSlow and PropToPopQuick fields\n",
    "    arcpy.JoinField_management(inFeatures, joinField, joinTable1, joinField2, fieldList1)\n",
    "    arcpy.CopyFeatures_management(inFeatures, outFeatures1)\n",
    "\n",
    "    print(\"Script completed successfully\")\n",
    "except Exception as e:\n",
    "    # If an error occurred, print line number and error message\n",
    "    import traceback, sys\n",
    "    tb = sys.exc_info()[2]\n",
    "    print(\"An error occurred on line %i\" % tb.tb_lineno)\n",
    "    print(str(e))"
   ]
  },
  {
   "cell_type": "code",
   "execution_count": null,
   "metadata": {
    "collapsed": true
   },
   "outputs": [],
   "source": [
    "# Weight the slope"
   ]
  },
  {
   "cell_type": "code",
   "execution_count": 11,
   "metadata": {},
   "outputs": [
    {
     "name": "stdout",
     "output_type": "stream",
     "text": [
      "Script completed successfully\n"
     ]
    }
   ],
   "source": [
    "import arcpy\n",
    "from arcpy import env\n",
    "try:\n",
    "    # Set environment settings\n",
    "    env.workspace =  r\"C:\\Users\\kenta\\Documents\\ArcGIS\\Projects\\CoHREAll\\Walkability_calculationPD.gdb\"\n",
    "    \n",
    "    # Set local variables\n",
    "    inTable = \"ODLines4\"\n",
    "    fieldName1 = \"Slope_wPD\"\n",
    "    expression = \"w(!Total_所要時間（徒歩）!,!slope!)\"\n",
    "    codeblock1 = \"\"\"def w(f1,f2):\n",
    "        if f1 < 10:\n",
    "            return f2\n",
    "        elif (f1 >= 10 and f1 < 30):\n",
    "            return f2 * ((30-f1)/(30-10))**1.5\"\"\"\n",
    "\n",
    "    # Execute AddField\n",
    "    arcpy.AddField_management(inTable, fieldName1, \"DOUBLE\")\n",
    "    # Execute CalculateField - weighting\n",
    "    arcpy.CalculateField_management(inTable, fieldName1, expression, \"PYTHON_9.3\", codeblock1)\n",
    "\n",
    "    print(\"Script completed successfully\")\n",
    "    \n",
    "except Exception as e:\n",
    "    # If an error occurred, print line number and error message\n",
    "    import traceback, sys\n",
    "    tb = sys.exc_info()[2]\n",
    "    print(\"An error occurred on line %i\" % tb.tb_lineno)\n",
    "    print(str(e))"
   ]
  },
  {
   "cell_type": "code",
   "execution_count": null,
   "metadata": {
    "collapsed": true
   },
   "outputs": [],
   "source": [
    "# Summary statistics by ID"
   ]
  },
  {
   "cell_type": "code",
   "execution_count": 12,
   "metadata": {},
   "outputs": [
    {
     "name": "stdout",
     "output_type": "stream",
     "text": [
      "Script completed successfully\n"
     ]
    }
   ],
   "source": [
    "# Import system modules\n",
    "import arcpy\n",
    "from arcpy import env\n",
    " \n",
    "import os\n",
    "try:\n",
    "    # Set environment settings\n",
    "    env.workspace = r\"C:\\Users\\kenta\\Documents\\ArcGIS\\Projects\\CoHREAll\\Walkability_calculationPD.gdb\"\n",
    "    # Set local variables\n",
    "    inFeatures = \"ODLines4\"\n",
    "    outStatsTable = \"RW4_slopePD\"\n",
    "    statsFields = [[\"Slope_wPD\",\"sum\"]]\n",
    "    case_field = \"OriginID\"\n",
    "    # Execute Statistics to get the area of each vegetation type within the clipped buffer.\n",
    "    arcpy.Statistics_analysis(inFeatures, outStatsTable, statsFields, case_field)\n",
    "\n",
    "    print(\"Script completed successfully\")\n",
    "    \n",
    "except Exception as e:\n",
    "    # If an error occurred, print line number and error message\n",
    "    import traceback, sys\n",
    "    tb = sys.exc_info()[2]\n",
    "    print(\"An error occurred on line %i\" % tb.tb_lineno)\n",
    "    print(str(e))"
   ]
  },
  {
   "cell_type": "code",
   "execution_count": null,
   "metadata": {
    "collapsed": true
   },
   "outputs": [],
   "source": [
    "# Compute mean slope\n",
    "# Calculate manually"
   ]
  },
  {
   "cell_type": "code",
   "execution_count": null,
   "metadata": {
    "collapsed": true
   },
   "outputs": [],
   "source": [
    "# Join all tables"
   ]
  },
  {
   "cell_type": "code",
   "execution_count": 17,
   "metadata": {},
   "outputs": [
    {
     "name": "stdout",
     "output_type": "stream",
     "text": [
      "Script completed successfully\n"
     ]
    }
   ],
   "source": [
    "import arcpy\n",
    "from arcpy import env\n",
    "import os\n",
    "try:\n",
    "    # Set environment settings\n",
    "    env.workspace = r\"C:\\Users\\kenta\\Documents\\ArcGIS\\Projects\\CoHREAll\\Walkability_calculationPD.gdb\"\n",
    "    env.overwriteOutput = True\n",
    "    # Set the local parameters\n",
    "    inWorkspace1 = r\"C:\\Users\\kenta\\Documents\\ArcGIS\\Projects\\CoHREAll\\CoHREAll.gdb\"\n",
    "    inWorkspace2 = r\"C:\\Users\\kenta\\Documents\\ArcGIS\\Projects\\CoHREAll\\Walkability_calculationPD.gdb\"\n",
    "    inWorkspace3 = r\"C:\\Users\\kenta\\Documents\\ArcGIS\\Projects\\CoHREAll\\Walkability_final.gdb\"\n",
    "    inFeatures = os.path.join(inWorkspace3,\"cohreRWfinal\")\n",
    "    joinField = \"OBJECTID\"\n",
    "    joinTable1 = os.path.join(inWorkspace2,\"RW1_resPD\")\n",
    "    joinTable2 = os.path.join(inWorkspace2,\"RW2_busPD\")\n",
    "    joinTable3 = os.path.join(inWorkspace2,\"RW3_interPD\")\n",
    "    joinTable4 = os.path.join(inWorkspace2,\"RW4_slopePD\")\n",
    "    joinField2 = \"OriginID\"\n",
    "    fieldList1 = [\"SUM_Resi_wPD\"] \n",
    "    fieldList2 = [\"SUM_Bus_wPD\"] \n",
    "    fieldList3 = [\"SUM_Inter_wPD\"] \n",
    "    fieldList4 = [\"SUM_Slope_wPD_mean\"] \n",
    "    outFeatures1 = os.path.join(inWorkspace3,\"cohreRWfinalTable1\")\n",
    "    outFeatures2 = os.path.join(inWorkspace3,\"cohreRWfinalTable2\")\n",
    "    outFeatures3 = os.path.join(inWorkspace3,\"cohreRWfinalTable3\")\n",
    "    outFeatures4 = os.path.join(inWorkspace3,\"cohreRWfinalTable4\")\n",
    "\n",
    "    # Join two feature classes by the zonecode field and only carry \n",
    "    # over the PropToPopSlow and PropToPopQuick fields\n",
    "    arcpy.JoinField_management(inFeatures, joinField, joinTable1, joinField2, fieldList1)\n",
    "    arcpy.CopyFeatures_management(inFeatures, outFeatures1)\n",
    "    arcpy.JoinField_management(outFeatures1, joinField, joinTable2, joinField2, fieldList2)\n",
    "    arcpy.CopyFeatures_management(outFeatures1, outFeatures2)\n",
    "    arcpy.JoinField_management(outFeatures2, joinField, joinTable3, joinField2, fieldList3)\n",
    "    arcpy.CopyFeatures_management(outFeatures2, outFeatures3)\n",
    "    arcpy.JoinField_management(outFeatures3, joinField, joinTable4, joinField2, fieldList4)\n",
    "    arcpy.CopyFeatures_management(outFeatures3, outFeatures4)\n",
    "\n",
    "    print(\"Script completed successfully\")\n",
    "except Exception as e:\n",
    "    # If an error occurred, print line number and error message\n",
    "    import traceback, sys\n",
    "    tb = sys.exc_info()[2]\n",
    "    print(\"An error occurred on line %i\" % tb.tb_lineno)\n",
    "    print(str(e))"
   ]
  },
  {
   "cell_type": "markdown",
   "metadata": {},
   "source": [
    "### Traditional approach: 400m 800m buffer"
   ]
  },
  {
   "cell_type": "code",
   "execution_count": null,
   "metadata": {
    "collapsed": true
   },
   "outputs": [],
   "source": [
    "# completed manually"
   ]
  },
  {
   "cell_type": "markdown",
   "metadata": {
    "collapsed": true
   },
   "source": [
    "# Spatial join neighborhoood walkability and geocoded cohre data"
   ]
  },
  {
   "cell_type": "code",
   "execution_count": 25,
   "metadata": {},
   "outputs": [
    {
     "name": "stdout",
     "output_type": "stream",
     "text": [
      "Script completed successfully\n"
     ]
    }
   ],
   "source": [
    "### Import system modules\n",
    "import arcpy\n",
    "import os\n",
    "\n",
    "try:\n",
    "    \n",
    "    # Set environment settings\n",
    "    env.workspace = r\"C:\\Users\\kenta\\Documents\\ArcGIS\\Projects\\CoHREAll\\Walkability_calculation.gdb\"\n",
    "    env.overwriteOutput = True\n",
    "    \n",
    "    # Set local variables\n",
    "    inWorkspace1 = r\"C:\\Users\\kenta\\Documents\\ArcGIS\\Projects\\CoHREAll\\Walkability_final.gdb\"\n",
    "    inWorkspace2 = r\"C:\\Users\\kenta\\Documents\\ArcGIS\\Projects\\CoHREAll\\CoHREAll.gdb\"\n",
    "    outWorkdspace = r\"C:\\Users\\kenta\\Documents\\ArcGIS\\Projects\\CoHREAll\\Walkability_final.gdb\"\n",
    "    targetFeatures = os.path.join(inWorkspace1, \"cohreRW1234\")\n",
    "    joinFeatures = os.path.join(inWorkspace2, \"Census2010_Shimane2BusInterSlope\")\n",
    "    \n",
    "    # Output will be the target features: PHCCover Polygon with a sum of population field \n",
    "    outfc = os.path.join(outWorkdspace, \"cohreRWfinal\")\n",
    "    \n",
    "    # Create a new fieldmappings and add the two input feature classes.\n",
    "    fieldmappings = arcpy.FieldMappings()\n",
    "    fieldmappings.addTable(targetFeatures)\n",
    "    fieldmappings.addTable(joinFeatures)\n",
    "       \n",
    "    # Delete fields that are no longer applicable, such as city CITY_NAME and CITY_FIPS\n",
    "    # as only the first value will be used by default\n",
    "    x = fieldmappings.findFieldMapIndex(\"Join_Count\")\n",
    "    fieldmappings.removeFieldMap(x)\n",
    "    y = fieldmappings.findFieldMapIndex(\"TARGET_FID\")\n",
    "    fieldmappings.removeFieldMap(y)\n",
    "    z = fieldmappings.findFieldMapIndex(\"Join_Count_1\")\n",
    "    fieldmappings.removeFieldMap(z)\n",
    "    b = fieldmappings.findFieldMapIndex(\"TARGET_FID_1\")\n",
    "    fieldmappings.removeFieldMap(b)\n",
    "    c = fieldmappings.findFieldMapIndex(\"Join_Count_12\")\n",
    "    fieldmappings.removeFieldMap(c)\n",
    "    d = fieldmappings.findFieldMapIndex(\"TARGET_FID_12\")\n",
    "    fieldmappings.removeFieldMap(d)\n",
    "    e = fieldmappings.findFieldMapIndex(\"P11_001\")\n",
    "    fieldmappings.removeFieldMap(e)\n",
    "    f = fieldmappings.findFieldMapIndex(\"P11_002\")\n",
    "    fieldmappings.removeFieldMap(f)\n",
    "    \n",
    "    \n",
    "    #Run the Spatial Join tool, using the defaults for the join operation and join type\n",
    "    arcpy.SpatialJoin_analysis(targetFeatures, joinFeatures, outfc, \"JOIN_ONE_TO_ONE\", \"KEEP_ALL\", fieldmappings,\"WITHIN\")\n",
    "\n",
    "    print(\"Script completed successfully\")\n",
    "    \n",
    "except Exception as e:\n",
    "    # If an error occurred, print line number and error message\n",
    "    import traceback, sys\n",
    "    tb = sys.exc_info()[2]\n",
    "    print(\"An error occurred on line %i\" % tb.tb_lineno)\n",
    "    print(str(e))"
   ]
  },
  {
   "cell_type": "markdown",
   "metadata": {},
   "source": [
    "# Export data"
   ]
  },
  {
   "cell_type": "code",
   "execution_count": 18,
   "metadata": {},
   "outputs": [
    {
     "name": "stdout",
     "output_type": "stream",
     "text": [
      "Script completed successfully\n"
     ]
    }
   ],
   "source": [
    "# Import system modules\n",
    "import arcpy\n",
    "from arcpy import env\n",
    "\n",
    "try:\n",
    "    # Set environment settings\n",
    "    env.workspace = r\"C:\\Users\\kenta\\Documents\\ArcGIS\\Projects\\CoHREAll\\Walkability_final.gdb\"\n",
    "    # Set local variables\n",
    "    inTable = \"cohreRWfinalTable4\"\n",
    "    outLocation = r\"C:\\Users\\kenta\\Documents\\ArcGIS\\Projects\\CoHREAll\\Walkability_final.gdb\"\n",
    "    outTable = \"cohreRWfinalTable5\"\n",
    "    # Execute TableToTable\n",
    "    arcpy.TableToTable_conversion(inTable, outLocation, outTable)\n",
    "\n",
    "    print(\"Script completed successfully\")\n",
    "    \n",
    "except Exception as e:\n",
    "    # If an error occurred, print line number and error message\n",
    "    import traceback, sys\n",
    "    tb = sys.exc_info()[2]\n",
    "    print(\"An error occurred on line %i\" % tb.tb_lineno)\n",
    "    print(str(e))"
   ]
  },
  {
   "cell_type": "code",
   "execution_count": 19,
   "metadata": {},
   "outputs": [
    {
     "name": "stdout",
     "output_type": "stream",
     "text": [
      "Script completed successfully\n"
     ]
    }
   ],
   "source": [
    "# Import system modules\n",
    "import arcpy\n",
    "from arcpy import env\n",
    "\n",
    "try:\n",
    "    # Set environment settings\n",
    "    env.workspace = r\"C:\\Users\\kenta\\Documents\\ArcGIS\\Projects\\CoHREAll\\Walkability_final.gdb\"\n",
    "    # Set local variables\n",
    "    inTable = \"cohreRWfinalTable5\"\n",
    "    out_xls = r\"G:\\cohreRWfinal2.xls\"\n",
    "    \n",
    "    arcpy.TableToExcel_conversion(inTable, out_xls)\n",
    "\n",
    "    print(\"Script completed successfully\")\n",
    "    \n",
    "except Exception as e:\n",
    "    # If an error occurred, print line number and error message\n",
    "    import traceback, sys\n",
    "    tb = sys.exc_info()[2]\n",
    "    print(\"An error occurred on line %i\" % tb.tb_lineno)\n",
    "    print(str(e))"
   ]
  },
  {
   "cell_type": "markdown",
   "metadata": {},
   "source": [
    "# Create Kyuson - Cho aza address list\n",
    "### 1. Spatial join with Kyuson polygon and Cho aza polygon by retaining the address name\n",
    "### 2. Export the table as excel table"
   ]
  },
  {
   "cell_type": "code",
   "execution_count": 8,
   "metadata": {},
   "outputs": [
    {
     "name": "stdout",
     "output_type": "stream",
     "text": [
      "Script completed successfully\n"
     ]
    }
   ],
   "source": [
    "### Import system modules\n",
    "import arcpy\n",
    "import os\n",
    "from arcpy import env\n",
    "\n",
    "try:\n",
    "    env.workspace = r\"C:\\Users\\kenta\\Documents\\ArcGIS\\Projects\\CoHREAll\\CoHREAll.gdb\"\n",
    "    env.overwriteOutput = True\n",
    "    # Set local variables\n",
    "    \n",
    "    # Want to join PHCCover polygon to KIHON_Chugoku2010 and calculate\n",
    "    # the total number of population that service area (10, 20, 30, 60 min) can cover\n",
    "    targetFeatures = \"Census2010Centroid\"\n",
    "    joinFeatures = \"Kyuson_H12foAdd\"\n",
    "    \n",
    "    # Output will be the target features: PHCCover Polygon with a sum of population field \n",
    "    outfc = \"Aza_KyusonAdderss\"\n",
    "    \n",
    "    #Run the Spatial Join tool, using the defaults for the join operation and join type\n",
    "    arcpy.SpatialJoin_analysis(targetFeatures, joinFeatures, outfc, \"JOIN_ONE_TO_ONE\", \"KEEP_ALL\", \"\",\"WITHIN\")\n",
    "\n",
    "    print(\"Script completed successfully\")\n",
    "    \n",
    "except Exception as e:\n",
    "    # If an error occurred, print line number and error message\n",
    "    import traceback, sys\n",
    "    tb = sys.exc_info()[2]\n",
    "    print(\"An error occurred on line %i\" % tb.tb_lineno)\n",
    "    print(str(e))\n",
    "    "
   ]
  }
 ],
 "metadata": {
  "kernelspec": {
   "display_name": "Python 3",
   "language": "python",
   "name": "python3"
  },
  "language_info": {
   "codemirror_mode": {
    "name": "ipython",
    "version": 3
   },
   "file_extension": ".py",
   "mimetype": "text/x-python",
   "name": "python",
   "nbconvert_exporter": "python",
   "pygments_lexer": "ipython3",
   "version": "3.5.3"
  }
 },
 "nbformat": 4,
 "nbformat_minor": 2
}
