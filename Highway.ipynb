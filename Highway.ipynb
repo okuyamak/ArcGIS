{
 "cells": [
  {
   "cell_type": "markdown",
   "metadata": {},
   "source": [
    "# Create highway longitudinal data"
   ]
  },
  {
   "cell_type": "markdown",
   "metadata": {},
   "source": [
    "## 1. delete fields of highway data\n",
    "## 2. create year var for 2017 data\n",
    "## 3. extract data of IC (1 and 2)\n",
    "## 4. merge all data \n",
    "## 5. extract data of Chugoku region"
   ]
  },
  {
   "cell_type": "code",
   "execution_count": 22,
   "metadata": {},
   "outputs": [],
   "source": [
    "import arcpy\n",
    "import os\n",
    "from arcpy import env\n",
    "env.overwriteOutput=True\n",
    "\n",
    "env.workspace = r\"C:\\Users\\kenta\\Documents\\GISData_Import\\NLMI高速道路\"\n",
    "outWorkspace = r\"C:\\Users\\kenta\\Documents\\ArcGIS\\Projects\\MyProject2\\Highway.gdb\"\n",
    "fcList = arcpy.ListFeatureClasses()\n",
    "for shapefile in fcList:\n",
    "    outFeatureClass = os.path.join(outWorkspace, shapefile.strip(\".shp\"))\n",
    "    arcpy.CopyFeatures_management(shapefile, outFeatureClass)"
   ]
  },
  {
   "cell_type": "code",
   "execution_count": 23,
   "metadata": {},
   "outputs": [],
   "source": [
    "import arcpy\n",
    "import os\n",
    "from arcpy import env\n",
    "\n",
    "env.workspace = r\"C:\\Users\\kenta\\Documents\\ArcGIS\\Projects\\MyProject2\\Highway.gdb\"\n",
    "field_names = [f.name for f in arcpy.ListFields(\"N0611_Joint\")]"
   ]
  },
  {
   "cell_type": "code",
   "execution_count": 25,
   "metadata": {},
   "outputs": [
    {
     "name": "stdout",
     "output_type": "stream",
     "text": [
      "['OBJECTID', 'Shape', 'N06_018', 'N06_019', 'N06_012', 'N06_013', 'N06_014', 'N06_015', 'N06_016', 'N06_017']\n"
     ]
    }
   ],
   "source": [
    "print(field_names)"
   ]
  },
  {
   "cell_type": "code",
   "execution_count": 53,
   "metadata": {
    "collapsed": true
   },
   "outputs": [],
   "source": [
    "import arcpy\n",
    "import os\n",
    "from arcpy import env\n",
    "\n",
    "env.workspace = r\"C:\\Users\\kenta\\Documents\\ArcGIS\\Projects\\MyProject2\\Highway.gdb\"\n",
    "field_names = [f.name for f in arcpy.ListFields(\"N0611_HighwaySection\")]"
   ]
  },
  {
   "cell_type": "code",
   "execution_count": 54,
   "metadata": {},
   "outputs": [
    {
     "name": "stdout",
     "output_type": "stream",
     "text": [
      "['OBJECTID', 'Shape', 'N06_007', 'N06_008', 'N06_009', 'N06_010', 'N06_011', 'N06_001', 'N06_002', 'N06_003', 'N06_004', 'N06_005', 'N06_006', 'Shape_Length']\n"
     ]
    }
   ],
   "source": [
    "print(field_names)"
   ]
  },
  {
   "cell_type": "code",
   "execution_count": 52,
   "metadata": {
    "collapsed": true
   },
   "outputs": [],
   "source": [
    "delf = ['N06_018', 'N06_014', 'N06_015', 'N06_016', 'N06_017']"
   ]
  },
  {
   "cell_type": "code",
   "execution_count": 55,
   "metadata": {
    "collapsed": true
   },
   "outputs": [],
   "source": [
    "delf = ['N06_007', 'N06_009', 'N06_010', 'N06_011', 'N06_003', 'N06_004', 'N06_005', 'N06_006']"
   ]
  },
  {
   "cell_type": "code",
   "execution_count": 27,
   "metadata": {
    "collapsed": true
   },
   "outputs": [],
   "source": [
    "import arcpy\n",
    "import os\n",
    "from arcpy import env\n",
    "\n",
    "env.workspace = r\"C:\\Users\\kenta\\Documents\\ArcGIS\\Projects\\MyProject2\\Highway.gdb\"\n",
    "fcList = arcpy.ListFeatureClasses(\"*_Joint\")\n",
    "for fc in fcList:\n",
    "    arcpy.DeleteField_management(fc,delf)"
   ]
  },
  {
   "cell_type": "code",
   "execution_count": 57,
   "metadata": {},
   "outputs": [],
   "source": [
    "import arcpy\n",
    "import os\n",
    "from arcpy import env\n",
    "\n",
    "env.workspace = r\"C:\\Users\\kenta\\Documents\\ArcGIS\\Projects\\MyProject2\\Highway.gdb\"\n",
    "fcList = arcpy.ListFeatureClasses(\"*_HighwaySection\")\n",
    "for fc in fcList:\n",
    "    arcpy.DeleteField_management(fc,delf)"
   ]
  },
  {
   "cell_type": "code",
   "execution_count": 28,
   "metadata": {
    "collapsed": true
   },
   "outputs": [],
   "source": [
    "# 2. Create year var for all fc"
   ]
  },
  {
   "cell_type": "code",
   "execution_count": 59,
   "metadata": {},
   "outputs": [],
   "source": [
    "import arcpy\n",
    "import os\n",
    "from arcpy import env\n",
    "env.overwriteOutput=True\n",
    "\n",
    "env.workspace = r\"C:\\Users\\kenta\\Documents\\ArcGIS\\Projects\\MyProject2\\Highway.gdb\"\n",
    "field = \"year\"\n",
    "fieldtype = \"DOUBLE\"\n",
    "fcList = arcpy.ListFeatureClasses(\"*_HighwaySection\")\n",
    "for fc in fcList:\n",
    "    arcpy.AddField_management(fc,field,fieldtype)"
   ]
  },
  {
   "cell_type": "code",
   "execution_count": 60,
   "metadata": {
    "collapsed": true
   },
   "outputs": [],
   "source": [
    "import arcpy\n",
    "import os\n",
    "from arcpy import env\n",
    "env.overwriteOutput=True\n",
    "\n",
    "env.workspace = r\"C:\\Users\\kenta\\Documents\\ArcGIS\\Projects\\MyProject2\\Highway.gdb\"\n",
    "field = \"year\"\n",
    "fieldtype = \"DOUBLE\"\n",
    "fcList = arcpy.ListFeatureClasses(\"*_Joint\")\n",
    "for fc in fcList:\n",
    "    arcpy.AddField_management(fc,field,fieldtype)"
   ]
  },
  {
   "cell_type": "code",
   "execution_count": null,
   "metadata": {
    "collapsed": true
   },
   "outputs": [],
   "source": [
    "# field calculator within ArcGIS\n",
    "# merge data within ArcGIS"
   ]
  },
  {
   "cell_type": "code",
   "execution_count": null,
   "metadata": {
    "collapsed": true
   },
   "outputs": [],
   "source": [
    "# Extract only IC (if necessary)"
   ]
  },
  {
   "cell_type": "code",
   "execution_count": null,
   "metadata": {
    "collapsed": true
   },
   "outputs": [],
   "source": [
    "import arcpy\n",
    "arcpy.env.workspace = r\"C:\\Users\\kenta\\Documents\\ArcGIS\\Projects\\MyProject2\\Highway.gdb\"\n",
    "arcpy.env.overwriteOutput=True\n",
    "\n",
    "inFeatures = \"N0617_Joint\"\n",
    "layerName = \"N0617_layer2\"\n",
    "expression = 'N06_012 = 2017'\n",
    "outFeature = \"IC_2017\"\n",
    "\n",
    "arcpy.MakeFeatureLayer_management (inFeatures,  layerName)    \n",
    "arcpy.SelectLayerByAttribute_management(layerName, \"NEW_SELECTION\", expression)\n",
    "arcpy.CopyFeatures_management(layerName, outFeature)"
   ]
  }
 ],
 "metadata": {
  "kernelspec": {
   "display_name": "Python 3",
   "language": "python",
   "name": "python3"
  },
  "language_info": {
   "codemirror_mode": {
    "name": "ipython",
    "version": 3
   },
   "file_extension": ".py",
   "mimetype": "text/x-python",
   "name": "python",
   "nbconvert_exporter": "python",
   "pygments_lexer": "ipython3",
   "version": "3.5.3"
  }
 },
 "nbformat": 4,
 "nbformat_minor": 2
}
