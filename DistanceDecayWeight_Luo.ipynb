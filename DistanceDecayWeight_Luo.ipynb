{
 "cells": [
  {
   "cell_type": "code",
   "execution_count": null,
   "metadata": {
    "collapsed": true
   },
   "outputs": [],
   "source": [
    "import arcpy\n",
    "from arcpy import env\n",
    "try:\n",
    "    # Set environment settings\n",
    "    env.workspace = r\"C:\\Users\\kenta\\Documents\\ArcGIS\\Projects\\HealthPlaceNew\\E2FCAStep1.gdb\"\n",
    "    \n",
    "    # Set local variables\n",
    "    inTable = \"Hos3CoverPop\"\n",
    "    fieldName1 = \"PropToPopSlow\"\n",
    "    fieldName2 = \"PropToPopQuick\"\n",
    "    expression1 = \"w(!ToBreak!,!SUM_POP!)\"\n",
    "    codeblock1 = \"\"\"def w (f1,f2):\n",
    "        if f1 <= 10:\n",
    "            return f2 * 1\n",
    "        elif f1 > 10 and f1 <= 20:\n",
    "            return f2 * 0.68\n",
    "        elif f1 > 20 and f1 <= 30:\n",
    "            return f2 * 0.22\"\"\"\n",
    "    codeblock2 = \"\"\"def w(f1,f2):\n",
    "        if f1 <= 10:\n",
    "            return f2 * 1\n",
    "        elif f1 > 10 and f1 <= 20:\n",
    "            return f2 * 0.42\n",
    "        elif f1 > 20 and f1 <= 30:\n",
    "            return f2 * 0.09\"\"\" \n",
    "\n",
    "    \n",
    "    # Execute AddField\n",
    "    arcpy.AddField_management(inTable, fieldName1, \"DOUBLE\")\n",
    "    arcpy.AddField_management(inTable, fieldName2, \"DOUBLE\")\n",
    "    # Execute CalculateField - weighting\n",
    "    arcpy.CalculateField_management(inTable, fieldName1, expression1, \"PYTHON_9.3\", codeblock1)\n",
    "    arcpy.CalculateField_management(inTable, fieldName2, expression1, \"PYTHON_9.3\", codeblock2)\n",
    "    \n",
    "except Exception as e:\n",
    "    # If an error occurred, print line number and error message\n",
    "    import traceback, sys\n",
    "    tb = sys.exc_info()[2]\n",
    "    print(\"An error occurred on line %i\" % tb.tb_lineno)\n",
    "    print(str(e))"
   ]
  }
 ],
 "metadata": {
  "kernelspec": {
   "display_name": "Python 3",
   "language": "python",
   "name": "python3"
  },
  "language_info": {
   "codemirror_mode": {
    "name": "ipython",
    "version": 3
   },
   "file_extension": ".py",
   "mimetype": "text/x-python",
   "name": "python",
   "nbconvert_exporter": "python",
   "pygments_lexer": "ipython3",
   "version": "3.5.3"
  }
 },
 "nbformat": 4,
 "nbformat_minor": 2
}
