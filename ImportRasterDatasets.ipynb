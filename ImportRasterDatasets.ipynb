{
 "cells": [
  {
   "cell_type": "markdown",
   "metadata": {
    "collapsed": true
   },
   "source": [
    "# Import all raster data of Land use and merge"
   ]
  },
  {
   "cell_type": "code",
   "execution_count": 17,
   "metadata": {},
   "outputs": [
    {
     "name": "stdout",
     "output_type": "stream",
     "text": [
      "実行できません。パラメーターが不正です。\n",
      "ERROR 000872: 出力ポリゴン フィーチャ: データセット C:\\Users\\kenta\\Documents\\HDDFiles\\GISData_Import\\土地利用2015\\LandUse2015.shp はすでに存在しますが、[既存のデータセットの上書き] オプションが無効であるため上書きできません。\n",
      "(RasterToPolygon) を実行できませんでした。\n",
      "\n"
     ]
    }
   ],
   "source": [
    "import arcpy\n",
    "import os\n",
    "try:\n",
    "    # First Create new gdb in the folder of HDD\n",
    "    ##out_folder_path = r\"C:\\Users\\kenta\\Documents\\HDDFiles\\GISData_Import\\土地利用2015\" \n",
    "    ##out_name1 = \"LandUse2015.gdb\"\n",
    "    # Execute CreateFileGDB\n",
    "    ##arcpy.CreateFileGDB_management(out_folder_path, out_name1)\n",
    "    \n",
    "    # Then copy all data from project folder to HDD\n",
    "    # Set the project folder\n",
    "    arcpy.env.workspace = r\"C:\\Users\\kenta\\Documents\\HDDFiles\\GISData_Import\\土地利用2015\" \n",
    "    # Set local variable\n",
    "    outWorkspace = r\"C:\\Users\\kenta\\Documents\\HDDFiles\\GISData_Import\\土地利用2015\\LandUse2015.gdb\" \n",
    "    # Use ListFeatureClasses to generate a list of gdb files in the\n",
    "    # workspace shown above.\n",
    "    rasters = arcpy.ListRasters(\"*\",\"TIF\")\n",
    "    for rs in rasters:    \n",
    "        arcpy.RasterToPolygon_conversion(rs, outWorkspace, \"NO_SIMPLIFY\")\n",
    "          \n",
    "except Exception as err:\n",
    "    print(err.args[0])"
   ]
  },
  {
   "cell_type": "markdown",
   "metadata": {},
   "source": [
    "# Merge all land use polygon file into one"
   ]
  },
  {
   "cell_type": "code",
   "execution_count": 14,
   "metadata": {},
   "outputs": [],
   "source": [
    "import arcpy\n",
    "import os\n",
    "try:\n",
    "\n",
    "    inFC = [\"land1\",\"land2\",\"land3\",\"land4\",\"land5\",\"land6\",\"land7\",\"land8\",\"land9\",\"land10\",\"land11\",\"land12\",\"land13\"]\n",
    "    arcpy.Append_management(inFC, 'land14')    \n",
    "          \n",
    "except Exception as err:\n",
    "    print(err.args[0])"
   ]
  },
  {
   "cell_type": "markdown",
   "metadata": {},
   "source": [
    "# Convert shapfile to GDB"
   ]
  },
  {
   "cell_type": "code",
   "execution_count": null,
   "metadata": {
    "collapsed": true
   },
   "outputs": [],
   "source": [
    "import arcpy\n",
    "import os\n",
    "try:\n",
    "    \n",
    "    arcpy.FeatureClassToGeodatabase_conversion('land14',r\"C:\\\\Users\\\\kenta\\\\Documents\\\\ArcGIS\\\\Projects\\\\HealthPlaceNew\\\\HealthPlaceNew.gdb\")\n",
    "except Exception as err:\n",
    "    print(err.args[0])"
   ]
  },
  {
   "cell_type": "markdown",
   "metadata": {},
   "source": [
    "# Filter out Lake and Forest"
   ]
  },
  {
   "cell_type": "code",
   "execution_count": null,
   "metadata": {
    "collapsed": true
   },
   "outputs": [],
   "source": [
    "import arcpy\n",
    "import os\n",
    "try:"
   ]
  }
 ],
 "metadata": {
  "kernelspec": {
   "display_name": "Python 3",
   "language": "python",
   "name": "python3"
  },
  "language_info": {
   "codemirror_mode": {
    "name": "ipython",
    "version": 3
   },
   "file_extension": ".py",
   "mimetype": "text/x-python",
   "name": "python",
   "nbconvert_exporter": "python",
   "pygments_lexer": "ipython3",
   "version": "3.5.3"
  }
 },
 "nbformat": 4,
 "nbformat_minor": 2
}
