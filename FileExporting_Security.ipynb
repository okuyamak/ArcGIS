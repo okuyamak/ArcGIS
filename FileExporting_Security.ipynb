{
 "cells": [
  {
   "cell_type": "markdown",
   "metadata": {},
   "source": [
    "## Copy all data to HDD and delete from PC"
   ]
  },
  {
   "cell_type": "code",
   "execution_count": 15,
   "metadata": {},
   "outputs": [
    {
     "name": "stdout",
     "output_type": "stream",
     "text": [
      "PHCCoverPop\n",
      "Hos2CoverPop\n",
      "Hos3CoverPop\n",
      "PHCCoverDiss\n",
      "Hos2CoverDiss\n",
      "Hos3CoverDiss\n",
      "PHCNaika_ChugokuPTP\n",
      "Hos2Naika_ChugokuPTP\n",
      "Hos3Naika_ChugokuPTP\n"
     ]
    }
   ],
   "source": [
    "import arcpy\n",
    "import os\n",
    "try:\n",
    "    # First Create new gdb in the folder of HDD\n",
    "    #out_folder_path = r\"G:\\AllData\\Kosha2015_GIS\" \n",
    "    #out_name1 = \"E2FCAStep1.gdb\"\n",
    "    #out_name2 = \"E2FCAStep2.gdb\"\n",
    "    #out_name3 = \"NetworkService.gdb\"\n",
    "    # Execute CreateFileGDB\n",
    "    #arcpy.CreateFileGDB_management(out_folder_path, out_name1)\n",
    "    #arcpy.CreateFileGDB_management(out_folder_path, out_name2)\n",
    "    #arcpy.CreateFileGDB_management(out_folder_path, out_name3)\n",
    "    \n",
    "    # Then copy all data from project folder to HDD\n",
    "    # Set the project folder\n",
    "    arcpy.env.workspace = r\"C:/Users/kenta/Documents/ArcGIS/Projects/HealthPlaceNew/E2FCAStep1.gdb\" \n",
    "    # Set local variable\n",
    "    outWorkspace = r\"G:\\AllData\\Kosha2015_GIS\\E2FCAStep1.gdb\" \n",
    "    # Use ListFeatureClasses to generate a list of gdb files in the\n",
    "    # workspace shown above.\n",
    "    datasets = arcpy.ListDatasets(feature_type='feature')\n",
    "    datasets = [''] + datasets if datasets is not None else []\n",
    "    for ds in datasets:\n",
    "        for fc in arcpy.ListFeatureClasses(feature_dataset=ds):\n",
    "            #path = os.path.join(arcpy.env.workspace, ds, fc)\n",
    "            print(fc)\n",
    "    #fcList = arcpy.ListFeatureClasses()\n",
    "    # Execute CopyFeatures for each input gdb file\n",
    "    for fc in fcList:\n",
    "        arcpy.CopyFeatures_management(fc, outWorkspace)\n",
    "          \n",
    "except Exception as err:\n",
    "    print(err.args[0])"
   ]
  },
  {
   "cell_type": "code",
   "execution_count": null,
   "metadata": {
    "collapsed": true
   },
   "outputs": [],
   "source": []
  }
 ],
 "metadata": {
  "kernelspec": {
   "display_name": "Python 3",
   "language": "python",
   "name": "python3"
  },
  "language_info": {
   "codemirror_mode": {
    "name": "ipython",
    "version": 3
   },
   "file_extension": ".py",
   "mimetype": "text/x-python",
   "name": "python",
   "nbconvert_exporter": "python",
   "pygments_lexer": "ipython3",
   "version": "3.5.3"
  }
 },
 "nbformat": 4,
 "nbformat_minor": 2
}
