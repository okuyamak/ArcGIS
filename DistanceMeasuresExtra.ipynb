{
 "cells": [
  {
   "cell_type": "code",
   "execution_count": null,
   "metadata": {
    "collapsed": true
   },
   "outputs": [],
   "source": [
    "# Additional Distance measure to each healthcare facilities\n",
    "# 1. Network Distance\n",
    "# 2. Access score without population\n",
    "# 3. Density\n",
    "# 4. 2FCA"
   ]
  },
  {
   "cell_type": "code",
   "execution_count": 11,
   "metadata": {},
   "outputs": [
    {
     "name": "stdout",
     "output_type": "stream",
     "text": [
      "Script completed successfully\n"
     ]
    }
   ],
   "source": [
    "# Import system modules\n",
    "import arcpy\n",
    "from arcpy import env\n",
    "import os\n",
    "try:\n",
    "    # Set the workspace\n",
    "    env.workspace = r\"C:\\Users\\kenta\\Documents\\ArcGIS\\Projects\\HealthPlaceNew\\NetworkDistance.gdb\"\n",
    "    input_gdb = r\"C:/Users/kenta/Documents/ArcGIS/Projects/HealthPlaceNew/OD_Matrix.gdb\"\n",
    "    inFeatures = os.path.join(input_gdb, \"Census2015Res_CentroidChugoku\")\n",
    "    # Make a layer from the feature class\n",
    "    arcpy.MakeFeatureLayer_management(inFeatures, \"lyr\") \n",
    "    arcpy.SelectLayerByAttribute_management(\"lyr\", \"NEW_SELECTION\", \"KEN_NAME = '島根県'\")\n",
    "    \n",
    "    # Write the selected features to a new featureclass\n",
    "    arcpy.CopyFeatures_management(\"lyr\", \"Census2015Res_CentroidShimane\")\n",
    "    \n",
    "    print(\"Script completed successfully\")\n",
    "except Exception as e:\n",
    "    # If an error occurred, print line number and error message\n",
    "    import traceback, sys\n",
    "    tb = sys.exc_info()[2]\n",
    "    print(\"An error occurred on line %i\" % tb.tb_lineno)\n",
    "    print(str(e))"
   ]
  },
  {
   "cell_type": "markdown",
   "metadata": {},
   "source": [
    "# 1. Network Distance"
   ]
  },
  {
   "cell_type": "code",
   "execution_count": 14,
   "metadata": {},
   "outputs": [
    {
     "name": "stdout",
     "output_type": "stream",
     "text": [
      "Script completed successfully\n"
     ]
    }
   ],
   "source": [
    "#Import system modules\n",
    "import arcpy\n",
    "from arcpy import env\n",
    "import os\n",
    "\n",
    "try:\n",
    "    \n",
    "    #Set environment settings\n",
    "    output_dir = r\"C:\\Users\\kenta\\Documents\\ArcGIS\\Projects\\HealthPlaceNew\"\n",
    "    #The NA layer's data will be saved to the workspace specified here\n",
    "    env.workspace = os.path.join(output_dir, \"NetworkDistance.gdb\")\n",
    "    env.overwriteOutput = True\n",
    "\n",
    "    #Set local variables\n",
    "    input_gdb1 = r\"C:\\Users\\kenta\\Documents\\GISData_Import\\Esri道路2014中国\\道路網_鳥取県_島根県_岡山県_広島県_山口県版\\ADF2014.gdb\"\n",
    "    input_gdb2 = r\"C:/Users/kenta/Documents/ArcGIS/Projects/HealthPlaceNew/OD_Matrix.gdb\"\n",
    "    network = os.path.join(input_gdb1, \"ADF\", \"ADF_ND\")\n",
    "    origins = \"Census2015Res_CentroidShimane\"\n",
    "    destinations = os.path.join(input_gdb2, \"PHCCover_PTP\")\n",
    "    layer_name = \"DistanceToPHC\"\n",
    "    output_layer_file = os.path.join(output_dir, layer_name + \".lyrx\")\n",
    "    output_features = \"PHCDistance\"\n",
    "\n",
    "    travel_mode = \"Driving Time\"\n",
    "    number_of_destinations_to_find = 1\n",
    "    line_shape = \"NO_LINES\"\n",
    "    \n",
    "    result_object = arcpy.na.MakeODCostMatrixAnalysisLayer(network, layer_name, travel_mode,\"\",number_of_destinations_to_find,\"\",\"\",line_shape)\n",
    "\n",
    "    #Get the layer object from the result object. The OD cost matrix layer can\n",
    "    #now be referenced using the layer object.\n",
    "    layer_object = result_object.getOutput(0)\n",
    "\n",
    "    #Get the names of all the sublayers within the OD cost matrix layer.\n",
    "    sublayer_names = arcpy.na.GetNAClassNames(layer_object)\n",
    "    #Stores the layer names that we will use later\n",
    "    origins_layer_name = sublayer_names[\"Origins\"]\n",
    "    destinations_layer_name = sublayer_names[\"Destinations\"]\n",
    "\n",
    "    arcpy.na.AddLocations(layer_object, origins_layer_name, origins)\n",
    "    arcpy.na.AddLocations(layer_object, destinations_layer_name, destinations)\n",
    "\n",
    "    #Solve the OD cost matrix layer\n",
    "    arcpy.na.Solve(layer_object)\n",
    "\n",
    "    #Save the solved OD cost matrix layer as a layer file on disk\n",
    "    layer_object.saveACopy(output_layer_file)\n",
    "\n",
    "    print(\"Script completed successfully\")\n",
    "\n",
    "except Exception as e:\n",
    "    # If an error occurred, print line number and error message\n",
    "    import traceback, sys\n",
    "    tb = sys.exc_info()[2]\n",
    "    print(\"An error occurred on line %i\" % tb.tb_lineno)\n",
    "    print(str(e))"
   ]
  },
  {
   "cell_type": "code",
   "execution_count": 13,
   "metadata": {},
   "outputs": [
    {
     "name": "stdout",
     "output_type": "stream",
     "text": [
      "Script completed successfully\n"
     ]
    }
   ],
   "source": [
    "#Import system modules\n",
    "import arcpy\n",
    "from arcpy import env\n",
    "import os\n",
    "\n",
    "try:\n",
    "    \n",
    "    #Set environment settings\n",
    "    output_dir = r\"C:\\Users\\kenta\\Documents\\ArcGIS\\Projects\\HealthPlaceNew\"\n",
    "    #The NA layer's data will be saved to the workspace specified here\n",
    "    env.workspace = os.path.join(output_dir, \"NetworkDistance.gdb\")\n",
    "    env.overwriteOutput = True\n",
    "\n",
    "    #Set local variables\n",
    "    input_gdb1 = r\"C:\\Users\\kenta\\Documents\\GISData_Import\\Esri道路2014中国\\道路網_鳥取県_島根県_岡山県_広島県_山口県版\\ADF2014.gdb\"\n",
    "    input_gdb2 = r\"C:/Users/kenta/Documents/ArcGIS/Projects/HealthPlaceNew/OD_Matrix.gdb\"\n",
    "    network = os.path.join(input_gdb1, \"ADF\", \"ADF_ND\")\n",
    "    origins = \"Census2015Res_CentroidShimane\"\n",
    "    destinations = os.path.join(input_gdb2, \"Hos2Cover_PTP\")\n",
    "    layer_name = \"DistanceToHos2\"\n",
    "    output_layer_file = os.path.join(output_dir, layer_name + \".lyrx\")\n",
    "    output_features = \"Hos2Distance\"\n",
    "\n",
    "    travel_mode = \"Driving Time\"\n",
    "    number_of_destinations_to_find = 1\n",
    "    line_shape = \"NO_LINES\"\n",
    "    \n",
    "    result_object = arcpy.na.MakeODCostMatrixAnalysisLayer(network, layer_name, travel_mode,\"\",number_of_destinations_to_find,\"\",\"\",line_shape)\n",
    "\n",
    "    #Get the layer object from the result object. The OD cost matrix layer can\n",
    "    #now be referenced using the layer object.\n",
    "    layer_object = result_object.getOutput(0)\n",
    "\n",
    "    #Get the names of all the sublayers within the OD cost matrix layer.\n",
    "    sublayer_names = arcpy.na.GetNAClassNames(layer_object)\n",
    "    #Stores the layer names that we will use later\n",
    "    origins_layer_name = sublayer_names[\"Origins\"]\n",
    "    destinations_layer_name = sublayer_names[\"Destinations\"]\n",
    "\n",
    "    arcpy.na.AddLocations(layer_object, origins_layer_name, origins)\n",
    "    arcpy.na.AddLocations(layer_object, destinations_layer_name, destinations)\n",
    "\n",
    "    #Solve the OD cost matrix layer\n",
    "    arcpy.na.Solve(layer_object)\n",
    "\n",
    "    #Save the solved OD cost matrix layer as a layer file on disk\n",
    "    layer_object.saveACopy(output_layer_file)\n",
    "\n",
    "    print(\"Script completed successfully\")\n",
    "\n",
    "except Exception as e:\n",
    "    # If an error occurred, print line number and error message\n",
    "    import traceback, sys\n",
    "    tb = sys.exc_info()[2]\n",
    "    print(\"An error occurred on line %i\" % tb.tb_lineno)\n",
    "    print(str(e))"
   ]
  },
  {
   "cell_type": "code",
   "execution_count": 12,
   "metadata": {},
   "outputs": [
    {
     "name": "stdout",
     "output_type": "stream",
     "text": [
      "Script completed successfully\n"
     ]
    }
   ],
   "source": [
    "#Import system modules\n",
    "import arcpy\n",
    "from arcpy import env\n",
    "import os\n",
    "\n",
    "try:\n",
    "    \n",
    "    #Set environment settings\n",
    "    output_dir = r\"C:\\Users\\kenta\\Documents\\ArcGIS\\Projects\\HealthPlaceNew\"\n",
    "    #The NA layer's data will be saved to the workspace specified here\n",
    "    env.workspace = os.path.join(output_dir, \"NetworkDistance.gdb\")\n",
    "    env.overwriteOutput = True\n",
    "\n",
    "    #Set local variables\n",
    "    input_gdb1 = r\"C:\\Users\\kenta\\Documents\\GISData_Import\\Esri道路2014中国\\道路網_鳥取県_島根県_岡山県_広島県_山口県版\\ADF2014.gdb\"\n",
    "    input_gdb2 = r\"C:/Users/kenta/Documents/ArcGIS/Projects/HealthPlaceNew/OD_Matrix.gdb\"\n",
    "    network = os.path.join(input_gdb1, \"ADF\", \"ADF_ND\")\n",
    "    origins = \"Census2015Res_CentroidShimane\"\n",
    "    destinations = os.path.join(input_gdb2, \"Hos3Cover_PTP\")\n",
    "    layer_name = \"DistanceToHos33\"\n",
    "    output_layer_file = os.path.join(output_dir, layer_name + \".lyrx\")\n",
    "    output_features = \"Hos3Distance\"\n",
    "\n",
    "    travel_mode = \"Driving Time\"\n",
    "    number_of_destinations_to_find = 1\n",
    "    line_shape = \"NO_LINES\"\n",
    "    #accumulate_attributes = [\"Meters\"]\n",
    "    \n",
    "    result_object = arcpy.na.MakeODCostMatrixAnalysisLayer(network, layer_name, travel_mode, \"\", \n",
    "                                                           number_of_destinations_to_find,\n",
    "                                                           \"\",\"\",line_shape)\n",
    "\n",
    "    #Get the layer object from the result object. The OD cost matrix layer can\n",
    "    #now be referenced using the layer object.\n",
    "    layer_object = result_object.getOutput(0)\n",
    "\n",
    "    #Get the names of all the sublayers within the OD cost matrix layer.\n",
    "    sublayer_names = arcpy.na.GetNAClassNames(layer_object)\n",
    "    #Stores the layer names that we will use later\n",
    "    origins_layer_name = sublayer_names[\"Origins\"]\n",
    "    destinations_layer_name = sublayer_names[\"Destinations\"]\n",
    "\n",
    "    arcpy.na.AddLocations(layer_object, origins_layer_name, origins)\n",
    "    arcpy.na.AddLocations(layer_object, destinations_layer_name, destinations)\n",
    "\n",
    "    #Solve the OD cost matrix layer\n",
    "    arcpy.na.Solve(layer_object)\n",
    "\n",
    "    #Save the solved OD cost matrix layer as a layer file on disk\n",
    "    layer_object.saveACopy(output_layer_file)\n",
    "\n",
    "    print(\"Script completed successfully\")\n",
    "\n",
    "except Exception as e:\n",
    "    # If an error occurred, print line number and error message\n",
    "    import traceback, sys\n",
    "    tb = sys.exc_info()[2]\n",
    "    print(\"An error occurred on line %i\" % tb.tb_lineno)\n",
    "    print(str(e))"
   ]
  },
  {
   "cell_type": "markdown",
   "metadata": {},
   "source": [
    "# 2. Access score without population"
   ]
  },
  {
   "cell_type": "code",
   "execution_count": null,
   "metadata": {
    "collapsed": true
   },
   "outputs": [],
   "source": [
    "# Copy feature"
   ]
  },
  {
   "cell_type": "code",
   "execution_count": 10,
   "metadata": {
    "collapsed": true
   },
   "outputs": [],
   "source": [
    "import arcpy\n",
    "from arcpy import env\n",
    "import os\n",
    "try:\n",
    "    env.workspace =  r\"C:/Users/kenta/Documents/ArcGIS/Projects/HealthPlaceNew/NetworkDistance.gdb\"\n",
    "    \n",
    "    input_gdb = r\"C:/Users/kenta/Documents/ArcGIS/Projects/HealthPlaceNew/OD_Matrix.gdb\"\n",
    "    inFeatures1 = os.path.join(input_gdb, \"ODLines3\")\n",
    "    inFeatures2 = os.path.join(input_gdb, \"ODLines2\")\n",
    "    inFeatures3 = os.path.join(input_gdb, \"ODLines1\")\n",
    "    outFeatures1 = \"PHCforScore\"\n",
    "    outFeatures2 = \"Hos2forScore\"\n",
    "    outFeatures3 = \"Hos3forScore\"\n",
    "    \n",
    "    arcpy.CopyFeatures_management(inFeatures1,outFeatures1)\n",
    "    arcpy.CopyFeatures_management(inFeatures2,outFeatures2)\n",
    "    arcpy.CopyFeatures_management(inFeatures3,outFeatures3)\n",
    "    \n",
    "    print(\"Script completed successfully\")\n",
    "    \n",
    "except Exception as e:\n",
    "    # If an error occurred, print line number and error message\n",
    "    import traceback, sys\n",
    "    tb = sys.exc_info()[2]\n",
    "    print(\"An error occurred on line %i\" % tb.tb_lineno)\n",
    "    print(str(e))"
   ]
  },
  {
   "cell_type": "code",
   "execution_count": null,
   "metadata": {
    "collapsed": true
   },
   "outputs": [],
   "source": [
    "# Calculate Access score"
   ]
  },
  {
   "cell_type": "code",
   "execution_count": 16,
   "metadata": {},
   "outputs": [
    {
     "name": "stdout",
     "output_type": "stream",
     "text": [
      "Script completed successfully\n"
     ]
    }
   ],
   "source": [
    "import arcpy\n",
    "from arcpy import env\n",
    "try:\n",
    "    # Set environment settings\n",
    "    env.workspace =  r\"C:/Users/kenta/Documents/ArcGIS/Projects/HealthPlaceNew/NetworkDistance.gdb\"\n",
    "    \n",
    "    # Set local variables\n",
    "    inTable1 = \"PHCforScore\"\n",
    "    inTable2 = \"Hos2forScore\"\n",
    "    inTable3 = \"Hos3forScore\"\n",
    "    fieldName1 = \"AccessScore_SlowPHC\"\n",
    "    fieldName2 = \"AccessScore_QuickPHC\"\n",
    "    fieldName3 = \"AccessScore_SlowHos2\"\n",
    "    fieldName4 = \"AccessScore_QuickHos2\"\n",
    "    fieldName5 = \"AccessScore_SlowHos3\"\n",
    "    fieldName6 = \"AccessScore_QuickHos3\"\n",
    "    expression = \"w(!Total_所要時間（自動車）!)\"\n",
    "    codeblock1 = \"\"\"def w(f1):\n",
    "        if f1 < 10:\n",
    "            return 1\n",
    "        elif f1 >= 10:\n",
    "            return 1 * ((60-f1)/(60-10))**1.5\"\"\"\n",
    "    codeblock2 = \"\"\"def w(f1):\n",
    "        if f1 < 10:\n",
    "            return 1\n",
    "        elif f1 >= 10:\n",
    "            return 1 * ((60-f1)/(60-10))**2.0\"\"\"\n",
    "\n",
    "    # Execute AddField\n",
    "    arcpy.AddField_management(inTable1, fieldName1, \"DOUBLE\")\n",
    "    arcpy.AddField_management(inTable1, fieldName2, \"DOUBLE\")\n",
    "    arcpy.AddField_management(inTable2, fieldName3, \"DOUBLE\")\n",
    "    arcpy.AddField_management(inTable2, fieldName4, \"DOUBLE\")\n",
    "    arcpy.AddField_management(inTable3, fieldName5, \"DOUBLE\")\n",
    "    arcpy.AddField_management(inTable3, fieldName6, \"DOUBLE\")\n",
    "    # Execute CalculateField - weighting\n",
    "    arcpy.CalculateField_management(inTable1, fieldName1, expression, \"PYTHON_9.3\", codeblock1)\n",
    "    arcpy.CalculateField_management(inTable1, fieldName2, expression, \"PYTHON_9.3\", codeblock2)\n",
    "    arcpy.CalculateField_management(inTable2, fieldName3, expression, \"PYTHON_9.3\", codeblock1)\n",
    "    arcpy.CalculateField_management(inTable2, fieldName4, expression, \"PYTHON_9.3\", codeblock2)\n",
    "    arcpy.CalculateField_management(inTable3, fieldName5, expression, \"PYTHON_9.3\", codeblock1)\n",
    "    arcpy.CalculateField_management(inTable3, fieldName6, expression, \"PYTHON_9.3\", codeblock2)\n",
    "\n",
    "    print(\"Script completed successfully\")\n",
    "    \n",
    "except Exception as e:\n",
    "    # If an error occurred, print line number and error message\n",
    "    import traceback, sys\n",
    "    tb = sys.exc_info()[2]\n",
    "    print(\"An error occurred on line %i\" % tb.tb_lineno)\n",
    "    print(str(e))"
   ]
  },
  {
   "cell_type": "code",
   "execution_count": null,
   "metadata": {
    "collapsed": true
   },
   "outputs": [],
   "source": [
    "# Dissolve by origin ID"
   ]
  },
  {
   "cell_type": "code",
   "execution_count": 18,
   "metadata": {},
   "outputs": [
    {
     "name": "stdout",
     "output_type": "stream",
     "text": [
      "Script completed successfully\n"
     ]
    }
   ],
   "source": [
    "# Import system modules\n",
    "import arcpy\n",
    "from arcpy import env\n",
    "import os\n",
    "try:\n",
    "    # Set environment settings\n",
    "    env.workspace = r\"C:/Users/kenta/Documents/ArcGIS/Projects/HealthPlaceNew/NetworkDistance.gdb\"\n",
    "    # Set local variables\n",
    "    inFeatures1 = \"PHCforScore\"\n",
    "    inFeatures2 = \"Hos2forScore\"\n",
    "    inFeatures3 = \"Hos3forScore\"\n",
    "    outStatsTable1 = \"PHCAccessScore\"\n",
    "    outStatsTable2 = \"Hos2AccessScore\"\n",
    "    outStatsTable3 = \"Hos3AccessScore\"\n",
    "    statsFields1 = [[\"AccessScore_SlowPHC\",\"sum\"],[\"AccessScore_QuickPHC\",\"sum\"]]\n",
    "    statsFields2 = [[\"AccessScore_SlowHos2\",\"sum\"],[\"AccessScore_QuickHos2\",\"sum\"]]\n",
    "    statsFields3 = [[\"AccessScore_SlowHos3\",\"sum\"],[\"AccessScore_QuickHos3\",\"sum\"]]\n",
    "    case_field = \"OriginID\"\n",
    "    # Execute Statistics to get the area of each vegetation type within the clipped buffer.\n",
    "    arcpy.Statistics_analysis(inFeatures1, outStatsTable1, statsFields1, case_field)\n",
    "    arcpy.Statistics_analysis(inFeatures2, outStatsTable2, statsFields2, case_field)\n",
    "    arcpy.Statistics_analysis(inFeatures3, outStatsTable3, statsFields3, case_field)\n",
    "\n",
    "    print(\"Script completed successfully\")\n",
    "    \n",
    "except Exception as e:\n",
    "    # If an error occurred, print line number and error message\n",
    "    import traceback, sys\n",
    "    tb = sys.exc_info()[2]\n",
    "    print(\"An error occurred on line %i\" % tb.tb_lineno)\n",
    "    print(str(e))"
   ]
  },
  {
   "cell_type": "code",
   "execution_count": null,
   "metadata": {
    "collapsed": true
   },
   "outputs": [],
   "source": [
    "# join all tables"
   ]
  },
  {
   "cell_type": "code",
   "execution_count": 21,
   "metadata": {},
   "outputs": [
    {
     "name": "stdout",
     "output_type": "stream",
     "text": [
      "Script completed successfully\n"
     ]
    }
   ],
   "source": [
    "import arcpy\n",
    "from arcpy import env\n",
    "import os\n",
    "try:\n",
    "    # Set environment settings\n",
    "    env.workspace = r\"C:\\Users\\kenta\\Documents\\ArcGIS\\Projects\\HealthPlaceNew\\NetworkDistance.gdb\"\n",
    "    \n",
    "    # Set the local parameters\n",
    "    inWorkspace = r\"C:\\Users\\kenta\\Documents\\ArcGIS\\Projects\\HealthPlaceNew\\OD_Matrix.gdb\"\n",
    "    inFeatures = os.path.join(inWorkspace,\"Census2015PopChugoku\")\n",
    "    joinField1 = \"OBJECTID\"\n",
    "    joinTable1 = \"PHCAccessScore\"\n",
    "    joinTable2 = \"Hos2AccessScore\"\n",
    "    joinTable3 = \"Hos3AccessScore\"\n",
    "    joinField2 = \"OriginID\"\n",
    "    fieldList1 = [\"SUM_AccessScore_SlowPHC\", \"SUM_AccessScore_QuickPHC\"] \n",
    "    fieldList2 = [\"SUM_AccessScore_SlowHos2\", \"SUM_AccessScore_QuickHos2\"] \n",
    "    fieldList3 = [\"SUM_AccessScore_SlowHos3\", \"SUM_AccessScore_QuickHos3\"] \n",
    "    outFeatures1 = \"CensusPHCAccessScore\"\n",
    "    outFeatures2 = \"CensusPHCHos2AccessScore\"\n",
    "    outFeatures3 = \"CensusPHCHos2Hos3AccessScore\"\n",
    "\n",
    "    # Join two feature classes by the zonecode field and only carry \n",
    "    # over the PropToPopSlow and PropToPopQuick fields\n",
    "    arcpy.JoinField_management(inFeatures, joinField1, joinTable1, joinField2, fieldList1)\n",
    "    arcpy.CopyFeatures_management(inFeatures, outFeatures1)\n",
    "    arcpy.JoinField_management(outFeatures1, joinField1, joinTable2, joinField2, fieldList2)\n",
    "    arcpy.CopyFeatures_management(outFeatures1, outFeatures2)\n",
    "    arcpy.JoinField_management(outFeatures2, joinField1, joinTable3, joinField2, fieldList3)\n",
    "    arcpy.CopyFeatures_management(outFeatures2, outFeatures3)\n",
    "\n",
    "    print(\"Script completed successfully\")\n",
    "except Exception as e:\n",
    "    # If an error occurred, print line number and error message\n",
    "    import traceback, sys\n",
    "    tb = sys.exc_info()[2]\n",
    "    print(\"An error occurred on line %i\" % tb.tb_lineno)\n",
    "    print(str(e))"
   ]
  },
  {
   "cell_type": "code",
   "execution_count": null,
   "metadata": {
    "collapsed": true
   },
   "outputs": [],
   "source": [
    "# Extract only Shimane"
   ]
  },
  {
   "cell_type": "code",
   "execution_count": 22,
   "metadata": {},
   "outputs": [
    {
     "name": "stdout",
     "output_type": "stream",
     "text": [
      "Script completed successfully\n"
     ]
    }
   ],
   "source": [
    "# Import system modules\n",
    "import arcpy\n",
    "from arcpy import env\n",
    "import os\n",
    "try:\n",
    "    # Set the workspace\n",
    "    env.workspace = r\"C:\\Users\\kenta\\Documents\\ArcGIS\\Projects\\HealthPlaceNew\\NetworkDistance.gdb\"\n",
    "    \n",
    "    # Make a layer from the feature class\n",
    "    inFeatures = \"CensusPHCHos2Hos3AccessScore\"\n",
    "    arcpy.MakeFeatureLayer_management(inFeatures, \"lyr\") \n",
    "    arcpy.SelectLayerByAttribute_management(\"lyr\", \"NEW_SELECTION\", \"KEN_NAME = '島根県'\")\n",
    "    \n",
    "    # Write the selected features to a new featureclass\n",
    "    arcpy.CopyFeatures_management(\"lyr\", \"AccessScore\")\n",
    "    \n",
    "    print(\"Script completed successfully\")\n",
    "except Exception as e:\n",
    "    # If an error occurred, print line number and error message\n",
    "    import traceback, sys\n",
    "    tb = sys.exc_info()[2]\n",
    "    print(\"An error occurred on line %i\" % tb.tb_lineno)\n",
    "    print(str(e))"
   ]
  },
  {
   "cell_type": "markdown",
   "metadata": {},
   "source": [
    "# join all tables"
   ]
  },
  {
   "cell_type": "code",
   "execution_count": 31,
   "metadata": {},
   "outputs": [
    {
     "name": "stdout",
     "output_type": "stream",
     "text": [
      "Script completed successfully\n"
     ]
    }
   ],
   "source": [
    "import arcpy\n",
    "from arcpy import env\n",
    "import os\n",
    "try:\n",
    "    # Set environment settings\n",
    "    env.workspace = r\"C:\\Users\\kenta\\Documents\\ArcGIS\\Projects\\HealthPlaceNew\\NetworkDistance.gdb\"\n",
    "    \n",
    "    # Set the local parameters\n",
    "    inFeatures = \"AccessScore\"\n",
    "    joinField1 = \"OBJECTID\"\n",
    "    joinField2 = \"OriginID\"\n",
    "    joinTable1 = \"ODLines6\"\n",
    "    joinTable2 = \"ODLines5\"\n",
    "    joinTable3 = \"ODLines4\"\n",
    "    fieldList = [\"Total_所要時間（自動車）\"] \n",
    "    outFeatures1 = \"AC_PHCDistance\"\n",
    "    outFeatures2 = \"AC_PHCHos2Distance\"\n",
    "    outFeatures3 = \"Access_Distance\"\n",
    "\n",
    "    # Join two feature classes by the zonecode field and only carry \n",
    "    # over the PropToPopSlow and PropToPopQuick fields\n",
    "    arcpy.JoinField_management(inFeatures, joinField1, joinTable1, joinField2, fieldList)\n",
    "    arcpy.CopyFeatures_management(inFeatures, outFeatures1)\n",
    "    arcpy.JoinField_management(outFeatures1, joinField1, joinTable2, joinField2, fieldList)\n",
    "    arcpy.CopyFeatures_management(outFeatures1, outFeatures2)\n",
    "    arcpy.JoinField_management(outFeatures2, joinField1, joinTable3, joinField2, fieldList)\n",
    "    arcpy.CopyFeatures_management(outFeatures2, outFeatures3)\n",
    "    print(\"Script completed successfully\")\n",
    "except Exception as e:\n",
    "    # If an error occurred, print line number and error message\n",
    "    import traceback, sys\n",
    "    tb = sys.exc_info()[2]\n",
    "    print(\"An error occurred on line %i\" % tb.tb_lineno)\n",
    "    print(str(e))"
   ]
  },
  {
   "cell_type": "markdown",
   "metadata": {},
   "source": [
    "# Missing imputation"
   ]
  },
  {
   "cell_type": "code",
   "execution_count": 33,
   "metadata": {},
   "outputs": [
    {
     "name": "stdout",
     "output_type": "stream",
     "text": [
      "Script completed successfully\n"
     ]
    }
   ],
   "source": [
    "import arcpy\n",
    "# Set geoprocessor object property to overwrite existing output, by default\n",
    "arcpy.env.overwriteOutput = True\n",
    "# Local variables ...\n",
    "arcpy.env.workspace = r\"C:\\Users\\kenta\\Documents\\ArcGIS\\Projects\\HealthPlaceNew\\NetworkDistance.gdb\"\n",
    "try:\n",
    "    # set local variables\n",
    "    infeature = \"Access_Distance\"\n",
    "    outfeature = \"Access_DistanceMI\"\n",
    "    fields_to_fill = [\"SUM_AccessScore_SlowPHC\", \"SUM_AccessScore_QuickPHC\", \"SUM_AccessScore_SlowHos2\", \"SUM_AccessScore_QuickHos2\", \"SUM_AccessScore_SlowHos3\", \"SUM_AccessScore_QuickHos3\",\"Total_所要時間（自動車）_12_13\",\"Total_所要時間（自動車）_12_13_14\",\"Total_所要時間（自動車）_12_13_14_15\"] \n",
    "    fill_method = \"AVERAGE\"\n",
    "    spatialRef = \"CONTIGUITY_EDGES_CORNERS\"\n",
    "    # Fill missing values in a feature class \n",
    "    arcpy.FillMissingValues_stpm(infeature, outfeature, fields_to_fill, fill_method, spatialRef)\n",
    "    \n",
    "    print(\"Script completed successfully\")\n",
    "except Exception as e:\n",
    "    # If an error occurred, print line number and error message\n",
    "    import traceback, sys\n",
    "    tb = sys.exc_info()[2]\n",
    "    print(\"An error occurred on line %i\" % tb.tb_lineno)\n",
    "    print(str(e))"
   ]
  },
  {
   "cell_type": "code",
   "execution_count": 39,
   "metadata": {},
   "outputs": [
    {
     "name": "stdout",
     "output_type": "stream",
     "text": [
      "Script completed successfully\n"
     ]
    }
   ],
   "source": [
    "import arcpy\n",
    "from arcpy import env\n",
    "import os\n",
    "try:\n",
    "    # Set environment settings\n",
    "    env.workspace = r\"C:\\Users\\kenta\\Documents\\ArcGIS\\Projects\\HealthPlaceNew\\NetworkDistance.gdb\"\n",
    "    \n",
    "    # Set the local parameters\n",
    "    inFeatures = \"Access_Distance\"\n",
    "    joinField = \"OBJECTID\"\n",
    "    joinTable = \"Access_DistanceMI\"\n",
    "    fieldList = [\"SUM_ACCESSSCORE_SLOWPHC\", \"SUM_ACCESSSCORE_QUICKPHC\", \"SUM_ACCESSSCORE_SLOWHOS2\", \"SUM_ACCESSSCORE_QUICKHOS2\", \"SUM_ACCESSSCORE_SLOWHOS3\", \"SUM_ACCESSSCORE_QUICKHOS3\",\"TOTAL_所要時間（自動車）_12_13\",\"TOTAL_所要時間（自動車）_12_13_14\",\"TOTAL_所要時間（自動車）_12_13_14_15\"] \n",
    "    outFeatures = \"Access_DistanceFinal\"\n",
    "    \n",
    "    # Join two feature classes by the zonecode field and only carry \n",
    "    # over the PropToPopSlow and PropToPopQuick fields\n",
    "    arcpy.JoinField_management(inFeatures, joinField, joinTable, joinField, fieldList)\n",
    "    arcpy.CopyFeatures_management(inFeatures, outFeatures)\n",
    "\n",
    "    print(\"Script completed successfully\")\n",
    "except Exception as e:\n",
    "    # If an error occurred, print line number and error message\n",
    "    import traceback, sys\n",
    "    tb = sys.exc_info()[2]\n",
    "    print(\"An error occurred on line %i\" % tb.tb_lineno)\n",
    "    print(str(e))"
   ]
  },
  {
   "cell_type": "code",
   "execution_count": 43,
   "metadata": {
    "scrolled": true
   },
   "outputs": [
    {
     "name": "stdout",
     "output_type": "stream",
     "text": [
      "['OBJECTID', 'Shape', 'TARGET_FID', 'KEN_NAME', 'SHICHO_NAME', 'SHI_NAME', 'KU_NAME', 'GUN_NAME', 'CHOSON_NAME', 'OAZA_NAME', 'KOAZA_NAME', 'SUM_AREA', 'TOTPOP_H27', 'AreaRes', 'PopDen', 'SUM_PHCE2FCASLOW_12', 'SUM_PHCE2FCAQUICK_12', 'SUM_HOS2E2FCASLOW_12', 'SUM_HOS2E2FCAQUICK_12', 'SUM_HOS3E2FCASLOW_12', 'SUM_HOS3E2FCAQUICK_12', 'SUM_E2FCA_OD_PHCSLOW_1', 'SUM_E2FCA_OD_PHCQUICK_1', 'SUM_E2FCA_OD_HOS2SLOW_1', 'SUM_E2FCA_OD_HOS2QUICK_1', 'SUM_E2FCA_OD_HOS3SLOW_1', 'SUM_E2FCA_OD_HOS3QUICK_1', 'SUM_ACCESSSCORE_SLOWPHC_1', 'SUM_ACCESSSCORE_QUICKPHC_1', 'SUM_ACCESSSCORE_SLOWHOS2_1', 'SUM_ACCESSSCORE_QUICKHOS2_1', 'SUM_ACCESSSCORE_SLOWHOS3_1', 'SUM_ACCESSSCORE_QUICKHOS3_1', 'TOTAL_所要時間（自動車）_12_13_14_15_16', 'TOTAL_所要時間（自動車）_12_13_14_15_16_17', 'TOTAL_所要時間（自動車）_12_13_14_15_16_17_18', 'SUM_ACCESSSCORE_SLOWPHC_12', 'SUM_ACCESSSCORE_QUICKPHC_12', 'SUM_ACCESSSCORE_SLOWHOS2_12', 'SUM_ACCESSSCORE_QUICKHOS2_12', 'SUM_ACCESSSCORE_SLOWHOS3_12', 'SUM_ACCESSSCORE_QUICKHOS3_12', 'TOTAL_所要時間（自動車）_12_13_14_15_16_17_18_19', 'TOTAL_所要時間（自動車）_12_13_14_15_16_17_18_19_20', 'TOTAL_所要時間（自動車）_12_13_14_15_16_17_18_19_20_21', 'Shape_Length', 'Shape_Area']\n"
     ]
    }
   ],
   "source": [
    "import arcpy\n",
    "from arcpy import env\n",
    "try:\n",
    "    env.workspace = r\"C:\\Users\\kenta\\Documents\\ArcGIS\\Projects\\HealthPlaceNew\\NetworkDistance.gdb\"\n",
    "    # list all field name\n",
    "    field_names = [f.name for f in arcpy.ListFields(\"CensusHealthcareAccessAll\")]\n",
    "    print(field_names)\n",
    "    \n",
    "except Exception as e:\n",
    "    # If an error occurred, print line number and error message\n",
    "    import traceback, sys\n",
    "    tb = sys.exc_info()[2]\n",
    "    print(\"An error occurred on line %i\" % tb.tb_lineno)\n",
    "    print(str(e))"
   ]
  },
  {
   "cell_type": "code",
   "execution_count": 45,
   "metadata": {},
   "outputs": [
    {
     "name": "stdout",
     "output_type": "stream",
     "text": [
      "Script completed successfully\n"
     ]
    }
   ],
   "source": [
    "import arcpy\n",
    "from arcpy import env\n",
    "try:    \n",
    "    env.workspace = r\"C:\\Users\\kenta\\Documents\\ArcGIS\\Projects\\HealthPlaceNew\\NetworkDistance.gdb\"\n",
    "    # Choose the fields want to be deleted\n",
    "    \n",
    "    delfield = ['SUM_ACCESSSCORE_SLOWPHC_12', 'SUM_ACCESSSCORE_QUICKPHC_12', 'SUM_ACCESSSCORE_SLOWHOS2_12', 'SUM_ACCESSSCORE_QUICKHOS2_12', 'SUM_ACCESSSCORE_SLOWHOS3_12', 'SUM_ACCESSSCORE_QUICKHOS3_12', 'TOTAL_所要時間（自動車）_12_13_14_15_16_17_18_19', 'TOTAL_所要時間（自動車）_12_13_14_15_16_17_18_19_20', 'TOTAL_所要時間（自動車）_12_13_14_15_16_17_18_19_20_21']   # Delete fields\n",
    "    arcpy.DeleteField_management('CensusHealthcareAccessAll',delfield)\n",
    "    \n",
    "    print(\"Script completed successfully\")\n",
    "    \n",
    "except Exception as e:\n",
    "    # If an error occurred, print line number and error message\n",
    "    import traceback, sys\n",
    "    tb = sys.exc_info()[2]\n",
    "    print(\"An error occurred on line %i\" % tb.tb_lineno)\n",
    "    print(str(e))"
   ]
  },
  {
   "cell_type": "markdown",
   "metadata": {},
   "source": [
    "# Join these to CensusE2FCAFinalDis_Con"
   ]
  },
  {
   "cell_type": "code",
   "execution_count": 42,
   "metadata": {},
   "outputs": [
    {
     "name": "stdout",
     "output_type": "stream",
     "text": [
      "Script completed successfully\n"
     ]
    }
   ],
   "source": [
    "import arcpy\n",
    "from arcpy import env\n",
    "import os\n",
    "try:\n",
    "    # Set environment settings\n",
    "    env.workspace = r\"C:\\Users\\kenta\\Documents\\ArcGIS\\Projects\\HealthPlaceNew\\NetworkDistance.gdb\"\n",
    "    \n",
    "    # Set the local parameters\n",
    "    input_gdb = r\"C:\\Users\\kenta\\Documents\\ArcGIS\\Projects\\HealthPlaceNew\\OD_Matrix.gdb\"\n",
    "    inFeatures = os.path.join(input_gdb,\"CensusE2FCAFinalDis_Con\")\n",
    "    joinField = \"OBJECTID\"\n",
    "    joinTable = \"Access_DistanceFinal\"\n",
    "    fieldList = ['SUM_ACCESSSCORE_SLOWPHC_12', 'SUM_ACCESSSCORE_QUICKPHC_12', 'SUM_ACCESSSCORE_SLOWHOS2_12', 'SUM_ACCESSSCORE_QUICKHOS2_12', 'SUM_ACCESSSCORE_SLOWHOS3_12', 'SUM_ACCESSSCORE_QUICKHOS3_12', 'TOTAL_所要時間（自動車）_12_13_14_15_16_17_18_19', 'TOTAL_所要時間（自動車）_12_13_14_15_16_17_18_19_20', 'TOTAL_所要時間（自動車）_12_13_14_15_16_17_18_19_20_21'] \n",
    "    outFeatures = \"CensusHealthcareAccessAll\"\n",
    "    \n",
    "    # Join two feature classes by the zonecode field and only carry \n",
    "    # over the PropToPopSlow and PropToPopQuick fields\n",
    "    arcpy.JoinField_management(inFeatures, joinField, joinTable, joinField, fieldList)\n",
    "    arcpy.CopyFeatures_management(inFeatures, outFeatures)\n",
    "\n",
    "    print(\"Script completed successfully\")\n",
    "except Exception as e:\n",
    "    # If an error occurred, print line number and error message\n",
    "    import traceback, sys\n",
    "    tb = sys.exc_info()[2]\n",
    "    print(\"An error occurred on line %i\" % tb.tb_lineno)\n",
    "    print(str(e))"
   ]
  },
  {
   "cell_type": "markdown",
   "metadata": {},
   "source": [
    "# Spatial join with geocoded data"
   ]
  },
  {
   "cell_type": "code",
   "execution_count": 46,
   "metadata": {},
   "outputs": [
    {
     "name": "stdout",
     "output_type": "stream",
     "text": [
      "Script completed successfully\n"
     ]
    }
   ],
   "source": [
    "### Import system modules\n",
    "import arcpy\n",
    "import os\n",
    "\n",
    "try:\n",
    "    \n",
    "    # Set local variables\n",
    "    inWorkspace1 = r\"C:\\Users\\kenta\\Documents\\ArcGIS\\Projects\\HealthPlaceNew\\E2FCA.gdb\"\n",
    "    inWorkspace2 = r\"C:\\Users\\kenta\\Documents\\ArcGIS\\Projects\\HealthPlaceNew\\NetworkDistance.gdb\"\n",
    "    outWorkdspace = r\"C:\\Users\\kenta\\Documents\\ArcGIS\\Projects\\HealthPlaceNew\\NetworkDistance.gdb\"\n",
    "    targetFeatures = os.path.join(inWorkspace1, \"dfnew6Gecoded\")\n",
    "    joinFeatures = os.path.join(inWorkspace2, \"CensusHealthcareAccessAll\")\n",
    "    \n",
    "    outfc = os.path.join(outWorkdspace, \"dfnew6AccessALL\")\n",
    "    \n",
    "    # Create a new fieldmappings and add the two input feature classes.\n",
    "    fieldmappings = arcpy.FieldMappings()\n",
    "    fieldmappings.addTable(targetFeatures)\n",
    "    fieldmappings.addTable(joinFeatures)\n",
    "       \n",
    "    # Delete fields that are no longer applicable, such as city CITY_NAME and CITY_FIPS\n",
    "    # as only the first value will be used by default\n",
    "    x = fieldmappings.findFieldMapIndex(\"Status\")\n",
    "    fieldmappings.removeFieldMap(x)\n",
    "    y = fieldmappings.findFieldMapIndex(\"Score\")\n",
    "    fieldmappings.removeFieldMap(y)\n",
    "    z = fieldmappings.findFieldMapIndex(\"Match_type\")\n",
    "    fieldmappings.removeFieldMap(z)\n",
    "    b = fieldmappings.findFieldMapIndex(\"Year\")\n",
    "    fieldmappings.removeFieldMap(b)\n",
    "    c = fieldmappings.findFieldMapIndex(\"Pref\")\n",
    "    fieldmappings.removeFieldMap(c)\n",
    "    d = fieldmappings.findFieldMapIndex(\"Gun\")\n",
    "    fieldmappings.removeFieldMap(d)\n",
    "    e = fieldmappings.findFieldMapIndex(\"City\")\n",
    "    fieldmappings.removeFieldMap(e)\n",
    "    f = fieldmappings.findFieldMapIndex(\"Ku\")\n",
    "    fieldmappings.removeFieldMap(f)\n",
    "    h = fieldmappings.findFieldMapIndex(\"Match_code\")\n",
    "    fieldmappings.removeFieldMap(h)\n",
    "    i = fieldmappings.findFieldMapIndex(\"Addr_type\")\n",
    "    fieldmappings.removeFieldMap(i)\n",
    "    j = fieldmappings.findFieldMapIndex(\"In_Single_Line_Input\")\n",
    "    fieldmappings.removeFieldMap(j)\n",
    "    k = fieldmappings.findFieldMapIndex(\"TARGET_FID\")\n",
    "    fieldmappings.removeFieldMap(k)\n",
    "    \n",
    "    #Run the Spatial Join tool, using the defaults for the join operation and join type\n",
    "    arcpy.SpatialJoin_analysis(targetFeatures, joinFeatures, outfc, \"JOIN_ONE_TO_ONE\", \"KEEP_ALL\", fieldmappings,\"COMPLETELY_WITHIN\")\n",
    "\n",
    "    print(\"Script completed successfully\")\n",
    "    \n",
    "except Exception as e:\n",
    "    # If an error occurred, print line number and error message\n",
    "    import traceback, sys\n",
    "    tb = sys.exc_info()[2]\n",
    "    print(\"An error occurred on line %i\" % tb.tb_lineno)\n",
    "    print(str(e))"
   ]
  },
  {
   "cell_type": "code",
   "execution_count": null,
   "metadata": {
    "collapsed": true
   },
   "outputs": [],
   "source": [
    "# Spatial join with income"
   ]
  },
  {
   "cell_type": "code",
   "execution_count": null,
   "metadata": {
    "collapsed": true
   },
   "outputs": [],
   "source": [
    "# Fill missing of income Layer"
   ]
  },
  {
   "cell_type": "code",
   "execution_count": 1,
   "metadata": {},
   "outputs": [
    {
     "name": "stdout",
     "output_type": "stream",
     "text": [
      "Script completed successfully\n"
     ]
    }
   ],
   "source": [
    "import arcpy\n",
    "# Set geoprocessor object property to overwrite existing output, by default\n",
    "arcpy.env.overwriteOutput = True\n",
    "# Local variables ...\n",
    "arcpy.env.workspace = r\"C:\\Users\\kenta\\Documents\\ArcGIS\\Projects\\HealthPlaceNew\\E2FCA.gdb\"\n",
    "try:\n",
    "    # set local variables\n",
    "    infeature = \"IncomeHH\"\n",
    "    outfeature = \"IncomeHHMI\"\n",
    "    fields_to_fill = [\"IncomeHH_CSV_平均年収\"] \n",
    "    fill_method = \"AVERAGE\"\n",
    "    spatialRef = \"CONTIGUITY_EDGES_CORNERS\"\n",
    "    # Fill missing values in a feature class \n",
    "    arcpy.FillMissingValues_stpm(infeature, outfeature, fields_to_fill, fill_method, spatialRef)\n",
    "    \n",
    "    print(\"Script completed successfully\")\n",
    "except Exception as e:\n",
    "    # If an error occurred, print line number and error message\n",
    "    import traceback, sys\n",
    "    tb = sys.exc_info()[2]\n",
    "    print(\"An error occurred on line %i\" % tb.tb_lineno)\n",
    "    print(str(e))"
   ]
  },
  {
   "cell_type": "code",
   "execution_count": 2,
   "metadata": {},
   "outputs": [
    {
     "name": "stdout",
     "output_type": "stream",
     "text": [
      "Script completed successfully\n"
     ]
    }
   ],
   "source": [
    "import arcpy\n",
    "from arcpy import env\n",
    "import os\n",
    "try:\n",
    "    # Set environment settings\n",
    "    env.workspace = r\"C:\\Users\\kenta\\Documents\\ArcGIS\\Projects\\HealthPlaceNew\\E2FCA.gdb\"\n",
    "    \n",
    "    # Set the local parameters\n",
    "    inFeatures = \"IncomeHH\"\n",
    "    joinField = \"OBJECTID\"\n",
    "    joinTable = \"IncomeHHMI\"\n",
    "    fieldList = [\"IncomeHH_CSV_平均年収\"] \n",
    "    outFeatures = \"IncomeHHFinal\"\n",
    "    \n",
    "    # Join two feature classes by the zonecode field and only carry \n",
    "    # over the PropToPopSlow and PropToPopQuick fields\n",
    "    arcpy.JoinField_management(inFeatures, joinField, joinTable, joinField, fieldList)\n",
    "    arcpy.CopyFeatures_management(inFeatures, outFeatures)\n",
    "\n",
    "    print(\"Script completed successfully\")\n",
    "except Exception as e:\n",
    "    # If an error occurred, print line number and error message\n",
    "    import traceback, sys\n",
    "    tb = sys.exc_info()[2]\n",
    "    print(\"An error occurred on line %i\" % tb.tb_lineno)\n",
    "    print(str(e))"
   ]
  },
  {
   "cell_type": "code",
   "execution_count": 4,
   "metadata": {},
   "outputs": [
    {
     "name": "stdout",
     "output_type": "stream",
     "text": [
      "Script completed successfully\n"
     ]
    }
   ],
   "source": [
    "### Import system modules\n",
    "import arcpy\n",
    "import os\n",
    "\n",
    "try:\n",
    "    \n",
    "    # Set local variables\n",
    "    inWorkspace1 = r\"C:\\Users\\kenta\\Documents\\ArcGIS\\Projects\\HealthPlaceNew\\E2FCA.gdb\"\n",
    "    inWorkspace2 = r\"C:\\Users\\kenta\\Documents\\ArcGIS\\Projects\\HealthPlaceNew\\NetworkDistance.gdb\"\n",
    "    outWorkdspace = r\"C:\\Users\\kenta\\Documents\\ArcGIS\\Projects\\HealthPlaceNew\\NetworkDistance.gdb\"\n",
    "    targetFeatures = os.path.join(inWorkspace2, \"dfnew6AccessALL\")\n",
    "    joinFeatures = os.path.join(inWorkspace1, \"IncomeHHFinal\")\n",
    "    \n",
    "    outfc = os.path.join(outWorkdspace, \"dfnew6AccessALLIncomeFinal\")\n",
    "    \n",
    "    # Create a new fieldmappings and add the two input feature classes.\n",
    "    fieldmappings = arcpy.FieldMappings()\n",
    "    fieldmappings.addTable(targetFeatures)\n",
    "    fieldmappings.addTable(joinFeatures)\n",
    "       \n",
    "    # Delete fields that are no longer applicable, such as city CITY_NAME and CITY_FIPS\n",
    "    # as only the first value will be used by default\n",
    "    x = fieldmappings.findFieldMapIndex(\"IncomeHH_CSV_行政コード\")\n",
    "    fieldmappings.removeFieldMap(x)\n",
    "    \n",
    "    \n",
    "    #Run the Spatial Join tool, using the defaults for the join operation and join type\n",
    "    arcpy.SpatialJoin_analysis(targetFeatures, joinFeatures, outfc, \"JOIN_ONE_TO_ONE\", \"KEEP_ALL\", fieldmappings,\"COMPLETELY_WITHIN\")\n",
    "\n",
    "    print(\"Script completed successfully\")\n",
    "    \n",
    "except Exception as e:\n",
    "    # If an error occurred, print line number and error message\n",
    "    import traceback, sys\n",
    "    tb = sys.exc_info()[2]\n",
    "    print(\"An error occurred on line %i\" % tb.tb_lineno)\n",
    "    print(str(e))"
   ]
  },
  {
   "cell_type": "markdown",
   "metadata": {},
   "source": [
    "# Export to xls File"
   ]
  },
  {
   "cell_type": "code",
   "execution_count": 1,
   "metadata": {},
   "outputs": [
    {
     "name": "stdout",
     "output_type": "stream",
     "text": [
      "Script completed successfully\n"
     ]
    }
   ],
   "source": [
    "# Import system modules\n",
    "import arcpy\n",
    "from arcpy import env\n",
    "\n",
    "try:\n",
    "    # Set environment settings\n",
    "    env.workspace = r\"C:\\Users\\kenta\\Documents\\ArcGIS\\Projects\\HealthPlaceNew\\NetworkDistance.gdb\"\n",
    "    \n",
    "    # export it to excel\n",
    "    inTable = \"dfnew6AccessALLIncomeFinalTable\"\n",
    "    out_xls = r\"G:\\dfnew6AccessALLIncomeFinal.xls\"\n",
    "    arcpy.TableToExcel_conversion(inTable, out_xls)\n",
    "    \n",
    "    print(\"Script completed successfully\")\n",
    "    \n",
    "except Exception as e:\n",
    "    # If an error occurred, print line number and error message\n",
    "    import traceback, sys\n",
    "    tb = sys.exc_info()[2]\n",
    "    print(\"An error occurred on line %i\" % tb.tb_lineno)\n",
    "    print(str(e))"
   ]
  }
 ],
 "metadata": {
  "kernelspec": {
   "display_name": "Python 3",
   "language": "python",
   "name": "python3"
  },
  "language_info": {
   "codemirror_mode": {
    "name": "ipython",
    "version": 3
   },
   "file_extension": ".py",
   "mimetype": "text/x-python",
   "name": "python",
   "nbconvert_exporter": "python",
   "pygments_lexer": "ipython3",
   "version": "3.5.3"
  }
 },
 "nbformat": 4,
 "nbformat_minor": 2
}
