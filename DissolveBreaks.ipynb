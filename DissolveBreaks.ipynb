{
 "cells": [
  {
   "cell_type": "code",
   "execution_count": null,
   "metadata": {
    "collapsed": true
   },
   "outputs": [],
   "source": [
    "import arcpy\n",
    "from arcpy import env\n",
    "import os\n",
    "try:\n",
    "    # Set environment settings\n",
    "    env.workspace = r\"C:\\Users\\kenta\\Documents\\ArcGIS\\Projects\\HealthPlaceNew\\E2FCAStep1.gdb\"\n",
    "    # Set local variables\n",
    "    inWorkspace = r\"C:\\Users\\kenta\\Documents\\ArcGIS\\Projects\\HealthPlaceNew\\E2FCAStep1.gdb\"\n",
    "    outWorkspace = r\"C:\\Users\\kenta\\Documents\\ArcGIS\\Projects\\HealthPlaceNew\\E2FCAStep1.gdb\"\n",
    "    inFeatures = os.path.join(inWorkspace,\"PHCCoverPop\")\n",
    "    outFeatures = os.path.join(outWorkspace,\"PHCCoverDiss\")\n",
    "    dissolveFields = [\"FacilityID\"]\n",
    "    statFields = [[\"PropToPopSlow\",\"sum\"],[\"PropToPopQuick\",\"sum\"]]\n",
    "    \n",
    "    # Execute Dissolve using FaclityID as Dissolve Fields, summing the weighted PropToPop(Slow & Quick) of 3 time breaks into 1\n",
    "    arcpy.Dissolve_management(inFeatures, outFeatures, dissolveFields, statFields)\n",
    "    \n",
    "    print(\"Script completed successfully\")\n",
    "except Exception as e:\n",
    "    # If an error occurred, print line number and error message\n",
    "    import traceback, sys\n",
    "    tb = sys.exc_info()[2]\n",
    "    print(\"An error occurred on line %i\" % tb.tb_lineno)\n",
    "    print(str(e))"
   ]
  }
 ],
 "metadata": {
  "kernelspec": {
   "display_name": "Python 3",
   "language": "python",
   "name": "python3"
  },
  "language_info": {
   "codemirror_mode": {
    "name": "ipython",
    "version": 3
   },
   "file_extension": ".py",
   "mimetype": "text/x-python",
   "name": "python",
   "nbconvert_exporter": "python",
   "pygments_lexer": "ipython3",
   "version": "3.5.3"
  }
 },
 "nbformat": 4,
 "nbformat_minor": 2
}
